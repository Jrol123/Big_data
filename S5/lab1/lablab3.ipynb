{
 "cells": [
  {
   "cell_type": "code",
   "execution_count": 38,
   "id": "initial_id",
   "metadata": {
    "ExecuteTime": {
     "end_time": "2024-10-17T04:47:53.017953Z",
     "start_time": "2024-10-17T04:47:53.010417Z"
    },
    "collapsed": true
   },
   "outputs": [],
   "source": [
    "import nltk, os, re\n",
    "from nltk.corpus import stopwords\n",
    "from nltk.stem import WordNetLemmatizer\n",
    "from sklearn.feature_extraction.text import CountVectorizer, TfidfVectorizer\n",
    "import pandas as pd"
   ]
  },
  {
   "cell_type": "code",
   "execution_count": 39,
   "id": "c6bac58f33d57acf",
   "metadata": {
    "ExecuteTime": {
     "end_time": "2024-10-17T04:47:53.175694Z",
     "start_time": "2024-10-17T04:47:53.147564Z"
    }
   },
   "outputs": [],
   "source": [
    "def process(folder):\n",
    "    files = os.listdir(folder)\n",
    "\n",
    "    lemmatizer = WordNetLemmatizer()\n",
    "    document = []\n",
    "\n",
    "    for filename in files:\n",
    "        file_path = os.path.join(folder, filename)\n",
    "        if os.path.isfile(file_path):\n",
    "            with open(file_path, 'r') as file:\n",
    "                text = file.read()\n",
    "\n",
    "                text = re.sub(r\"[^a-zA-Z. ]+\", '', text)\n",
    "                text = text.lower()\n",
    "                for i in range(10, 1, -1):\n",
    "                    text = text.replace(' ' * i, ' ')\n",
    "\n",
    "                words = nltk.word_tokenize(text)\n",
    "\n",
    "                words_lemmanized = []\n",
    "                without_stop_words = []\n",
    "                for word in words:\n",
    "                    if not (word in\n",
    "                            stopwords.words(\"english\")) and word != \".\":\n",
    "                        without_stop_words.append(word)\n",
    "                        word_lemmanized = lemmatizer.lemmatize(word)\n",
    "                        words_lemmanized.append(word_lemmanized)\n",
    "                             \n",
    "                text = ''\n",
    "                for word in words_lemmanized:\n",
    "                    text += word + ' '\n",
    "                document.append(text)               \n",
    "\n",
    "                # print(words)\n",
    "                # print()\n",
    "                # print(without_stop_words)\n",
    "                # print()\n",
    "                # print(words_lemmanized)\n",
    "                # print()\n",
    "                # print(len(words), len(without_stop_words))\n",
    "    return document"
   ]
  },
  {
   "cell_type": "code",
   "execution_count": 40,
   "id": "75eb3008ea8e448c",
   "metadata": {
    "ExecuteTime": {
     "end_time": "2024-10-17T04:47:53.254257Z",
     "start_time": "2024-10-17T04:47:53.243613Z"
    }
   },
   "outputs": [],
   "source": [
    "def bag(documents):\n",
    "    count_vectorizer = CountVectorizer()\n",
    "    bag_of_words = count_vectorizer.fit_transform(documents)\n",
    "\n",
    "    feature_names = count_vectorizer.get_feature_names_out()\n",
    "    return pd.DataFrame(bag_of_words.toarray(), columns = feature_names)"
   ]
  },
  {
   "cell_type": "code",
   "execution_count": 41,
   "id": "b5324b4d3e8afc6f",
   "metadata": {
    "ExecuteTime": {
     "end_time": "2024-10-17T04:47:53.317030Z",
     "start_time": "2024-10-17T04:47:53.294411Z"
    }
   },
   "outputs": [],
   "source": [
    "def tfidf(documents):\n",
    "    vectorizer = TfidfVectorizer()\n",
    "    x= vectorizer.fit_transform(documents)\n",
    "    \n",
    "    print(vectorizer.get_feature_names_out())\n",
    "    print(x.toarray())"
   ]
  },
  {
   "cell_type": "code",
   "execution_count": null,
   "id": "b538ca8e1c10e869",
   "metadata": {
    "ExecuteTime": {
     "start_time": "2024-10-17T04:47:53.369541Z"
    },
    "jupyter": {
     "is_executing": true
    }
   },
   "outputs": [],
   "source": [
    "docs = process(\"yes/txt_sentoken/neg\")\n",
    "dfb = bag(docs)\n",
    "dft = tfidf(docs)\n",
    "dfb"
   ]
  }
 ],
 "metadata": {
  "kernelspec": {
   "display_name": "Big_data",
   "language": "python",
   "name": "python3"
  },
  "language_info": {
   "codemirror_mode": {
    "name": "ipython",
    "version": 2
   },
   "file_extension": ".py",
   "mimetype": "text/x-python",
   "name": "python",
   "nbconvert_exporter": "python",
   "pygments_lexer": "ipython2",
   "version": "3.10.2"
  }
 },
 "nbformat": 4,
 "nbformat_minor": 5
}
