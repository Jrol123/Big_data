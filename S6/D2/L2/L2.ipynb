{
 "cells": [
  {
   "cell_type": "markdown",
   "id": "16d72e2a",
   "metadata": {},
   "source": [
    "# Imports"
   ]
  },
  {
   "cell_type": "code",
   "execution_count": 38,
   "id": "7d6118b9",
   "metadata": {},
   "outputs": [],
   "source": [
    "import numpy as np\n",
    "import pandas as pd"
   ]
  },
  {
   "cell_type": "code",
   "execution_count": 39,
   "id": "d3d79b87",
   "metadata": {},
   "outputs": [],
   "source": [
    "import re\n",
    "from string import punctuation\n",
    "import emoji"
   ]
  },
  {
   "cell_type": "code",
   "execution_count": 40,
   "id": "ccd8eb42",
   "metadata": {},
   "outputs": [],
   "source": [
    "import nltk\n",
    "from nltk.tokenize import TweetTokenizer\n",
    "from nltk.corpus import stopwords\n",
    "from sklearn.model_selection import train_test_split\n",
    "from sklearn.metrics import classification_report\n"
   ]
  },
  {
   "cell_type": "code",
   "execution_count": 41,
   "id": "c12b21f1",
   "metadata": {},
   "outputs": [],
   "source": [
    "import tensorflow as tf\n",
    "from tensorflow.keras.models import Model\n",
    "from tensorflow.keras.layers import (\n",
    "    Input,\n",
    "    Embedding,\n",
    "    Dense,\n",
    "    MultiHeadAttention,\n",
    "    LayerNormalization,\n",
    "    Dropout,\n",
    "    GlobalAveragePooling1D,\n",
    "    Flatten,\n",
    ")"
   ]
  },
  {
   "cell_type": "code",
   "execution_count": 42,
   "id": "609f0ed4",
   "metadata": {},
   "outputs": [],
   "source": [
    "import matplotlib.pyplot as plt"
   ]
  },
  {
   "cell_type": "code",
   "execution_count": 43,
   "id": "13fd0de1",
   "metadata": {},
   "outputs": [
    {
     "name": "stderr",
     "output_type": "stream",
     "text": [
      "[nltk_data] Downloading package punkt_tab to\n",
      "[nltk_data]     C:\\Users\\artem\\AppData\\Roaming\\nltk_data...\n",
      "[nltk_data]   Package punkt_tab is already up-to-date!\n",
      "[nltk_data] Downloading package stopwords to\n",
      "[nltk_data]     C:\\Users\\artem\\AppData\\Roaming\\nltk_data...\n",
      "[nltk_data]   Package stopwords is already up-to-date!\n"
     ]
    },
    {
     "data": {
      "text/plain": [
       "True"
      ]
     },
     "execution_count": 43,
     "metadata": {},
     "output_type": "execute_result"
    }
   ],
   "source": [
    "nltk.download(\"punkt_tab\")\n",
    "nltk.download('stopwords')"
   ]
  },
  {
   "cell_type": "markdown",
   "id": "47d22e5e",
   "metadata": {},
   "source": [
    "# Vars definition"
   ]
  },
  {
   "cell_type": "code",
   "execution_count": 44,
   "id": "ace33e3d",
   "metadata": {},
   "outputs": [],
   "source": [
    "n_gram = 4\n",
    "window_size = 5\n",
    "percent_sample = 0.01\n",
    "random_state=42"
   ]
  },
  {
   "cell_type": "code",
   "execution_count": 45,
   "id": "22fb61c8",
   "metadata": {},
   "outputs": [
    {
     "data": {
      "text/plain": [
       "{'a',\n",
       " 'about',\n",
       " 'above',\n",
       " 'after',\n",
       " 'again',\n",
       " 'against',\n",
       " 'ain',\n",
       " 'all',\n",
       " 'am',\n",
       " 'an',\n",
       " 'and',\n",
       " 'any',\n",
       " 'are',\n",
       " 'aren',\n",
       " \"aren't\",\n",
       " 'as',\n",
       " 'at',\n",
       " 'be',\n",
       " 'because',\n",
       " 'been',\n",
       " 'before',\n",
       " 'being',\n",
       " 'below',\n",
       " 'between',\n",
       " 'both',\n",
       " 'but',\n",
       " 'by',\n",
       " 'can',\n",
       " 'couldn',\n",
       " \"couldn't\",\n",
       " 'd',\n",
       " 'did',\n",
       " 'didn',\n",
       " \"didn't\",\n",
       " 'do',\n",
       " 'does',\n",
       " 'doesn',\n",
       " \"doesn't\",\n",
       " 'doing',\n",
       " 'don',\n",
       " \"don't\",\n",
       " 'down',\n",
       " 'during',\n",
       " 'each',\n",
       " 'few',\n",
       " 'for',\n",
       " 'from',\n",
       " 'further',\n",
       " 'had',\n",
       " 'hadn',\n",
       " \"hadn't\",\n",
       " 'has',\n",
       " 'hasn',\n",
       " \"hasn't\",\n",
       " 'have',\n",
       " 'haven',\n",
       " \"haven't\",\n",
       " 'having',\n",
       " 'he',\n",
       " \"he'd\",\n",
       " \"he'll\",\n",
       " \"he's\",\n",
       " 'her',\n",
       " 'here',\n",
       " 'hers',\n",
       " 'herself',\n",
       " 'him',\n",
       " 'himself',\n",
       " 'his',\n",
       " 'how',\n",
       " 'i',\n",
       " \"i'd\",\n",
       " \"i'll\",\n",
       " \"i'm\",\n",
       " \"i've\",\n",
       " 'if',\n",
       " 'in',\n",
       " 'into',\n",
       " 'is',\n",
       " 'isn',\n",
       " \"isn't\",\n",
       " 'it',\n",
       " \"it'd\",\n",
       " \"it'll\",\n",
       " \"it's\",\n",
       " 'its',\n",
       " 'itself',\n",
       " 'just',\n",
       " 'll',\n",
       " 'm',\n",
       " 'ma',\n",
       " 'me',\n",
       " 'mightn',\n",
       " \"mightn't\",\n",
       " 'more',\n",
       " 'most',\n",
       " 'mustn',\n",
       " \"mustn't\",\n",
       " 'my',\n",
       " 'myself',\n",
       " 'needn',\n",
       " \"needn't\",\n",
       " 'no',\n",
       " 'nor',\n",
       " 'not',\n",
       " 'now',\n",
       " 'o',\n",
       " 'of',\n",
       " 'off',\n",
       " 'on',\n",
       " 'once',\n",
       " 'only',\n",
       " 'or',\n",
       " 'other',\n",
       " 'our',\n",
       " 'ours',\n",
       " 'ourselves',\n",
       " 'out',\n",
       " 'over',\n",
       " 'own',\n",
       " 're',\n",
       " 's',\n",
       " 'same',\n",
       " 'shan',\n",
       " \"shan't\",\n",
       " 'she',\n",
       " \"she'd\",\n",
       " \"she'll\",\n",
       " \"she's\",\n",
       " 'should',\n",
       " \"should've\",\n",
       " 'shouldn',\n",
       " \"shouldn't\",\n",
       " 'so',\n",
       " 'some',\n",
       " 'such',\n",
       " 't',\n",
       " 'than',\n",
       " 'that',\n",
       " \"that'll\",\n",
       " 'the',\n",
       " 'their',\n",
       " 'theirs',\n",
       " 'them',\n",
       " 'themselves',\n",
       " 'then',\n",
       " 'there',\n",
       " 'these',\n",
       " 'they',\n",
       " \"they'd\",\n",
       " \"they'll\",\n",
       " \"they're\",\n",
       " \"they've\",\n",
       " 'this',\n",
       " 'those',\n",
       " 'through',\n",
       " 'to',\n",
       " 'too',\n",
       " 'under',\n",
       " 'until',\n",
       " 'up',\n",
       " 've',\n",
       " 'very',\n",
       " 'was',\n",
       " 'wasn',\n",
       " \"wasn't\",\n",
       " 'we',\n",
       " \"we'd\",\n",
       " \"we'll\",\n",
       " \"we're\",\n",
       " \"we've\",\n",
       " 'were',\n",
       " 'weren',\n",
       " \"weren't\",\n",
       " 'what',\n",
       " 'when',\n",
       " 'where',\n",
       " 'which',\n",
       " 'while',\n",
       " 'who',\n",
       " 'whom',\n",
       " 'why',\n",
       " 'will',\n",
       " 'with',\n",
       " 'won',\n",
       " \"won't\",\n",
       " 'wouldn',\n",
       " \"wouldn't\",\n",
       " 'y',\n",
       " 'you',\n",
       " \"you'd\",\n",
       " \"you'll\",\n",
       " \"you're\",\n",
       " \"you've\",\n",
       " 'your',\n",
       " 'yours',\n",
       " 'yourself',\n",
       " 'yourselves'}"
      ]
     },
     "execution_count": 45,
     "metadata": {},
     "output_type": "execute_result"
    }
   ],
   "source": [
    "stop_words = set(stopwords.words(\"english\"))\n",
    "stop_words"
   ]
  },
  {
   "cell_type": "markdown",
   "id": "c4964a8a",
   "metadata": {},
   "source": [
    "# Data preparation"
   ]
  },
  {
   "cell_type": "markdown",
   "id": "f6e372b2",
   "metadata": {},
   "source": [
    "## Initial clean"
   ]
  },
  {
   "cell_type": "code",
   "execution_count": 46,
   "id": "21b038f0",
   "metadata": {},
   "outputs": [
    {
     "data": {
      "application/vnd.microsoft.datawrangler.viewer.v0+json": {
       "columns": [
        {
         "name": "index",
         "rawType": "int64",
         "type": "integer"
        },
        {
         "name": "product_name",
         "rawType": "object",
         "type": "string"
        },
        {
         "name": "overall_rating",
         "rawType": "float64",
         "type": "float"
        },
        {
         "name": "no_ratings",
         "rawType": "object",
         "type": "string"
        },
        {
         "name": "no_reviews",
         "rawType": "object",
         "type": "string"
        },
        {
         "name": "rating",
         "rawType": "int64",
         "type": "integer"
        },
        {
         "name": "title",
         "rawType": "object",
         "type": "string"
        },
        {
         "name": "review",
         "rawType": "object",
         "type": "string"
        }
       ],
       "conversionMethod": "pd.DataFrame",
       "ref": "414b1d79-7970-40d5-88d7-d5e1a3974f04",
       "rows": [
        [
         "0",
         "Apple MacBook AIR Apple M2 - (8 GB/256 GB SSD/Mac OS Monterey)...",
         "4.7",
         "15,210",
         "900",
         "5",
         "Perfect product!",
         "Loved it, it's my first MacBook that I earned from my hardwork 🥺❤️"
        ],
        [
         "1",
         "Apple MacBook AIR Apple M2 - (8 GB/256 GB SSD/Mac OS Monterey)...",
         "4.7",
         "15,210",
         "900",
         "5",
         "Fabulous!",
         "Battery lasted longer than my first relationship (2 days).\r\nListening to Arijit singh songs on full volume since then still isn't getting over. Has more warmth than her. unlike her there's two way communication here as touchpad is very responsive. fingerprint lock is nice as it only opens up to me. 5 stars for this -1 for her"
        ],
        [
         "2",
         "Apple MacBook AIR Apple M2 - (8 GB/256 GB SSD/Mac OS Monterey)...",
         "4.7",
         "15,210",
         "900",
         "5",
         "Fabulous!",
         "Such a great deal.. very happy with the performance and battery life..Origional product..🥰❤️\r\nThank you Flipkart..!!!"
        ],
        [
         "3",
         "Apple MacBook AIR Apple M2 - (8 GB/256 GB SSD/Mac OS Monterey)...",
         "4.7",
         "15,210",
         "900",
         "4",
         "Delightful",
         "Awesome build quality and very good display, battery and camera. Still new to macOS"
        ],
        [
         "4",
         "Apple MacBook AIR Apple M2 - (8 GB/256 GB SSD/Mac OS Monterey)...",
         "4.7",
         "15,210",
         "900",
         "5",
         "Awesome",
         "When i ordered and came to know about seller review,i was scared that in what condition i will get macbook. but i was wrong.\r\n\r\nThis is my first macbook and i am fully satisfied with the product with original packaging of apple and got genuine product.\r\n\r\nIt's very thin and light and looks very premium.\r\n\r\nAs A software developer, i installed intellij idea ide and guess what.\r\nIt's magic,it is opening just in a click and within 5 seconds.\r\nGreat performance, no heating issue, sound quality awesome an...\r\nREAD MORE"
        ],
        [
         "5",
         "Apple MacBook AIR Apple M2 - (8 GB/256 GB SSD/Mac OS Monterey)...",
         "4.7",
         "15,210",
         "900",
         "5",
         "Super!",
         "Super product"
        ],
        [
         "6",
         "Apple MacBook AIR Apple M2 - (8 GB/256 GB SSD/Mac OS Monterey)...",
         "4.7",
         "15,210",
         "900",
         "5",
         "Super!",
         "Go for it..its awesome"
        ],
        [
         "7",
         "Apple MacBook AIR Apple M2 - (8 GB/256 GB SSD/Mac OS Monterey)...",
         "4.7",
         "15,210",
         "900",
         "5",
         "Mind-blowing purchase",
         "Best , best and best 🫶🏻👑🍎"
        ],
        [
         "8",
         "Apple MacBook AIR Apple M2 - (8 GB/256 GB SSD/Mac OS Monterey)...",
         "4.7",
         "15,210",
         "900",
         "5",
         "Just wow!",
         "Its really very good and compact device."
        ],
        [
         "9",
         "Apple MacBook AIR Apple M2 - (8 GB/256 GB SSD/Mac OS Monterey)...",
         "4.7",
         "15,210",
         "900",
         "5",
         "Brilliant",
         "Superb built quality, Amazing performance and display quality...\r\n\r\nGot it at 72k, wonderful product at great price."
        ],
        [
         "10",
         "Apple MacBook AIR Apple M2 - (8 GB/256 GB SSD/Mac OS Monterey)...",
         "4.7",
         "15,210",
         "900",
         "5",
         "Mind-blowing purchase",
         "Great laptop. Very good performance, battery life and look and feel. Very happy with my purchase"
        ],
        [
         "11",
         "Apple MacBook AIR Apple M2 - (8 GB/256 GB SSD/Mac OS Monterey)...",
         "4.7",
         "15,210",
         "900",
         "5",
         "Terrific",
         "Superb 😍"
        ],
        [
         "12",
         "Apple MacBook AIR Apple M2 - (8 GB/256 GB SSD/Mac OS Monterey)...",
         "4.7",
         "15,210",
         "900",
         "5",
         "Mind-blowing purchase",
         "Best powerful machine in all aspects"
        ],
        [
         "13",
         "Apple MacBook AIR Apple M2 - (8 GB/256 GB SSD/Mac OS Monterey)...",
         "4.7",
         "15,210",
         "900",
         "5",
         "Mind-blowing purchase",
         "just love how apple is in their own league!!"
        ],
        [
         "14",
         "Apple MacBook AIR Apple M2 - (8 GB/256 GB SSD/Mac OS Monterey)...",
         "4.7",
         "15,210",
         "900",
         "5",
         "Highly recommended",
         "This is the first MacBook I ever have. And I must say no one can match Apple product."
        ],
        [
         "15",
         "Apple MacBook AIR Apple M2 - (8 GB/256 GB SSD/Mac OS Monterey)...",
         "4.7",
         "15,210",
         "900",
         "5",
         "Brilliant",
         "Product is nice but price droped by 6k after purchasing so feels a bit dispointed."
        ],
        [
         "16",
         "Apple MacBook AIR Apple M2 - (8 GB/256 GB SSD/Mac OS Monterey)...",
         "4.7",
         "15,210",
         "900",
         "5",
         "Worth every penny",
         "Worth every penny u spend"
        ],
        [
         "17",
         "Apple MacBook AIR Apple M2 - (8 GB/256 GB SSD/Mac OS Monterey)...",
         "4.7",
         "15,210",
         "900",
         "5",
         "Brilliant",
         "Its very good product."
        ],
        [
         "18",
         "Apple MacBook AIR Apple M2 - (8 GB/256 GB SSD/Mac OS Monterey)...",
         "4.7",
         "15,210",
         "900",
         "5",
         "Terrific purchase",
         "My first MacBook and also my first laptop. First I thought of buying a windows laptop as macbooks are way more expensive. But during the sale I bought it at 73k which is a steal deal. I am a college student and mainly bought it for coding, streaming videos and movies and also for some editing tasks.\r\n\r\nI would like to tell you if you are not a gamer this is one of the best laptops you can have in this price range. Loved the design, the colour, the sound , the display, the battery backup and al...\r\nREAD MORE"
        ],
        [
         "19",
         "Apple MacBook AIR Apple M2 - (8 GB/256 GB SSD/Mac OS Monterey)...",
         "4.7",
         "15,210",
         "900",
         "5",
         "Must buy!",
         "A good power pack laptop to go with,"
        ],
        [
         "20",
         "Apple MacBook AIR Apple M2 - (8 GB/256 GB SSD/Mac OS Monterey)...",
         "4.7",
         "15,210",
         "900",
         "5",
         "Wonderful",
         "This is my first macbook...was using windows since 3rd grade ...both are different but macOS feels so smooth and optimised.\r\n\r\nAs soon as I setted it up ... I got one update... offcourse I updated my Mac.\r\n\r\nI am loving this product... Especially the screen corners are so thin with least bezels..\r\nBattery life is amazing...used moderately for 1 day.. discharged 50 %"
        ],
        [
         "21",
         "Apple MacBook AIR Apple M2 - (8 GB/256 GB SSD/Mac OS Monterey)...",
         "4.7",
         "15,210",
         "900",
         "5",
         "Excellent",
         "First mac and it works like a beast"
        ],
        [
         "22",
         "Apple MacBook AIR Apple M2 - (8 GB/256 GB SSD/Mac OS Monterey)...",
         "4.7",
         "15,210",
         "900",
         "5",
         "Super!",
         "This is the best in my entire life . Such a human Machine it is and 😀🎉"
        ],
        [
         "23",
         "Apple MacBook AIR Apple M2 - (8 GB/256 GB SSD/Mac OS Monterey)...",
         "4.7",
         "15,210",
         "900",
         "5",
         "Simply awesome",
         "Perfect one for office workers"
        ],
        [
         "24",
         "Apple MacBook AIR Apple M2 - (8 GB/256 GB SSD/Mac OS Monterey)...",
         "4.7",
         "15,210",
         "900",
         "5",
         "Classy product",
         "This is a great device as a personal laptop or work machine. The Full HD camera is a welcome addition. 6 month M365 subscription is free with this machine and that is a good add-on benefit. The small notch around the camera in the top middle of the screen is pretty neatly integrated and does not disturb. The build quality is fantastic and form factor is perfect to hold and operate."
        ],
        [
         "25",
         "Apple MacBook AIR Apple M2 - (8 GB/256 GB SSD/Mac OS Monterey)...",
         "4.7",
         "15,210",
         "900",
         "5",
         "Highly recommended",
         "Just got the product, While detailed review will updated after couple of months usage.\r\nFrom initial usage it's the best laptop i have used in my career"
        ],
        [
         "26",
         "Apple MacBook AIR Apple M2 - (8 GB/256 GB SSD/Mac OS Monterey)...",
         "4.7",
         "15,210",
         "900",
         "5",
         "Wonderful",
         "Very nice"
        ],
        [
         "27",
         "Apple MacBook AIR Apple M2 - (8 GB/256 GB SSD/Mac OS Monterey)...",
         "4.7",
         "15,210",
         "900",
         "4",
         "Delightful",
         "Good for business work"
        ],
        [
         "28",
         "Apple MacBook AIR Apple M2 - (8 GB/256 GB SSD/Mac OS Monterey)...",
         "4.7",
         "15,210",
         "900",
         "4",
         "Wonderful",
         "Good"
        ],
        [
         "29",
         "Apple MacBook AIR Apple M2 - (8 GB/256 GB SSD/Mac OS Monterey)...",
         "4.7",
         "15,210",
         "900",
         "5",
         "Using Mac after being a Windows user for almost 13 years.",
         "I have been using Windows for the past 13-odd years. Although I am a huge Apple fan and hence decided to buy this machine. I am writing this review after 1 month of usage.\r\n\r\nThe performance it delivers is just unmatched. On practical usage, it can easily beat the high-end Windows laptops. You are gonna love it from the moment you unbox it and would kinda wanna eat it once it falls in your hands.\r\n\r\nThe Apple silicon laptops really over-deliver than their on-paper specs. If it fits your budget...\r\nREAD MORE"
        ],
        [
         "30",
         "Apple MacBook AIR Apple M2 - (8 GB/256 GB SSD/Mac OS Monterey)...",
         "4.7",
         "15,210",
         "900",
         "5",
         "Great product",
         "Superb"
        ],
        [
         "31",
         "Apple MacBook AIR Apple M2 - (8 GB/256 GB SSD/Mac OS Monterey)...",
         "4.7",
         "15,210",
         "900",
         "5",
         "Simply awesome",
         "Very nice product"
        ],
        [
         "32",
         "Apple MacBook AIR Apple M2 - (8 GB/256 GB SSD/Mac OS Monterey)...",
         "4.7",
         "15,210",
         "900",
         "5",
         "Perfect product!",
         "This is my first MacBook Air with M2 chip.\r\nSpace grey color.\r\nOverall performance is very good.\r\nBattery is Good.\r\nDisplay is superb.\r\nFinally I owned my Mac.\r\n\r\nBut I need laptop bag."
        ],
        [
         "33",
         "Apple MacBook AIR Apple M2 - (8 GB/256 GB SSD/Mac OS Monterey)...",
         "4.7",
         "15,210",
         "900",
         "5",
         "Classy product",
         "First time i have used macbook after windows and i would say i can't use windows again.beautiful display with amazing sound (specially dolby atmos feature) Performance of laptop is far better than windows top notch model laptops.\r\n\r\nFlipkart delivery was worst part in this purchase.I have got this laptop 10 days after placing order and after making so much efforts.But overall i am satisfied with my purchase."
        ],
        [
         "34",
         "Apple MacBook AIR Apple M2 - (8 GB/256 GB SSD/Mac OS Monterey)...",
         "4.7",
         "15,210",
         "900",
         "5",
         "Terrific",
         "The MacBook Air M2 is Apple's latest addition to its renowned lineup of ultraportable laptops, and it certainly has a lot to offer. With its sleek design, remarkable M2 chip, and impressive battery life, it's a compelling choice for many users. However, it's not without its downsides.\r\n\r\n**Pros:**\r\n\r\n1. **Stunning Design:** The MacBook Air M2 maintains the iconic, slim, and lightweight design that Apple is known for. It's an absolute head-turner with its aluminum chassis.\r\n\r\n2. **M2 Chip Performanc...\r\nREAD MORE"
        ],
        [
         "35",
         "Apple MacBook AIR Apple M2 - (8 GB/256 GB SSD/Mac OS Monterey)...",
         "4.7",
         "15,210",
         "900",
         "5",
         "Highly recommended",
         "Just go for it. Performance and beauty is really amazing. 😻"
        ],
        [
         "36",
         "Apple MacBook AIR Apple M2 - (8 GB/256 GB SSD/Mac OS Monterey)...",
         "4.7",
         "15,210",
         "900",
         "5",
         "Super!",
         "Design and build quality is excellent🤩... Performance is good enough for most users🙃... Handles day to day tasks with ease😉... Battery life is mind benging😅... Overall bang for the buck😎"
        ],
        [
         "37",
         "Apple MacBook AIR Apple M2 - (8 GB/256 GB SSD/Mac OS Monterey)...",
         "4.7",
         "15,210",
         "900",
         "4",
         "Very Good",
         "Nice Experience with mac"
        ],
        [
         "38",
         "Apple MacBook AIR Apple M2 - (8 GB/256 GB SSD/Mac OS Monterey)...",
         "4.7",
         "15,210",
         "900",
         "5",
         "Perfect product!",
         "Just as expected,Awesome!"
        ],
        [
         "39",
         "Apple MacBook AIR Apple M2 - (8 GB/256 GB SSD/Mac OS Monterey)...",
         "4.7",
         "15,210",
         "900",
         "5",
         "Highly recommended",
         "I'm reviewing after 2 months, honestly I assure that I have used many laptops but this is the most experience ever. Literally M2's have crucial or beast performance no doubt. It's feel like butter on a hot pan, and I suggest if you purchase M2 you should be go for the starlight colour seriously colour is very unique."
        ],
        [
         "40",
         "Apple MacBook AIR Apple M2 - (8 GB/256 GB SSD/Mac OS Monterey)...",
         "4.7",
         "15,210",
         "900",
         "5",
         "Must buy!",
         "EXPENSIVE BUT AMAZING! 🤯"
        ],
        [
         "41",
         "Apple MacBook AIR Apple M2 - (8 GB/256 GB SSD/Mac OS Monterey)...",
         "4.7",
         "15,210",
         "900",
         "5",
         "Must buy!",
         "Awesome ✨❤️"
        ],
        [
         "42",
         "Apple MacBook AIR Apple M2 - (8 GB/256 GB SSD/Mac OS Monterey)...",
         "4.7",
         "15,210",
         "900",
         "4",
         "Wonderful",
         "Expected better. Has hinge problem"
        ],
        [
         "43",
         "Apple MacBook AIR Apple M2 - (8 GB/256 GB SSD/Mac OS Monterey)...",
         "4.7",
         "15,210",
         "900",
         "5",
         "Fabulous!",
         "2 weeks review, product is very optimal in performance, price a bit high but overall product satisfaction is always there when ever u purchase an apple product, would take time to get used to its apps those who r used to working on windows like I am. Good buy 👍"
        ],
        [
         "44",
         "Apple MacBook AIR Apple M2 - (8 GB/256 GB SSD/Mac OS Monterey)...",
         "4.7",
         "15,210",
         "900",
         "5",
         "Brilliant",
         "Amazing Display, battery and performance is super efficient, best product at a best price with the credit card discount.\r\n\r\nLastly the new Starlight colour just looks 😍 fantastic..."
        ],
        [
         "45",
         "Apple MacBook AIR Apple M2 - (8 GB/256 GB SSD/Mac OS Monterey)...",
         "4.7",
         "15,210",
         "900",
         "4",
         "Nice product",
         "Well I am a software developer. The laptop heats up really quickly. And once it does the device starts to lag"
        ],
        [
         "46",
         "Apple MacBook AIR Apple M2 - (8 GB/256 GB SSD/Mac OS Monterey)...",
         "4.7",
         "15,210",
         "900",
         "5",
         "Classy product",
         "Awesome battery backup, performance wise no complaints , slick design and loved the midnight colour.... Although it's a fingerprint magnet\r\n\r\nDelivery experience was very good"
        ],
        [
         "47",
         "Apple MacBook AIR Apple M2 - (8 GB/256 GB SSD/Mac OS Monterey)...",
         "4.7",
         "15,210",
         "900",
         "5",
         "Best in the market!",
         "Best machine\r\nSuper slim\r\nSuperb battery backup\r\nSuperb performance\r\nSuperb display\r\nPremium design\r\nNice packaging\r\n100% genuine\r\nFar better than windows laptp"
        ],
        [
         "48",
         "Apple MacBook AIR Apple M2 - (8 GB/256 GB SSD/Mac OS Monterey)...",
         "4.7",
         "15,210",
         "900",
         "5",
         "Highly recommended",
         "Blindly go for Macbook if your budget allows. No other laptop can provide this quality and premiumness"
        ],
        [
         "49",
         "Apple MacBook AIR Apple M2 - (8 GB/256 GB SSD/Mac OS Monterey)...",
         "4.7",
         "15,210",
         "900",
         "5",
         "Excellent",
         "Prefect product and perfect price. I bought this mac for 78k in big billion days. I have been using this for 3 days now. It is working properly and had no starches. It's perfectly original and the packaging was also good. Really satisfied."
        ]
       ],
       "shape": {
        "columns": 7,
        "rows": 24113
       }
      },
      "text/html": [
       "<div>\n",
       "<style scoped>\n",
       "    .dataframe tbody tr th:only-of-type {\n",
       "        vertical-align: middle;\n",
       "    }\n",
       "\n",
       "    .dataframe tbody tr th {\n",
       "        vertical-align: top;\n",
       "    }\n",
       "\n",
       "    .dataframe thead th {\n",
       "        text-align: right;\n",
       "    }\n",
       "</style>\n",
       "<table border=\"1\" class=\"dataframe\">\n",
       "  <thead>\n",
       "    <tr style=\"text-align: right;\">\n",
       "      <th></th>\n",
       "      <th>product_name</th>\n",
       "      <th>overall_rating</th>\n",
       "      <th>no_ratings</th>\n",
       "      <th>no_reviews</th>\n",
       "      <th>rating</th>\n",
       "      <th>title</th>\n",
       "      <th>review</th>\n",
       "    </tr>\n",
       "  </thead>\n",
       "  <tbody>\n",
       "    <tr>\n",
       "      <th>0</th>\n",
       "      <td>Apple MacBook AIR Apple M2 - (8 GB/256 GB SSD/...</td>\n",
       "      <td>4.7</td>\n",
       "      <td>15,210</td>\n",
       "      <td>900</td>\n",
       "      <td>5</td>\n",
       "      <td>Perfect product!</td>\n",
       "      <td>Loved it, it's my first MacBook that I earned ...</td>\n",
       "    </tr>\n",
       "    <tr>\n",
       "      <th>1</th>\n",
       "      <td>Apple MacBook AIR Apple M2 - (8 GB/256 GB SSD/...</td>\n",
       "      <td>4.7</td>\n",
       "      <td>15,210</td>\n",
       "      <td>900</td>\n",
       "      <td>5</td>\n",
       "      <td>Fabulous!</td>\n",
       "      <td>Battery lasted longer than my first relationsh...</td>\n",
       "    </tr>\n",
       "    <tr>\n",
       "      <th>2</th>\n",
       "      <td>Apple MacBook AIR Apple M2 - (8 GB/256 GB SSD/...</td>\n",
       "      <td>4.7</td>\n",
       "      <td>15,210</td>\n",
       "      <td>900</td>\n",
       "      <td>5</td>\n",
       "      <td>Fabulous!</td>\n",
       "      <td>Such a great deal.. very happy with the perfor...</td>\n",
       "    </tr>\n",
       "    <tr>\n",
       "      <th>3</th>\n",
       "      <td>Apple MacBook AIR Apple M2 - (8 GB/256 GB SSD/...</td>\n",
       "      <td>4.7</td>\n",
       "      <td>15,210</td>\n",
       "      <td>900</td>\n",
       "      <td>4</td>\n",
       "      <td>Delightful</td>\n",
       "      <td>Awesome build quality and very good display, b...</td>\n",
       "    </tr>\n",
       "    <tr>\n",
       "      <th>4</th>\n",
       "      <td>Apple MacBook AIR Apple M2 - (8 GB/256 GB SSD/...</td>\n",
       "      <td>4.7</td>\n",
       "      <td>15,210</td>\n",
       "      <td>900</td>\n",
       "      <td>5</td>\n",
       "      <td>Awesome</td>\n",
       "      <td>When i ordered and came to know about seller r...</td>\n",
       "    </tr>\n",
       "    <tr>\n",
       "      <th>...</th>\n",
       "      <td>...</td>\n",
       "      <td>...</td>\n",
       "      <td>...</td>\n",
       "      <td>...</td>\n",
       "      <td>...</td>\n",
       "      <td>...</td>\n",
       "      <td>...</td>\n",
       "    </tr>\n",
       "    <tr>\n",
       "      <th>24108</th>\n",
       "      <td>MSI Modern 14 Intel Core i5 13th Gen 1335U - (...</td>\n",
       "      <td>4.3</td>\n",
       "      <td>156</td>\n",
       "      <td>24</td>\n",
       "      <td>5</td>\n",
       "      <td>Perfect product!</td>\n",
       "      <td>MSI Laptop is high performance and the best. c...</td>\n",
       "    </tr>\n",
       "    <tr>\n",
       "      <th>24109</th>\n",
       "      <td>MSI Modern 14 Intel Core i5 13th Gen 1335U - (...</td>\n",
       "      <td>4.3</td>\n",
       "      <td>156</td>\n",
       "      <td>24</td>\n",
       "      <td>5</td>\n",
       "      <td>Perfect product!</td>\n",
       "      <td>Excellent performance best laptop.</td>\n",
       "    </tr>\n",
       "    <tr>\n",
       "      <th>24110</th>\n",
       "      <td>MSI Modern 14 Intel Core i5 13th Gen 1335U - (...</td>\n",
       "      <td>4.3</td>\n",
       "      <td>156</td>\n",
       "      <td>24</td>\n",
       "      <td>4</td>\n",
       "      <td>Good product, Lacks features.</td>\n",
       "      <td>Decent battery life. Exceptional build quality...</td>\n",
       "    </tr>\n",
       "    <tr>\n",
       "      <th>24111</th>\n",
       "      <td>Lenovo IdeaPad 5 2-in-1 WUXGA IPS AMD Ryzen 7 ...</td>\n",
       "      <td>4.4</td>\n",
       "      <td>7</td>\n",
       "      <td>2</td>\n",
       "      <td>3</td>\n",
       "      <td>Nice</td>\n",
       "      <td>The product does not support facial recognitio...</td>\n",
       "    </tr>\n",
       "    <tr>\n",
       "      <th>24112</th>\n",
       "      <td>Lenovo IdeaPad 5 2-in-1 WUXGA IPS AMD Ryzen 7 ...</td>\n",
       "      <td>4.4</td>\n",
       "      <td>7</td>\n",
       "      <td>2</td>\n",
       "      <td>4</td>\n",
       "      <td>Very Good</td>\n",
       "      <td>DISPLAY IS A LET DOWN. But the lenovo Pen work...</td>\n",
       "    </tr>\n",
       "  </tbody>\n",
       "</table>\n",
       "<p>24113 rows × 7 columns</p>\n",
       "</div>"
      ],
      "text/plain": [
       "                                            product_name  overall_rating  \\\n",
       "0      Apple MacBook AIR Apple M2 - (8 GB/256 GB SSD/...             4.7   \n",
       "1      Apple MacBook AIR Apple M2 - (8 GB/256 GB SSD/...             4.7   \n",
       "2      Apple MacBook AIR Apple M2 - (8 GB/256 GB SSD/...             4.7   \n",
       "3      Apple MacBook AIR Apple M2 - (8 GB/256 GB SSD/...             4.7   \n",
       "4      Apple MacBook AIR Apple M2 - (8 GB/256 GB SSD/...             4.7   \n",
       "...                                                  ...             ...   \n",
       "24108  MSI Modern 14 Intel Core i5 13th Gen 1335U - (...             4.3   \n",
       "24109  MSI Modern 14 Intel Core i5 13th Gen 1335U - (...             4.3   \n",
       "24110  MSI Modern 14 Intel Core i5 13th Gen 1335U - (...             4.3   \n",
       "24111  Lenovo IdeaPad 5 2-in-1 WUXGA IPS AMD Ryzen 7 ...             4.4   \n",
       "24112  Lenovo IdeaPad 5 2-in-1 WUXGA IPS AMD Ryzen 7 ...             4.4   \n",
       "\n",
       "      no_ratings no_reviews  rating                          title  \\\n",
       "0         15,210        900       5               Perfect product!   \n",
       "1         15,210        900       5                      Fabulous!   \n",
       "2         15,210        900       5                      Fabulous!   \n",
       "3         15,210        900       4                     Delightful   \n",
       "4         15,210        900       5                        Awesome   \n",
       "...          ...        ...     ...                            ...   \n",
       "24108        156         24       5               Perfect product!   \n",
       "24109        156         24       5               Perfect product!   \n",
       "24110        156         24       4  Good product, Lacks features.   \n",
       "24111          7          2       3                           Nice   \n",
       "24112          7          2       4                      Very Good   \n",
       "\n",
       "                                                  review  \n",
       "0      Loved it, it's my first MacBook that I earned ...  \n",
       "1      Battery lasted longer than my first relationsh...  \n",
       "2      Such a great deal.. very happy with the perfor...  \n",
       "3      Awesome build quality and very good display, b...  \n",
       "4      When i ordered and came to know about seller r...  \n",
       "...                                                  ...  \n",
       "24108  MSI Laptop is high performance and the best. c...  \n",
       "24109                 Excellent performance best laptop.  \n",
       "24110  Decent battery life. Exceptional build quality...  \n",
       "24111  The product does not support facial recognitio...  \n",
       "24112  DISPLAY IS A LET DOWN. But the lenovo Pen work...  \n",
       "\n",
       "[24113 rows x 7 columns]"
      ]
     },
     "execution_count": 46,
     "metadata": {},
     "output_type": "execute_result"
    }
   ],
   "source": [
    "df = pd.read_csv(\"data/data.csv\")\n",
    "df"
   ]
  },
  {
   "cell_type": "code",
   "execution_count": 47,
   "id": "23d3cfee",
   "metadata": {},
   "outputs": [
    {
     "data": {
      "application/vnd.microsoft.datawrangler.viewer.v0+json": {
       "columns": [
        {
         "name": "index",
         "rawType": "int64",
         "type": "integer"
        },
        {
         "name": "review",
         "rawType": "object",
         "type": "string"
        }
       ],
       "conversionMethod": "pd.DataFrame",
       "ref": "ed948385-6f9a-4391-a28a-2cc4afe96d8e",
       "rows": [
        [
         "0",
         "Loved it, it's my first MacBook that I earned from my hardwork 🥺❤️"
        ],
        [
         "1",
         "Battery lasted longer than my first relationship (2 days).\r\nListening to Arijit singh songs on full volume since then still isn't getting over. Has more warmth than her. unlike her there's two way communication here as touchpad is very responsive. fingerprint lock is nice as it only opens up to me. 5 stars for this -1 for her"
        ],
        [
         "2",
         "Such a great deal.. very happy with the performance and battery life..Origional product..🥰❤️\r\nThank you Flipkart..!!!"
        ],
        [
         "3",
         "Awesome build quality and very good display, battery and camera. Still new to macOS"
        ],
        [
         "4",
         "When i ordered and came to know about seller review,i was scared that in what condition i will get macbook. but i was wrong.\r\n\r\nThis is my first macbook and i am fully satisfied with the product with original packaging of apple and got genuine product.\r\n\r\nIt's very thin and light and looks very premium.\r\n\r\nAs A software developer, i installed intellij idea ide and guess what.\r\nIt's magic,it is opening just in a click and within 5 seconds.\r\nGreat performance, no heating issue, sound quality awesome an...\r\nREAD MORE"
        ],
        [
         "5",
         "Super product"
        ],
        [
         "6",
         "Go for it..its awesome"
        ],
        [
         "7",
         "Best , best and best 🫶🏻👑🍎"
        ],
        [
         "8",
         "Its really very good and compact device."
        ],
        [
         "9",
         "Superb built quality, Amazing performance and display quality...\r\n\r\nGot it at 72k, wonderful product at great price."
        ],
        [
         "10",
         "Great laptop. Very good performance, battery life and look and feel. Very happy with my purchase"
        ],
        [
         "11",
         "Superb 😍"
        ],
        [
         "12",
         "Best powerful machine in all aspects"
        ],
        [
         "13",
         "just love how apple is in their own league!!"
        ],
        [
         "14",
         "This is the first MacBook I ever have. And I must say no one can match Apple product."
        ],
        [
         "15",
         "Product is nice but price droped by 6k after purchasing so feels a bit dispointed."
        ],
        [
         "16",
         "Worth every penny u spend"
        ],
        [
         "17",
         "Its very good product."
        ],
        [
         "18",
         "My first MacBook and also my first laptop. First I thought of buying a windows laptop as macbooks are way more expensive. But during the sale I bought it at 73k which is a steal deal. I am a college student and mainly bought it for coding, streaming videos and movies and also for some editing tasks.\r\n\r\nI would like to tell you if you are not a gamer this is one of the best laptops you can have in this price range. Loved the design, the colour, the sound , the display, the battery backup and al...\r\nREAD MORE"
        ],
        [
         "19",
         "A good power pack laptop to go with,"
        ],
        [
         "20",
         "This is my first macbook...was using windows since 3rd grade ...both are different but macOS feels so smooth and optimised.\r\n\r\nAs soon as I setted it up ... I got one update... offcourse I updated my Mac.\r\n\r\nI am loving this product... Especially the screen corners are so thin with least bezels..\r\nBattery life is amazing...used moderately for 1 day.. discharged 50 %"
        ],
        [
         "21",
         "First mac and it works like a beast"
        ],
        [
         "22",
         "This is the best in my entire life . Such a human Machine it is and 😀🎉"
        ],
        [
         "23",
         "Perfect one for office workers"
        ],
        [
         "24",
         "This is a great device as a personal laptop or work machine. The Full HD camera is a welcome addition. 6 month M365 subscription is free with this machine and that is a good add-on benefit. The small notch around the camera in the top middle of the screen is pretty neatly integrated and does not disturb. The build quality is fantastic and form factor is perfect to hold and operate."
        ],
        [
         "25",
         "Just got the product, While detailed review will updated after couple of months usage.\r\nFrom initial usage it's the best laptop i have used in my career"
        ],
        [
         "26",
         "Very nice"
        ],
        [
         "27",
         "Good for business work"
        ],
        [
         "28",
         "Good"
        ],
        [
         "29",
         "I have been using Windows for the past 13-odd years. Although I am a huge Apple fan and hence decided to buy this machine. I am writing this review after 1 month of usage.\r\n\r\nThe performance it delivers is just unmatched. On practical usage, it can easily beat the high-end Windows laptops. You are gonna love it from the moment you unbox it and would kinda wanna eat it once it falls in your hands.\r\n\r\nThe Apple silicon laptops really over-deliver than their on-paper specs. If it fits your budget...\r\nREAD MORE"
        ],
        [
         "30",
         "Superb"
        ],
        [
         "31",
         "Very nice product"
        ],
        [
         "32",
         "This is my first MacBook Air with M2 chip.\r\nSpace grey color.\r\nOverall performance is very good.\r\nBattery is Good.\r\nDisplay is superb.\r\nFinally I owned my Mac.\r\n\r\nBut I need laptop bag."
        ],
        [
         "33",
         "First time i have used macbook after windows and i would say i can't use windows again.beautiful display with amazing sound (specially dolby atmos feature) Performance of laptop is far better than windows top notch model laptops.\r\n\r\nFlipkart delivery was worst part in this purchase.I have got this laptop 10 days after placing order and after making so much efforts.But overall i am satisfied with my purchase."
        ],
        [
         "34",
         "The MacBook Air M2 is Apple's latest addition to its renowned lineup of ultraportable laptops, and it certainly has a lot to offer. With its sleek design, remarkable M2 chip, and impressive battery life, it's a compelling choice for many users. However, it's not without its downsides.\r\n\r\n**Pros:**\r\n\r\n1. **Stunning Design:** The MacBook Air M2 maintains the iconic, slim, and lightweight design that Apple is known for. It's an absolute head-turner with its aluminum chassis.\r\n\r\n2. **M2 Chip Performanc...\r\nREAD MORE"
        ],
        [
         "35",
         "Just go for it. Performance and beauty is really amazing. 😻"
        ],
        [
         "36",
         "Design and build quality is excellent🤩... Performance is good enough for most users🙃... Handles day to day tasks with ease😉... Battery life is mind benging😅... Overall bang for the buck😎"
        ],
        [
         "37",
         "Nice Experience with mac"
        ],
        [
         "38",
         "Just as expected,Awesome!"
        ],
        [
         "39",
         "I'm reviewing after 2 months, honestly I assure that I have used many laptops but this is the most experience ever. Literally M2's have crucial or beast performance no doubt. It's feel like butter on a hot pan, and I suggest if you purchase M2 you should be go for the starlight colour seriously colour is very unique."
        ],
        [
         "40",
         "EXPENSIVE BUT AMAZING! 🤯"
        ],
        [
         "41",
         "Awesome ✨❤️"
        ],
        [
         "42",
         "Expected better. Has hinge problem"
        ],
        [
         "43",
         "2 weeks review, product is very optimal in performance, price a bit high but overall product satisfaction is always there when ever u purchase an apple product, would take time to get used to its apps those who r used to working on windows like I am. Good buy 👍"
        ],
        [
         "44",
         "Amazing Display, battery and performance is super efficient, best product at a best price with the credit card discount.\r\n\r\nLastly the new Starlight colour just looks 😍 fantastic..."
        ],
        [
         "45",
         "Well I am a software developer. The laptop heats up really quickly. And once it does the device starts to lag"
        ],
        [
         "46",
         "Awesome battery backup, performance wise no complaints , slick design and loved the midnight colour.... Although it's a fingerprint magnet\r\n\r\nDelivery experience was very good"
        ],
        [
         "47",
         "Best machine\r\nSuper slim\r\nSuperb battery backup\r\nSuperb performance\r\nSuperb display\r\nPremium design\r\nNice packaging\r\n100% genuine\r\nFar better than windows laptp"
        ],
        [
         "48",
         "Blindly go for Macbook if your budget allows. No other laptop can provide this quality and premiumness"
        ],
        [
         "49",
         "Prefect product and perfect price. I bought this mac for 78k in big billion days. I have been using this for 3 days now. It is working properly and had no starches. It's perfectly original and the packaging was also good. Really satisfied."
        ]
       ],
       "shape": {
        "columns": 1,
        "rows": 24113
       }
      },
      "text/html": [
       "<div>\n",
       "<style scoped>\n",
       "    .dataframe tbody tr th:only-of-type {\n",
       "        vertical-align: middle;\n",
       "    }\n",
       "\n",
       "    .dataframe tbody tr th {\n",
       "        vertical-align: top;\n",
       "    }\n",
       "\n",
       "    .dataframe thead th {\n",
       "        text-align: right;\n",
       "    }\n",
       "</style>\n",
       "<table border=\"1\" class=\"dataframe\">\n",
       "  <thead>\n",
       "    <tr style=\"text-align: right;\">\n",
       "      <th></th>\n",
       "      <th>review</th>\n",
       "    </tr>\n",
       "  </thead>\n",
       "  <tbody>\n",
       "    <tr>\n",
       "      <th>0</th>\n",
       "      <td>Loved it, it's my first MacBook that I earned ...</td>\n",
       "    </tr>\n",
       "    <tr>\n",
       "      <th>1</th>\n",
       "      <td>Battery lasted longer than my first relationsh...</td>\n",
       "    </tr>\n",
       "    <tr>\n",
       "      <th>2</th>\n",
       "      <td>Such a great deal.. very happy with the perfor...</td>\n",
       "    </tr>\n",
       "    <tr>\n",
       "      <th>3</th>\n",
       "      <td>Awesome build quality and very good display, b...</td>\n",
       "    </tr>\n",
       "    <tr>\n",
       "      <th>4</th>\n",
       "      <td>When i ordered and came to know about seller r...</td>\n",
       "    </tr>\n",
       "    <tr>\n",
       "      <th>...</th>\n",
       "      <td>...</td>\n",
       "    </tr>\n",
       "    <tr>\n",
       "      <th>24108</th>\n",
       "      <td>MSI Laptop is high performance and the best. c...</td>\n",
       "    </tr>\n",
       "    <tr>\n",
       "      <th>24109</th>\n",
       "      <td>Excellent performance best laptop.</td>\n",
       "    </tr>\n",
       "    <tr>\n",
       "      <th>24110</th>\n",
       "      <td>Decent battery life. Exceptional build quality...</td>\n",
       "    </tr>\n",
       "    <tr>\n",
       "      <th>24111</th>\n",
       "      <td>The product does not support facial recognitio...</td>\n",
       "    </tr>\n",
       "    <tr>\n",
       "      <th>24112</th>\n",
       "      <td>DISPLAY IS A LET DOWN. But the lenovo Pen work...</td>\n",
       "    </tr>\n",
       "  </tbody>\n",
       "</table>\n",
       "<p>24113 rows × 1 columns</p>\n",
       "</div>"
      ],
      "text/plain": [
       "                                                  review\n",
       "0      Loved it, it's my first MacBook that I earned ...\n",
       "1      Battery lasted longer than my first relationsh...\n",
       "2      Such a great deal.. very happy with the perfor...\n",
       "3      Awesome build quality and very good display, b...\n",
       "4      When i ordered and came to know about seller r...\n",
       "...                                                  ...\n",
       "24108  MSI Laptop is high performance and the best. c...\n",
       "24109                 Excellent performance best laptop.\n",
       "24110  Decent battery life. Exceptional build quality...\n",
       "24111  The product does not support facial recognitio...\n",
       "24112  DISPLAY IS A LET DOWN. But the lenovo Pen work...\n",
       "\n",
       "[24113 rows x 1 columns]"
      ]
     },
     "execution_count": 47,
     "metadata": {},
     "output_type": "execute_result"
    }
   ],
   "source": [
    "df_review = df[[\"review\"]]\n",
    "df_review"
   ]
  },
  {
   "cell_type": "code",
   "execution_count": 48,
   "id": "1adca0c3",
   "metadata": {},
   "outputs": [],
   "source": [
    "def clean_text_dataframe(\n",
    "    df_i: pd.DataFrame,\n",
    "    columns: list[str] | None = None,\n",
    "    keep_apostrophe: bool = True,\n",
    "    min_words: int = n_gram,\n",
    ") -> pd.DataFrame:\n",
    "    \"\"\"\n",
    "    Очищает текст и удаляет строки с малым количеством слов\n",
    "\n",
    "    Params:\n",
    "        df (pd.DataFrame): Исходный DataFrame\n",
    "        columns (list[str]|None): Столбцы для обработки (None = все строковые)\n",
    "        keep_apostrophe (bool): Сохранять апострофы (по умолчанию True)\n",
    "        min_words (int): Минимальное количество слов для сохранения строки\n",
    "\n",
    "    Return:\n",
    "        pd.DataFrame: Очищенная и отфильтрованная копия DataFrame\n",
    "    \"\"\"\n",
    "    df_clean = df_i.copy()\n",
    "\n",
    "    # Определение целевых столбцов\n",
    "    if columns is None:\n",
    "        columns = df_clean.select_dtypes(include=[\"object\", \"string\"]).columns.tolist()\n",
    "\n",
    "    # Настройка паттерна для пунктуации\n",
    "    punct_pattern = r\"[{}]\".format(\n",
    "        re.escape(\n",
    "            punctuation.replace(\"'\", \"\") if keep_apostrophe else re.escape(punctuation)\n",
    "        )\n",
    "    )\n",
    "\n",
    "    def text_cleaner(text):\n",
    "        if not isinstance(text, str):\n",
    "            return text\n",
    "\n",
    "        # Удаление эмодзи\n",
    "        text = emoji.replace_emoji(text, replace=\"\")\n",
    "\n",
    "        # Удаление пунктуации\n",
    "        text = re.sub(punct_pattern, \" \", text)\n",
    "\n",
    "        # Удаление спецсимволов\n",
    "        text = re.sub(r\"[^a-zA-Z0-9\\'\\s]\", \" \", text)\n",
    "\n",
    "        # Нормализация пробелов\n",
    "        text = re.sub(r\"\\s+\", \" \", text).strip()\n",
    "\n",
    "        return text\n",
    "\n",
    "    for col in columns:\n",
    "        if col in df_clean.columns:\n",
    "            df_clean[col] = df_clean[col].apply(text_cleaner)\n",
    "\n",
    "    word_count_mask = (\n",
    "        df_clean[columns]\n",
    "        .apply(lambda col: col.str.split().str.len() > min_words)\n",
    "        .all(axis=1)\n",
    "    )\n",
    "\n",
    "    df_clean = df_clean[word_count_mask].reset_index(drop=True)\n",
    "\n",
    "    return df_clean"
   ]
  },
  {
   "cell_type": "code",
   "execution_count": 49,
   "id": "ed31ba7e",
   "metadata": {},
   "outputs": [
    {
     "data": {
      "application/vnd.microsoft.datawrangler.viewer.v0+json": {
       "columns": [
        {
         "name": "index",
         "rawType": "int64",
         "type": "integer"
        },
        {
         "name": "review",
         "rawType": "object",
         "type": "string"
        }
       ],
       "conversionMethod": "pd.DataFrame",
       "ref": "bc1b8a7a-07f2-48c4-bc42-07f221a248be",
       "rows": [
        [
         "0",
         "Loved it it's my first MacBook that I earned from my hardwork"
        ],
        [
         "1",
         "Battery lasted longer than my first relationship 2 days Listening to Arijit singh songs on full volume since then still isn't getting over Has more warmth than her unlike her there's two way communication here as touchpad is very responsive fingerprint lock is nice as it only opens up to me 5 stars for this 1 for her"
        ],
        [
         "2",
         "Such a great deal very happy with the performance and battery life Origional product Thank you Flipkart"
        ],
        [
         "3",
         "Awesome build quality and very good display battery and camera Still new to macOS"
        ],
        [
         "4",
         "When i ordered and came to know about seller review i was scared that in what condition i will get macbook but i was wrong This is my first macbook and i am fully satisfied with the product with original packaging of apple and got genuine product It's very thin and light and looks very premium As A software developer i installed intellij idea ide and guess what It's magic it is opening just in a click and within 5 seconds Great performance no heating issue sound quality awesome an READ MORE"
        ],
        [
         "5",
         "Go for it its awesome"
        ],
        [
         "6",
         "Its really very good and compact device"
        ],
        [
         "7",
         "Superb built quality Amazing performance and display quality Got it at 72k wonderful product at great price"
        ],
        [
         "8",
         "Great laptop Very good performance battery life and look and feel Very happy with my purchase"
        ],
        [
         "9",
         "Best powerful machine in all aspects"
        ],
        [
         "10",
         "just love how apple is in their own league"
        ],
        [
         "11",
         "This is the first MacBook I ever have And I must say no one can match Apple product"
        ],
        [
         "12",
         "Product is nice but price droped by 6k after purchasing so feels a bit dispointed"
        ],
        [
         "13",
         "Worth every penny u spend"
        ],
        [
         "14",
         "My first MacBook and also my first laptop First I thought of buying a windows laptop as macbooks are way more expensive But during the sale I bought it at 73k which is a steal deal I am a college student and mainly bought it for coding streaming videos and movies and also for some editing tasks I would like to tell you if you are not a gamer this is one of the best laptops you can have in this price range Loved the design the colour the sound the display the battery backup and al READ MORE"
        ],
        [
         "15",
         "A good power pack laptop to go with"
        ],
        [
         "16",
         "This is my first macbook was using windows since 3rd grade both are different but macOS feels so smooth and optimised As soon as I setted it up I got one update offcourse I updated my Mac I am loving this product Especially the screen corners are so thin with least bezels Battery life is amazing used moderately for 1 day discharged 50"
        ],
        [
         "17",
         "First mac and it works like a beast"
        ],
        [
         "18",
         "This is the best in my entire life Such a human Machine it is and"
        ],
        [
         "19",
         "Perfect one for office workers"
        ],
        [
         "20",
         "This is a great device as a personal laptop or work machine The Full HD camera is a welcome addition 6 month M365 subscription is free with this machine and that is a good add on benefit The small notch around the camera in the top middle of the screen is pretty neatly integrated and does not disturb The build quality is fantastic and form factor is perfect to hold and operate"
        ],
        [
         "21",
         "Just got the product While detailed review will updated after couple of months usage From initial usage it's the best laptop i have used in my career"
        ],
        [
         "22",
         "I have been using Windows for the past 13 odd years Although I am a huge Apple fan and hence decided to buy this machine I am writing this review after 1 month of usage The performance it delivers is just unmatched On practical usage it can easily beat the high end Windows laptops You are gonna love it from the moment you unbox it and would kinda wanna eat it once it falls in your hands The Apple silicon laptops really over deliver than their on paper specs If it fits your budget READ MORE"
        ],
        [
         "23",
         "This is my first MacBook Air with M2 chip Space grey color Overall performance is very good Battery is Good Display is superb Finally I owned my Mac But I need laptop bag"
        ],
        [
         "24",
         "First time i have used macbook after windows and i would say i can't use windows again beautiful display with amazing sound specially dolby atmos feature Performance of laptop is far better than windows top notch model laptops Flipkart delivery was worst part in this purchase I have got this laptop 10 days after placing order and after making so much efforts But overall i am satisfied with my purchase"
        ],
        [
         "25",
         "The MacBook Air M2 is Apple's latest addition to its renowned lineup of ultraportable laptops and it certainly has a lot to offer With its sleek design remarkable M2 chip and impressive battery life it's a compelling choice for many users However it's not without its downsides Pros 1 Stunning Design The MacBook Air M2 maintains the iconic slim and lightweight design that Apple is known for It's an absolute head turner with its aluminum chassis 2 M2 Chip Performanc READ MORE"
        ],
        [
         "26",
         "Just go for it Performance and beauty is really amazing"
        ],
        [
         "27",
         "Design and build quality is excellent Performance is good enough for most users Handles day to day tasks with ease Battery life is mind benging Overall bang for the buck"
        ],
        [
         "28",
         "I'm reviewing after 2 months honestly I assure that I have used many laptops but this is the most experience ever Literally M2's have crucial or beast performance no doubt It's feel like butter on a hot pan and I suggest if you purchase M2 you should be go for the starlight colour seriously colour is very unique"
        ],
        [
         "29",
         "Expected better Has hinge problem"
        ],
        [
         "30",
         "2 weeks review product is very optimal in performance price a bit high but overall product satisfaction is always there when ever u purchase an apple product would take time to get used to its apps those who r used to working on windows like I am Good buy"
        ],
        [
         "31",
         "Amazing Display battery and performance is super efficient best product at a best price with the credit card discount Lastly the new Starlight colour just looks fantastic"
        ],
        [
         "32",
         "Well I am a software developer The laptop heats up really quickly And once it does the device starts to lag"
        ],
        [
         "33",
         "Awesome battery backup performance wise no complaints slick design and loved the midnight colour Although it's a fingerprint magnet Delivery experience was very good"
        ],
        [
         "34",
         "Best machine Super slim Superb battery backup Superb performance Superb display Premium design Nice packaging 100 genuine Far better than windows laptp"
        ],
        [
         "35",
         "Blindly go for Macbook if your budget allows No other laptop can provide this quality and premiumness"
        ],
        [
         "36",
         "Prefect product and perfect price I bought this mac for 78k in big billion days I have been using this for 3 days now It is working properly and had no starches It's perfectly original and the packaging was also good Really satisfied"
        ],
        [
         "37",
         "Most powerful laptop out there"
        ],
        [
         "38",
         "I ordered Macbook Air 8GB RAM and 512GB Storage I am happy with this product It's expensive but it is valuable product and worth to have it I am also happy with Flipkart services I received it within 3 days I recommended to buy this kind of expensive product from Flipkart as well"
        ],
        [
         "39",
         "The deep midnight color is striking and adds a touch of elegance The viewing experience is truly remarkable providing vivid and immersive visuals It's suitable for standard video and photo editing tasks However for users engaging in intensive video editing it is advisable to choose the 512GB storage option due to the slower SSD speed of the 256GB model Overall considering the features and performance at this price point it's a compelling deal"
        ],
        [
         "40",
         "First time i have purchased a apple macbook and i am fully satisfied with the product the design and looks of this are insane and just loves the product very much and the midnight colour is awesome definitely value for money"
        ],
        [
         "41",
         "Just moved from my old macbook air to M2 air Overall the laptop is fast and capable of doing all the tasks required Battery backup is very good Overall happy with the purchase"
        ],
        [
         "42",
         "The product is osm you can go with this without any hesitation I am writing the review almost purchasing after 2 months Display and design 10 10 Speaker and camera 10 10 Performance and build quality 10 10 Battery backup 10 10 unbelievable I am very happy to purchase this and using this very smoothly no lagging any type i am work this MacBook almost 15 hours per day office purpose very very nice choice and i am running the coding apps on the mac till now no lagging seen It is working ve READ MORE"
        ],
        [
         "43",
         "It's my first macbook It was totally a different feeling to own it Right from its aesthetic finish look to its performance All r just amazing Silver macbook has different royalty and classic touch The sleek design and light weight makes it to carry wherever and whenever The M2 chip does the work The transfers and downloads were way faster The battery life is fine Camera is great Overall if u really want to shift from windows to MacOS then just go for it Apart from the cost READ MORE"
        ],
        [
         "44",
         "So beautiful so elegant just looking like a wow starlight colour wow"
        ],
        [
         "45",
         "The MacBook Air M2 truly sets a new standard in performance and portability Powered by the impressive M2 chip it effortlessly handles demanding tasks while maintaining remarkable speed and efficiency The sleek design lightweight build and vibrant Retina display make it a joy to use on the go With its exceptional battery life and immersive audio the MacBook Air M2 offers an unparalleled experience for both work and entertainment It's a remarkable laptop that perfectly balances power an READ MORE"
        ],
        [
         "46",
         "It's a excellent choice specially if you are buying it for work free lancing and to learn new skills It is great in both performance and battery in this price Absolutely buy it Giving it a 4 star as the piece I got has a little tight hinge and it won't open single handedly which doesn't give a good Impression and I can't even return it now and have to go apple service centre But be real everybody doesn't have time to waste a whole day for this problem"
        ],
        [
         "47",
         "Very good battery and performance"
        ],
        [
         "48",
         "Happy with the delivery got it early in the same day although expected was 3 days from the order Thought to buy asus oled additionally but it very much matches that quality and punchiness in colors"
        ],
        [
         "49",
         "Review after 1 week Performance 10 10 Display 10 10 Easier to use Light weight like we hold a book in hand Happy with the product and installation speed as well as top notch on transferring data My first Macbook after Windows"
        ]
       ],
       "shape": {
        "columns": 1,
        "rows": 15892
       }
      },
      "text/html": [
       "<div>\n",
       "<style scoped>\n",
       "    .dataframe tbody tr th:only-of-type {\n",
       "        vertical-align: middle;\n",
       "    }\n",
       "\n",
       "    .dataframe tbody tr th {\n",
       "        vertical-align: top;\n",
       "    }\n",
       "\n",
       "    .dataframe thead th {\n",
       "        text-align: right;\n",
       "    }\n",
       "</style>\n",
       "<table border=\"1\" class=\"dataframe\">\n",
       "  <thead>\n",
       "    <tr style=\"text-align: right;\">\n",
       "      <th></th>\n",
       "      <th>review</th>\n",
       "    </tr>\n",
       "  </thead>\n",
       "  <tbody>\n",
       "    <tr>\n",
       "      <th>0</th>\n",
       "      <td>Loved it it's my first MacBook that I earned f...</td>\n",
       "    </tr>\n",
       "    <tr>\n",
       "      <th>1</th>\n",
       "      <td>Battery lasted longer than my first relationsh...</td>\n",
       "    </tr>\n",
       "    <tr>\n",
       "      <th>2</th>\n",
       "      <td>Such a great deal very happy with the performa...</td>\n",
       "    </tr>\n",
       "    <tr>\n",
       "      <th>3</th>\n",
       "      <td>Awesome build quality and very good display ba...</td>\n",
       "    </tr>\n",
       "    <tr>\n",
       "      <th>4</th>\n",
       "      <td>When i ordered and came to know about seller r...</td>\n",
       "    </tr>\n",
       "    <tr>\n",
       "      <th>...</th>\n",
       "      <td>...</td>\n",
       "    </tr>\n",
       "    <tr>\n",
       "      <th>15887</th>\n",
       "      <td>Plastic body Body was a very bad</td>\n",
       "    </tr>\n",
       "    <tr>\n",
       "      <th>15888</th>\n",
       "      <td>MSI Laptop is high performance and the best co...</td>\n",
       "    </tr>\n",
       "    <tr>\n",
       "      <th>15889</th>\n",
       "      <td>Decent battery life Exceptional build quality ...</td>\n",
       "    </tr>\n",
       "    <tr>\n",
       "      <th>15890</th>\n",
       "      <td>The product does not support facial recognitio...</td>\n",
       "    </tr>\n",
       "    <tr>\n",
       "      <th>15891</th>\n",
       "      <td>DISPLAY IS A LET DOWN But the lenovo Pen works...</td>\n",
       "    </tr>\n",
       "  </tbody>\n",
       "</table>\n",
       "<p>15892 rows × 1 columns</p>\n",
       "</div>"
      ],
      "text/plain": [
       "                                                  review\n",
       "0      Loved it it's my first MacBook that I earned f...\n",
       "1      Battery lasted longer than my first relationsh...\n",
       "2      Such a great deal very happy with the performa...\n",
       "3      Awesome build quality and very good display ba...\n",
       "4      When i ordered and came to know about seller r...\n",
       "...                                                  ...\n",
       "15887                   Plastic body Body was a very bad\n",
       "15888  MSI Laptop is high performance and the best co...\n",
       "15889  Decent battery life Exceptional build quality ...\n",
       "15890  The product does not support facial recognitio...\n",
       "15891  DISPLAY IS A LET DOWN But the lenovo Pen works...\n",
       "\n",
       "[15892 rows x 1 columns]"
      ]
     },
     "execution_count": 49,
     "metadata": {},
     "output_type": "execute_result"
    }
   ],
   "source": [
    "df_review = clean_text_dataframe(df_review, min_words=n_gram)\n",
    "df_review"
   ]
  },
  {
   "cell_type": "markdown",
   "id": "a7fb2fb2",
   "metadata": {},
   "source": [
    "## Data tokenize"
   ]
  },
  {
   "cell_type": "markdown",
   "id": "25ad1c11",
   "metadata": {},
   "source": [
    "### Create"
   ]
  },
  {
   "cell_type": "code",
   "execution_count": 50,
   "id": "8bc4bf4c",
   "metadata": {},
   "outputs": [],
   "source": [
    "def tokenize_text_dataframe(df_i: pd.DataFrame, tokenizer):\n",
    "    return pd.DataFrame(\n",
    "        df_i.iloc[:, 0].apply(\n",
    "            lambda col: [\n",
    "                word for word in tokenizer(col.lower()) if word not in stop_words\n",
    "            ]\n",
    "        )\n",
    "    )"
   ]
  },
  {
   "cell_type": "code",
   "execution_count": 51,
   "id": "8da4582e",
   "metadata": {},
   "outputs": [
    {
     "data": {
      "application/vnd.microsoft.datawrangler.viewer.v0+json": {
       "columns": [
        {
         "name": "index",
         "rawType": "int64",
         "type": "integer"
        },
        {
         "name": "review",
         "rawType": "object",
         "type": "unknown"
        }
       ],
       "conversionMethod": "pd.DataFrame",
       "ref": "7180f212-252f-41cf-b9ce-1236e54d16b7",
       "rows": [
        [
         "0",
         "['loved', 'first', 'macbook', 'earned', 'hardwork']"
        ],
        [
         "1",
         "['battery', 'lasted', 'longer', 'first', 'relationship', '2', 'days', 'listening', 'arijit', 'singh', 'songs', 'full', 'volume', 'since', 'still', 'getting', 'warmth', 'unlike', \"there's\", 'two', 'way', 'communication', 'touchpad', 'responsive', 'fingerprint', 'lock', 'nice', 'opens', '5', 'stars', '1']"
        ],
        [
         "2",
         "['great', 'deal', 'happy', 'performance', 'battery', 'life', 'origional', 'product', 'thank', 'flipkart']"
        ],
        [
         "3",
         "['awesome', 'build', 'quality', 'good', 'display', 'battery', 'camera', 'still', 'new', 'macos']"
        ],
        [
         "4",
         "['ordered', 'came', 'know', 'seller', 'review', 'scared', 'condition', 'get', 'macbook', 'wrong', 'first', 'macbook', 'fully', 'satisfied', 'product', 'original', 'packaging', 'apple', 'got', 'genuine', 'product', 'thin', 'light', 'looks', 'premium', 'software', 'developer', 'installed', 'intellij', 'idea', 'ide', 'guess', 'magic', 'opening', 'click', 'within', '5', 'seconds', 'great', 'performance', 'heating', 'issue', 'sound', 'quality', 'awesome', 'read']"
        ]
       ],
       "shape": {
        "columns": 1,
        "rows": 5
       }
      },
      "text/html": [
       "<div>\n",
       "<style scoped>\n",
       "    .dataframe tbody tr th:only-of-type {\n",
       "        vertical-align: middle;\n",
       "    }\n",
       "\n",
       "    .dataframe tbody tr th {\n",
       "        vertical-align: top;\n",
       "    }\n",
       "\n",
       "    .dataframe thead th {\n",
       "        text-align: right;\n",
       "    }\n",
       "</style>\n",
       "<table border=\"1\" class=\"dataframe\">\n",
       "  <thead>\n",
       "    <tr style=\"text-align: right;\">\n",
       "      <th></th>\n",
       "      <th>review</th>\n",
       "    </tr>\n",
       "  </thead>\n",
       "  <tbody>\n",
       "    <tr>\n",
       "      <th>0</th>\n",
       "      <td>[loved, first, macbook, earned, hardwork]</td>\n",
       "    </tr>\n",
       "    <tr>\n",
       "      <th>1</th>\n",
       "      <td>[battery, lasted, longer, first, relationship,...</td>\n",
       "    </tr>\n",
       "    <tr>\n",
       "      <th>2</th>\n",
       "      <td>[great, deal, happy, performance, battery, lif...</td>\n",
       "    </tr>\n",
       "    <tr>\n",
       "      <th>3</th>\n",
       "      <td>[awesome, build, quality, good, display, batte...</td>\n",
       "    </tr>\n",
       "    <tr>\n",
       "      <th>4</th>\n",
       "      <td>[ordered, came, know, seller, review, scared, ...</td>\n",
       "    </tr>\n",
       "  </tbody>\n",
       "</table>\n",
       "</div>"
      ],
      "text/plain": [
       "                                              review\n",
       "0          [loved, first, macbook, earned, hardwork]\n",
       "1  [battery, lasted, longer, first, relationship,...\n",
       "2  [great, deal, happy, performance, battery, lif...\n",
       "3  [awesome, build, quality, good, display, batte...\n",
       "4  [ordered, came, know, seller, review, scared, ..."
      ]
     },
     "execution_count": 51,
     "metadata": {},
     "output_type": "execute_result"
    }
   ],
   "source": [
    "df_tokens = tokenize_text_dataframe(\n",
    "    df_review, TweetTokenizer(match_phone_numbers=False).tokenize\n",
    ")\n",
    "df_tokens.head()"
   ]
  },
  {
   "cell_type": "code",
   "execution_count": 52,
   "id": "7656ec76",
   "metadata": {},
   "outputs": [
    {
     "data": {
      "application/vnd.microsoft.datawrangler.viewer.v0+json": {
       "columns": [
        {
         "name": "index",
         "rawType": "int64",
         "type": "integer"
        },
        {
         "name": "review",
         "rawType": "object",
         "type": "unknown"
        }
       ],
       "conversionMethod": "pd.DataFrame",
       "ref": "ad49bbe0-e6e1-40d0-9ee3-4b44255fc0e0",
       "rows": [
        [
         "11514",
         "['nice', 'heavy', 'load', 'allowed', 'lap']"
        ],
        [
         "10546",
         "['used', 'product', 'works', 'properly', 'needed', 'service', 'use', 'battery', 'life', 'short', 'compared', 'given', 'specification', 'suddenly', 'turn', 'using', 'hour']"
        ],
        [
         "10874",
         "['awesome', 'product', 'battery', 'backup', 'better', 'thank', 'flipkart']"
        ],
        [
         "9909",
         "['reviewing', 'using', '1', 'week', 'nice', 'laptop', 'office', 'everyday', 'tasks', 'battery', 'good', 'running', 'new', 'performance', 'good', 'opened', 'multiple', 'tabs', 'windows', 'however', 'came', 'windows', '11', 'home', 'would', 'like', '11', 'pro', 'worth', 'money', 'edit', 'review', 'using', 'months', 'let', 'others', 'know', 'going']"
        ],
        [
         "9405",
         "['pros', 'battery', 'charging', 'time', 'battery', 'backup', 'performance', 'value', 'money', 'build', 'quality', 'cam', 'quality', 'display', 'resolution', 'lite', 'weight', 'heating', 'problem', 'faced', 'one', 'time', 'cons', 'display', 'good', 'fade', 'different', 'angle', 'sound', 'low', 'delicate']"
        ]
       ],
       "shape": {
        "columns": 1,
        "rows": 5
       }
      },
      "text/html": [
       "<div>\n",
       "<style scoped>\n",
       "    .dataframe tbody tr th:only-of-type {\n",
       "        vertical-align: middle;\n",
       "    }\n",
       "\n",
       "    .dataframe tbody tr th {\n",
       "        vertical-align: top;\n",
       "    }\n",
       "\n",
       "    .dataframe thead th {\n",
       "        text-align: right;\n",
       "    }\n",
       "</style>\n",
       "<table border=\"1\" class=\"dataframe\">\n",
       "  <thead>\n",
       "    <tr style=\"text-align: right;\">\n",
       "      <th></th>\n",
       "      <th>review</th>\n",
       "    </tr>\n",
       "  </thead>\n",
       "  <tbody>\n",
       "    <tr>\n",
       "      <th>11514</th>\n",
       "      <td>[nice, heavy, load, allowed, lap]</td>\n",
       "    </tr>\n",
       "    <tr>\n",
       "      <th>10546</th>\n",
       "      <td>[used, product, works, properly, needed, servi...</td>\n",
       "    </tr>\n",
       "    <tr>\n",
       "      <th>10874</th>\n",
       "      <td>[awesome, product, battery, backup, better, th...</td>\n",
       "    </tr>\n",
       "    <tr>\n",
       "      <th>9909</th>\n",
       "      <td>[reviewing, using, 1, week, nice, laptop, offi...</td>\n",
       "    </tr>\n",
       "    <tr>\n",
       "      <th>9405</th>\n",
       "      <td>[pros, battery, charging, time, battery, backu...</td>\n",
       "    </tr>\n",
       "  </tbody>\n",
       "</table>\n",
       "</div>"
      ],
      "text/plain": [
       "                                                  review\n",
       "11514                  [nice, heavy, load, allowed, lap]\n",
       "10546  [used, product, works, properly, needed, servi...\n",
       "10874  [awesome, product, battery, backup, better, th...\n",
       "9909   [reviewing, using, 1, week, nice, laptop, offi...\n",
       "9405   [pros, battery, charging, time, battery, backu..."
      ]
     },
     "execution_count": 52,
     "metadata": {},
     "output_type": "execute_result"
    }
   ],
   "source": [
    "df_tokens = df_tokens[df_tokens[\"review\"].apply(lambda col: len(col) > n_gram)].reset_index(drop=True).sample(frac=percent_sample)\n",
    "df_tokens.head()"
   ]
  },
  {
   "cell_type": "code",
   "execution_count": 53,
   "id": "69810485",
   "metadata": {},
   "outputs": [],
   "source": [
    "df_tokens.to_csv(f'data/df_tokens_{percent_sample}.csv')"
   ]
  },
  {
   "cell_type": "markdown",
   "id": "a6879b3d",
   "metadata": {},
   "source": [
    "### Load"
   ]
  },
  {
   "cell_type": "code",
   "execution_count": 54,
   "id": "d9487c4a",
   "metadata": {},
   "outputs": [],
   "source": [
    "df_tokens = pd.read_csv(f'data/df_tokens_{percent_sample}.csv', index_col=0)"
   ]
  },
  {
   "cell_type": "markdown",
   "id": "c4a1bdf1",
   "metadata": {},
   "source": [
    "## Tokens process"
   ]
  },
  {
   "cell_type": "code",
   "execution_count": 55,
   "id": "53edd96b",
   "metadata": {},
   "outputs": [],
   "source": [
    "def idx_text_dataframe(df_i: pd.DataFrame):\n",
    "    return pd.DataFrame(\n",
    "        df_i.iloc[:, 0].apply(lambda col: {word: idx for idx, word in enumerate(col)})\n",
    "    )\n",
    "\n",
    "\n",
    "def global_idx_text_dataframe(df_i: pd.DataFrame):\n",
    "    \"\"\"\n",
    "    Создаёт словарь {слово: индекс} для всех уникальных слов\n",
    "    из объединённой первой колонки DataFrame, сохраняя порядок появления слов.\n",
    "    Возвращает DataFrame с одним словарём в виде строки.\n",
    "    \"\"\"\n",
    "    # Объединяем все элементы из первой колонки в один список\n",
    "    all_words = sum(df_i.iloc[:, 0].tolist(), [])\n",
    "\n",
    "    # Удаляем дубликаты с сохранением порядка первого появления\n",
    "    unique_words = list(set(all_words))\n",
    "\n",
    "    # Создаём итоговый словарь {слово: индекс}\n",
    "    combined_dict = {word: idx for idx, word in enumerate(unique_words)}\n",
    "\n",
    "    return pd.DataFrame(list(combined_dict.items()), columns=[\"Word\", \"Index\"])"
   ]
  },
  {
   "cell_type": "code",
   "execution_count": 56,
   "id": "505294c4",
   "metadata": {},
   "outputs": [],
   "source": [
    "tokens = df_tokens.iloc[:, 0].to_list()\n",
    "global_vocab = sorted(set(word for sublist in df_tokens['review'] for word in sublist))\n",
    "vocab_size = len(global_vocab)\n",
    "global_word_to_idx = {word: idx for idx, word in enumerate(global_vocab)}\n",
    "global_idx_to_word = {idx: word for word, idx in global_word_to_idx.items()}"
   ]
  },
  {
   "cell_type": "markdown",
   "id": "8d4c4e9d",
   "metadata": {},
   "source": [
    "## Token preparation"
   ]
  },
  {
   "cell_type": "markdown",
   "id": "51da1ca8",
   "metadata": {},
   "source": [
    "### BoW"
   ]
  },
  {
   "cell_type": "code",
   "execution_count": 57,
   "id": "0e2b80ed",
   "metadata": {},
   "outputs": [],
   "source": [
    "X_bow, y_bow = [], []\n",
    "for tokens_list in df_tokens[\"review\"]:\n",
    "    for i in range(len(tokens_list) - window_size):\n",
    "        context = tokens_list[i : i + window_size]\n",
    "        target = tokens_list[i + window_size]\n",
    "        X_bow.append([global_word_to_idx[word] for word in context])\n",
    "        y_bow.append(global_word_to_idx[target])\n",
    "X_bow = np.array(X_bow)\n",
    "y_bow = np.array(y_bow)"
   ]
  },
  {
   "cell_type": "markdown",
   "id": "4ffd02d1",
   "metadata": {},
   "source": [
    "#### df"
   ]
  },
  {
   "cell_type": "code",
   "execution_count": 58,
   "id": "0bc710a4",
   "metadata": {},
   "outputs": [
    {
     "data": {
      "application/vnd.microsoft.datawrangler.viewer.v0+json": {
       "columns": [
        {
         "name": "index",
         "rawType": "int64",
         "type": "integer"
        },
        {
         "name": "x",
         "rawType": "object",
         "type": "unknown"
        },
        {
         "name": "y",
         "rawType": "int64",
         "type": "integer"
        }
       ],
       "conversionMethod": "pd.DataFrame",
       "ref": "69837f6e-b80d-4c7b-9d12-d0b653164c13",
       "rows": [
        [
         "0",
         "[14, 2, 29, 24, 18]",
         "20"
        ],
        [
         "1",
         "[2, 29, 24, 18, 20]",
         "2"
        ],
        [
         "2",
         "[29, 24, 18, 20, 2]",
         "3"
        ],
        [
         "3",
         "[24, 18, 20, 2, 3]",
         "0"
        ],
        [
         "4",
         "[18, 20, 2, 3, 0]",
         "2"
        ]
       ],
       "shape": {
        "columns": 2,
        "rows": 5
       }
      },
      "text/html": [
       "<div>\n",
       "<style scoped>\n",
       "    .dataframe tbody tr th:only-of-type {\n",
       "        vertical-align: middle;\n",
       "    }\n",
       "\n",
       "    .dataframe tbody tr th {\n",
       "        vertical-align: top;\n",
       "    }\n",
       "\n",
       "    .dataframe thead th {\n",
       "        text-align: right;\n",
       "    }\n",
       "</style>\n",
       "<table border=\"1\" class=\"dataframe\">\n",
       "  <thead>\n",
       "    <tr style=\"text-align: right;\">\n",
       "      <th></th>\n",
       "      <th>x</th>\n",
       "      <th>y</th>\n",
       "    </tr>\n",
       "  </thead>\n",
       "  <tbody>\n",
       "    <tr>\n",
       "      <th>0</th>\n",
       "      <td>[14, 2, 29, 24, 18]</td>\n",
       "      <td>20</td>\n",
       "    </tr>\n",
       "    <tr>\n",
       "      <th>1</th>\n",
       "      <td>[2, 29, 24, 18, 20]</td>\n",
       "      <td>2</td>\n",
       "    </tr>\n",
       "    <tr>\n",
       "      <th>2</th>\n",
       "      <td>[29, 24, 18, 20, 2]</td>\n",
       "      <td>3</td>\n",
       "    </tr>\n",
       "    <tr>\n",
       "      <th>3</th>\n",
       "      <td>[24, 18, 20, 2, 3]</td>\n",
       "      <td>0</td>\n",
       "    </tr>\n",
       "    <tr>\n",
       "      <th>4</th>\n",
       "      <td>[18, 20, 2, 3, 0]</td>\n",
       "      <td>2</td>\n",
       "    </tr>\n",
       "  </tbody>\n",
       "</table>\n",
       "</div>"
      ],
      "text/plain": [
       "                     x   y\n",
       "0  [14, 2, 29, 24, 18]  20\n",
       "1  [2, 29, 24, 18, 20]   2\n",
       "2  [29, 24, 18, 20, 2]   3\n",
       "3   [24, 18, 20, 2, 3]   0\n",
       "4    [18, 20, 2, 3, 0]   2"
      ]
     },
     "execution_count": 58,
     "metadata": {},
     "output_type": "execute_result"
    }
   ],
   "source": [
    "df_bow = pd.DataFrame({\"x\": X_bow.tolist(), \"y\": y_bow.tolist()})\n",
    "df_bow.head()"
   ]
  },
  {
   "cell_type": "markdown",
   "id": "ea35131b",
   "metadata": {},
   "source": [
    "### N-gram"
   ]
  },
  {
   "cell_type": "code",
   "execution_count": 59,
   "id": "7818be16",
   "metadata": {},
   "outputs": [],
   "source": [
    "X_ngram, y_ngram = [], []\n",
    "for tokens_list in df_tokens[\"review\"]:\n",
    "    for i in range(len(tokens_list) - n_gram + 1):\n",
    "        ngram = tokens_list[i : i + n_gram]\n",
    "        X_ngram.append([global_word_to_idx[word] for word in ngram[:-1]])\n",
    "        y_ngram.append(global_word_to_idx[ngram[-1]])\n",
    "X_ngram = np.array(X_ngram)\n",
    "y_ngram = np.array(y_ngram)"
   ]
  },
  {
   "cell_type": "markdown",
   "id": "387d30a5",
   "metadata": {},
   "source": [
    "#### df"
   ]
  },
  {
   "cell_type": "code",
   "execution_count": 60,
   "id": "e59df1ce",
   "metadata": {},
   "outputs": [
    {
     "data": {
      "application/vnd.microsoft.datawrangler.viewer.v0+json": {
       "columns": [
        {
         "name": "index",
         "rawType": "int64",
         "type": "integer"
        },
        {
         "name": "x",
         "rawType": "object",
         "type": "unknown"
        },
        {
         "name": "y",
         "rawType": "int64",
         "type": "integer"
        }
       ],
       "conversionMethod": "pd.DataFrame",
       "ref": "7b60f2fa-6c62-4ba2-8ad9-f22aa6e61e14",
       "rows": [
        [
         "0",
         "[14, 2, 29]",
         "24"
        ],
        [
         "1",
         "[2, 29, 24]",
         "18"
        ],
        [
         "2",
         "[29, 24, 18]",
         "20"
        ],
        [
         "3",
         "[24, 18, 20]",
         "2"
        ],
        [
         "4",
         "[18, 20, 2]",
         "3"
        ]
       ],
       "shape": {
        "columns": 2,
        "rows": 5
       }
      },
      "text/html": [
       "<div>\n",
       "<style scoped>\n",
       "    .dataframe tbody tr th:only-of-type {\n",
       "        vertical-align: middle;\n",
       "    }\n",
       "\n",
       "    .dataframe tbody tr th {\n",
       "        vertical-align: top;\n",
       "    }\n",
       "\n",
       "    .dataframe thead th {\n",
       "        text-align: right;\n",
       "    }\n",
       "</style>\n",
       "<table border=\"1\" class=\"dataframe\">\n",
       "  <thead>\n",
       "    <tr style=\"text-align: right;\">\n",
       "      <th></th>\n",
       "      <th>x</th>\n",
       "      <th>y</th>\n",
       "    </tr>\n",
       "  </thead>\n",
       "  <tbody>\n",
       "    <tr>\n",
       "      <th>0</th>\n",
       "      <td>[14, 2, 29]</td>\n",
       "      <td>24</td>\n",
       "    </tr>\n",
       "    <tr>\n",
       "      <th>1</th>\n",
       "      <td>[2, 29, 24]</td>\n",
       "      <td>18</td>\n",
       "    </tr>\n",
       "    <tr>\n",
       "      <th>2</th>\n",
       "      <td>[29, 24, 18]</td>\n",
       "      <td>20</td>\n",
       "    </tr>\n",
       "    <tr>\n",
       "      <th>3</th>\n",
       "      <td>[24, 18, 20]</td>\n",
       "      <td>2</td>\n",
       "    </tr>\n",
       "    <tr>\n",
       "      <th>4</th>\n",
       "      <td>[18, 20, 2]</td>\n",
       "      <td>3</td>\n",
       "    </tr>\n",
       "  </tbody>\n",
       "</table>\n",
       "</div>"
      ],
      "text/plain": [
       "              x   y\n",
       "0   [14, 2, 29]  24\n",
       "1   [2, 29, 24]  18\n",
       "2  [29, 24, 18]  20\n",
       "3  [24, 18, 20]   2\n",
       "4   [18, 20, 2]   3"
      ]
     },
     "execution_count": 60,
     "metadata": {},
     "output_type": "execute_result"
    }
   ],
   "source": [
    "df_ngram = pd.DataFrame({\"x\": X_ngram.tolist(), \"y\": y_ngram.tolist()})\n",
    "df_ngram.head()"
   ]
  },
  {
   "cell_type": "markdown",
   "id": "27e5f34b",
   "metadata": {},
   "source": [
    "## Data split"
   ]
  },
  {
   "cell_type": "code",
   "execution_count": 61,
   "id": "e24be8e2",
   "metadata": {},
   "outputs": [],
   "source": [
    "X_train_bow, X_test_bow, y_train_bow, y_test_bow = train_test_split(\n",
    "    X_bow, y_bow, test_size=0.2, random_state=random_state\n",
    ")"
   ]
  },
  {
   "cell_type": "code",
   "execution_count": 62,
   "id": "e48c59cb",
   "metadata": {},
   "outputs": [],
   "source": [
    "X_train_ng, X_test_ng, y_train_ng, y_test_ng = train_test_split(\n",
    "    X_ngram, y_ngram, test_size=0.2, random_state=random_state\n",
    ")"
   ]
  },
  {
   "cell_type": "code",
   "execution_count": 63,
   "id": "bd8c25c6",
   "metadata": {},
   "outputs": [
    {
     "data": {
      "text/plain": [
       "(array([0, 2, 5]), np.int64(8))"
      ]
     },
     "execution_count": 63,
     "metadata": {},
     "output_type": "execute_result"
    }
   ],
   "source": [
    "X_train_ng[0], y_train_ng[0]"
   ]
  },
  {
   "cell_type": "code",
   "execution_count": 64,
   "id": "ffba1ca4",
   "metadata": {},
   "outputs": [
    {
     "data": {
      "text/plain": [
       "((18008, 3), (18008,))"
      ]
     },
     "execution_count": 64,
     "metadata": {},
     "output_type": "execute_result"
    }
   ],
   "source": [
    "X_train_ng.shape, y_train_ng.shape"
   ]
  },
  {
   "cell_type": "code",
   "execution_count": 65,
   "id": "e2475872",
   "metadata": {},
   "outputs": [
    {
     "data": {
      "text/plain": [
       "(array([ 2, 27, 30]), np.int64(37))"
      ]
     },
     "execution_count": 65,
     "metadata": {},
     "output_type": "execute_result"
    }
   ],
   "source": [
    "X_test_ng[0], y_test_ng[0]\n"
   ]
  },
  {
   "cell_type": "code",
   "execution_count": 66,
   "id": "b8717290",
   "metadata": {},
   "outputs": [
    {
     "data": {
      "text/plain": [
       "((4503, 3), (4503,))"
      ]
     },
     "execution_count": 66,
     "metadata": {},
     "output_type": "execute_result"
    }
   ],
   "source": [
    "X_test_ng.shape, y_test_ng.shape"
   ]
  },
  {
   "cell_type": "code",
   "execution_count": 67,
   "id": "5303e6c5",
   "metadata": {},
   "outputs": [
    {
     "data": {
      "text/plain": [
       "(array([26, 24, 29, 22,  2]), np.int64(3))"
      ]
     },
     "execution_count": 67,
     "metadata": {},
     "output_type": "execute_result"
    }
   ],
   "source": [
    "X_train_bow[0], y_train_bow[0]"
   ]
  },
  {
   "cell_type": "code",
   "execution_count": 68,
   "id": "bcc4017a",
   "metadata": {},
   "outputs": [
    {
     "data": {
      "text/plain": [
       "((17800, 5), (17800,))"
      ]
     },
     "execution_count": 68,
     "metadata": {},
     "output_type": "execute_result"
    }
   ],
   "source": [
    "X_train_bow.shape, y_train_bow.shape"
   ]
  },
  {
   "cell_type": "code",
   "execution_count": 69,
   "id": "91c5952f",
   "metadata": {},
   "outputs": [
    {
     "data": {
      "text/plain": [
       "(array([34,  2,  3,  0,  2]), np.int64(31))"
      ]
     },
     "execution_count": 69,
     "metadata": {},
     "output_type": "execute_result"
    }
   ],
   "source": [
    "X_test_bow[0], y_test_bow[0]\n"
   ]
  },
  {
   "cell_type": "code",
   "execution_count": 70,
   "id": "4df418d5",
   "metadata": {},
   "outputs": [
    {
     "data": {
      "text/plain": [
       "((4451, 5), (4451,))"
      ]
     },
     "execution_count": 70,
     "metadata": {},
     "output_type": "execute_result"
    }
   ],
   "source": [
    "X_test_bow.shape, y_test_bow.shape"
   ]
  },
  {
   "cell_type": "markdown",
   "id": "fbec78ff",
   "metadata": {},
   "source": [
    "# Models"
   ]
  },
  {
   "cell_type": "markdown",
   "id": "35922487",
   "metadata": {},
   "source": [
    "## Funcs"
   ]
  },
  {
   "cell_type": "code",
   "execution_count": 71,
   "id": "3fb9d309",
   "metadata": {},
   "outputs": [],
   "source": [
    "def plot_results(history, title):\n",
    "    plt.figure(figsize=(12, 4))\n",
    "\n",
    "    plt.subplot(1, 2, 1)\n",
    "    plt.plot(history.history[\"accuracy\"], label=\"Train Accuracy\")\n",
    "    plt.plot(history.history[\"val_accuracy\"], label=\"Test Accuracy\")\n",
    "    plt.title(f\"{title} - Accuracy\")\n",
    "    plt.xlabel(\"Epoch\")\n",
    "    plt.ylabel(\"Accuracy\")\n",
    "    plt.legend()\n",
    "\n",
    "    plt.subplot(1, 2, 2)\n",
    "    plt.plot(history.history[\"loss\"], label=\"Train Loss\")\n",
    "    plt.plot(history.history[\"val_loss\"], label=\"Test Loss\")\n",
    "    plt.title(f\"{title} - Loss\")\n",
    "    plt.xlabel(\"Epoch\")\n",
    "    plt.ylabel(\"Loss\")\n",
    "    plt.legend()\n",
    "\n",
    "    plt.show()"
   ]
  },
  {
   "cell_type": "code",
   "execution_count": 82,
   "id": "fbcc04da",
   "metadata": {},
   "outputs": [],
   "source": [
    "def evaluate_model(model, X_test, y_test):\n",
    "    y_pred = model.predict(X_test)\n",
    "    y_pred_classes = np.argmax(y_pred, axis=1)\n",
    "    print(classification_report(y_test, y_pred_classes, zero_division=0))"
   ]
  },
  {
   "cell_type": "markdown",
   "id": "a4e1e528",
   "metadata": {},
   "source": [
    "## Model preparing"
   ]
  },
  {
   "cell_type": "code",
   "execution_count": 73,
   "id": "74da384c",
   "metadata": {},
   "outputs": [],
   "source": [
    "class TransformerEncoder(tf.keras.layers.Layer):\n",
    "    def __init__(self, embed_dim, num_heads, ff_dim, rate=0.1):\n",
    "        super().__init__()\n",
    "        self.att = MultiHeadAttention(num_heads=num_heads, key_dim=embed_dim)\n",
    "        self.ffn = tf.keras.Sequential([\n",
    "            Dense(ff_dim, activation=\"relu\"),\n",
    "            Dense(embed_dim),\n",
    "        ])\n",
    "        self.layernorm1 = LayerNormalization(epsilon=1e-6)\n",
    "        self.layernorm2 = LayerNormalization(epsilon=1e-6)\n",
    "        self.dropout1 = Dropout(rate)\n",
    "        self.dropout2 = Dropout(rate)\n",
    "\n",
    "    def call(self, inputs, training=False):\n",
    "        attn_output = self.att(inputs, inputs)\n",
    "        attn_output = self.dropout1(attn_output, training=training)\n",
    "        out1 = self.layernorm1(inputs + attn_output)\n",
    "        ffn_output = self.ffn(out1)\n",
    "        ffn_output = self.dropout2(ffn_output, training=training)\n",
    "        return self.layernorm2(out1 + ffn_output)\n",
    "\n",
    "def build_transformer_model(vocab_size, seq_length, embed_dim=64, num_heads=2, ff_dim=128, num_layers=1):\n",
    "    inputs = Input(shape=(seq_length,))\n",
    "    embedding = Embedding(vocab_size, embed_dim)(inputs)\n",
    "    \n",
    "    # Позиционное кодирование через Embedding\n",
    "    positions = tf.range(start=0, limit=seq_length, delta=1)\n",
    "    position_embedding = Embedding(seq_length, embed_dim)(positions)\n",
    "    x = embedding + position_embedding\n",
    "    \n",
    "    for _ in range(num_layers):\n",
    "        x = TransformerEncoder(embed_dim, num_heads, ff_dim)(x)\n",
    "    \n",
    "    x = GlobalAveragePooling1D()(x)\n",
    "    outputs = Dense(vocab_size, activation=\"softmax\")(x)\n",
    "    \n",
    "    model = Model(inputs=inputs, outputs=outputs)\n",
    "    model.compile(optimizer=\"adam\", loss=\"sparse_categorical_crossentropy\", metrics=[\"accuracy\"])\n",
    "    return model"
   ]
  },
  {
   "cell_type": "markdown",
   "id": "11324f8e",
   "metadata": {},
   "source": [
    "## Model training"
   ]
  },
  {
   "cell_type": "markdown",
   "id": "659495b1",
   "metadata": {},
   "source": [
    "### BoW"
   ]
  },
  {
   "cell_type": "code",
   "execution_count": 74,
   "id": "2db6a1d4",
   "metadata": {},
   "outputs": [
    {
     "name": "stdout",
     "output_type": "stream",
     "text": [
      "WARNING:tensorflow:From d:\\PyInterpreters\\Big_data\\lib\\site-packages\\keras\\src\\backend\\tensorflow\\core.py:222: The name tf.placeholder is deprecated. Please use tf.compat.v1.placeholder instead.\n",
      "\n"
     ]
    }
   ],
   "source": [
    "model_bow = build_transformer_model(vocab_size, window_size)"
   ]
  },
  {
   "cell_type": "code",
   "execution_count": 75,
   "id": "0c540134",
   "metadata": {},
   "outputs": [
    {
     "name": "stdout",
     "output_type": "stream",
     "text": [
      "Epoch 1/10\n",
      "\u001b[1m557/557\u001b[0m \u001b[32m━━━━━━━━━━━━━━━━━━━━\u001b[0m\u001b[37m\u001b[0m \u001b[1m9s\u001b[0m 5ms/step - accuracy: 0.3984 - loss: 2.3255 - val_accuracy: 0.5453 - val_loss: 1.6102\n",
      "Epoch 2/10\n",
      "\u001b[1m557/557\u001b[0m \u001b[32m━━━━━━━━━━━━━━━━━━━━\u001b[0m\u001b[37m\u001b[0m \u001b[1m3s\u001b[0m 5ms/step - accuracy: 0.5479 - loss: 1.5871 - val_accuracy: 0.5801 - val_loss: 1.4887\n",
      "Epoch 3/10\n",
      "\u001b[1m557/557\u001b[0m \u001b[32m━━━━━━━━━━━━━━━━━━━━\u001b[0m\u001b[37m\u001b[0m \u001b[1m3s\u001b[0m 5ms/step - accuracy: 0.5775 - loss: 1.4804 - val_accuracy: 0.5891 - val_loss: 1.4456\n",
      "Epoch 4/10\n",
      "\u001b[1m557/557\u001b[0m \u001b[32m━━━━━━━━━━━━━━━━━━━━\u001b[0m\u001b[37m\u001b[0m \u001b[1m3s\u001b[0m 5ms/step - accuracy: 0.5887 - loss: 1.4271 - val_accuracy: 0.6118 - val_loss: 1.3762\n",
      "Epoch 5/10\n",
      "\u001b[1m557/557\u001b[0m \u001b[32m━━━━━━━━━━━━━━━━━━━━\u001b[0m\u001b[37m\u001b[0m \u001b[1m3s\u001b[0m 5ms/step - accuracy: 0.6041 - loss: 1.3542 - val_accuracy: 0.6181 - val_loss: 1.3533\n",
      "Epoch 6/10\n",
      "\u001b[1m557/557\u001b[0m \u001b[32m━━━━━━━━━━━━━━━━━━━━\u001b[0m\u001b[37m\u001b[0m \u001b[1m3s\u001b[0m 5ms/step - accuracy: 0.6135 - loss: 1.3424 - val_accuracy: 0.6271 - val_loss: 1.3149\n",
      "Epoch 7/10\n",
      "\u001b[1m557/557\u001b[0m \u001b[32m━━━━━━━━━━━━━━━━━━━━\u001b[0m\u001b[37m\u001b[0m \u001b[1m3s\u001b[0m 5ms/step - accuracy: 0.6196 - loss: 1.2895 - val_accuracy: 0.6369 - val_loss: 1.2701\n",
      "Epoch 8/10\n",
      "\u001b[1m557/557\u001b[0m \u001b[32m━━━━━━━━━━━━━━━━━━━━\u001b[0m\u001b[37m\u001b[0m \u001b[1m3s\u001b[0m 5ms/step - accuracy: 0.6242 - loss: 1.2776 - val_accuracy: 0.6401 - val_loss: 1.2757\n",
      "Epoch 9/10\n",
      "\u001b[1m557/557\u001b[0m \u001b[32m━━━━━━━━━━━━━━━━━━━━\u001b[0m\u001b[37m\u001b[0m \u001b[1m3s\u001b[0m 5ms/step - accuracy: 0.6374 - loss: 1.2349 - val_accuracy: 0.6518 - val_loss: 1.2370\n",
      "Epoch 10/10\n",
      "\u001b[1m557/557\u001b[0m \u001b[32m━━━━━━━━━━━━━━━━━━━━\u001b[0m\u001b[37m\u001b[0m \u001b[1m3s\u001b[0m 5ms/step - accuracy: 0.6412 - loss: 1.2111 - val_accuracy: 0.6509 - val_loss: 1.2204\n"
     ]
    }
   ],
   "source": [
    "history_bow = model_bow.fit(\n",
    "    X_train_bow,\n",
    "    y_train_bow,\n",
    "    validation_data=(X_test_bow, y_test_bow),\n",
    "    epochs=10,\n",
    "    batch_size=32,\n",
    ")"
   ]
  },
  {
   "cell_type": "code",
   "execution_count": 76,
   "id": "c8b48339",
   "metadata": {},
   "outputs": [
    {
     "data": {
      "image/png": "[encoded data removed]",
      "text/plain": [
       "<Figure size 1200x400 with 2 Axes>"
      ]
     },
     "metadata": {},
     "output_type": "display_data"
    }
   ],
   "source": [
    "plot_results(history_bow, \"BoW Transformer\")"
   ]
  },
  {
   "cell_type": "code",
   "execution_count": 83,
   "id": "839e372e",
   "metadata": {},
   "outputs": [
    {
     "name": "stdout",
     "output_type": "stream",
     "text": [
      "\u001b[1m140/140\u001b[0m \u001b[32m━━━━━━━━━━━━━━━━━━━━\u001b[0m\u001b[37m\u001b[0m \u001b[1m0s\u001b[0m 2ms/step\n",
      "              precision    recall  f1-score   support\n",
      "\n",
      "           0       1.00      1.00      1.00       447\n",
      "           1       1.00      0.33      0.50         3\n",
      "           2       0.80      0.95      0.87       946\n",
      "           3       0.93      1.00      0.96       446\n",
      "           4       0.00      0.00      0.00        11\n",
      "           5       0.00      0.00      0.00        14\n",
      "           6       0.00      0.00      0.00         5\n",
      "           7       0.00      0.00      0.00         8\n",
      "           8       0.00      0.00      0.00         2\n",
      "           9       0.00      0.00      0.00         7\n",
      "          10       0.00      0.00      0.00        10\n",
      "          11       0.00      0.00      0.00         2\n",
      "          15       0.00      0.00      0.00        32\n",
      "          16       0.66      0.47      0.55       198\n",
      "          17       0.07      0.20      0.11        49\n",
      "          18       0.43      0.32      0.37       103\n",
      "          19       0.34      0.35      0.34       106\n",
      "          20       0.61      0.58      0.59       288\n",
      "          21       0.57      0.27      0.36        45\n",
      "          22       0.49      0.41      0.44       106\n",
      "          23       0.69      0.42      0.52        53\n",
      "          24       0.43      0.32      0.37       142\n",
      "          25       0.00      0.00      0.00         1\n",
      "          26       0.76      0.47      0.58        53\n",
      "          27       0.40      0.30      0.34       122\n",
      "          28       0.34      0.44      0.38        63\n",
      "          29       0.45      0.71      0.55       143\n",
      "          30       0.54      0.57      0.55       198\n",
      "          31       0.24      0.52      0.33       123\n",
      "          32       0.00      0.00      0.00        10\n",
      "          33       0.46      0.56      0.50       149\n",
      "          34       0.56      0.23      0.33       171\n",
      "          35       0.57      0.55      0.56       165\n",
      "          36       0.69      0.24      0.35        92\n",
      "          37       0.00      0.00      0.00        31\n",
      "          38       0.23      0.20      0.21        40\n",
      "          39       0.00      0.00      0.00         4\n",
      "          40       0.82      0.53      0.65        58\n",
      "          41       0.00      0.00      0.00         5\n",
      "\n",
      "    accuracy                           0.65      4451\n",
      "   macro avg       0.36      0.31      0.32      4451\n",
      "weighted avg       0.65      0.65      0.64      4451\n",
      "\n"
     ]
    }
   ],
   "source": [
    "evaluate_model(model_bow, X_test_bow, y_test_bow)"
   ]
  },
  {
   "cell_type": "code",
   "execution_count": 87,
   "id": "01f310de",
   "metadata": {},
   "outputs": [],
   "source": [
    "model_bow.save(f\"models/bow_{percent_sample}.keras\")"
   ]
  },
  {
   "cell_type": "markdown",
   "id": "b8c691eb",
   "metadata": {},
   "source": [
    "### Ngram"
   ]
  },
  {
   "cell_type": "code",
   "execution_count": 77,
   "id": "a102b2d5",
   "metadata": {},
   "outputs": [],
   "source": [
    "model_ngram = build_transformer_model(vocab_size, n_gram-1)"
   ]
  },
  {
   "cell_type": "code",
   "execution_count": 78,
   "id": "25f44520",
   "metadata": {},
   "outputs": [
    {
     "name": "stdout",
     "output_type": "stream",
     "text": [
      "Epoch 1/10\n",
      "\u001b[1m563/563\u001b[0m \u001b[32m━━━━━━━━━━━━━━━━━━━━\u001b[0m\u001b[37m\u001b[0m \u001b[1m5s\u001b[0m 5ms/step - accuracy: 0.4240 - loss: 2.1995 - val_accuracy: 0.5496 - val_loss: 1.6273\n",
      "Epoch 2/10\n",
      "\u001b[1m563/563\u001b[0m \u001b[32m━━━━━━━━━━━━━━━━━━━━\u001b[0m\u001b[37m\u001b[0m \u001b[1m3s\u001b[0m 5ms/step - accuracy: 0.5546 - loss: 1.5765 - val_accuracy: 0.5754 - val_loss: 1.5095\n",
      "Epoch 3/10\n",
      "\u001b[1m563/563\u001b[0m \u001b[32m━━━━━━━━━━━━━━━━━━━━\u001b[0m\u001b[37m\u001b[0m \u001b[1m3s\u001b[0m 5ms/step - accuracy: 0.5802 - loss: 1.4822 - val_accuracy: 0.5963 - val_loss: 1.4198\n",
      "Epoch 4/10\n",
      "\u001b[1m563/563\u001b[0m \u001b[32m━━━━━━━━━━━━━━━━━━━━\u001b[0m\u001b[37m\u001b[0m \u001b[1m3s\u001b[0m 5ms/step - accuracy: 0.5941 - loss: 1.4233 - val_accuracy: 0.6020 - val_loss: 1.3812\n",
      "Epoch 5/10\n",
      "\u001b[1m563/563\u001b[0m \u001b[32m━━━━━━━━━━━━━━━━━━━━\u001b[0m\u001b[37m\u001b[0m \u001b[1m3s\u001b[0m 5ms/step - accuracy: 0.6109 - loss: 1.3481 - val_accuracy: 0.6160 - val_loss: 1.3580\n",
      "Epoch 6/10\n",
      "\u001b[1m563/563\u001b[0m \u001b[32m━━━━━━━━━━━━━━━━━━━━\u001b[0m\u001b[37m\u001b[0m \u001b[1m3s\u001b[0m 5ms/step - accuracy: 0.6146 - loss: 1.3233 - val_accuracy: 0.6194 - val_loss: 1.3062\n",
      "Epoch 7/10\n",
      "\u001b[1m563/563\u001b[0m \u001b[32m━━━━━━━━━━━━━━━━━━━━\u001b[0m\u001b[37m\u001b[0m \u001b[1m3s\u001b[0m 5ms/step - accuracy: 0.6221 - loss: 1.2952 - val_accuracy: 0.6247 - val_loss: 1.3091\n",
      "Epoch 8/10\n",
      "\u001b[1m563/563\u001b[0m \u001b[32m━━━━━━━━━━━━━━━━━━━━\u001b[0m\u001b[37m\u001b[0m \u001b[1m3s\u001b[0m 4ms/step - accuracy: 0.6263 - loss: 1.2818 - val_accuracy: 0.6262 - val_loss: 1.2886\n",
      "Epoch 9/10\n",
      "\u001b[1m563/563\u001b[0m \u001b[32m━━━━━━━━━━━━━━━━━━━━\u001b[0m\u001b[37m\u001b[0m \u001b[1m3s\u001b[0m 5ms/step - accuracy: 0.6377 - loss: 1.2415 - val_accuracy: 0.6271 - val_loss: 1.2666\n",
      "Epoch 10/10\n",
      "\u001b[1m563/563\u001b[0m \u001b[32m━━━━━━━━━━━━━━━━━━━━\u001b[0m\u001b[37m\u001b[0m \u001b[1m3s\u001b[0m 5ms/step - accuracy: 0.6432 - loss: 1.2217 - val_accuracy: 0.6396 - val_loss: 1.2514\n"
     ]
    }
   ],
   "source": [
    "history_ngram = model_ngram.fit(\n",
    "    X_train_ng, y_train_ng,\n",
    "    validation_data=(X_test_ng, y_test_ng),\n",
    "    epochs=10,\n",
    "    batch_size=32\n",
    ")"
   ]
  },
  {
   "cell_type": "code",
   "execution_count": 79,
   "id": "a4e9f40f",
   "metadata": {},
   "outputs": [
    {
     "data": {
      "image/png": "[encoded data removed]",
      "text/plain": [
       "<Figure size 1200x400 with 2 Axes>"
      ]
     },
     "metadata": {},
     "output_type": "display_data"
    }
   ],
   "source": [
    "plot_results(history_ngram, 'N-gram Transformer')"
   ]
  },
  {
   "cell_type": "code",
   "execution_count": 84,
   "id": "4ff57d0f",
   "metadata": {},
   "outputs": [
    {
     "name": "stdout",
     "output_type": "stream",
     "text": [
      "\u001b[1m141/141\u001b[0m \u001b[32m━━━━━━━━━━━━━━━━━━━━\u001b[0m\u001b[37m\u001b[0m \u001b[1m0s\u001b[0m 2ms/step\n",
      "              precision    recall  f1-score   support\n",
      "\n",
      "           0       1.00      1.00      1.00       446\n",
      "           1       0.00      0.00      0.00         1\n",
      "           2       0.78      0.93      0.85       923\n",
      "           3       0.92      1.00      0.96       448\n",
      "           4       0.50      0.20      0.29         5\n",
      "           5       0.00      0.00      0.00        13\n",
      "           6       1.00      0.08      0.14        13\n",
      "           7       0.00      0.00      0.00         5\n",
      "           8       0.00      0.00      0.00         3\n",
      "           9       0.00      0.00      0.00         7\n",
      "          10       0.00      0.00      0.00         6\n",
      "          11       0.00      0.00      0.00         3\n",
      "          12       0.00      0.00      0.00         1\n",
      "          13       0.00      0.00      0.00         1\n",
      "          15       0.00      0.00      0.00        36\n",
      "          16       0.42      0.45      0.43       177\n",
      "          17       0.38      0.06      0.11        48\n",
      "          18       0.59      0.33      0.42       104\n",
      "          19       0.62      0.47      0.53       113\n",
      "          20       0.71      0.55      0.62       297\n",
      "          21       0.57      0.34      0.43        47\n",
      "          22       0.63      0.45      0.53        91\n",
      "          23       0.86      0.43      0.57        58\n",
      "          24       0.37      0.41      0.39       179\n",
      "          25       0.00      0.00      0.00         2\n",
      "          26       1.00      0.07      0.14        41\n",
      "          27       0.70      0.24      0.35       139\n",
      "          28       0.59      0.52      0.55        62\n",
      "          29       0.65      0.56      0.60       124\n",
      "          30       0.55      0.53      0.54       225\n",
      "          31       0.19      0.78      0.31       134\n",
      "          32       0.00      0.00      0.00        10\n",
      "          33       0.57      0.51      0.54       178\n",
      "          34       0.40      0.21      0.27       184\n",
      "          35       0.40      0.50      0.44       175\n",
      "          36       0.61      0.29      0.39        76\n",
      "          37       0.21      0.14      0.17        29\n",
      "          38       0.25      0.10      0.14        31\n",
      "          39       0.50      0.71      0.59         7\n",
      "          40       0.49      0.38      0.43        60\n",
      "          41       1.00      1.00      1.00         1\n",
      "\n",
      "    accuracy                           0.64      4503\n",
      "   macro avg       0.43      0.32      0.33      4503\n",
      "weighted avg       0.66      0.64      0.63      4503\n",
      "\n"
     ]
    }
   ],
   "source": [
    "evaluate_model(model_ngram, X_test_ng, y_test_ng)"
   ]
  },
  {
   "cell_type": "code",
   "execution_count": 86,
   "id": "0f0605b2",
   "metadata": {},
   "outputs": [],
   "source": [
    "model_ngram.save(f\"models/ng_{percent_sample}.keras\")"
   ]
  },
  {
   "cell_type": "code",
   "execution_count": null,
   "id": "f2b59a91",
   "metadata": {},
   "outputs": [],
   "source": []
  }
 ],
 "metadata": {
  "kernelspec": {
   "display_name": "Big_data",
   "language": "python",
   "name": "python3"
  },
  "language_info": {
   "codemirror_mode": {
    "name": "ipython",
    "version": 3
   },
   "file_extension": ".py",
   "mimetype": "text/x-python",
   "name": "python",
   "nbconvert_exporter": "python",
   "pygments_lexer": "ipython3",
   "version": "3.10.2"
  }
 },
 "nbformat": 4,
 "nbformat_minor": 5
}
