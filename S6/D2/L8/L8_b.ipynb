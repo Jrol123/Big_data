{
  "cells": [
    {
      "cell_type": "markdown",
      "id": "6cd1275e",
      "metadata": {
        "id": "6cd1275e"
      },
      "source": [
        "# Imports"
      ]
    },
    {
      "cell_type": "code",
      "execution_count": 22,
      "id": "7e4a7ca8",
      "metadata": {
        "id": "7e4a7ca8"
      },
      "outputs": [],
      "source": [
        "import os\n",
        "import time"
      ]
    },
    {
      "cell_type": "code",
      "execution_count": 23,
      "id": "bcdba088",
      "metadata": {
        "id": "bcdba088"
      },
      "outputs": [],
      "source": [
        "import numpy as np\n",
        "import matplotlib.pyplot as plt"
      ]
    },
    {
      "cell_type": "code",
      "execution_count": 24,
      "id": "1d4ec862",
      "metadata": {
        "id": "1d4ec862"
      },
      "outputs": [],
      "source": [
        "import tensorflow as tf\n",
        "from keras import layers, Model, Sequential, callbacks, losses, optimizers, datasets"
      ]
    },
    {
      "cell_type": "code",
      "execution_count": 25,
      "id": "660b78c5",
      "metadata": {
        "id": "660b78c5"
      },
      "outputs": [],
      "source": [
        "import warnings\n",
        "from IPython import display\n",
        "warnings.simplefilter(\"ignore\")"
      ]
    },
    {
      "cell_type": "markdown",
      "id": "f72183fa",
      "metadata": {
        "id": "f72183fa"
      },
      "source": [
        "# Vars"
      ]
    },
    {
      "cell_type": "code",
      "execution_count": 26,
      "id": "efca1eca",
      "metadata": {
        "id": "efca1eca"
      },
      "outputs": [],
      "source": [
        "LATENT_DIM = int(10e1)\n",
        "BATCH_SIZE = 2**5\n",
        "BUFFER_SIZE = 100000\n",
        "EPOCHS = 100"
      ]
    },
    {
      "cell_type": "markdown",
      "id": "8f51bad4",
      "metadata": {
        "id": "8f51bad4"
      },
      "source": [
        "# Data Loading"
      ]
    },
    {
      "cell_type": "code",
      "execution_count": 27,
      "id": "f57a7b66",
      "metadata": {
        "id": "f57a7b66"
      },
      "outputs": [],
      "source": [
        "(train_images, train_labels), (_, _) = datasets.mnist.load_data()\n",
        "\n",
        "train_images = train_images.reshape(train_images.shape[0], 28, 28, 1).astype(\"float32\")\n",
        "train_images = (train_images) / 255.0\n",
        "\n",
        "train_dataset = (\n",
        "    tf.data.Dataset.from_tensor_slices(train_images)\n",
        "    .shuffle(BUFFER_SIZE)\n",
        "    .batch(BATCH_SIZE)\n",
        ")"
      ]
    },
    {
      "cell_type": "code",
      "execution_count": 28,
      "id": "2db21e75",
      "metadata": {
        "colab": {
          "base_uri": "https://localhost:8080/"
        },
        "id": "2db21e75",
        "outputId": "e4aa5353-7f0b-41a0-ce60-550980fcecc4"
      },
      "outputs": [
        {
          "data": {
            "text/plain": [
              "(60000, 28, 28, 1)"
            ]
          },
          "execution_count": 28,
          "metadata": {},
          "output_type": "execute_result"
        }
      ],
      "source": [
        "train_images.shape"
      ]
    },
    {
      "cell_type": "markdown",
      "id": "9950cc4f",
      "metadata": {
        "id": "9950cc4f"
      },
      "source": [
        "# Generator"
      ]
    },
    {
      "cell_type": "code",
      "execution_count": 29,
      "id": "434faba5",
      "metadata": {
        "id": "434faba5"
      },
      "outputs": [],
      "source": [
        "class Generator(Model):\n",
        "    \"\"\"\n",
        "    Генератор Keras. Принимает тензор размерности (batch_size, LATENT_DIM)\n",
        "\n",
        "    Цель - генерировать изображения, неотличимые от настоящих цифр MNIST\n",
        "    \"\"\"\n",
        "\n",
        "    def __init__(self):\n",
        "        super(Generator, self).__init__()\n",
        "\n",
        "        # Последовательность слоев\n",
        "        self.dense_blocks = Sequential(\n",
        "            [\n",
        "                layers.Dense(7 * 7 * 256, use_bias=False, input_shape=(LATENT_DIM,)),\n",
        "                layers.BatchNormalization(),\n",
        "                layers.ReLU(),\n",
        "\n",
        "                layers.Reshape((7, 7, 256)),\n",
        "\n",
        "                layers.Conv2DTranspose(\n",
        "                    128, (5, 5), strides=(1, 1), padding=\"same\", use_bias=False\n",
        "                ),\n",
        "                layers.BatchNormalization(),\n",
        "                layers.ReLU(),\n",
        "\n",
        "                layers.Conv2DTranspose(\n",
        "                    64, (5, 5), strides=(2, 2), padding=\"same\", use_bias=False\n",
        "                ),\n",
        "                layers.BatchNormalization(),\n",
        "                layers.ReLU(),\n",
        "\n",
        "                layers.Conv2DTranspose(\n",
        "                    1,\n",
        "                    (5, 5),\n",
        "                    strides=(2, 2),\n",
        "                    padding=\"same\",\n",
        "                    use_bias=False,\n",
        "                    activation=\"sigmoid\",\n",
        "                ),\n",
        "            ]\n",
        "        )\n",
        "\n",
        "    def call(self, inputs):\n",
        "        return self.dense_blocks(inputs)"
      ]
    },
    {
      "cell_type": "code",
      "execution_count": 30,
      "id": "1861f11c",
      "metadata": {
        "colab": {
          "base_uri": "https://localhost:8080/",
          "height": 268
        },
        "id": "1861f11c",
        "outputId": "28e62372-6ea8-43a9-d466-1cb87d679eba"
      },
      "outputs": [
        {
          "data": {
            "image/png": "[encoded data removed]",
            "text/plain": [
              "<Figure size 300x300 with 1 Axes>"
            ]
          },
          "metadata": {},
          "output_type": "display_data"
        }
      ],
      "source": [
        "def draw_image(image, image_shape):\n",
        "\n",
        "    plt.figure(figsize=(3, 3))\n",
        "    if image_shape[-1] == 1:  # Градации серого\n",
        "        plt.imshow(image[0, :, :, 0], cmap=\"gray\")\n",
        "    else:  # RGB или другие форматы\n",
        "        plt.imshow((image[0] * 255).astype(np.uint8))\n",
        "    plt.axis(\"off\")\n",
        "    plt.show()\n",
        "\n",
        "\n",
        "\n",
        "# Создание экземпляра генератора\n",
        "\n",
        "generator = Generator()\n",
        "\n",
        "noise = tf.random.normal([1, LATENT_DIM])\n",
        "generated_image = generator(noise, training=False)\n",
        "draw_image(generated_image, generated_image.shape)"
      ]
    },
    {
      "cell_type": "markdown",
      "id": "44d61665",
      "metadata": {
        "id": "44d61665"
      },
      "source": [
        "# Discriminator"
      ]
    },
    {
      "cell_type": "code",
      "execution_count": 31,
      "id": "992b39da",
      "metadata": {
        "id": "992b39da"
      },
      "outputs": [],
      "source": [
        "class Discriminator(Model):\n",
        "    \"\"\"\n",
        "    Дискриминатор Keras. Принимает тензор размерности (batch_size, 784)\n",
        "    и возвращает тензор размерности (batch_size, 1) с вероятностями принадлежности\n",
        "    к реальным данным\n",
        "    \"\"\"\n",
        "\n",
        "    def __init__(self):\n",
        "        super(Discriminator, self).__init__()\n",
        "\n",
        "        self.dense_blocks = Sequential(\n",
        "            [\n",
        "                layers.Conv2D(\n",
        "                    64, (5, 5), strides=(2, 2), padding=\"same\", input_shape=[28, 28, 1]\n",
        "                ),\n",
        "                layers.ReLU(),\n",
        "                layers.Dropout(0.3),\n",
        "                layers.Conv2D(128, (5, 5), strides=(2, 2), padding=\"same\"),\n",
        "                layers.ReLU(),\n",
        "                layers.Dropout(0.3),\n",
        "                layers.Flatten(),\n",
        "                layers.Dense(1),\n",
        "            ]\n",
        "        )\n",
        "\n",
        "    def call(self, inputs):\n",
        "        return self.dense_blocks(inputs)"
      ]
    },
    {
      "cell_type": "code",
      "execution_count": 32,
      "id": "fbcfb673",
      "metadata": {
        "colab": {
          "base_uri": "https://localhost:8080/"
        },
        "id": "fbcfb673",
        "outputId": "422d26bb-8537-4223-a0bc-293f34eb9b13"
      },
      "outputs": [
        {
          "data": {
            "text/plain": [
              "<tf.Tensor: shape=(1, 1), dtype=float32, numpy=array([[-0.04352773]], dtype=float32)>"
            ]
          },
          "execution_count": 32,
          "metadata": {},
          "output_type": "execute_result"
        }
      ],
      "source": [
        "discriminator = Discriminator()\n",
        "decision = discriminator(generated_image)\n",
        "decision"
      ]
    },
    {
      "cell_type": "markdown",
      "id": "cf55970f",
      "metadata": {
        "id": "cf55970f"
      },
      "source": [
        "# GAN"
      ]
    },
    {
      "cell_type": "code",
      "execution_count": 33,
      "id": "180831f6",
      "metadata": {
        "id": "180831f6"
      },
      "outputs": [],
      "source": [
        "class GANMonitor(callbacks.Callback):\n",
        "    def __init__(self, gan_model, test_noise):\n",
        "        super().__init__()\n",
        "        self.gan = gan_model\n",
        "        self.test_noise = test_noise\n",
        "        self.test_progression = []\n",
        "\n",
        "    def on_epoch_end(self, epoch, logs=None):\n",
        "        # Генерация и сохранение изображений\n",
        "        generated_images = self.gan.generator(self.test_noise)\n",
        "        self.test_progression.append(generated_images.numpy())"
      ]
    },
    {
      "cell_type": "code",
      "execution_count": 34,
      "id": "4f78fd10",
      "metadata": {
        "id": "4f78fd10"
      },
      "outputs": [],
      "source": [
        "class GAN(Model):\n",
        "    def __init__(self):\n",
        "        super(GAN, self).__init__()\n",
        "        self.generator = Generator()\n",
        "        self.discriminator = Discriminator()\n",
        "\n",
        "    def compile(self, g_optimizer, d_optimizer, g_loss, d_loss):\n",
        "        super(GAN, self).compile()\n",
        "        self.g_optimizer = g_optimizer\n",
        "        self.d_optimizer = d_optimizer\n",
        "        self.g_loss = g_loss\n",
        "        self.d_loss = d_loss\n",
        "\n",
        "    def train_step(self, real_images):\n",
        "        noise = tf.random.normal((BATCH_SIZE, LATENT_DIM))\n",
        "\n",
        "        # Используем self-модели вместо глобальных переменных\n",
        "        with tf.GradientTape() as gen_tape, tf.GradientTape() as disc_tape:\n",
        "            generated_images = self.generator(noise, training=True)\n",
        "\n",
        "            real_output = self.discriminator(real_images, training=True)\n",
        "            fake_output = self.discriminator(generated_images, training=True)\n",
        "\n",
        "            ge_loss = self.g_loss(fake_output)\n",
        "            di_loss = self.d_loss(real_output, fake_output)\n",
        "\n",
        "        gradients_of_generator = gen_tape.gradient(\n",
        "            ge_loss, self.generator.trainable_variables\n",
        "        )\n",
        "        gradients_of_discriminator = disc_tape.gradient(\n",
        "            di_loss, self.discriminator.trainable_variables\n",
        "        )\n",
        "\n",
        "        self.g_optimizer.apply_gradients(\n",
        "            zip(gradients_of_generator, self.generator.trainable_variables)\n",
        "        )\n",
        "        self.d_optimizer.apply_gradients(\n",
        "            zip(gradients_of_discriminator, self.discriminator.trainable_variables)\n",
        "        )\n",
        "\n",
        "        return {\"d_loss\": di_loss, \"g_loss\": ge_loss}"
      ]
    },
    {
      "cell_type": "markdown",
      "id": "38680426",
      "metadata": {
        "id": "38680426"
      },
      "source": [
        "# Funcs"
      ]
    },
    {
      "cell_type": "code",
      "execution_count": 35,
      "id": "90bd551f",
      "metadata": {
        "id": "90bd551f"
      },
      "outputs": [],
      "source": [
        "def generate_and_save_images(model, epoch, test_input, path):\n",
        "    predictions = model(test_input, training=False)\n",
        "\n",
        "    fig = plt.figure(figsize=(7, 7))\n",
        "\n",
        "    for i in range(predictions.shape[0]):\n",
        "        plt.subplot(4, 4, i + 1)\n",
        "        plt.imshow(predictions[i, :, :, 0] * 255, cmap=\"gray\")\n",
        "        plt.axis(\"off\")\n",
        "\n",
        "    plt.savefig(os.path.join(path, \"image_at_epoch_{:04d}.png\".format(epoch)))\n",
        "    plt.show()"
      ]
    },
    {
      "cell_type": "code",
      "execution_count": 36,
      "id": "ff9e12af",
      "metadata": {
        "id": "ff9e12af"
      },
      "outputs": [],
      "source": [
        "cross_entropy = losses.BinaryCrossentropy(from_logits=True)\n",
        "\n",
        "\n",
        "def discriminator_loss(real_output, fake_output):\n",
        "    real_loss = cross_entropy(tf.ones_like(real_output), real_output)\n",
        "    fake_loss = cross_entropy(tf.zeros_like(fake_output), fake_output)\n",
        "    total_loss = real_loss + fake_loss\n",
        "    return total_loss\n",
        "\n",
        "\n",
        "def generator_loss(fake_output):\n",
        "    return cross_entropy(tf.ones_like(fake_output), fake_output)\n",
        "\n",
        "\n",
        "generator_optimizer = optimizers.Adam(learning_rate=1e-4)\n",
        "discriminator_optimizer = optimizers.Adam(learning_rate=1e-4)"
      ]
    },
    {
      "cell_type": "code",
      "execution_count": 37,
      "id": "f6613df0",
      "metadata": {
        "id": "f6613df0"
      },
      "outputs": [],
      "source": [
        "checkpoint_dir = \"./checkpoints_b\"\n",
        "img_dir = \"./images_b\"\n",
        "checkpoint_prefix = os.path.join(checkpoint_dir, \"ckpt\")\n",
        "checkpoint = tf.train.Checkpoint(\n",
        "    generator_optimizer=generator_optimizer,\n",
        "    discriminator_optimizer=discriminator_optimizer,\n",
        "    generator=generator,\n",
        "    discriminator=discriminator,\n",
        ")"
      ]
    },
    {
      "cell_type": "markdown",
      "id": "19b43637",
      "metadata": {
        "id": "19b43637"
      },
      "source": [
        "# Test"
      ]
    },
    {
      "cell_type": "code",
      "execution_count": 38,
      "id": "6e288d19",
      "metadata": {
        "id": "6e288d19"
      },
      "outputs": [],
      "source": [
        "SEED = tf.random.normal([16, LATENT_DIM])"
      ]
    },
    {
      "cell_type": "code",
      "execution_count": null,
      "id": "53dc6b70",
      "metadata": {
        "id": "53dc6b70"
      },
      "outputs": [],
      "source": [
        "def train(model: GAN, dataset, epochs: int):\n",
        "    count_batches = len(dataset)\n",
        "    print(f\"total epochs: {epochs}\")\n",
        "    print()\n",
        "    for epoch in range(epochs):\n",
        "        print(f\"epoch {epoch + 1} / {epochs}\")\n",
        "\n",
        "        # start = time.time()\n",
        "\n",
        "        for index_batch, image_batch in enumerate(dataset):\n",
        "            print(f\"{index_batch + 1} / {count_batches}\")\n",
        "            model.train_step(image_batch)\n",
        "\n",
        "        display.clear_output(wait=True)\n",
        "        generate_and_save_images(model.generator, epoch + 1, SEED, img_dir)\n",
        "\n",
        "        if (epoch + 1) % 5 == 0:\n",
        "            checkpoint.save(file_prefix=checkpoint_prefix)\n",
        "\n",
        "        # print (f'Time for epoch {epoch + 1} is {time.time() - start} sec')\n",
        "    print()\n",
        "\n",
        "    # display.clear_output(wait=True)\n",
        "    generate_and_save_images(model.generator, epochs, SEED, img_dir)"
      ]
    },
    {
      "cell_type": "code",
      "execution_count": 40,
      "id": "09529604",
      "metadata": {
        "id": "09529604"
      },
      "outputs": [],
      "source": [
        "gan = GAN()\n",
        "gan.compile(\n",
        "    g_optimizer=generator_optimizer,\n",
        "    d_optimizer=discriminator_optimizer,\n",
        "    g_loss=generator_loss,\n",
        "    d_loss=discriminator_loss,\n",
        ")"
      ]
    },
    {
      "cell_type": "code",
      "execution_count": null,
      "id": "ca1d08a2",
      "metadata": {
        "colab": {
          "base_uri": "https://localhost:8080/",
          "height": 373
        },
        "id": "ca1d08a2",
        "outputId": "7e995122-55c4-4c15-cb50-2a5135f39ee5"
      },
      "outputs": [
        {
          "data": {
            "image/png": "[encoded data removed]",
            "text/plain": [
              "<Figure size 700x700 with 16 Axes>"
            ]
          },
          "metadata": {},
          "output_type": "display_data"
        }
      ],
      "source": [
        "train(gan, train_dataset, EPOCHS)\n",
        "\n",
        "gan.discriminator.save(\"models_b/discriminator.keras\")\n",
        "gan.generator.save(\"models_b/generator.keras\")"
      ]
    },
    {
      "cell_type": "code",
      "execution_count": null,
      "id": "b42e675f",
      "metadata": {
        "id": "b42e675f"
      },
      "outputs": [],
      "source": [
        "noise = tf.random.normal([1, LATENT_DIM])\n",
        "generated_image = generator(noise, training=False)\n",
        "\n",
        "draw_image(generated_image, generated_image.shape)"
      ]
    },
    {
      "cell_type": "code",
      "execution_count": null,
      "id": "714033c6",
      "metadata": {
        "id": "714033c6"
      },
      "outputs": [],
      "source": []
    }
  ],
  "metadata": {
    "accelerator": "GPU",
    "colab": {
      "gpuType": "T4",
      "provenance": []
    },
    "kernelspec": {
      "display_name": "Big_data",
      "language": "python",
      "name": "python3"
    },
    "language_info": {
      "codemirror_mode": {
        "name": "ipython",
        "version": 3
      },
      "file_extension": ".py",
      "mimetype": "text/x-python",
      "name": "python",
      "nbconvert_exporter": "python",
      "pygments_lexer": "ipython3",
      "version": "3.10.2"
    }
  },
  "nbformat": 4,
  "nbformat_minor": 5
}
