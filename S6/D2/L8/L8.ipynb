{
  "cells": [
    {
      "cell_type": "markdown",
      "metadata": {
        "id": "-oV5pi8SDTce"
      },
      "source": [
        "# Imports"
      ]
    },
    {
      "cell_type": "code",
      "execution_count": 1,
      "metadata": {
        "id": "dMGuWG0Aulib"
      },
      "outputs": [],
      "source": [
        "import os\n",
        "import time"
      ]
    },
    {
      "cell_type": "code",
      "execution_count": 2,
      "metadata": {
        "id": "1useHuncDTci"
      },
      "outputs": [],
      "source": [
        "from IPython import display"
      ]
    },
    {
      "cell_type": "code",
      "execution_count": 3,
      "metadata": {
        "id": "iggZntF4DTci"
      },
      "outputs": [],
      "source": [
        "import tensorflow as tf\n",
        "import matplotlib.pyplot as plt\n",
        "from keras import layers, optimizers, losses, datasets, Sequential"
      ]
    },
    {
      "cell_type": "code",
      "execution_count": 4,
      "metadata": {
        "id": "7mJ1MT00KV8q"
      },
      "outputs": [],
      "source": [
        "import warnings\n",
        "warnings.filterwarnings(\"ignore\")"
      ]
    },
    {
      "cell_type": "markdown",
      "metadata": {
        "id": "g3-BEiscDTcj"
      },
      "source": [
        "# Vars"
      ]
    },
    {
      "cell_type": "code",
      "execution_count": 5,
      "metadata": {
        "id": "Vn2nAV7rulih"
      },
      "outputs": [],
      "source": [
        "BUFFER_SIZE = 100000\n",
        "EPOCHS = 100\n",
        "BATCH_SIZE = 2**5\n",
        "NOISE_DIM = int(10e1)"
      ]
    },
    {
      "cell_type": "markdown",
      "metadata": {
        "id": "iFKQU_cyDTck"
      },
      "source": [
        "# Data process"
      ]
    },
    {
      "cell_type": "code",
      "execution_count": 6,
      "metadata": {
        "id": "xXDE7WSSulie"
      },
      "outputs": [],
      "source": [
        "(train_images, _), (_, _) = datasets.mnist.load_data()"
      ]
    },
    {
      "cell_type": "code",
      "execution_count": 7,
      "metadata": {
        "id": "mdKC9xYvulif"
      },
      "outputs": [],
      "source": [
        "train_images = train_images.reshape(train_images.shape[0], 28, 28, 1).astype(\"float32\")\n",
        "train_images = (train_images) / 255.0"
      ]
    },
    {
      "cell_type": "code",
      "execution_count": 8,
      "metadata": {
        "colab": {
          "base_uri": "https://localhost:8080/"
        },
        "id": "kClZaBq1ulig",
        "outputId": "58da3520-75c1-4658-bc24-867b2675a44a"
      },
      "outputs": [
        {
          "data": {
            "text/plain": [
              "(60000, 28, 28, 1)"
            ]
          },
          "execution_count": 8,
          "metadata": {},
          "output_type": "execute_result"
        }
      ],
      "source": [
        "train_images.shape"
      ]
    },
    {
      "cell_type": "code",
      "execution_count": 9,
      "metadata": {
        "id": "n6tmtfWuulih"
      },
      "outputs": [],
      "source": [
        "train_dataset = (\n",
        "    tf.data.Dataset.from_tensor_slices(train_images)\n",
        "    .shuffle(BUFFER_SIZE)\n",
        "    .batch(BATCH_SIZE)\n",
        ")"
      ]
    },
    {
      "cell_type": "code",
      "execution_count": 10,
      "metadata": {
        "id": "bgiYsnvSulih"
      },
      "outputs": [],
      "source": [
        "def make_generator_model():\n",
        "    model = Sequential()\n",
        "    model.add(layers.Dense(7 * 7 * 256, use_bias=False, input_shape=(NOISE_DIM,)))\n",
        "    model.add(layers.BatchNormalization())\n",
        "    model.add(layers.ReLU())\n",
        "\n",
        "    model.add(layers.Reshape((7, 7, 256)))\n",
        "\n",
        "    model.add(\n",
        "        layers.Conv2DTranspose(\n",
        "            128, (5, 5), strides=(1, 1), padding=\"same\", use_bias=False\n",
        "        )\n",
        "    )\n",
        "    model.add(layers.BatchNormalization())\n",
        "    model.add(layers.ReLU())\n",
        "\n",
        "    model.add(\n",
        "        layers.Conv2DTranspose(\n",
        "            64, (5, 5), strides=(2, 2), padding=\"same\", use_bias=False\n",
        "        )\n",
        "    )\n",
        "    model.add(layers.BatchNormalization())\n",
        "    model.add(layers.ReLU())\n",
        "\n",
        "    model.add(\n",
        "        layers.Conv2DTranspose(\n",
        "            1,\n",
        "            (5, 5),\n",
        "            strides=(2, 2),\n",
        "            padding=\"same\",\n",
        "            use_bias=False,\n",
        "            activation=\"sigmoid\",\n",
        "        )\n",
        "    )\n",
        "\n",
        "    return model"
      ]
    },
    {
      "cell_type": "code",
      "execution_count": 11,
      "metadata": {
        "colab": {
          "base_uri": "https://localhost:8080/",
          "height": 430
        },
        "id": "fz0RfZkIulii",
        "outputId": "ed8ab056-62c8-4d61-cd89-f147904c2667"
      },
      "outputs": [
        {
          "data": {
            "image/png": "[encoded data removed]",
            "text/plain": [
              "<Figure size 640x480 with 1 Axes>"
            ]
          },
          "metadata": {},
          "output_type": "display_data"
        }
      ],
      "source": [
        "generator = make_generator_model()\n",
        "\n",
        "noise = tf.random.normal([1, NOISE_DIM])\n",
        "generated_image = generator(noise, training=False)\n",
        "\n",
        "plt.imshow(generated_image[0, :, :, 0], cmap='gray')\n",
        "plt.show()"
      ]
    },
    {
      "cell_type": "code",
      "execution_count": 12,
      "metadata": {
        "id": "DvTHM76Zulij"
      },
      "outputs": [],
      "source": [
        "def make_descriminator_model():\n",
        "    model = tf.keras.Sequential()\n",
        "    model.add(layers.Conv2D(64, (5, 5), strides=(2, 2), padding='same',\n",
        "                                     input_shape=[28, 28, 1]))\n",
        "    model.add(layers.ReLU())\n",
        "    model.add(layers.Dropout(0.3))\n",
        "\n",
        "    model.add(layers.Conv2D(128, (5, 5), strides=(2, 2), padding='same'))\n",
        "    model.add(layers.ReLU())\n",
        "    model.add(layers.Dropout(0.3))\n",
        "\n",
        "    model.add(layers.Flatten())\n",
        "    model.add(layers.Dense(1))\n",
        "\n",
        "    return model"
      ]
    },
    {
      "cell_type": "code",
      "execution_count": 13,
      "metadata": {
        "colab": {
          "base_uri": "https://localhost:8080/"
        },
        "id": "dYLm1XCgulij",
        "outputId": "6b451ea2-00ce-49c0-8379-d8cce66ae943"
      },
      "outputs": [
        {
          "data": {
            "text/plain": [
              "<tf.Tensor: shape=(1, 1), dtype=float32, numpy=array([[-0.02182743]], dtype=float32)>"
            ]
          },
          "execution_count": 13,
          "metadata": {},
          "output_type": "execute_result"
        }
      ],
      "source": [
        "discriminator = make_descriminator_model()\n",
        "decision = discriminator(generated_image)\n",
        "decision"
      ]
    },
    {
      "cell_type": "code",
      "execution_count": 14,
      "metadata": {
        "id": "iMqXNtgCulij"
      },
      "outputs": [],
      "source": [
        "# Функция вычисления loss\n",
        "cross_entropy = losses.BinaryCrossentropy(from_logits=True)"
      ]
    },
    {
      "cell_type": "code",
      "execution_count": 15,
      "metadata": {
        "id": "G_CoEAkLulik"
      },
      "outputs": [],
      "source": [
        "def discriminator_loss(real_output, fake_output):\n",
        "    real_loss = cross_entropy(tf.ones_like(real_output), real_output)\n",
        "    fake_loss = cross_entropy(tf.zeros_like(fake_output), fake_output)\n",
        "    total_loss = real_loss + fake_loss\n",
        "    return total_loss"
      ]
    },
    {
      "cell_type": "code",
      "execution_count": 16,
      "metadata": {
        "id": "UVDU10NDulik"
      },
      "outputs": [],
      "source": [
        "def generator_loss(fake_output):\n",
        "    return cross_entropy(tf.ones_like(fake_output), fake_output)"
      ]
    },
    {
      "cell_type": "code",
      "execution_count": 17,
      "metadata": {
        "id": "s7qP-vJ6ulik"
      },
      "outputs": [],
      "source": [
        "generator_optimizer = optimizers.Adam(1e-4)\n",
        "discriminator_optimizer = optimizers.Adam(1e-4)"
      ]
    },
    {
      "cell_type": "code",
      "execution_count": 18,
      "metadata": {
        "id": "min9scWWKV8s"
      },
      "outputs": [],
      "source": [
        "checkpoint_dir = './checkpoints'\n",
        "checkpoint_prefix = os.path.join(checkpoint_dir, \"ckpt\")\n",
        "checkpoint = tf.train.Checkpoint(generator_optimizer=generator_optimizer,\n",
        "                                 discriminator_optimizer=discriminator_optimizer,\n",
        "                                 generator=generator,\n",
        "                                 discriminator=discriminator)"
      ]
    },
    {
      "cell_type": "code",
      "execution_count": 19,
      "metadata": {
        "id": "hMkIUNv8ulil"
      },
      "outputs": [],
      "source": [
        "num_examples_to_generate = 16\n",
        "\n",
        "SEED = tf.random.normal([num_examples_to_generate, NOISE_DIM])"
      ]
    },
    {
      "cell_type": "code",
      "execution_count": 20,
      "metadata": {
        "id": "3LG4dNAiulik"
      },
      "outputs": [],
      "source": [
        "@tf.function\n",
        "def train_step(images):\n",
        "    noise = tf.random.normal([BATCH_SIZE, NOISE_DIM])\n",
        "\n",
        "    with tf.GradientTape() as gen_tape, tf.GradientTape() as disc_tape:\n",
        "        generated_images = generator(noise, training=True)\n",
        "\n",
        "        real_output = discriminator(images, training=True)\n",
        "        fake_output = discriminator(generated_images, training=True)\n",
        "\n",
        "        gen_loss = generator_loss(fake_output)\n",
        "        disc_loss = discriminator_loss(real_output, fake_output)\n",
        "\n",
        "    gradients_of_generator = gen_tape.gradient(gen_loss, generator.trainable_variables)\n",
        "    gradients_of_discriminator = disc_tape.gradient(\n",
        "        disc_loss, discriminator.trainable_variables\n",
        "    )\n",
        "\n",
        "    generator_optimizer.apply_gradients(\n",
        "        zip(gradients_of_generator, generator.trainable_variables)\n",
        "    )\n",
        "    discriminator_optimizer.apply_gradients(\n",
        "        zip(gradients_of_discriminator, discriminator.trainable_variables)\n",
        "    )"
      ]
    },
    {
      "cell_type": "code",
      "execution_count": 21,
      "metadata": {
        "id": "Cz9LTSlgulil"
      },
      "outputs": [],
      "source": [
        "def generate_and_save_images(model, epoch, test_input):\n",
        "    predictions = model(test_input, training=False)\n",
        "\n",
        "    fig = plt.figure(figsize=(7, 7))\n",
        "\n",
        "    for i in range(predictions.shape[0]):\n",
        "        plt.subplot(4, 4, i + 1)\n",
        "        plt.imshow(predictions[i, :, :, 0] * 255, cmap=\"gray\")\n",
        "        plt.axis(\"off\")\n",
        "\n",
        "    plt.savefig(\"images/image_at_epoch_{:04d}.png\".format(epoch))\n",
        "    plt.show()"
      ]
    },
    {
      "cell_type": "code",
      "execution_count": 22,
      "metadata": {
        "id": "ZH4pksxlulil"
      },
      "outputs": [],
      "source": [
        "def train(dataset, epochs: int):\n",
        "    count_batches = len(dataset)\n",
        "    print(f\"total epochs: {epochs}\")\n",
        "    print()\n",
        "\n",
        "    for epoch in range(epochs):\n",
        "\n",
        "        print(f\"epoch {epoch + 1} / {epochs}\")\n",
        "\n",
        "        start = time.time()\n",
        "\n",
        "        for index_batch, image_batch in enumerate(dataset):\n",
        "            print(f\"{index_batch + 1} / {count_batches}\")\n",
        "\n",
        "            train_step(image_batch)\n",
        "\n",
        "        display.clear_output(wait=True)\n",
        "\n",
        "        generate_and_save_images(generator, epoch + 1, SEED)\n",
        "\n",
        "        if (epoch + 1) % 5 == 0:\n",
        "\n",
        "            checkpoint.save(file_prefix=checkpoint_prefix)\n",
        "\n",
        "        print(f\"Time for epoch {epoch + 1} is {time.time() - start} sec\")\n",
        "        print()\n",
        "\n",
        "    display.clear_output(wait=True)\n",
        "\n",
        "    generate_and_save_images(generator, epochs, SEED)"
      ]
    },
    {
      "cell_type": "code",
      "execution_count": null,
      "metadata": {
        "colab": {
          "base_uri": "https://localhost:8080/",
          "height": 576
        },
        "id": "uVTy9ZGOulil",
        "outputId": "1e3b85bf-eb52-4f59-ccb7-5490778d60cf"
      },
      "outputs": [
        {
          "data": {
            "image/png": "[encoded data removed]",
            "text/plain": [
              "<Figure size 700x700 with 16 Axes>"
            ]
          },
          "metadata": {},
          "output_type": "display_data"
        }
      ],
      "source": [
        "train(train_dataset, EPOCHS)"
      ]
    },
    {
      "cell_type": "code",
      "execution_count": null,
      "metadata": {
        "id": "RIHfqAPSzcux"
      },
      "outputs": [],
      "source": [
        "discriminator.save(\"models/discriminator.keras\")\n",
        "generator.save(\"models/generator.keras\")"
      ]
    },
    {
      "cell_type": "code",
      "execution_count": null,
      "metadata": {
        "colab": {
          "base_uri": "https://localhost:8080/",
          "height": 430
        },
        "id": "5qBpY8xuLXOP",
        "outputId": "0600fd3d-57fd-4695-fb95-36ae6446eb61"
      },
      "outputs": [
        {
          "data": {
            "image/png": "[encoded data removed]",
            "text/plain": [
              "<Figure size 640x480 with 1 Axes>"
            ]
          },
          "metadata": {},
          "output_type": "display_data"
        }
      ],
      "source": [
        "noise = tf.random.normal([1, NOISE_DIM])\n",
        "generated_image = generator(noise, training=False)\n",
        "\n",
        "plt.imshow(generated_image[0, :, :, 0], cmap=\"gray\")\n",
        "plt.show()"
      ]
    },
    {
      "cell_type": "code",
      "execution_count": null,
      "metadata": {
        "id": "Blxm-JfDupve"
      },
      "outputs": [],
      "source": []
    }
  ],
  "metadata": {
    "accelerator": "GPU",
    "colab": {
      "gpuType": "T4",
      "provenance": []
    },
    "kernelspec": {
      "display_name": "Big_data",
      "language": "python",
      "name": "python3"
    },
    "language_info": {
      "codemirror_mode": {
        "name": "ipython",
        "version": 3
      },
      "file_extension": ".py",
      "mimetype": "text/x-python",
      "name": "python",
      "nbconvert_exporter": "python",
      "pygments_lexer": "ipython3",
      "version": "3.10.2"
    }
  },
  "nbformat": 4,
  "nbformat_minor": 0
}
