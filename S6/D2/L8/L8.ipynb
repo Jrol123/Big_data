{
  "cells": [
    {
      "cell_type": "markdown",
      "id": "6cd1275e",
      "metadata": {
        "id": "6cd1275e"
      },
      "source": [
        "# Imports"
      ]
    },
    {
      "cell_type": "code",
      "execution_count": 69,
      "id": "7e4a7ca8",
      "metadata": {
        "id": "7e4a7ca8"
      },
      "outputs": [],
      "source": [
        "import os\n",
        "import time"
      ]
    },
    {
      "cell_type": "code",
      "execution_count": 70,
      "id": "bcdba088",
      "metadata": {
        "id": "bcdba088"
      },
      "outputs": [],
      "source": [
        "import numpy as np\n",
        "import matplotlib.pyplot as plt"
      ]
    },
    {
      "cell_type": "code",
      "execution_count": 71,
      "id": "txseBV9UGPGH",
      "metadata": {
        "colab": {
          "base_uri": "https://localhost:8080/"
        },
        "id": "txseBV9UGPGH",
        "outputId": "010c84df-8a3a-45eb-a185-e8daa9d5a5d2"
      },
      "outputs": [
        {
          "name": "stdout",
          "output_type": "stream",
          "text": [
            "Requirement already satisfied: tensorflow in /usr/local/lib/python3.11/dist-packages (2.18.0)\n",
            "Requirement already satisfied: absl-py>=1.0.0 in /usr/local/lib/python3.11/dist-packages (from tensorflow) (1.4.0)\n",
            "Requirement already satisfied: astunparse>=1.6.0 in /usr/local/lib/python3.11/dist-packages (from tensorflow) (1.6.3)\n",
            "Requirement already satisfied: flatbuffers>=24.3.25 in /usr/local/lib/python3.11/dist-packages (from tensorflow) (25.2.10)\n",
            "Requirement already satisfied: gast!=0.5.0,!=0.5.1,!=0.5.2,>=0.2.1 in /usr/local/lib/python3.11/dist-packages (from tensorflow) (0.6.0)\n",
            "Requirement already satisfied: google-pasta>=0.1.1 in /usr/local/lib/python3.11/dist-packages (from tensorflow) (0.2.0)\n",
            "Requirement already satisfied: libclang>=13.0.0 in /usr/local/lib/python3.11/dist-packages (from tensorflow) (18.1.1)\n",
            "Requirement already satisfied: opt-einsum>=2.3.2 in /usr/local/lib/python3.11/dist-packages (from tensorflow) (3.4.0)\n",
            "Requirement already satisfied: packaging in /usr/local/lib/python3.11/dist-packages (from tensorflow) (24.2)\n",
            "Requirement already satisfied: protobuf!=4.21.0,!=4.21.1,!=4.21.2,!=4.21.3,!=4.21.4,!=4.21.5,<6.0.0dev,>=3.20.3 in /usr/local/lib/python3.11/dist-packages (from tensorflow) (5.29.4)\n",
            "Requirement already satisfied: requests<3,>=2.21.0 in /usr/local/lib/python3.11/dist-packages (from tensorflow) (2.32.3)\n",
            "Requirement already satisfied: setuptools in /usr/local/lib/python3.11/dist-packages (from tensorflow) (75.2.0)\n",
            "Requirement already satisfied: six>=1.12.0 in /usr/local/lib/python3.11/dist-packages (from tensorflow) (1.17.0)\n",
            "Requirement already satisfied: termcolor>=1.1.0 in /usr/local/lib/python3.11/dist-packages (from tensorflow) (3.1.0)\n",
            "Requirement already satisfied: typing-extensions>=3.6.6 in /usr/local/lib/python3.11/dist-packages (from tensorflow) (4.13.2)\n",
            "Requirement already satisfied: wrapt>=1.11.0 in /usr/local/lib/python3.11/dist-packages (from tensorflow) (1.17.2)\n",
            "Requirement already satisfied: grpcio<2.0,>=1.24.3 in /usr/local/lib/python3.11/dist-packages (from tensorflow) (1.71.0)\n",
            "Requirement already satisfied: tensorboard<2.19,>=2.18 in /usr/local/lib/python3.11/dist-packages (from tensorflow) (2.18.0)\n",
            "Requirement already satisfied: keras>=3.5.0 in /usr/local/lib/python3.11/dist-packages (from tensorflow) (3.8.0)\n",
            "Requirement already satisfied: numpy<2.1.0,>=1.26.0 in /usr/local/lib/python3.11/dist-packages (from tensorflow) (2.0.2)\n",
            "Requirement already satisfied: h5py>=3.11.0 in /usr/local/lib/python3.11/dist-packages (from tensorflow) (3.13.0)\n",
            "Requirement already satisfied: ml-dtypes<0.5.0,>=0.4.0 in /usr/local/lib/python3.11/dist-packages (from tensorflow) (0.4.1)\n",
            "Requirement already satisfied: tensorflow-io-gcs-filesystem>=0.23.1 in /usr/local/lib/python3.11/dist-packages (from tensorflow) (0.37.1)\n",
            "Requirement already satisfied: wheel<1.0,>=0.23.0 in /usr/local/lib/python3.11/dist-packages (from astunparse>=1.6.0->tensorflow) (0.45.1)\n",
            "Requirement already satisfied: rich in /usr/local/lib/python3.11/dist-packages (from keras>=3.5.0->tensorflow) (13.9.4)\n",
            "Requirement already satisfied: namex in /usr/local/lib/python3.11/dist-packages (from keras>=3.5.0->tensorflow) (0.0.9)\n",
            "Requirement already satisfied: optree in /usr/local/lib/python3.11/dist-packages (from keras>=3.5.0->tensorflow) (0.15.0)\n",
            "Requirement already satisfied: charset-normalizer<4,>=2 in /usr/local/lib/python3.11/dist-packages (from requests<3,>=2.21.0->tensorflow) (3.4.2)\n",
            "Requirement already satisfied: idna<4,>=2.5 in /usr/local/lib/python3.11/dist-packages (from requests<3,>=2.21.0->tensorflow) (3.10)\n",
            "Requirement already satisfied: urllib3<3,>=1.21.1 in /usr/local/lib/python3.11/dist-packages (from requests<3,>=2.21.0->tensorflow) (2.4.0)\n",
            "Requirement already satisfied: certifi>=2017.4.17 in /usr/local/lib/python3.11/dist-packages (from requests<3,>=2.21.0->tensorflow) (2025.4.26)\n",
            "Requirement already satisfied: markdown>=2.6.8 in /usr/local/lib/python3.11/dist-packages (from tensorboard<2.19,>=2.18->tensorflow) (3.8)\n",
            "Requirement already satisfied: tensorboard-data-server<0.8.0,>=0.7.0 in /usr/local/lib/python3.11/dist-packages (from tensorboard<2.19,>=2.18->tensorflow) (0.7.2)\n",
            "Requirement already satisfied: werkzeug>=1.0.1 in /usr/local/lib/python3.11/dist-packages (from tensorboard<2.19,>=2.18->tensorflow) (3.1.3)\n",
            "Requirement already satisfied: MarkupSafe>=2.1.1 in /usr/local/lib/python3.11/dist-packages (from werkzeug>=1.0.1->tensorboard<2.19,>=2.18->tensorflow) (3.0.2)\n",
            "Requirement already satisfied: markdown-it-py>=2.2.0 in /usr/local/lib/python3.11/dist-packages (from rich->keras>=3.5.0->tensorflow) (3.0.0)\n",
            "Requirement already satisfied: pygments<3.0.0,>=2.13.0 in /usr/local/lib/python3.11/dist-packages (from rich->keras>=3.5.0->tensorflow) (2.19.1)\n",
            "Requirement already satisfied: mdurl~=0.1 in /usr/local/lib/python3.11/dist-packages (from markdown-it-py>=2.2.0->rich->keras>=3.5.0->tensorflow) (0.1.2)\n"
          ]
        }
      ],
      "source": [
        "!pip install tensorflow"
      ]
    },
    {
      "cell_type": "code",
      "execution_count": 72,
      "id": "1d4ec862",
      "metadata": {
        "id": "1d4ec862"
      },
      "outputs": [],
      "source": [
        "import tensorflow as tf\n",
        "from keras import layers, Model, Sequential, callbacks, losses, optimizers, datasets"
      ]
    },
    {
      "cell_type": "code",
      "execution_count": 73,
      "id": "660b78c5",
      "metadata": {
        "id": "660b78c5"
      },
      "outputs": [],
      "source": [
        "import warnings\n",
        "from IPython import display\n",
        "warnings.simplefilter(\"ignore\")"
      ]
    },
    {
      "cell_type": "markdown",
      "id": "f72183fa",
      "metadata": {
        "id": "f72183fa"
      },
      "source": [
        "# Vars"
      ]
    },
    {
      "cell_type": "code",
      "execution_count": null,
      "id": "efca1eca",
      "metadata": {
        "id": "efca1eca"
      },
      "outputs": [],
      "source": [
        "LATENT_DIM = int(10e2)\n",
        "BATCH_SIZE = 2**5\n",
        "BUFFER_SIZE = 100000\n",
        "EPOCHS = 100"
      ]
    },
    {
      "cell_type": "markdown",
      "id": "8f51bad4",
      "metadata": {
        "id": "8f51bad4"
      },
      "source": [
        "# Data Loading"
      ]
    },
    {
      "cell_type": "code",
      "execution_count": 75,
      "id": "f57a7b66",
      "metadata": {
        "id": "f57a7b66"
      },
      "outputs": [],
      "source": [
        "(train_images, train_labels), (_, _) = datasets.mnist.load_data()\n",
        "\n",
        "train_images = train_images.reshape(train_images.shape[0], 28, 28, 1).astype(\"float32\")\n",
        "train_images = (train_images) / 255\n",
        "\n",
        "train_dataset = (\n",
        "    tf.data.Dataset.from_tensor_slices(train_images)\n",
        "    .shuffle(BUFFER_SIZE)\n",
        "    .batch(BATCH_SIZE)\n",
        ")"
      ]
    },
    {
      "cell_type": "code",
      "execution_count": 76,
      "id": "2db21e75",
      "metadata": {
        "colab": {
          "base_uri": "https://localhost:8080/"
        },
        "id": "2db21e75",
        "outputId": "e4aa5353-7f0b-41a0-ce60-550980fcecc4"
      },
      "outputs": [
        {
          "data": {
            "text/plain": [
              "(60000, 28, 28, 1)"
            ]
          },
          "execution_count": 76,
          "metadata": {},
          "output_type": "execute_result"
        }
      ],
      "source": [
        "train_images.shape"
      ]
    },
    {
      "cell_type": "markdown",
      "id": "9950cc4f",
      "metadata": {
        "id": "9950cc4f"
      },
      "source": [
        "# Generator"
      ]
    },
    {
      "cell_type": "code",
      "execution_count": null,
      "id": "434faba5",
      "metadata": {
        "id": "434faba5"
      },
      "outputs": [],
      "source": [
        "class Generator(Model):\n",
        "    \"\"\"\n",
        "    Генератор Keras. Принимает тензор размерности (batch_size, LATENT_DIM)\n",
        "\n",
        "    Цель - генерировать изображения, неотличимые от настоящих цифр MNIST\n",
        "    \"\"\"\n",
        "\n",
        "    def __init__(self):\n",
        "        super(Generator, self).__init__()\n",
        "\n",
        "        # Последовательность слоев\n",
        "        self.dense_blocks = Sequential(\n",
        "            [\n",
        "                layers.Dense(7 * 7 * 256, use_bias=False, input_shape=(LATENT_DIM,)),\n",
        "                layers.BatchNormalization(),\n",
        "                layers.ReLU(),\n",
        "\n",
        "                layers.Reshape((7, 7, 256)),\n",
        "\n",
        "                layers.Conv2DTranspose(\n",
        "                    128, (5, 5), strides=(1, 1), padding=\"same\", use_bias=False\n",
        "                ),\n",
        "                layers.BatchNormalization(),\n",
        "                layers.ReLU(),\n",
        "\n",
        "                layers.Conv2DTranspose(\n",
        "                    64, (5, 5), strides=(2, 2), padding=\"same\", use_bias=False\n",
        "                ),\n",
        "                layers.BatchNormalization(),\n",
        "                layers.ReLU(),\n",
        "\n",
        "                layers.Conv2DTranspose(\n",
        "                    1,\n",
        "                    (5, 5),\n",
        "                    strides=(2, 2),\n",
        "                    padding=\"same\",\n",
        "                    use_bias=False,\n",
        "                    activation=\"sigmoid\",\n",
        "                ),\n",
        "            ]\n",
        "        )\n",
        "\n",
        "    def call(self, inputs):\n",
        "        return self.dense_blocks(inputs)"
      ]
    },
    {
      "cell_type": "code",
      "execution_count": 78,
      "id": "1861f11c",
      "metadata": {
        "colab": {
          "base_uri": "https://localhost:8080/",
          "height": 268
        },
        "id": "1861f11c",
        "outputId": "28e62372-6ea8-43a9-d466-1cb87d679eba"
      },
      "outputs": [
        {
          "data": {
            "image/png": "[encoded data removed]",
            "text/plain": [
              "<Figure size 300x300 with 1 Axes>"
            ]
          },
          "metadata": {},
          "output_type": "display_data"
        }
      ],
      "source": [
        "def draw_image(image, image_shape):\n",
        "\n",
        "    plt.figure(figsize=(3, 3))\n",
        "    if image_shape[-1] == 1:  # Градации серого\n",
        "        plt.imshow(image[0, :, :, 0], cmap=\"gray\")\n",
        "    else:  # RGB или другие форматы\n",
        "        plt.imshow((image[0] * 255).astype(np.uint8))\n",
        "    plt.axis(\"off\")\n",
        "    plt.show()\n",
        "\n",
        "\n",
        "\n",
        "# Создание экземпляра генератора\n",
        "\n",
        "generator = Generator()\n",
        "\n",
        "noise = tf.random.normal([1, LATENT_DIM])\n",
        "generated_image = generator(noise, training=False)\n",
        "draw_image(generated_image, generated_image.shape)"
      ]
    },
    {
      "cell_type": "markdown",
      "id": "44d61665",
      "metadata": {
        "id": "44d61665"
      },
      "source": [
        "# Discriminator"
      ]
    },
    {
      "cell_type": "code",
      "execution_count": 79,
      "id": "992b39da",
      "metadata": {
        "id": "992b39da"
      },
      "outputs": [],
      "source": [
        "class Discriminator(Model):\n",
        "    \"\"\"\n",
        "    Дискриминатор Keras. Принимает тензор размерности (batch_size, 784)\n",
        "    и возвращает тензор размерности (batch_size, 1) с вероятностями принадлежности\n",
        "    к реальным данным\n",
        "    \"\"\"\n",
        "\n",
        "    def __init__(self):\n",
        "        super(Discriminator, self).__init__()\n",
        "\n",
        "        self.dense_blocks = Sequential(\n",
        "            [\n",
        "                layers.Conv2D(\n",
        "                    64, (5, 5), strides=(2, 2), padding=\"same\", input_shape=[28, 28, 1]\n",
        "                ),\n",
        "                layers.ReLU(),\n",
        "                layers.Dropout(0.3),\n",
        "                layers.Conv2D(128, (5, 5), strides=(2, 2), padding=\"same\"),\n",
        "                layers.ReLU(),\n",
        "                layers.Dropout(0.3),\n",
        "                layers.Flatten(),\n",
        "                layers.Dense(1),\n",
        "            ]\n",
        "        )\n",
        "\n",
        "    def call(self, inputs):\n",
        "        return self.dense_blocks(inputs)"
      ]
    },
    {
      "cell_type": "code",
      "execution_count": 80,
      "id": "fbcfb673",
      "metadata": {
        "colab": {
          "base_uri": "https://localhost:8080/"
        },
        "id": "fbcfb673",
        "outputId": "422d26bb-8537-4223-a0bc-293f34eb9b13"
      },
      "outputs": [
        {
          "data": {
            "text/plain": [
              "<tf.Tensor: shape=(1, 1), dtype=float32, numpy=array([[-0.02023958]], dtype=float32)>"
            ]
          },
          "execution_count": 80,
          "metadata": {},
          "output_type": "execute_result"
        }
      ],
      "source": [
        "discriminator = Discriminator()\n",
        "decision = discriminator(generated_image)\n",
        "decision"
      ]
    },
    {
      "cell_type": "markdown",
      "id": "cf55970f",
      "metadata": {
        "id": "cf55970f"
      },
      "source": [
        "# GAN"
      ]
    },
    {
      "cell_type": "code",
      "execution_count": 81,
      "id": "180831f6",
      "metadata": {
        "id": "180831f6"
      },
      "outputs": [],
      "source": [
        "class GANMonitor(callbacks.Callback):\n",
        "    def __init__(self, gan_model, test_noise):\n",
        "        super().__init__()\n",
        "        self.gan = gan_model\n",
        "        self.test_noise = test_noise\n",
        "        self.test_progression = []\n",
        "\n",
        "    def on_epoch_end(self, epoch, logs=None):\n",
        "        # Генерация и сохранение изображений\n",
        "        generated_images = self.gan.generator(self.test_noise)\n",
        "        self.test_progression.append(generated_images.numpy())"
      ]
    },
    {
      "cell_type": "code",
      "execution_count": null,
      "id": "4f78fd10",
      "metadata": {
        "id": "4f78fd10"
      },
      "outputs": [],
      "source": [
        "class GAN(Model):\n",
        "    def __init__(self):\n",
        "        super(GAN, self).__init__()\n",
        "        self.generator = Generator()\n",
        "        self.discriminator = Discriminator()\n",
        "\n",
        "    def compile(self, g_optimizer, d_optimizer, g_loss, d_loss):\n",
        "        super(GAN, self).compile()\n",
        "        self.g_optimizer = g_optimizer\n",
        "        self.d_optimizer = d_optimizer\n",
        "        self.g_loss = g_loss\n",
        "        self.d_loss = d_loss\n",
        "\n",
        "    def train_step(self, real_images):\n",
        "        noise = tf.random.normal((BATCH_SIZE, LATENT_DIM))\n",
        "\n",
        "        # Используем self-модели вместо глобальных переменных\n",
        "        with tf.GradientTape() as gen_tape, tf.GradientTape() as disc_tape:\n",
        "            generated_images = self.generator(noise, training=True)\n",
        "\n",
        "            real_output = self.discriminator(real_images, training=True)\n",
        "            fake_output = self.discriminator(generated_images, training=True)\n",
        "\n",
        "            g_loss = self.g_loss(fake_output)\n",
        "            d_loss = self.d_loss(real_output, fake_output)\n",
        "\n",
        "        gradients_of_generator = gen_tape.gradient(\n",
        "            g_loss, self.generator.trainable_variables\n",
        "        )\n",
        "        gradients_of_discriminator = disc_tape.gradient(\n",
        "            d_loss, self.discriminator.trainable_variables\n",
        "        )\n",
        "\n",
        "        self.g_optimizer.apply_gradients(\n",
        "            zip(gradients_of_generator, self.generator.trainable_variables)\n",
        "        )\n",
        "        self.d_optimizer.apply_gradients(\n",
        "            zip(gradients_of_discriminator, self.discriminator.trainable_variables)\n",
        "        )\n",
        "\n",
        "        return {\"d_loss\": d_loss, \"g_loss\": g_loss}"
      ]
    },
    {
      "cell_type": "markdown",
      "id": "38680426",
      "metadata": {
        "id": "38680426"
      },
      "source": [
        "# Funcs"
      ]
    },
    {
      "cell_type": "code",
      "execution_count": 83,
      "id": "90bd551f",
      "metadata": {
        "id": "90bd551f"
      },
      "outputs": [],
      "source": [
        "def generate_and_save_images(model, epoch, test_input, path):\n",
        "    predictions = model(test_input)\n",
        "\n",
        "    fig = plt.figure(figsize=(7, 7))\n",
        "\n",
        "    for i in range(predictions.shape[0]):\n",
        "        plt.subplot(4, 4, i + 1)\n",
        "        plt.imshow(predictions[i, :, :, 0] * 255, cmap=\"gray\")\n",
        "        plt.axis(\"off\")\n",
        "\n",
        "    plt.savefig(os.path.join(path, \"image_at_epoch_{:04d}.png\".format(epoch)))\n",
        "    plt.show()"
      ]
    },
    {
      "cell_type": "code",
      "execution_count": 84,
      "id": "ff9e12af",
      "metadata": {
        "id": "ff9e12af"
      },
      "outputs": [],
      "source": [
        "cross_entropy = losses.BinaryCrossentropy(from_logits=True)\n",
        "\n",
        "\n",
        "def discriminator_loss(real_output, fake_output):\n",
        "    real_loss = cross_entropy(tf.ones_like(real_output), real_output)\n",
        "    fake_loss = cross_entropy(tf.zeros_like(fake_output), fake_output)\n",
        "    total_loss = real_loss + fake_loss\n",
        "    return total_loss\n",
        "\n",
        "\n",
        "def generator_loss(fake_output):\n",
        "    return cross_entropy(tf.ones_like(fake_output), fake_output)\n",
        "\n",
        "\n",
        "generator_optimizer = optimizers.Adam(learning_rate=0.0002)\n",
        "discriminator_optimizer = optimizers.Adam(learning_rate=0.0002)"
      ]
    },
    {
      "cell_type": "code",
      "execution_count": 85,
      "id": "f6613df0",
      "metadata": {
        "id": "f6613df0"
      },
      "outputs": [],
      "source": [
        "checkpoint_dir = \"./checkpoints\"\n",
        "img_dir = \"./images\"\n",
        "checkpoint_prefix = os.path.join(checkpoint_dir, \"ckpt\")\n",
        "checkpoint = tf.train.Checkpoint(\n",
        "    generator_optimizer=generator_optimizer,\n",
        "    discriminator_optimizer=discriminator_optimizer,\n",
        "    generator=generator,\n",
        "    discriminator=discriminator,\n",
        ")"
      ]
    },
    {
      "cell_type": "markdown",
      "id": "19b43637",
      "metadata": {
        "id": "19b43637"
      },
      "source": [
        "# Test"
      ]
    },
    {
      "cell_type": "code",
      "execution_count": 86,
      "id": "6e288d19",
      "metadata": {
        "id": "6e288d19"
      },
      "outputs": [],
      "source": [
        "SEED = tf.random.normal([16, LATENT_DIM])"
      ]
    },
    {
      "cell_type": "code",
      "execution_count": 87,
      "id": "53dc6b70",
      "metadata": {
        "id": "53dc6b70"
      },
      "outputs": [],
      "source": [
        "def train(model, dataset, epochs):\n",
        "    count_batches = len(dataset)\n",
        "    print(f\"total epochs: {epochs}\")\n",
        "    print()\n",
        "    for epoch in range(epochs):\n",
        "        print(f\"epoch {epoch + 1} / {epochs}\")\n",
        "\n",
        "        # start = time.time()\n",
        "\n",
        "        for index_batch, image_batch in enumerate(dataset):\n",
        "            print(f\"{index_batch + 1} / {count_batches}\")\n",
        "            model.train_step(image_batch)\n",
        "\n",
        "        display.clear_output(wait=True)\n",
        "        generate_and_save_images(model.generator, epoch + 1, SEED, img_dir)\n",
        "\n",
        "        if (epoch + 1) % 5 == 0:\n",
        "            checkpoint.save(file_prefix=checkpoint_prefix)\n",
        "\n",
        "        # print (f'Time for epoch {epoch + 1} is {time.time() - start} sec')\n",
        "    print()\n",
        "\n",
        "    # display.clear_output(wait=True)\n",
        "    generate_and_save_images(model.generator, epochs, SEED, img_dir)"
      ]
    },
    {
      "cell_type": "code",
      "execution_count": null,
      "id": "09529604",
      "metadata": {
        "id": "09529604"
      },
      "outputs": [],
      "source": [
        "gan = GAN()\n",
        "gan.compile(\n",
        "    g_optimizer=generator_optimizer,\n",
        "    d_optimizer=discriminator_optimizer,\n",
        "    g_loss=generator_loss,\n",
        "    d_loss=discriminator_loss,\n",
        ")"
      ]
    },
    {
      "cell_type": "code",
      "execution_count": 89,
      "id": "ca1d08a2",
      "metadata": {
        "colab": {
          "base_uri": "https://localhost:8080/",
          "height": 373
        },
        "id": "ca1d08a2",
        "outputId": "7e995122-55c4-4c15-cb50-2a5135f39ee5"
      },
      "outputs": [
        {
          "ename": "TypeError",
          "evalue": "TensorFlowTrainer.predict() got an unexpected keyword argument 'training'",
          "output_type": "error",
          "traceback": [
            "\u001b[0;31m---------------------------------------------------------------------------\u001b[0m",
            "\u001b[0;31mTypeError\u001b[0m                                 Traceback (most recent call last)",
            "\u001b[0;32m<ipython-input-89-fea440ced8a1>\u001b[0m in \u001b[0;36m<cell line: 0>\u001b[0;34m()\u001b[0m\n\u001b[0;32m----> 1\u001b[0;31m \u001b[0mtrain\u001b[0m\u001b[0;34m(\u001b[0m\u001b[0mgan\u001b[0m\u001b[0;34m,\u001b[0m \u001b[0mtrain_dataset\u001b[0m\u001b[0;34m,\u001b[0m \u001b[0mEPOCHS\u001b[0m\u001b[0;34m)\u001b[0m\u001b[0;34m\u001b[0m\u001b[0;34m\u001b[0m\u001b[0m\n\u001b[0m\u001b[1;32m      2\u001b[0m \u001b[0;34m\u001b[0m\u001b[0m\n\u001b[1;32m      3\u001b[0m \u001b[0mdiscriminator\u001b[0m\u001b[0;34m.\u001b[0m\u001b[0msave\u001b[0m\u001b[0;34m(\u001b[0m\u001b[0;34m\"models/discriminator.keras\"\u001b[0m\u001b[0;34m)\u001b[0m\u001b[0;34m\u001b[0m\u001b[0;34m\u001b[0m\u001b[0m\n\u001b[1;32m      4\u001b[0m \u001b[0mgenerator\u001b[0m\u001b[0;34m.\u001b[0m\u001b[0msave\u001b[0m\u001b[0;34m(\u001b[0m\u001b[0;34m\"models/generator.keras\"\u001b[0m\u001b[0;34m)\u001b[0m\u001b[0;34m\u001b[0m\u001b[0;34m\u001b[0m\u001b[0m\n",
            "\u001b[0;32m<ipython-input-87-abbfef73a2fe>\u001b[0m in \u001b[0;36mtrain\u001b[0;34m(model, dataset, epochs)\u001b[0m\n\u001b[1;32m     13\u001b[0m \u001b[0;34m\u001b[0m\u001b[0m\n\u001b[1;32m     14\u001b[0m         \u001b[0mdisplay\u001b[0m\u001b[0;34m.\u001b[0m\u001b[0mclear_output\u001b[0m\u001b[0;34m(\u001b[0m\u001b[0mwait\u001b[0m\u001b[0;34m=\u001b[0m\u001b[0;32mTrue\u001b[0m\u001b[0;34m)\u001b[0m\u001b[0;34m\u001b[0m\u001b[0;34m\u001b[0m\u001b[0m\n\u001b[0;32m---> 15\u001b[0;31m         \u001b[0mgenerate_and_save_images\u001b[0m\u001b[0;34m(\u001b[0m\u001b[0mmodel\u001b[0m\u001b[0;34m,\u001b[0m \u001b[0mepoch\u001b[0m \u001b[0;34m+\u001b[0m \u001b[0;36m1\u001b[0m\u001b[0;34m,\u001b[0m \u001b[0mSEED\u001b[0m\u001b[0;34m,\u001b[0m \u001b[0mimg_dir\u001b[0m\u001b[0;34m)\u001b[0m\u001b[0;34m\u001b[0m\u001b[0;34m\u001b[0m\u001b[0m\n\u001b[0m\u001b[1;32m     16\u001b[0m \u001b[0;34m\u001b[0m\u001b[0m\n\u001b[1;32m     17\u001b[0m         \u001b[0;32mif\u001b[0m \u001b[0;34m(\u001b[0m\u001b[0mepoch\u001b[0m \u001b[0;34m+\u001b[0m \u001b[0;36m1\u001b[0m\u001b[0;34m)\u001b[0m \u001b[0;34m%\u001b[0m \u001b[0;36m5\u001b[0m \u001b[0;34m==\u001b[0m \u001b[0;36m0\u001b[0m\u001b[0;34m:\u001b[0m\u001b[0;34m\u001b[0m\u001b[0;34m\u001b[0m\u001b[0m\n",
            "\u001b[0;32m<ipython-input-83-3396e2125346>\u001b[0m in \u001b[0;36mgenerate_and_save_images\u001b[0;34m(model, epoch, test_input, path)\u001b[0m\n\u001b[1;32m      1\u001b[0m \u001b[0;32mdef\u001b[0m \u001b[0mgenerate_and_save_images\u001b[0m\u001b[0;34m(\u001b[0m\u001b[0mmodel\u001b[0m\u001b[0;34m,\u001b[0m \u001b[0mepoch\u001b[0m\u001b[0;34m,\u001b[0m \u001b[0mtest_input\u001b[0m\u001b[0;34m,\u001b[0m \u001b[0mpath\u001b[0m\u001b[0;34m)\u001b[0m\u001b[0;34m:\u001b[0m\u001b[0;34m\u001b[0m\u001b[0;34m\u001b[0m\u001b[0m\n\u001b[0;32m----> 2\u001b[0;31m     \u001b[0mpredictions\u001b[0m \u001b[0;34m=\u001b[0m \u001b[0mmodel\u001b[0m\u001b[0;34m.\u001b[0m\u001b[0mpredict\u001b[0m\u001b[0;34m(\u001b[0m\u001b[0mtest_input\u001b[0m\u001b[0;34m,\u001b[0m \u001b[0mtraining\u001b[0m\u001b[0;34m=\u001b[0m\u001b[0;32mFalse\u001b[0m\u001b[0;34m)\u001b[0m\u001b[0;34m\u001b[0m\u001b[0;34m\u001b[0m\u001b[0m\n\u001b[0m\u001b[1;32m      3\u001b[0m \u001b[0;34m\u001b[0m\u001b[0m\n\u001b[1;32m      4\u001b[0m     \u001b[0mfig\u001b[0m \u001b[0;34m=\u001b[0m \u001b[0mplt\u001b[0m\u001b[0;34m.\u001b[0m\u001b[0mfigure\u001b[0m\u001b[0;34m(\u001b[0m\u001b[0mfigsize\u001b[0m\u001b[0;34m=\u001b[0m\u001b[0;34m(\u001b[0m\u001b[0;36m7\u001b[0m\u001b[0;34m,\u001b[0m \u001b[0;36m7\u001b[0m\u001b[0;34m)\u001b[0m\u001b[0;34m)\u001b[0m\u001b[0;34m\u001b[0m\u001b[0;34m\u001b[0m\u001b[0m\n\u001b[1;32m      5\u001b[0m \u001b[0;34m\u001b[0m\u001b[0m\n",
            "\u001b[0;32m/usr/local/lib/python3.11/dist-packages/keras/src/utils/traceback_utils.py\u001b[0m in \u001b[0;36merror_handler\u001b[0;34m(*args, **kwargs)\u001b[0m\n\u001b[1;32m    120\u001b[0m             \u001b[0;31m# To get the full stack trace, call:\u001b[0m\u001b[0;34m\u001b[0m\u001b[0;34m\u001b[0m\u001b[0m\n\u001b[1;32m    121\u001b[0m             \u001b[0;31m# `keras.config.disable_traceback_filtering()`\u001b[0m\u001b[0;34m\u001b[0m\u001b[0;34m\u001b[0m\u001b[0m\n\u001b[0;32m--> 122\u001b[0;31m             \u001b[0;32mraise\u001b[0m \u001b[0me\u001b[0m\u001b[0;34m.\u001b[0m\u001b[0mwith_traceback\u001b[0m\u001b[0;34m(\u001b[0m\u001b[0mfiltered_tb\u001b[0m\u001b[0;34m)\u001b[0m \u001b[0;32mfrom\u001b[0m \u001b[0;32mNone\u001b[0m\u001b[0;34m\u001b[0m\u001b[0;34m\u001b[0m\u001b[0m\n\u001b[0m\u001b[1;32m    123\u001b[0m         \u001b[0;32mfinally\u001b[0m\u001b[0;34m:\u001b[0m\u001b[0;34m\u001b[0m\u001b[0;34m\u001b[0m\u001b[0m\n\u001b[1;32m    124\u001b[0m             \u001b[0;32mdel\u001b[0m \u001b[0mfiltered_tb\u001b[0m\u001b[0;34m\u001b[0m\u001b[0;34m\u001b[0m\u001b[0m\n",
            "\u001b[0;32m/usr/local/lib/python3.11/dist-packages/keras/src/utils/traceback_utils.py\u001b[0m in \u001b[0;36merror_handler\u001b[0;34m(*args, **kwargs)\u001b[0m\n\u001b[1;32m    117\u001b[0m             \u001b[0;32mreturn\u001b[0m \u001b[0mfn\u001b[0m\u001b[0;34m(\u001b[0m\u001b[0;34m*\u001b[0m\u001b[0margs\u001b[0m\u001b[0;34m,\u001b[0m \u001b[0;34m**\u001b[0m\u001b[0mkwargs\u001b[0m\u001b[0;34m)\u001b[0m\u001b[0;34m\u001b[0m\u001b[0;34m\u001b[0m\u001b[0m\n\u001b[1;32m    118\u001b[0m         \u001b[0;32mexcept\u001b[0m \u001b[0mException\u001b[0m \u001b[0;32mas\u001b[0m \u001b[0me\u001b[0m\u001b[0;34m:\u001b[0m\u001b[0;34m\u001b[0m\u001b[0;34m\u001b[0m\u001b[0m\n\u001b[0;32m--> 119\u001b[0;31m             \u001b[0mfiltered_tb\u001b[0m \u001b[0;34m=\u001b[0m \u001b[0m_process_traceback_frames\u001b[0m\u001b[0;34m(\u001b[0m\u001b[0me\u001b[0m\u001b[0;34m.\u001b[0m\u001b[0m__traceback__\u001b[0m\u001b[0;34m)\u001b[0m\u001b[0;34m\u001b[0m\u001b[0;34m\u001b[0m\u001b[0m\n\u001b[0m\u001b[1;32m    120\u001b[0m             \u001b[0;31m# To get the full stack trace, call:\u001b[0m\u001b[0;34m\u001b[0m\u001b[0;34m\u001b[0m\u001b[0m\n\u001b[1;32m    121\u001b[0m             \u001b[0;31m# `keras.config.disable_traceback_filtering()`\u001b[0m\u001b[0;34m\u001b[0m\u001b[0;34m\u001b[0m\u001b[0m\n",
            "\u001b[0;31mTypeError\u001b[0m: TensorFlowTrainer.predict() got an unexpected keyword argument 'training'"
          ]
        }
      ],
      "source": [
        "train(gan, train_dataset, EPOCHS)\n",
        "\n",
        "discriminator.save(\"models/discriminator.keras\")\n",
        "generator.save(\"models/generator.keras\")"
      ]
    },
    {
      "cell_type": "code",
      "execution_count": null,
      "id": "b42e675f",
      "metadata": {
        "id": "b42e675f"
      },
      "outputs": [],
      "source": [
        "noise = tf.random.normal([1, 100])\n",
        "generated_image = generator(noise, training=False)\n",
        "\n",
        "draw_image(generated_image, generated_image.shape)"
      ]
    },
    {
      "cell_type": "code",
      "execution_count": null,
      "id": "714033c6",
      "metadata": {
        "id": "714033c6"
      },
      "outputs": [],
      "source": []
    }
  ],
  "metadata": {
    "accelerator": "GPU",
    "colab": {
      "gpuType": "T4",
      "provenance": []
    },
    "kernelspec": {
      "display_name": "Python 3",
      "name": "python3"
    },
    "language_info": {
      "codemirror_mode": {
        "name": "ipython",
        "version": 3
      },
      "file_extension": ".py",
      "mimetype": "text/x-python",
      "name": "python",
      "nbconvert_exporter": "python",
      "pygments_lexer": "ipython3",
      "version": "3.10.2"
    }
  },
  "nbformat": 4,
  "nbformat_minor": 5
}
