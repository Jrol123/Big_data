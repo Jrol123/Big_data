{
 "cells": [
  {
   "cell_type": "markdown",
   "metadata": {},
   "source": [
    "# Imports"
   ]
  },
  {
   "cell_type": "code",
   "execution_count": 127,
   "metadata": {},
   "outputs": [],
   "source": [
    "import pandas as pd\n",
    "import numpy as np\n",
    "import matplotlib.pyplot as plt\n",
    "import seaborn as sns"
   ]
  },
  {
   "cell_type": "code",
   "execution_count": 128,
   "metadata": {},
   "outputs": [],
   "source": [
    "from sklearn.model_selection import train_test_split\n",
    "from sklearn.preprocessing import StandardScaler\n",
    "from sklearn.metrics import classification_report, roc_auc_score"
   ]
  },
  {
   "cell_type": "code",
   "execution_count": 129,
   "metadata": {},
   "outputs": [],
   "source": [
    "import tensorflow as tf\n",
    "from tensorflow.keras.models import Sequential, load_model\n",
    "from tensorflow.keras.layers import Dense, LSTM, Dropout"
   ]
  },
  {
   "cell_type": "code",
   "execution_count": 130,
   "metadata": {},
   "outputs": [],
   "source": [
    "import warnings\n",
    "warnings.filterwarnings(\"ignore\")"
   ]
  },
  {
   "cell_type": "markdown",
   "metadata": {},
   "source": [
    "# DataMod"
   ]
  },
  {
   "cell_type": "code",
   "execution_count": 131,
   "metadata": {},
   "outputs": [],
   "source": [
    "# data_test = pd.read_csv(\"data/test.csv\")\n",
    "# data_train = pd.read_csv(\"data/train.csv\")"
   ]
  },
  {
   "cell_type": "code",
   "execution_count": 132,
   "metadata": {},
   "outputs": [
    {
     "data": {
      "application/vnd.microsoft.datawrangler.viewer.v0+json": {
       "columns": [
        {
         "name": "index",
         "rawType": "int64",
         "type": "integer"
        },
        {
         "name": "id",
         "rawType": "int64",
         "type": "integer"
        },
        {
         "name": "day",
         "rawType": "int64",
         "type": "integer"
        },
        {
         "name": "pressure",
         "rawType": "float64",
         "type": "float"
        },
        {
         "name": "maxtemp",
         "rawType": "float64",
         "type": "float"
        },
        {
         "name": "temparature",
         "rawType": "float64",
         "type": "float"
        },
        {
         "name": "mintemp",
         "rawType": "float64",
         "type": "float"
        },
        {
         "name": "dewpoint",
         "rawType": "float64",
         "type": "float"
        },
        {
         "name": "humidity",
         "rawType": "float64",
         "type": "float"
        },
        {
         "name": "cloud",
         "rawType": "float64",
         "type": "float"
        },
        {
         "name": "sunshine",
         "rawType": "float64",
         "type": "float"
        },
        {
         "name": "winddirection",
         "rawType": "float64",
         "type": "float"
        },
        {
         "name": "windspeed",
         "rawType": "float64",
         "type": "float"
        },
        {
         "name": "rainfall",
         "rawType": "int64",
         "type": "integer"
        }
       ],
       "conversionMethod": "pd.DataFrame",
       "ref": "07498c54-9b9b-4e45-a315-e2bc5e5784a1",
       "rows": [
        [
         "0",
         "0",
         "1",
         "1017.4",
         "21.2",
         "20.6",
         "19.9",
         "19.4",
         "87.0",
         "88.0",
         "1.1",
         "60.0",
         "17.2",
         "1"
        ],
        [
         "1",
         "1",
         "2",
         "1019.5",
         "16.2",
         "16.9",
         "15.8",
         "15.4",
         "95.0",
         "91.0",
         "0.0",
         "50.0",
         "21.9",
         "1"
        ],
        [
         "2",
         "2",
         "3",
         "1024.1",
         "19.4",
         "16.1",
         "14.6",
         "9.3",
         "75.0",
         "47.0",
         "8.3",
         "70.0",
         "18.1",
         "1"
        ],
        [
         "3",
         "3",
         "4",
         "1013.4",
         "18.1",
         "17.8",
         "16.9",
         "16.8",
         "95.0",
         "95.0",
         "0.0",
         "60.0",
         "35.6",
         "1"
        ],
        [
         "4",
         "4",
         "5",
         "1021.8",
         "21.3",
         "18.4",
         "15.2",
         "9.6",
         "52.0",
         "45.0",
         "3.6",
         "40.0",
         "24.8",
         "0"
        ],
        [
         "5",
         "5",
         "6",
         "1022.7",
         "20.6",
         "18.6",
         "16.5",
         "12.5",
         "79.0",
         "81.0",
         "0.0",
         "20.0",
         "15.7",
         "1"
        ],
        [
         "6",
         "6",
         "7",
         "1022.8",
         "19.5",
         "18.4",
         "15.3",
         "11.3",
         "56.0",
         "46.0",
         "7.6",
         "20.0",
         "28.4",
         "0"
        ],
        [
         "7",
         "7",
         "8",
         "1019.7",
         "15.8",
         "13.6",
         "12.7",
         "11.8",
         "96.0",
         "100.0",
         "0.0",
         "50.0",
         "52.8",
         "1"
        ],
        [
         "8",
         "8",
         "9",
         "1017.4",
         "17.6",
         "16.5",
         "15.6",
         "12.5",
         "86.0",
         "100.0",
         "0.0",
         "50.0",
         "37.5",
         "1"
        ],
        [
         "9",
         "9",
         "10",
         "1025.4",
         "16.5",
         "14.4",
         "12.0",
         "8.6",
         "77.0",
         "84.0",
         "1.0",
         "50.0",
         "38.3",
         "0"
        ],
        [
         "10",
         "10",
         "11",
         "1016.8",
         "16.3",
         "15.3",
         "14.1",
         "14.0",
         "97.0",
         "100.0",
         "0.0",
         "40.0",
         "24.4",
         "1"
        ],
        [
         "11",
         "11",
         "12",
         "1012.5",
         "16.2",
         "15.2",
         "14.0",
         "12.4",
         "98.0",
         "100.0",
         "0.0",
         "50.0",
         "23.5",
         "1"
        ],
        [
         "12",
         "12",
         "13",
         "1020.4",
         "15.0",
         "15.5",
         "13.2",
         "12.0",
         "77.0",
         "86.0",
         "0.0",
         "50.0",
         "32.4",
         "1"
        ],
        [
         "13",
         "13",
         "14",
         "1012.5",
         "13.5",
         "12.9",
         "11.6",
         "11.8",
         "87.0",
         "92.0",
         "0.0",
         "50.0",
         "37.0",
         "1"
        ],
        [
         "14",
         "14",
         "15",
         "1018.4",
         "17.8",
         "16.5",
         "15.1",
         "12.1",
         "77.0",
         "85.0",
         "1.2",
         "40.0",
         "20.9",
         "1"
        ],
        [
         "15",
         "15",
         "16",
         "1024.3",
         "15.3",
         "12.9",
         "10.0",
         "11.2",
         "79.0",
         "91.0",
         "0.3",
         "20.0",
         "20.0",
         "1"
        ],
        [
         "16",
         "16",
         "17",
         "1022.5",
         "16.3",
         "13.1",
         "11.4",
         "2.0",
         "79.0",
         "70.0",
         "6.8",
         "20.0",
         "30.3",
         "1"
        ],
        [
         "17",
         "17",
         "18",
         "1034.6",
         "17.5",
         "16.2",
         "14.1",
         "11.8",
         "68.0",
         "60.0",
         "2.5",
         "50.0",
         "13.4",
         "0"
        ],
        [
         "18",
         "18",
         "19",
         "1024.1",
         "16.8",
         "15.8",
         "14.0",
         "12.9",
         "76.0",
         "77.0",
         "0.0",
         "20.0",
         "20.5",
         "1"
        ],
        [
         "19",
         "19",
         "20",
         "1020.2",
         "16.4",
         "14.2",
         "12.7",
         "11.6",
         "75.0",
         "93.0",
         "0.1",
         "40.0",
         "21.9",
         "1"
        ],
        [
         "20",
         "20",
         "21",
         "1022.4",
         "17.7",
         "16.4",
         "14.8",
         "11.3",
         "92.0",
         "88.0",
         "0.4",
         "30.0",
         "41.3",
         "1"
        ],
        [
         "21",
         "21",
         "22",
         "1022.6",
         "21.9",
         "17.8",
         "15.8",
         "14.3",
         "52.0",
         "49.0",
         "9.1",
         "50.0",
         "10.2",
         "0"
        ],
        [
         "22",
         "22",
         "23",
         "1020.6",
         "18.5",
         "17.3",
         "16.9",
         "16.8",
         "95.0",
         "95.0",
         "0.0",
         "60.0",
         "39.5",
         "1"
        ],
        [
         "23",
         "23",
         "24",
         "1013.0",
         "24.8",
         "19.9",
         "17.1",
         "18.1",
         "90.0",
         "92.0",
         "0.0",
         "70.0",
         "30.4",
         "1"
        ],
        [
         "24",
         "24",
         "25",
         "1012.5",
         "23.8",
         "22.2",
         "20.4",
         "20.8",
         "84.0",
         "88.0",
         "0.0",
         "70.0",
         "30.2",
         "1"
        ],
        [
         "25",
         "25",
         "26",
         "1019.5",
         "25.3",
         "22.3",
         "21.0",
         "20.6",
         "76.0",
         "78.0",
         "10.2",
         "80.0",
         "10.2",
         "1"
        ],
        [
         "26",
         "26",
         "27",
         "1013.4",
         "23.8",
         "21.1",
         "19.8",
         "19.6",
         "92.0",
         "95.0",
         "0.0",
         "40.0",
         "15.9",
         "1"
        ],
        [
         "27",
         "27",
         "28",
         "1017.0",
         "21.7",
         "20.3",
         "19.4",
         "17.9",
         "80.0",
         "80.0",
         "2.6",
         "50.0",
         "14.5",
         "1"
        ],
        [
         "28",
         "28",
         "29",
         "1019.9",
         "22.9",
         "20.9",
         "19.2",
         "17.3",
         "86.0",
         "79.0",
         "0.6",
         "50.0",
         "21.4",
         "1"
        ],
        [
         "29",
         "29",
         "30",
         "1018.1",
         "23.1",
         "20.8",
         "19.2",
         "15.5",
         "74.0",
         "49.0",
         "7.7",
         "40.0",
         "14.3",
         "0"
        ],
        [
         "30",
         "30",
         "31",
         "1018.5",
         "21.3",
         "20.3",
         "19.3",
         "15.3",
         "75.0",
         "69.0",
         "7.7",
         "70.0",
         "35.1",
         "1"
        ],
        [
         "31",
         "31",
         "32",
         "1019.5",
         "23.2",
         "22.1",
         "20.1",
         "18.8",
         "82.0",
         "69.0",
         "1.1",
         "40.0",
         "20.5",
         "0"
        ],
        [
         "32",
         "32",
         "33",
         "1020.4",
         "21.3",
         "18.8",
         "17.3",
         "13.6",
         "52.0",
         "56.0",
         "2.9",
         "40.0",
         "21.3",
         "0"
        ],
        [
         "33",
         "33",
         "34",
         "1024.4",
         "21.6",
         "19.3",
         "17.4",
         "15.3",
         "90.0",
         "95.0",
         "4.3",
         "70.0",
         "35.3",
         "1"
        ],
        [
         "34",
         "34",
         "35",
         "1017.0",
         "21.5",
         "20.6",
         "18.6",
         "17.0",
         "91.0",
         "88.0",
         "0.0",
         "50.0",
         "14.3",
         "1"
        ],
        [
         "35",
         "35",
         "36",
         "1023.1",
         "18.2",
         "17.1",
         "16.3",
         "9.5",
         "78.0",
         "89.0",
         "0.0",
         "50.0",
         "28.4",
         "0"
        ],
        [
         "36",
         "36",
         "37",
         "1014.4",
         "22.9",
         "21.4",
         "20.0",
         "17.8",
         "79.0",
         "88.0",
         "0.0",
         "40.0",
         "18.4",
         "1"
        ],
        [
         "37",
         "37",
         "38",
         "1021.8",
         "21.1",
         "18.2",
         "17.8",
         "16.9",
         "74.0",
         "44.0",
         "9.5",
         "20.0",
         "26.7",
         "0"
        ],
        [
         "38",
         "38",
         "39",
         "1023.1",
         "20.4",
         "17.8",
         "14.8",
         "15.0",
         "75.0",
         "43.0",
         "9.2",
         "60.0",
         "11.9",
         "0"
        ],
        [
         "39",
         "39",
         "40",
         "1018.9",
         "21.9",
         "19.3",
         "17.2",
         "16.9",
         "79.0",
         "90.0",
         "0.0",
         "50.0",
         "28.8",
         "1"
        ],
        [
         "40",
         "40",
         "41",
         "1017.1",
         "23.4",
         "21.7",
         "19.6",
         "19.0",
         "88.0",
         "83.0",
         "2.3",
         "40.0",
         "29.6",
         "1"
        ],
        [
         "41",
         "41",
         "42",
         "1015.8",
         "21.2",
         "19.4",
         "17.3",
         "17.0",
         "75.0",
         "46.0",
         "4.1",
         "20.0",
         "19.0",
         "0"
        ],
        [
         "42",
         "42",
         "43",
         "1013.1",
         "21.4",
         "20.9",
         "19.4",
         "17.8",
         "83.0",
         "88.0",
         "0.0",
         "30.0",
         "20.8",
         "1"
        ],
        [
         "43",
         "43",
         "44",
         "1015.2",
         "18.9",
         "17.7",
         "16.9",
         "16.8",
         "90.0",
         "90.0",
         "0.0",
         "60.0",
         "34.2",
         "1"
        ],
        [
         "44",
         "44",
         "45",
         "1017.4",
         "16.1",
         "15.5",
         "13.6",
         "11.4",
         "72.0",
         "43.0",
         "8.8",
         "40.0",
         "27.3",
         "1"
        ],
        [
         "45",
         "45",
         "46",
         "1016.9",
         "17.5",
         "15.5",
         "14.8",
         "14.6",
         "91.0",
         "91.0",
         "0.0",
         "20.0",
         "33.4",
         "1"
        ],
        [
         "46",
         "46",
         "47",
         "1018.1",
         "20.6",
         "16.1",
         "14.2",
         "12.2",
         "79.0",
         "89.0",
         "1.0",
         "20.0",
         "10.7",
         "1"
        ],
        [
         "47",
         "47",
         "48",
         "1016.5",
         "21.6",
         "19.2",
         "17.5",
         "19.0",
         "95.0",
         "92.0",
         "0.3",
         "40.0",
         "6.9",
         "1"
        ],
        [
         "48",
         "48",
         "49",
         "1016.8",
         "21.3",
         "19.5",
         "17.6",
         "17.6",
         "75.0",
         "70.0",
         "2.2",
         "50.0",
         "16.5",
         "0"
        ],
        [
         "49",
         "49",
         "50",
         "1023.6",
         "18.8",
         "16.0",
         "14.8",
         "12.4",
         "72.0",
         "40.0",
         "9.5",
         "20.0",
         "9.8",
         "1"
        ]
       ],
       "shape": {
        "columns": 13,
        "rows": 2190
       }
      },
      "text/html": [
       "<div>\n",
       "<style scoped>\n",
       "    .dataframe tbody tr th:only-of-type {\n",
       "        vertical-align: middle;\n",
       "    }\n",
       "\n",
       "    .dataframe tbody tr th {\n",
       "        vertical-align: top;\n",
       "    }\n",
       "\n",
       "    .dataframe thead th {\n",
       "        text-align: right;\n",
       "    }\n",
       "</style>\n",
       "<table border=\"1\" class=\"dataframe\">\n",
       "  <thead>\n",
       "    <tr style=\"text-align: right;\">\n",
       "      <th></th>\n",
       "      <th>id</th>\n",
       "      <th>day</th>\n",
       "      <th>pressure</th>\n",
       "      <th>maxtemp</th>\n",
       "      <th>temparature</th>\n",
       "      <th>mintemp</th>\n",
       "      <th>dewpoint</th>\n",
       "      <th>humidity</th>\n",
       "      <th>cloud</th>\n",
       "      <th>sunshine</th>\n",
       "      <th>winddirection</th>\n",
       "      <th>windspeed</th>\n",
       "      <th>rainfall</th>\n",
       "    </tr>\n",
       "  </thead>\n",
       "  <tbody>\n",
       "    <tr>\n",
       "      <th>0</th>\n",
       "      <td>0</td>\n",
       "      <td>1</td>\n",
       "      <td>1017.4</td>\n",
       "      <td>21.2</td>\n",
       "      <td>20.6</td>\n",
       "      <td>19.9</td>\n",
       "      <td>19.4</td>\n",
       "      <td>87.0</td>\n",
       "      <td>88.0</td>\n",
       "      <td>1.1</td>\n",
       "      <td>60.0</td>\n",
       "      <td>17.2</td>\n",
       "      <td>1</td>\n",
       "    </tr>\n",
       "    <tr>\n",
       "      <th>1</th>\n",
       "      <td>1</td>\n",
       "      <td>2</td>\n",
       "      <td>1019.5</td>\n",
       "      <td>16.2</td>\n",
       "      <td>16.9</td>\n",
       "      <td>15.8</td>\n",
       "      <td>15.4</td>\n",
       "      <td>95.0</td>\n",
       "      <td>91.0</td>\n",
       "      <td>0.0</td>\n",
       "      <td>50.0</td>\n",
       "      <td>21.9</td>\n",
       "      <td>1</td>\n",
       "    </tr>\n",
       "    <tr>\n",
       "      <th>2</th>\n",
       "      <td>2</td>\n",
       "      <td>3</td>\n",
       "      <td>1024.1</td>\n",
       "      <td>19.4</td>\n",
       "      <td>16.1</td>\n",
       "      <td>14.6</td>\n",
       "      <td>9.3</td>\n",
       "      <td>75.0</td>\n",
       "      <td>47.0</td>\n",
       "      <td>8.3</td>\n",
       "      <td>70.0</td>\n",
       "      <td>18.1</td>\n",
       "      <td>1</td>\n",
       "    </tr>\n",
       "    <tr>\n",
       "      <th>3</th>\n",
       "      <td>3</td>\n",
       "      <td>4</td>\n",
       "      <td>1013.4</td>\n",
       "      <td>18.1</td>\n",
       "      <td>17.8</td>\n",
       "      <td>16.9</td>\n",
       "      <td>16.8</td>\n",
       "      <td>95.0</td>\n",
       "      <td>95.0</td>\n",
       "      <td>0.0</td>\n",
       "      <td>60.0</td>\n",
       "      <td>35.6</td>\n",
       "      <td>1</td>\n",
       "    </tr>\n",
       "    <tr>\n",
       "      <th>4</th>\n",
       "      <td>4</td>\n",
       "      <td>5</td>\n",
       "      <td>1021.8</td>\n",
       "      <td>21.3</td>\n",
       "      <td>18.4</td>\n",
       "      <td>15.2</td>\n",
       "      <td>9.6</td>\n",
       "      <td>52.0</td>\n",
       "      <td>45.0</td>\n",
       "      <td>3.6</td>\n",
       "      <td>40.0</td>\n",
       "      <td>24.8</td>\n",
       "      <td>0</td>\n",
       "    </tr>\n",
       "    <tr>\n",
       "      <th>...</th>\n",
       "      <td>...</td>\n",
       "      <td>...</td>\n",
       "      <td>...</td>\n",
       "      <td>...</td>\n",
       "      <td>...</td>\n",
       "      <td>...</td>\n",
       "      <td>...</td>\n",
       "      <td>...</td>\n",
       "      <td>...</td>\n",
       "      <td>...</td>\n",
       "      <td>...</td>\n",
       "      <td>...</td>\n",
       "      <td>...</td>\n",
       "    </tr>\n",
       "    <tr>\n",
       "      <th>2185</th>\n",
       "      <td>2185</td>\n",
       "      <td>361</td>\n",
       "      <td>1014.6</td>\n",
       "      <td>23.2</td>\n",
       "      <td>20.6</td>\n",
       "      <td>19.1</td>\n",
       "      <td>19.9</td>\n",
       "      <td>97.0</td>\n",
       "      <td>88.0</td>\n",
       "      <td>0.1</td>\n",
       "      <td>40.0</td>\n",
       "      <td>22.1</td>\n",
       "      <td>1</td>\n",
       "    </tr>\n",
       "    <tr>\n",
       "      <th>2186</th>\n",
       "      <td>2186</td>\n",
       "      <td>362</td>\n",
       "      <td>1012.4</td>\n",
       "      <td>17.2</td>\n",
       "      <td>17.3</td>\n",
       "      <td>16.3</td>\n",
       "      <td>15.3</td>\n",
       "      <td>91.0</td>\n",
       "      <td>88.0</td>\n",
       "      <td>0.0</td>\n",
       "      <td>50.0</td>\n",
       "      <td>35.3</td>\n",
       "      <td>1</td>\n",
       "    </tr>\n",
       "    <tr>\n",
       "      <th>2187</th>\n",
       "      <td>2187</td>\n",
       "      <td>363</td>\n",
       "      <td>1013.3</td>\n",
       "      <td>19.0</td>\n",
       "      <td>16.3</td>\n",
       "      <td>14.3</td>\n",
       "      <td>12.6</td>\n",
       "      <td>79.0</td>\n",
       "      <td>79.0</td>\n",
       "      <td>5.0</td>\n",
       "      <td>40.0</td>\n",
       "      <td>32.9</td>\n",
       "      <td>1</td>\n",
       "    </tr>\n",
       "    <tr>\n",
       "      <th>2188</th>\n",
       "      <td>2188</td>\n",
       "      <td>364</td>\n",
       "      <td>1022.3</td>\n",
       "      <td>16.4</td>\n",
       "      <td>15.2</td>\n",
       "      <td>13.8</td>\n",
       "      <td>14.7</td>\n",
       "      <td>92.0</td>\n",
       "      <td>93.0</td>\n",
       "      <td>0.1</td>\n",
       "      <td>40.0</td>\n",
       "      <td>18.0</td>\n",
       "      <td>1</td>\n",
       "    </tr>\n",
       "    <tr>\n",
       "      <th>2189</th>\n",
       "      <td>2189</td>\n",
       "      <td>365</td>\n",
       "      <td>1013.8</td>\n",
       "      <td>21.2</td>\n",
       "      <td>19.1</td>\n",
       "      <td>18.0</td>\n",
       "      <td>18.0</td>\n",
       "      <td>89.0</td>\n",
       "      <td>88.0</td>\n",
       "      <td>1.0</td>\n",
       "      <td>70.0</td>\n",
       "      <td>48.0</td>\n",
       "      <td>1</td>\n",
       "    </tr>\n",
       "  </tbody>\n",
       "</table>\n",
       "<p>2190 rows × 13 columns</p>\n",
       "</div>"
      ],
      "text/plain": [
       "        id  day  pressure  maxtemp  temparature  mintemp  dewpoint  humidity  \\\n",
       "0        0    1    1017.4     21.2         20.6     19.9      19.4      87.0   \n",
       "1        1    2    1019.5     16.2         16.9     15.8      15.4      95.0   \n",
       "2        2    3    1024.1     19.4         16.1     14.6       9.3      75.0   \n",
       "3        3    4    1013.4     18.1         17.8     16.9      16.8      95.0   \n",
       "4        4    5    1021.8     21.3         18.4     15.2       9.6      52.0   \n",
       "...    ...  ...       ...      ...          ...      ...       ...       ...   \n",
       "2185  2185  361    1014.6     23.2         20.6     19.1      19.9      97.0   \n",
       "2186  2186  362    1012.4     17.2         17.3     16.3      15.3      91.0   \n",
       "2187  2187  363    1013.3     19.0         16.3     14.3      12.6      79.0   \n",
       "2188  2188  364    1022.3     16.4         15.2     13.8      14.7      92.0   \n",
       "2189  2189  365    1013.8     21.2         19.1     18.0      18.0      89.0   \n",
       "\n",
       "      cloud  sunshine  winddirection  windspeed  rainfall  \n",
       "0      88.0       1.1           60.0       17.2         1  \n",
       "1      91.0       0.0           50.0       21.9         1  \n",
       "2      47.0       8.3           70.0       18.1         1  \n",
       "3      95.0       0.0           60.0       35.6         1  \n",
       "4      45.0       3.6           40.0       24.8         0  \n",
       "...     ...       ...            ...        ...       ...  \n",
       "2185   88.0       0.1           40.0       22.1         1  \n",
       "2186   88.0       0.0           50.0       35.3         1  \n",
       "2187   79.0       5.0           40.0       32.9         1  \n",
       "2188   93.0       0.1           40.0       18.0         1  \n",
       "2189   88.0       1.0           70.0       48.0         1  \n",
       "\n",
       "[2190 rows x 13 columns]"
      ]
     },
     "execution_count": 132,
     "metadata": {},
     "output_type": "execute_result"
    }
   ],
   "source": [
    "data = pd.read_csv(\"data/train.csv\")\n",
    "data"
   ]
  },
  {
   "cell_type": "code",
   "execution_count": 133,
   "metadata": {},
   "outputs": [
    {
     "data": {
      "text/plain": [
       "<Axes: >"
      ]
     },
     "execution_count": 133,
     "metadata": {},
     "output_type": "execute_result"
    },
    {
     "data": {
      "image/png": "[encoded data removed]",
      "text/plain": [
       "<Figure size 640x480 with 2 Axes>"
      ]
     },
     "metadata": {},
     "output_type": "display_data"
    }
   ],
   "source": [
    "sns.heatmap(data.corr())"
   ]
  },
  {
   "cell_type": "code",
   "execution_count": 134,
   "metadata": {},
   "outputs": [],
   "source": [
    "def data_clean(data):\n",
    "    data.drop(['id', 'day', 'maxtemp', 'mintemp', 'devpoint'], axis=1, inplace=True, errors='ignore')\n",
    "    data.fillna(data.median(), inplace=True)\n",
    "    scaler = StandardScaler()\n",
    "    X = scaler.fit_transform(data.drop('rainfall', axis=1))\n",
    "    y = data['rainfall']\n",
    "    return X, y"
   ]
  },
  {
   "cell_type": "code",
   "execution_count": 135,
   "metadata": {},
   "outputs": [],
   "source": [
    "X, y = data_clean(data)\n",
    "X_train, X_test, y_train, y_test = train_test_split(\n",
    "    X, y, \n",
    "    test_size=0.2, \n",
    "    random_state=42,\n",
    "    stratify=y  # Сохранение баланса классов\n",
    ")"
   ]
  },
  {
   "cell_type": "code",
   "execution_count": 136,
   "metadata": {},
   "outputs": [
    {
     "data": {
      "text/plain": [
       "<Axes: >"
      ]
     },
     "execution_count": 136,
     "metadata": {},
     "output_type": "execute_result"
    },
    {
     "data": {
      "image/png": "[encoded data removed]",
      "text/plain": [
       "<Figure size 640x480 with 2 Axes>"
      ]
     },
     "metadata": {},
     "output_type": "display_data"
    }
   ],
   "source": [
    "sns.heatmap(data.corr())"
   ]
  },
  {
   "cell_type": "markdown",
   "metadata": {},
   "source": [
    "# Models"
   ]
  },
  {
   "cell_type": "markdown",
   "metadata": {},
   "source": [
    "## Graph"
   ]
  },
  {
   "cell_type": "code",
   "execution_count": 137,
   "metadata": {},
   "outputs": [],
   "source": [
    "def plot_results(history, title):\n",
    "    plt.figure(figsize=(12, 4))\n",
    "\n",
    "    plt.subplot(1, 2, 1)\n",
    "    plt.plot(history.history[\"accuracy\"], label=\"Train Accuracy\")\n",
    "    plt.plot(history.history[\"val_accuracy\"], label=\"Test Accuracy\")\n",
    "    plt.title(f\"{title} - Accuracy\")\n",
    "    plt.xlabel(\"Epoch\")\n",
    "    plt.ylabel(\"Accuracy\")\n",
    "    plt.legend()\n",
    "\n",
    "    plt.subplot(1, 2, 2)\n",
    "    plt.plot(history.history[\"loss\"], label=\"Train Loss\")\n",
    "    plt.plot(history.history[\"val_loss\"], label=\"Test Loss\")\n",
    "    plt.title(f\"{title} - Loss\")\n",
    "    plt.xlabel(\"Epoch\")\n",
    "    plt.ylabel(\"Loss\")\n",
    "    plt.legend()\n",
    "\n",
    "    plt.show()"
   ]
  },
  {
   "cell_type": "markdown",
   "metadata": {},
   "source": [
    "## Полносвязная"
   ]
  },
  {
   "cell_type": "markdown",
   "metadata": {},
   "source": [
    "### Compile"
   ]
  },
  {
   "cell_type": "code",
   "execution_count": 138,
   "metadata": {},
   "outputs": [],
   "source": [
    "model_fnn = Sequential([\n",
    "    Dense(128, activation='relu', input_shape=(X_train.shape[1],)),\n",
    "    Dropout(0.1),\n",
    "    Dense(64, activation='relu'),\n",
    "    Dense(1, activation='sigmoid')\n",
    "])\n",
    "\n",
    "model_fnn.compile(optimizer='adam', loss='binary_crossentropy', metrics=['accuracy'])"
   ]
  },
  {
   "cell_type": "code",
   "execution_count": 139,
   "metadata": {},
   "outputs": [
    {
     "name": "stdout",
     "output_type": "stream",
     "text": [
      "Epoch 1/20\n",
      "\u001b[1m44/44\u001b[0m \u001b[32m━━━━━━━━━━━━━━━━━━━━\u001b[0m\u001b[37m\u001b[0m \u001b[1m3s\u001b[0m 16ms/step - accuracy: 0.7969 - loss: 0.5119 - val_accuracy: 0.8661 - val_loss: 0.3122\n",
      "Epoch 2/20\n",
      "\u001b[1m44/44\u001b[0m \u001b[32m━━━━━━━━━━━━━━━━━━━━\u001b[0m\u001b[37m\u001b[0m \u001b[1m0s\u001b[0m 8ms/step - accuracy: 0.8597 - loss: 0.3455 - val_accuracy: 0.8775 - val_loss: 0.3102\n",
      "Epoch 3/20\n",
      "\u001b[1m44/44\u001b[0m \u001b[32m━━━━━━━━━━━━━━━━━━━━\u001b[0m\u001b[37m\u001b[0m \u001b[1m0s\u001b[0m 8ms/step - accuracy: 0.8565 - loss: 0.3449 - val_accuracy: 0.8803 - val_loss: 0.3126\n",
      "Epoch 4/20\n",
      "\u001b[1m44/44\u001b[0m \u001b[32m━━━━━━━━━━━━━━━━━━━━\u001b[0m\u001b[37m\u001b[0m \u001b[1m0s\u001b[0m 8ms/step - accuracy: 0.8815 - loss: 0.3099 - val_accuracy: 0.8632 - val_loss: 0.3230\n",
      "Epoch 5/20\n",
      "\u001b[1m44/44\u001b[0m \u001b[32m━━━━━━━━━━━━━━━━━━━━\u001b[0m\u001b[37m\u001b[0m \u001b[1m0s\u001b[0m 7ms/step - accuracy: 0.8842 - loss: 0.3139 - val_accuracy: 0.8689 - val_loss: 0.3204\n",
      "Epoch 6/20\n",
      "\u001b[1m44/44\u001b[0m \u001b[32m━━━━━━━━━━━━━━━━━━━━\u001b[0m\u001b[37m\u001b[0m \u001b[1m0s\u001b[0m 8ms/step - accuracy: 0.8639 - loss: 0.3517 - val_accuracy: 0.8632 - val_loss: 0.3176\n",
      "Epoch 7/20\n",
      "\u001b[1m44/44\u001b[0m \u001b[32m━━━━━━━━━━━━━━━━━━━━\u001b[0m\u001b[37m\u001b[0m \u001b[1m1s\u001b[0m 9ms/step - accuracy: 0.8678 - loss: 0.3415 - val_accuracy: 0.8718 - val_loss: 0.3170\n",
      "Epoch 8/20\n",
      "\u001b[1m44/44\u001b[0m \u001b[32m━━━━━━━━━━━━━━━━━━━━\u001b[0m\u001b[37m\u001b[0m \u001b[1m0s\u001b[0m 8ms/step - accuracy: 0.8801 - loss: 0.3131 - val_accuracy: 0.8604 - val_loss: 0.3293\n",
      "Epoch 9/20\n",
      "\u001b[1m44/44\u001b[0m \u001b[32m━━━━━━━━━━━━━━━━━━━━\u001b[0m\u001b[37m\u001b[0m \u001b[1m0s\u001b[0m 9ms/step - accuracy: 0.8797 - loss: 0.3184 - val_accuracy: 0.8689 - val_loss: 0.3170\n",
      "Epoch 10/20\n",
      "\u001b[1m44/44\u001b[0m \u001b[32m━━━━━━━━━━━━━━━━━━━━\u001b[0m\u001b[37m\u001b[0m \u001b[1m0s\u001b[0m 8ms/step - accuracy: 0.8622 - loss: 0.3273 - val_accuracy: 0.8803 - val_loss: 0.3152\n",
      "Epoch 11/20\n",
      "\u001b[1m44/44\u001b[0m \u001b[32m━━━━━━━━━━━━━━━━━━━━\u001b[0m\u001b[37m\u001b[0m \u001b[1m0s\u001b[0m 8ms/step - accuracy: 0.8753 - loss: 0.3055 - val_accuracy: 0.8689 - val_loss: 0.3238\n",
      "Epoch 12/20\n",
      "\u001b[1m44/44\u001b[0m \u001b[32m━━━━━━━━━━━━━━━━━━━━\u001b[0m\u001b[37m\u001b[0m \u001b[1m0s\u001b[0m 8ms/step - accuracy: 0.8912 - loss: 0.2896 - val_accuracy: 0.8661 - val_loss: 0.3221\n",
      "Epoch 13/20\n",
      "\u001b[1m44/44\u001b[0m \u001b[32m━━━━━━━━━━━━━━━━━━━━\u001b[0m\u001b[37m\u001b[0m \u001b[1m0s\u001b[0m 8ms/step - accuracy: 0.8701 - loss: 0.3286 - val_accuracy: 0.8775 - val_loss: 0.3195\n",
      "Epoch 14/20\n",
      "\u001b[1m44/44\u001b[0m \u001b[32m━━━━━━━━━━━━━━━━━━━━\u001b[0m\u001b[37m\u001b[0m \u001b[1m0s\u001b[0m 7ms/step - accuracy: 0.8749 - loss: 0.3246 - val_accuracy: 0.8718 - val_loss: 0.3170\n",
      "Epoch 15/20\n",
      "\u001b[1m44/44\u001b[0m \u001b[32m━━━━━━━━━━━━━━━━━━━━\u001b[0m\u001b[37m\u001b[0m \u001b[1m0s\u001b[0m 7ms/step - accuracy: 0.8800 - loss: 0.3126 - val_accuracy: 0.8689 - val_loss: 0.3225\n",
      "Epoch 16/20\n",
      "\u001b[1m44/44\u001b[0m \u001b[32m━━━━━━━━━━━━━━━━━━━━\u001b[0m\u001b[37m\u001b[0m \u001b[1m0s\u001b[0m 8ms/step - accuracy: 0.8873 - loss: 0.2900 - val_accuracy: 0.8689 - val_loss: 0.3206\n",
      "Epoch 17/20\n",
      "\u001b[1m44/44\u001b[0m \u001b[32m━━━━━━━━━━━━━━━━━━━━\u001b[0m\u001b[37m\u001b[0m \u001b[1m0s\u001b[0m 8ms/step - accuracy: 0.8826 - loss: 0.3041 - val_accuracy: 0.8775 - val_loss: 0.3173\n",
      "Epoch 18/20\n",
      "\u001b[1m44/44\u001b[0m \u001b[32m━━━━━━━━━━━━━━━━━━━━\u001b[0m\u001b[37m\u001b[0m \u001b[1m0s\u001b[0m 7ms/step - accuracy: 0.8803 - loss: 0.3046 - val_accuracy: 0.8661 - val_loss: 0.3222\n",
      "Epoch 19/20\n",
      "\u001b[1m44/44\u001b[0m \u001b[32m━━━━━━━━━━━━━━━━━━━━\u001b[0m\u001b[37m\u001b[0m \u001b[1m0s\u001b[0m 7ms/step - accuracy: 0.8835 - loss: 0.3009 - val_accuracy: 0.8718 - val_loss: 0.3187\n",
      "Epoch 20/20\n",
      "\u001b[1m44/44\u001b[0m \u001b[32m━━━━━━━━━━━━━━━━━━━━\u001b[0m\u001b[37m\u001b[0m \u001b[1m0s\u001b[0m 8ms/step - accuracy: 0.8665 - loss: 0.3197 - val_accuracy: 0.8689 - val_loss: 0.3210\n"
     ]
    }
   ],
   "source": [
    "history_fnn = model_fnn.fit(\n",
    "    X_train, y_train,\n",
    "    epochs=20,\n",
    "    batch_size=32,\n",
    "    validation_split=0.2,\n",
    "    verbose=1\n",
    ")"
   ]
  },
  {
   "cell_type": "code",
   "execution_count": 140,
   "metadata": {},
   "outputs": [
    {
     "data": {
      "image/png": "[encoded data removed]",
      "text/plain": [
       "<Figure size 1200x400 with 2 Axes>"
      ]
     },
     "metadata": {},
     "output_type": "display_data"
    }
   ],
   "source": [
    "plot_results(history_fnn, \"FNN\")"
   ]
  },
  {
   "cell_type": "code",
   "execution_count": 141,
   "metadata": {},
   "outputs": [],
   "source": [
    "model_fnn.save('models/model_fnn.keras')"
   ]
  },
  {
   "cell_type": "markdown",
   "metadata": {},
   "source": [
    "### Test"
   ]
  },
  {
   "cell_type": "code",
   "execution_count": 142,
   "metadata": {},
   "outputs": [],
   "source": [
    "model_fnn = load_model('models/model_fnn.keras')"
   ]
  },
  {
   "cell_type": "code",
   "execution_count": 143,
   "metadata": {},
   "outputs": [
    {
     "name": "stdout",
     "output_type": "stream",
     "text": [
      "\u001b[1m14/14\u001b[0m \u001b[32m━━━━━━━━━━━━━━━━━━━━\u001b[0m\u001b[37m\u001b[0m \u001b[1m0s\u001b[0m 10ms/step\n",
      "              precision    recall  f1-score   support\n",
      "\n",
      "           0       0.77      0.68      0.72       108\n",
      "           1       0.90      0.93      0.92       330\n",
      "\n",
      "    accuracy                           0.87       438\n",
      "   macro avg       0.83      0.80      0.82       438\n",
      "weighted avg       0.87      0.87      0.87       438\n",
      "\n",
      "ROC-AUC: 0.8046296296296297\n"
     ]
    }
   ],
   "source": [
    "y_pred_fnn = model_fnn.predict(X_test)\n",
    "y_pred_fnn = (y_pred_fnn > 0.5).astype(int)\n",
    "print(classification_report(y_test, y_pred_fnn))\n",
    "print(\"ROC-AUC:\", roc_auc_score(y_test, y_pred_fnn))"
   ]
  },
  {
   "cell_type": "markdown",
   "metadata": {},
   "source": [
    "## RNN"
   ]
  },
  {
   "cell_type": "markdown",
   "metadata": {},
   "source": [
    "### Complile"
   ]
  },
  {
   "cell_type": "code",
   "execution_count": 144,
   "metadata": {},
   "outputs": [],
   "source": [
    "def create_sequences(data, targets, window_size):\n",
    "    X, y = [], []\n",
    "    for i in range(len(data) - window_size):\n",
    "        X.append(data[i : i + window_size])\n",
    "        y.append(targets[i + 1 : i + window_size + 1])  # Прогноз на следующие 7 дней\n",
    "    return np.array(X), np.array(y)\n",
    "\n",
    "\n",
    "window_size = 7\n",
    "X_rnn, y_rnn = create_sequences(X, y, window_size)\n",
    "X_train_rnn, X_test_rnn, y_train_rnn, y_test_rnn = train_test_split(\n",
    "    X_rnn, y_rnn, test_size=0.2, shuffle=False\n",
    ")"
   ]
  },
  {
   "cell_type": "code",
   "execution_count": 145,
   "metadata": {},
   "outputs": [],
   "source": [
    "model_rnn = Sequential([\n",
    "    LSTM(64, input_shape=(window_size, X_train.shape[1]), return_sequences=True),\n",
    "    Dropout(0.1),\n",
    "    LSTM(32),\n",
    "    # Dense(32),\n",
    "    Dense(7, activation='sigmoid')\n",
    "])\n",
    "\n",
    "model_rnn.compile(optimizer='adam', loss='binary_crossentropy', metrics=['accuracy'])"
   ]
  },
  {
   "cell_type": "code",
   "execution_count": 146,
   "metadata": {},
   "outputs": [
    {
     "name": "stdout",
     "output_type": "stream",
     "text": [
      "Epoch 1/20\n",
      "\u001b[1m44/44\u001b[0m \u001b[32m━━━━━━━━━━━━━━━━━━━━\u001b[0m\u001b[37m\u001b[0m \u001b[1m10s\u001b[0m 38ms/step - accuracy: 0.0719 - loss: 0.6517 - val_accuracy: 0.0829 - val_loss: 0.5000\n",
      "Epoch 2/20\n",
      "\u001b[1m44/44\u001b[0m \u001b[32m━━━━━━━━━━━━━━━━━━━━\u001b[0m\u001b[37m\u001b[0m \u001b[1m1s\u001b[0m 17ms/step - accuracy: 0.2717 - loss: 0.5262 - val_accuracy: 0.4114 - val_loss: 0.4833\n",
      "Epoch 3/20\n",
      "\u001b[1m44/44\u001b[0m \u001b[32m━━━━━━━━━━━━━━━━━━━━\u001b[0m\u001b[37m\u001b[0m \u001b[1m1s\u001b[0m 17ms/step - accuracy: 0.1982 - loss: 0.5096 - val_accuracy: 0.3314 - val_loss: 0.4759\n",
      "Epoch 4/20\n",
      "\u001b[1m44/44\u001b[0m \u001b[32m━━━━━━━━━━━━━━━━━━━━\u001b[0m\u001b[37m\u001b[0m \u001b[1m1s\u001b[0m 18ms/step - accuracy: 0.2862 - loss: 0.4969 - val_accuracy: 0.2629 - val_loss: 0.4710\n",
      "Epoch 5/20\n",
      "\u001b[1m44/44\u001b[0m \u001b[32m━━━━━━━━━━━━━━━━━━━━\u001b[0m\u001b[37m\u001b[0m \u001b[1m1s\u001b[0m 16ms/step - accuracy: 0.2695 - loss: 0.4884 - val_accuracy: 0.3914 - val_loss: 0.4601\n",
      "Epoch 6/20\n",
      "\u001b[1m44/44\u001b[0m \u001b[32m━━━━━━━━━━━━━━━━━━━━\u001b[0m\u001b[37m\u001b[0m \u001b[1m1s\u001b[0m 16ms/step - accuracy: 0.2466 - loss: 0.4799 - val_accuracy: 0.3571 - val_loss: 0.4542\n",
      "Epoch 7/20\n",
      "\u001b[1m44/44\u001b[0m \u001b[32m━━━━━━━━━━━━━━━━━━━━\u001b[0m\u001b[37m\u001b[0m \u001b[1m1s\u001b[0m 16ms/step - accuracy: 0.2581 - loss: 0.4701 - val_accuracy: 0.3543 - val_loss: 0.4477\n",
      "Epoch 8/20\n",
      "\u001b[1m44/44\u001b[0m \u001b[32m━━━━━━━━━━━━━━━━━━━━\u001b[0m\u001b[37m\u001b[0m \u001b[1m1s\u001b[0m 17ms/step - accuracy: 0.2873 - loss: 0.4664 - val_accuracy: 0.1914 - val_loss: 0.4422\n",
      "Epoch 9/20\n",
      "\u001b[1m44/44\u001b[0m \u001b[32m━━━━━━━━━━━━━━━━━━━━\u001b[0m\u001b[37m\u001b[0m \u001b[1m1s\u001b[0m 16ms/step - accuracy: 0.2132 - loss: 0.4521 - val_accuracy: 0.1514 - val_loss: 0.4406\n",
      "Epoch 10/20\n",
      "\u001b[1m44/44\u001b[0m \u001b[32m━━━━━━━━━━━━━━━━━━━━\u001b[0m\u001b[37m\u001b[0m \u001b[1m1s\u001b[0m 16ms/step - accuracy: 0.1614 - loss: 0.4444 - val_accuracy: 0.1943 - val_loss: 0.4357\n",
      "Epoch 11/20\n",
      "\u001b[1m44/44\u001b[0m \u001b[32m━━━━━━━━━━━━━━━━━━━━\u001b[0m\u001b[37m\u001b[0m \u001b[1m1s\u001b[0m 17ms/step - accuracy: 0.1827 - loss: 0.4467 - val_accuracy: 0.2143 - val_loss: 0.4338\n",
      "Epoch 12/20\n",
      "\u001b[1m44/44\u001b[0m \u001b[32m━━━━━━━━━━━━━━━━━━━━\u001b[0m\u001b[37m\u001b[0m \u001b[1m1s\u001b[0m 16ms/step - accuracy: 0.1947 - loss: 0.4319 - val_accuracy: 0.1314 - val_loss: 0.4333\n",
      "Epoch 13/20\n",
      "\u001b[1m44/44\u001b[0m \u001b[32m━━━━━━━━━━━━━━━━━━━━\u001b[0m\u001b[37m\u001b[0m \u001b[1m1s\u001b[0m 16ms/step - accuracy: 0.1711 - loss: 0.4217 - val_accuracy: 0.1829 - val_loss: 0.4292\n",
      "Epoch 14/20\n",
      "\u001b[1m44/44\u001b[0m \u001b[32m━━━━━━━━━━━━━━━━━━━━\u001b[0m\u001b[37m\u001b[0m \u001b[1m1s\u001b[0m 16ms/step - accuracy: 0.1393 - loss: 0.4241 - val_accuracy: 0.1600 - val_loss: 0.4270\n",
      "Epoch 15/20\n",
      "\u001b[1m44/44\u001b[0m \u001b[32m━━━━━━━━━━━━━━━━━━━━\u001b[0m\u001b[37m\u001b[0m \u001b[1m1s\u001b[0m 17ms/step - accuracy: 0.1591 - loss: 0.4156 - val_accuracy: 0.1371 - val_loss: 0.4247\n",
      "Epoch 16/20\n",
      "\u001b[1m44/44\u001b[0m \u001b[32m━━━━━━━━━━━━━━━━━━━━\u001b[0m\u001b[37m\u001b[0m \u001b[1m1s\u001b[0m 18ms/step - accuracy: 0.1445 - loss: 0.4109 - val_accuracy: 0.1857 - val_loss: 0.4264\n",
      "Epoch 17/20\n",
      "\u001b[1m44/44\u001b[0m \u001b[32m━━━━━━━━━━━━━━━━━━━━\u001b[0m\u001b[37m\u001b[0m \u001b[1m1s\u001b[0m 16ms/step - accuracy: 0.1718 - loss: 0.4183 - val_accuracy: 0.2114 - val_loss: 0.4229\n",
      "Epoch 18/20\n",
      "\u001b[1m44/44\u001b[0m \u001b[32m━━━━━━━━━━━━━━━━━━━━\u001b[0m\u001b[37m\u001b[0m \u001b[1m1s\u001b[0m 17ms/step - accuracy: 0.1926 - loss: 0.3911 - val_accuracy: 0.1229 - val_loss: 0.4170\n",
      "Epoch 19/20\n",
      "\u001b[1m44/44\u001b[0m \u001b[32m━━━━━━━━━━━━━━━━━━━━\u001b[0m\u001b[37m\u001b[0m \u001b[1m1s\u001b[0m 17ms/step - accuracy: 0.1436 - loss: 0.3931 - val_accuracy: 0.1057 - val_loss: 0.4177\n",
      "Epoch 20/20\n",
      "\u001b[1m44/44\u001b[0m \u001b[32m━━━━━━━━━━━━━━━━━━━━\u001b[0m\u001b[37m\u001b[0m \u001b[1m1s\u001b[0m 17ms/step - accuracy: 0.1460 - loss: 0.3896 - val_accuracy: 0.1229 - val_loss: 0.4143\n"
     ]
    }
   ],
   "source": [
    "history_rnn = model_rnn.fit(\n",
    "    X_train_rnn, y_train_rnn,\n",
    "    epochs=20,\n",
    "    batch_size=32,\n",
    "    validation_split=0.2,\n",
    "    verbose=1\n",
    ")"
   ]
  },
  {
   "cell_type": "code",
   "execution_count": 147,
   "metadata": {},
   "outputs": [
    {
     "data": {
      "image/png": "[encoded data removed]",
      "text/plain": [
       "<Figure size 1200x400 with 2 Axes>"
      ]
     },
     "metadata": {},
     "output_type": "display_data"
    }
   ],
   "source": [
    "plot_results(history_rnn, \"RNN\")"
   ]
  },
  {
   "cell_type": "code",
   "execution_count": 148,
   "metadata": {},
   "outputs": [],
   "source": [
    "model_rnn.save('models/model_rnn.keras')"
   ]
  },
  {
   "cell_type": "markdown",
   "metadata": {},
   "source": [
    "### Test"
   ]
  },
  {
   "cell_type": "code",
   "execution_count": 149,
   "metadata": {},
   "outputs": [],
   "source": [
    "model_rnn = load_model('models/model_rnn.keras')"
   ]
  },
  {
   "cell_type": "code",
   "execution_count": 150,
   "metadata": {},
   "outputs": [
    {
     "name": "stdout",
     "output_type": "stream",
     "text": [
      "\u001b[1m14/14\u001b[0m \u001b[32m━━━━━━━━━━━━━━━━━━━━\u001b[0m\u001b[37m\u001b[0m \u001b[1m1s\u001b[0m 64ms/step\n",
      "Day 1:\n",
      "              precision    recall  f1-score   support\n",
      "\n",
      "           0       0.62      0.47      0.53        92\n",
      "           1       0.87      0.92      0.89       345\n",
      "\n",
      "    accuracy                           0.83       437\n",
      "   macro avg       0.75      0.70      0.71       437\n",
      "weighted avg       0.82      0.83      0.82       437\n",
      "\n",
      "Day 2:\n",
      "              precision    recall  f1-score   support\n",
      "\n",
      "           0       0.67      0.51      0.58        92\n",
      "           1       0.88      0.93      0.90       345\n",
      "\n",
      "    accuracy                           0.84       437\n",
      "   macro avg       0.77      0.72      0.74       437\n",
      "weighted avg       0.83      0.84      0.84       437\n",
      "\n",
      "Day 3:\n",
      "              precision    recall  f1-score   support\n",
      "\n",
      "           0       0.58      0.49      0.53        92\n",
      "           1       0.87      0.90      0.89       345\n",
      "\n",
      "    accuracy                           0.82       437\n",
      "   macro avg       0.72      0.70      0.71       437\n",
      "weighted avg       0.81      0.82      0.81       437\n",
      "\n",
      "Day 4:\n",
      "              precision    recall  f1-score   support\n",
      "\n",
      "           0       0.66      0.51      0.58        92\n",
      "           1       0.88      0.93      0.90       345\n",
      "\n",
      "    accuracy                           0.84       437\n",
      "   macro avg       0.77      0.72      0.74       437\n",
      "weighted avg       0.83      0.84      0.83       437\n",
      "\n",
      "Day 5:\n",
      "              precision    recall  f1-score   support\n",
      "\n",
      "           0       0.65      0.58      0.61        92\n",
      "           1       0.89      0.92      0.90       345\n",
      "\n",
      "    accuracy                           0.85       437\n",
      "   macro avg       0.77      0.75      0.76       437\n",
      "weighted avg       0.84      0.85      0.84       437\n",
      "\n",
      "Day 6:\n",
      "              precision    recall  f1-score   support\n",
      "\n",
      "           0       0.69      0.63      0.66        92\n",
      "           1       0.90      0.92      0.91       345\n",
      "\n",
      "    accuracy                           0.86       437\n",
      "   macro avg       0.80      0.78      0.79       437\n",
      "weighted avg       0.86      0.86      0.86       437\n",
      "\n",
      "Day 7:\n",
      "              precision    recall  f1-score   support\n",
      "\n",
      "           0       0.35      0.07      0.11        91\n",
      "           1       0.80      0.97      0.87       346\n",
      "\n",
      "    accuracy                           0.78       437\n",
      "   macro avg       0.58      0.52      0.49       437\n",
      "weighted avg       0.71      0.78      0.72       437\n",
      "\n"
     ]
    }
   ],
   "source": [
    "y_pred_rnn = model_rnn.predict(X_test_rnn)\n",
    "y_pred_rnn = (y_pred_rnn > 0.5).astype(int)\n",
    "# Оценка для каждого из 7 дней\n",
    "for i in range(7):\n",
    "    print(f\"Day {i+1}:\")\n",
    "    print(classification_report(y_test_rnn[:, i], y_pred_rnn[:, i]))"
   ]
  },
  {
   "cell_type": "code",
   "execution_count": 151,
   "metadata": {},
   "outputs": [
    {
     "data": {
      "text/plain": [
       "(1, 7, 8)"
      ]
     },
     "execution_count": 151,
     "metadata": {},
     "output_type": "execute_result"
    }
   ],
   "source": [
    "X_test_rnn[:1].shape"
   ]
  },
  {
   "cell_type": "code",
   "execution_count": 152,
   "metadata": {},
   "outputs": [
    {
     "name": "stdout",
     "output_type": "stream",
     "text": [
      "\u001b[1m1/1\u001b[0m \u001b[32m━━━━━━━━━━━━━━━━━━━━\u001b[0m\u001b[37m\u001b[0m \u001b[1m0s\u001b[0m 79ms/step\n"
     ]
    }
   ],
   "source": [
    "yt = model_rnn.predict(X_test_rnn[:1])"
   ]
  },
  {
   "cell_type": "code",
   "execution_count": 153,
   "metadata": {},
   "outputs": [
    {
     "data": {
      "text/plain": [
       "array([0.7647439 , 0.853328  , 0.90773565, 0.97372365, 0.962327  ,\n",
       "       0.49404058, 0.81849754], dtype=float32)"
      ]
     },
     "execution_count": 153,
     "metadata": {},
     "output_type": "execute_result"
    }
   ],
   "source": [
    "yt[0]"
   ]
  },
  {
   "cell_type": "code",
   "execution_count": null,
   "metadata": {},
   "outputs": [],
   "source": []
  }
 ],
 "metadata": {
  "kernelspec": {
   "display_name": "Big_data_venv",
   "language": "python",
   "name": "python3"
  },
  "language_info": {
   "codemirror_mode": {
    "name": "ipython",
    "version": 3
   },
   "file_extension": ".py",
   "mimetype": "text/x-python",
   "name": "python",
   "nbconvert_exporter": "python",
   "pygments_lexer": "ipython3",
   "version": "3.11.9"
  }
 },
 "nbformat": 4,
 "nbformat_minor": 2
}
