{
  "cells": [
    {
      "cell_type": "markdown",
      "metadata": {
        "id": "I_i1q1TWG9zH"
      },
      "source": [
        "# Deep Crossentropy method\n",
        "\n",
        "In this section we'll extend your CEM implementation with neural networks! You will train a multi-layer neural network to solve simple continuous state space games. __Please make sure you're done with tabular crossentropy method from the previous notebook.__\n",
        "\n",
        "![img](https://watanimg.elwatannews.com/old_news_images/large/249765_Large_20140709045740_11.jpg)\n",
        "\n"
      ]
    },
    {
      "cell_type": "markdown",
      "source": [
        "# Additional imports"
      ],
      "metadata": {
        "id": "l6_fX7BPsFae"
      }
    },
    {
      "cell_type": "code",
      "source": [
        "import numpy as np"
      ],
      "metadata": {
        "id": "6O1GdX2CsFGE"
      },
      "execution_count": 19,
      "outputs": []
    },
    {
      "cell_type": "markdown",
      "source": [
        "# Code"
      ],
      "metadata": {
        "id": "DsxoQO_WsHeI"
      }
    },
    {
      "cell_type": "code",
      "execution_count": 20,
      "metadata": {
        "id": "t4CJ1sRyG9zJ"
      },
      "outputs": [],
      "source": [
        "import sys, os\n",
        "if 'google.colab' in sys.modules and not os.path.exists('.setup_complete'):\n",
        "    !wget -q https://raw.githubusercontent.com/yandexdataschool/Practical_RL/master/setup_colab.sh -O- | bash\n",
        "    !touch .setup_complete\n",
        "\n",
        "# This code creates a virtual display to draw game images on.\n",
        "# It will have no effect if your machine has a monitor.\n",
        "if type(os.environ.get(\"DISPLAY\")) is not str or len(os.environ.get(\"DISPLAY\")) == 0:\n",
        "    !bash ../xvfb start\n",
        "    os.environ['DISPLAY'] = ':1'"
      ]
    },
    {
      "cell_type": "code",
      "execution_count": 21,
      "metadata": {
        "id": "C2xd5vPwPVCb",
        "colab": {
          "base_uri": "https://localhost:8080/"
        },
        "outputId": "7a2e49af-7ff6-4d24-91f6-40ca2bce5fa0"
      },
      "outputs": [
        {
          "output_type": "stream",
          "name": "stdout",
          "text": [
            "Requirement already satisfied: gymnasium[classic_control,toy_text] in /usr/local/lib/python3.11/dist-packages (1.1.1)\n",
            "Requirement already satisfied: numpy>=1.21.0 in /usr/local/lib/python3.11/dist-packages (from gymnasium[classic_control,toy_text]) (2.0.2)\n",
            "Requirement already satisfied: cloudpickle>=1.2.0 in /usr/local/lib/python3.11/dist-packages (from gymnasium[classic_control,toy_text]) (3.1.1)\n",
            "Requirement already satisfied: typing-extensions>=4.3.0 in /usr/local/lib/python3.11/dist-packages (from gymnasium[classic_control,toy_text]) (4.14.0)\n",
            "Requirement already satisfied: farama-notifications>=0.0.1 in /usr/local/lib/python3.11/dist-packages (from gymnasium[classic_control,toy_text]) (0.0.4)\n",
            "Requirement already satisfied: pygame>=2.1.3 in /usr/local/lib/python3.11/dist-packages (from gymnasium[classic_control,toy_text]) (2.6.1)\n"
          ]
        }
      ],
      "source": [
        "# Install gymnasium if you didn't\n",
        "!pip install \"gymnasium[toy_text,classic_control]\""
      ]
    },
    {
      "cell_type": "code",
      "execution_count": 22,
      "metadata": {
        "id": "_2zbc7ahG9zK",
        "colab": {
          "base_uri": "https://localhost:8080/",
          "height": 431
        },
        "outputId": "9c72ca91-7fac-4f34-e532-a055eec1b4ab"
      },
      "outputs": [
        {
          "output_type": "stream",
          "name": "stdout",
          "text": [
            "state vector dim = 4\n",
            "n_actions = 2\n"
          ]
        },
        {
          "output_type": "display_data",
          "data": {
            "text/plain": [
              "<Figure size 640x480 with 1 Axes>"
            ],
            "image/png": "[encoded data removed]"
          },
          "metadata": {}
        }
      ],
      "source": [
        "import gymnasium as gym\n",
        "import numpy as np\n",
        "import matplotlib.pyplot as plt\n",
        "%matplotlib inline\n",
        "\n",
        "# if you see \"<classname> has no attribute .env\", remove .env or update gym\n",
        "env = gym.make(\"CartPole-v1\", render_mode=\"rgb_array\").env\n",
        "\n",
        "env.reset()\n",
        "n_actions = env.action_space.n\n",
        "state_dim = env.observation_space.shape[0]\n",
        "\n",
        "plt.imshow(env.render())\n",
        "print(\"state vector dim =\", state_dim)\n",
        "print(\"n_actions =\", n_actions)\n",
        "\n",
        "env.close()"
      ]
    },
    {
      "cell_type": "markdown",
      "metadata": {
        "id": "Z72_alhdG9zK"
      },
      "source": [
        "# Neural Network Policy\n",
        "\n",
        "For this assignment we'll utilize the simplified neural network implementation from __[Scikit-learn](https://scikit-learn.org/stable/modules/generated/sklearn.neural_network.MLPClassifier.html)__. Here's what you'll need:\n",
        "\n",
        "* `agent.partial_fit(states, actions)` - make a single training pass over the data. Maximize the probability of :actions: from :states:\n",
        "* `agent.predict_proba(states)` - predict probabilities of all actions, a matrix of shape __[len(states), n_actions]__\n"
      ]
    },
    {
      "cell_type": "code",
      "execution_count": 23,
      "metadata": {
        "id": "wLItY4unG9zL",
        "colab": {
          "base_uri": "https://localhost:8080/",
          "height": 80
        },
        "outputId": "2fb8d9c2-608c-4429-9038-1181503eacd9"
      },
      "outputs": [
        {
          "output_type": "execute_result",
          "data": {
            "text/plain": [
              "MLPClassifier(activation='tanh', hidden_layer_sizes=(20, 20))"
            ],
            "text/html": [
              "<style>#sk-container-id-3 {\n",
              "  /* Definition of color scheme common for light and dark mode */\n",
              "  --sklearn-color-text: #000;\n",
              "  --sklearn-color-text-muted: #666;\n",
              "  --sklearn-color-line: gray;\n",
              "  /* Definition of color scheme for unfitted estimators */\n",
              "  --sklearn-color-unfitted-level-0: #fff5e6;\n",
              "  --sklearn-color-unfitted-level-1: #f6e4d2;\n",
              "  --sklearn-color-unfitted-level-2: #ffe0b3;\n",
              "  --sklearn-color-unfitted-level-3: chocolate;\n",
              "  /* Definition of color scheme for fitted estimators */\n",
              "  --sklearn-color-fitted-level-0: #f0f8ff;\n",
              "  --sklearn-color-fitted-level-1: #d4ebff;\n",
              "  --sklearn-color-fitted-level-2: #b3dbfd;\n",
              "  --sklearn-color-fitted-level-3: cornflowerblue;\n",
              "\n",
              "  /* Specific color for light theme */\n",
              "  --sklearn-color-text-on-default-background: var(--sg-text-color, var(--theme-code-foreground, var(--jp-content-font-color1, black)));\n",
              "  --sklearn-color-background: var(--sg-background-color, var(--theme-background, var(--jp-layout-color0, white)));\n",
              "  --sklearn-color-border-box: var(--sg-text-color, var(--theme-code-foreground, var(--jp-content-font-color1, black)));\n",
              "  --sklearn-color-icon: #696969;\n",
              "\n",
              "  @media (prefers-color-scheme: dark) {\n",
              "    /* Redefinition of color scheme for dark theme */\n",
              "    --sklearn-color-text-on-default-background: var(--sg-text-color, var(--theme-code-foreground, var(--jp-content-font-color1, white)));\n",
              "    --sklearn-color-background: var(--sg-background-color, var(--theme-background, var(--jp-layout-color0, #111)));\n",
              "    --sklearn-color-border-box: var(--sg-text-color, var(--theme-code-foreground, var(--jp-content-font-color1, white)));\n",
              "    --sklearn-color-icon: #878787;\n",
              "  }\n",
              "}\n",
              "\n",
              "#sk-container-id-3 {\n",
              "  color: var(--sklearn-color-text);\n",
              "}\n",
              "\n",
              "#sk-container-id-3 pre {\n",
              "  padding: 0;\n",
              "}\n",
              "\n",
              "#sk-container-id-3 input.sk-hidden--visually {\n",
              "  border: 0;\n",
              "  clip: rect(1px 1px 1px 1px);\n",
              "  clip: rect(1px, 1px, 1px, 1px);\n",
              "  height: 1px;\n",
              "  margin: -1px;\n",
              "  overflow: hidden;\n",
              "  padding: 0;\n",
              "  position: absolute;\n",
              "  width: 1px;\n",
              "}\n",
              "\n",
              "#sk-container-id-3 div.sk-dashed-wrapped {\n",
              "  border: 1px dashed var(--sklearn-color-line);\n",
              "  margin: 0 0.4em 0.5em 0.4em;\n",
              "  box-sizing: border-box;\n",
              "  padding-bottom: 0.4em;\n",
              "  background-color: var(--sklearn-color-background);\n",
              "}\n",
              "\n",
              "#sk-container-id-3 div.sk-container {\n",
              "  /* jupyter's `normalize.less` sets `[hidden] { display: none; }`\n",
              "     but bootstrap.min.css set `[hidden] { display: none !important; }`\n",
              "     so we also need the `!important` here to be able to override the\n",
              "     default hidden behavior on the sphinx rendered scikit-learn.org.\n",
              "     See: https://github.com/scikit-learn/scikit-learn/issues/21755 */\n",
              "  display: inline-block !important;\n",
              "  position: relative;\n",
              "}\n",
              "\n",
              "#sk-container-id-3 div.sk-text-repr-fallback {\n",
              "  display: none;\n",
              "}\n",
              "\n",
              "div.sk-parallel-item,\n",
              "div.sk-serial,\n",
              "div.sk-item {\n",
              "  /* draw centered vertical line to link estimators */\n",
              "  background-image: linear-gradient(var(--sklearn-color-text-on-default-background), var(--sklearn-color-text-on-default-background));\n",
              "  background-size: 2px 100%;\n",
              "  background-repeat: no-repeat;\n",
              "  background-position: center center;\n",
              "}\n",
              "\n",
              "/* Parallel-specific style estimator block */\n",
              "\n",
              "#sk-container-id-3 div.sk-parallel-item::after {\n",
              "  content: \"\";\n",
              "  width: 100%;\n",
              "  border-bottom: 2px solid var(--sklearn-color-text-on-default-background);\n",
              "  flex-grow: 1;\n",
              "}\n",
              "\n",
              "#sk-container-id-3 div.sk-parallel {\n",
              "  display: flex;\n",
              "  align-items: stretch;\n",
              "  justify-content: center;\n",
              "  background-color: var(--sklearn-color-background);\n",
              "  position: relative;\n",
              "}\n",
              "\n",
              "#sk-container-id-3 div.sk-parallel-item {\n",
              "  display: flex;\n",
              "  flex-direction: column;\n",
              "}\n",
              "\n",
              "#sk-container-id-3 div.sk-parallel-item:first-child::after {\n",
              "  align-self: flex-end;\n",
              "  width: 50%;\n",
              "}\n",
              "\n",
              "#sk-container-id-3 div.sk-parallel-item:last-child::after {\n",
              "  align-self: flex-start;\n",
              "  width: 50%;\n",
              "}\n",
              "\n",
              "#sk-container-id-3 div.sk-parallel-item:only-child::after {\n",
              "  width: 0;\n",
              "}\n",
              "\n",
              "/* Serial-specific style estimator block */\n",
              "\n",
              "#sk-container-id-3 div.sk-serial {\n",
              "  display: flex;\n",
              "  flex-direction: column;\n",
              "  align-items: center;\n",
              "  background-color: var(--sklearn-color-background);\n",
              "  padding-right: 1em;\n",
              "  padding-left: 1em;\n",
              "}\n",
              "\n",
              "\n",
              "/* Toggleable style: style used for estimator/Pipeline/ColumnTransformer box that is\n",
              "clickable and can be expanded/collapsed.\n",
              "- Pipeline and ColumnTransformer use this feature and define the default style\n",
              "- Estimators will overwrite some part of the style using the `sk-estimator` class\n",
              "*/\n",
              "\n",
              "/* Pipeline and ColumnTransformer style (default) */\n",
              "\n",
              "#sk-container-id-3 div.sk-toggleable {\n",
              "  /* Default theme specific background. It is overwritten whether we have a\n",
              "  specific estimator or a Pipeline/ColumnTransformer */\n",
              "  background-color: var(--sklearn-color-background);\n",
              "}\n",
              "\n",
              "/* Toggleable label */\n",
              "#sk-container-id-3 label.sk-toggleable__label {\n",
              "  cursor: pointer;\n",
              "  display: flex;\n",
              "  width: 100%;\n",
              "  margin-bottom: 0;\n",
              "  padding: 0.5em;\n",
              "  box-sizing: border-box;\n",
              "  text-align: center;\n",
              "  align-items: start;\n",
              "  justify-content: space-between;\n",
              "  gap: 0.5em;\n",
              "}\n",
              "\n",
              "#sk-container-id-3 label.sk-toggleable__label .caption {\n",
              "  font-size: 0.6rem;\n",
              "  font-weight: lighter;\n",
              "  color: var(--sklearn-color-text-muted);\n",
              "}\n",
              "\n",
              "#sk-container-id-3 label.sk-toggleable__label-arrow:before {\n",
              "  /* Arrow on the left of the label */\n",
              "  content: \"▸\";\n",
              "  float: left;\n",
              "  margin-right: 0.25em;\n",
              "  color: var(--sklearn-color-icon);\n",
              "}\n",
              "\n",
              "#sk-container-id-3 label.sk-toggleable__label-arrow:hover:before {\n",
              "  color: var(--sklearn-color-text);\n",
              "}\n",
              "\n",
              "/* Toggleable content - dropdown */\n",
              "\n",
              "#sk-container-id-3 div.sk-toggleable__content {\n",
              "  max-height: 0;\n",
              "  max-width: 0;\n",
              "  overflow: hidden;\n",
              "  text-align: left;\n",
              "  /* unfitted */\n",
              "  background-color: var(--sklearn-color-unfitted-level-0);\n",
              "}\n",
              "\n",
              "#sk-container-id-3 div.sk-toggleable__content.fitted {\n",
              "  /* fitted */\n",
              "  background-color: var(--sklearn-color-fitted-level-0);\n",
              "}\n",
              "\n",
              "#sk-container-id-3 div.sk-toggleable__content pre {\n",
              "  margin: 0.2em;\n",
              "  border-radius: 0.25em;\n",
              "  color: var(--sklearn-color-text);\n",
              "  /* unfitted */\n",
              "  background-color: var(--sklearn-color-unfitted-level-0);\n",
              "}\n",
              "\n",
              "#sk-container-id-3 div.sk-toggleable__content.fitted pre {\n",
              "  /* unfitted */\n",
              "  background-color: var(--sklearn-color-fitted-level-0);\n",
              "}\n",
              "\n",
              "#sk-container-id-3 input.sk-toggleable__control:checked~div.sk-toggleable__content {\n",
              "  /* Expand drop-down */\n",
              "  max-height: 200px;\n",
              "  max-width: 100%;\n",
              "  overflow: auto;\n",
              "}\n",
              "\n",
              "#sk-container-id-3 input.sk-toggleable__control:checked~label.sk-toggleable__label-arrow:before {\n",
              "  content: \"▾\";\n",
              "}\n",
              "\n",
              "/* Pipeline/ColumnTransformer-specific style */\n",
              "\n",
              "#sk-container-id-3 div.sk-label input.sk-toggleable__control:checked~label.sk-toggleable__label {\n",
              "  color: var(--sklearn-color-text);\n",
              "  background-color: var(--sklearn-color-unfitted-level-2);\n",
              "}\n",
              "\n",
              "#sk-container-id-3 div.sk-label.fitted input.sk-toggleable__control:checked~label.sk-toggleable__label {\n",
              "  background-color: var(--sklearn-color-fitted-level-2);\n",
              "}\n",
              "\n",
              "/* Estimator-specific style */\n",
              "\n",
              "/* Colorize estimator box */\n",
              "#sk-container-id-3 div.sk-estimator input.sk-toggleable__control:checked~label.sk-toggleable__label {\n",
              "  /* unfitted */\n",
              "  background-color: var(--sklearn-color-unfitted-level-2);\n",
              "}\n",
              "\n",
              "#sk-container-id-3 div.sk-estimator.fitted input.sk-toggleable__control:checked~label.sk-toggleable__label {\n",
              "  /* fitted */\n",
              "  background-color: var(--sklearn-color-fitted-level-2);\n",
              "}\n",
              "\n",
              "#sk-container-id-3 div.sk-label label.sk-toggleable__label,\n",
              "#sk-container-id-3 div.sk-label label {\n",
              "  /* The background is the default theme color */\n",
              "  color: var(--sklearn-color-text-on-default-background);\n",
              "}\n",
              "\n",
              "/* On hover, darken the color of the background */\n",
              "#sk-container-id-3 div.sk-label:hover label.sk-toggleable__label {\n",
              "  color: var(--sklearn-color-text);\n",
              "  background-color: var(--sklearn-color-unfitted-level-2);\n",
              "}\n",
              "\n",
              "/* Label box, darken color on hover, fitted */\n",
              "#sk-container-id-3 div.sk-label.fitted:hover label.sk-toggleable__label.fitted {\n",
              "  color: var(--sklearn-color-text);\n",
              "  background-color: var(--sklearn-color-fitted-level-2);\n",
              "}\n",
              "\n",
              "/* Estimator label */\n",
              "\n",
              "#sk-container-id-3 div.sk-label label {\n",
              "  font-family: monospace;\n",
              "  font-weight: bold;\n",
              "  display: inline-block;\n",
              "  line-height: 1.2em;\n",
              "}\n",
              "\n",
              "#sk-container-id-3 div.sk-label-container {\n",
              "  text-align: center;\n",
              "}\n",
              "\n",
              "/* Estimator-specific */\n",
              "#sk-container-id-3 div.sk-estimator {\n",
              "  font-family: monospace;\n",
              "  border: 1px dotted var(--sklearn-color-border-box);\n",
              "  border-radius: 0.25em;\n",
              "  box-sizing: border-box;\n",
              "  margin-bottom: 0.5em;\n",
              "  /* unfitted */\n",
              "  background-color: var(--sklearn-color-unfitted-level-0);\n",
              "}\n",
              "\n",
              "#sk-container-id-3 div.sk-estimator.fitted {\n",
              "  /* fitted */\n",
              "  background-color: var(--sklearn-color-fitted-level-0);\n",
              "}\n",
              "\n",
              "/* on hover */\n",
              "#sk-container-id-3 div.sk-estimator:hover {\n",
              "  /* unfitted */\n",
              "  background-color: var(--sklearn-color-unfitted-level-2);\n",
              "}\n",
              "\n",
              "#sk-container-id-3 div.sk-estimator.fitted:hover {\n",
              "  /* fitted */\n",
              "  background-color: var(--sklearn-color-fitted-level-2);\n",
              "}\n",
              "\n",
              "/* Specification for estimator info (e.g. \"i\" and \"?\") */\n",
              "\n",
              "/* Common style for \"i\" and \"?\" */\n",
              "\n",
              ".sk-estimator-doc-link,\n",
              "a:link.sk-estimator-doc-link,\n",
              "a:visited.sk-estimator-doc-link {\n",
              "  float: right;\n",
              "  font-size: smaller;\n",
              "  line-height: 1em;\n",
              "  font-family: monospace;\n",
              "  background-color: var(--sklearn-color-background);\n",
              "  border-radius: 1em;\n",
              "  height: 1em;\n",
              "  width: 1em;\n",
              "  text-decoration: none !important;\n",
              "  margin-left: 0.5em;\n",
              "  text-align: center;\n",
              "  /* unfitted */\n",
              "  border: var(--sklearn-color-unfitted-level-1) 1pt solid;\n",
              "  color: var(--sklearn-color-unfitted-level-1);\n",
              "}\n",
              "\n",
              ".sk-estimator-doc-link.fitted,\n",
              "a:link.sk-estimator-doc-link.fitted,\n",
              "a:visited.sk-estimator-doc-link.fitted {\n",
              "  /* fitted */\n",
              "  border: var(--sklearn-color-fitted-level-1) 1pt solid;\n",
              "  color: var(--sklearn-color-fitted-level-1);\n",
              "}\n",
              "\n",
              "/* On hover */\n",
              "div.sk-estimator:hover .sk-estimator-doc-link:hover,\n",
              ".sk-estimator-doc-link:hover,\n",
              "div.sk-label-container:hover .sk-estimator-doc-link:hover,\n",
              ".sk-estimator-doc-link:hover {\n",
              "  /* unfitted */\n",
              "  background-color: var(--sklearn-color-unfitted-level-3);\n",
              "  color: var(--sklearn-color-background);\n",
              "  text-decoration: none;\n",
              "}\n",
              "\n",
              "div.sk-estimator.fitted:hover .sk-estimator-doc-link.fitted:hover,\n",
              ".sk-estimator-doc-link.fitted:hover,\n",
              "div.sk-label-container:hover .sk-estimator-doc-link.fitted:hover,\n",
              ".sk-estimator-doc-link.fitted:hover {\n",
              "  /* fitted */\n",
              "  background-color: var(--sklearn-color-fitted-level-3);\n",
              "  color: var(--sklearn-color-background);\n",
              "  text-decoration: none;\n",
              "}\n",
              "\n",
              "/* Span, style for the box shown on hovering the info icon */\n",
              ".sk-estimator-doc-link span {\n",
              "  display: none;\n",
              "  z-index: 9999;\n",
              "  position: relative;\n",
              "  font-weight: normal;\n",
              "  right: .2ex;\n",
              "  padding: .5ex;\n",
              "  margin: .5ex;\n",
              "  width: min-content;\n",
              "  min-width: 20ex;\n",
              "  max-width: 50ex;\n",
              "  color: var(--sklearn-color-text);\n",
              "  box-shadow: 2pt 2pt 4pt #999;\n",
              "  /* unfitted */\n",
              "  background: var(--sklearn-color-unfitted-level-0);\n",
              "  border: .5pt solid var(--sklearn-color-unfitted-level-3);\n",
              "}\n",
              "\n",
              ".sk-estimator-doc-link.fitted span {\n",
              "  /* fitted */\n",
              "  background: var(--sklearn-color-fitted-level-0);\n",
              "  border: var(--sklearn-color-fitted-level-3);\n",
              "}\n",
              "\n",
              ".sk-estimator-doc-link:hover span {\n",
              "  display: block;\n",
              "}\n",
              "\n",
              "/* \"?\"-specific style due to the `<a>` HTML tag */\n",
              "\n",
              "#sk-container-id-3 a.estimator_doc_link {\n",
              "  float: right;\n",
              "  font-size: 1rem;\n",
              "  line-height: 1em;\n",
              "  font-family: monospace;\n",
              "  background-color: var(--sklearn-color-background);\n",
              "  border-radius: 1rem;\n",
              "  height: 1rem;\n",
              "  width: 1rem;\n",
              "  text-decoration: none;\n",
              "  /* unfitted */\n",
              "  color: var(--sklearn-color-unfitted-level-1);\n",
              "  border: var(--sklearn-color-unfitted-level-1) 1pt solid;\n",
              "}\n",
              "\n",
              "#sk-container-id-3 a.estimator_doc_link.fitted {\n",
              "  /* fitted */\n",
              "  border: var(--sklearn-color-fitted-level-1) 1pt solid;\n",
              "  color: var(--sklearn-color-fitted-level-1);\n",
              "}\n",
              "\n",
              "/* On hover */\n",
              "#sk-container-id-3 a.estimator_doc_link:hover {\n",
              "  /* unfitted */\n",
              "  background-color: var(--sklearn-color-unfitted-level-3);\n",
              "  color: var(--sklearn-color-background);\n",
              "  text-decoration: none;\n",
              "}\n",
              "\n",
              "#sk-container-id-3 a.estimator_doc_link.fitted:hover {\n",
              "  /* fitted */\n",
              "  background-color: var(--sklearn-color-fitted-level-3);\n",
              "}\n",
              "</style><div id=\"sk-container-id-3\" class=\"sk-top-container\"><div class=\"sk-text-repr-fallback\"><pre>MLPClassifier(activation=&#x27;tanh&#x27;, hidden_layer_sizes=(20, 20))</pre><b>In a Jupyter environment, please rerun this cell to show the HTML representation or trust the notebook. <br />On GitHub, the HTML representation is unable to render, please try loading this page with nbviewer.org.</b></div><div class=\"sk-container\" hidden><div class=\"sk-item\"><div class=\"sk-estimator fitted sk-toggleable\"><input class=\"sk-toggleable__control sk-hidden--visually\" id=\"sk-estimator-id-3\" type=\"checkbox\" checked><label for=\"sk-estimator-id-3\" class=\"sk-toggleable__label fitted sk-toggleable__label-arrow\"><div><div>MLPClassifier</div></div><div><a class=\"sk-estimator-doc-link fitted\" rel=\"noreferrer\" target=\"_blank\" href=\"https://scikit-learn.org/1.6/modules/generated/sklearn.neural_network.MLPClassifier.html\">?<span>Documentation for MLPClassifier</span></a><span class=\"sk-estimator-doc-link fitted\">i<span>Fitted</span></span></div></label><div class=\"sk-toggleable__content fitted\"><pre>MLPClassifier(activation=&#x27;tanh&#x27;, hidden_layer_sizes=(20, 20))</pre></div> </div></div></div></div>"
            ]
          },
          "metadata": {},
          "execution_count": 23
        }
      ],
      "source": [
        "from sklearn.neural_network import MLPClassifier\n",
        "\n",
        "agent = MLPClassifier(\n",
        "    hidden_layer_sizes=(20, 20),\n",
        "    activation=\"tanh\",\n",
        ")\n",
        "\n",
        "# initialize agent to the dimension of state space and number of actions\n",
        "agent.partial_fit([env.reset()[0]] * n_actions, range(n_actions), range(n_actions))\n"
      ]
    },
    {
      "cell_type": "code",
      "execution_count": 24,
      "metadata": {
        "id": "eyFS3oUmG9zL"
      },
      "outputs": [],
      "source": [
        "def generate_session(env, agent, t_max=1000):\n",
        "    \"\"\"\n",
        "    Play a single game using agent neural network.\n",
        "    Terminate when game finishes or after :t_max: steps\n",
        "    \"\"\"\n",
        "    states, actions = [], []\n",
        "    total_reward = 0\n",
        "\n",
        "    s, _ = env.reset()\n",
        "\n",
        "    for t in range(t_max):\n",
        "\n",
        "        # use agent to predict a vector of action probabilities for state :s:\n",
        "        probs = agent.predict_proba([s])[0]\n",
        "\n",
        "        assert probs.shape == (env.action_space.n,), \"make sure probabilities are a vector (hint: np.reshape)\"\n",
        "\n",
        "        # use the probabilities you predicted to pick an action\n",
        "        # sample proportionally to the probabilities, don't just take the most likely action\n",
        "        a = np.random.choice(np.arange(env.action_space.n), p=probs)\n",
        "        # ^-- hint: try np.random.choice\n",
        "\n",
        "        new_s, r, terminated, truncated, _ = env.step(a)\n",
        "\n",
        "        # record sessions like you did before\n",
        "        states.append(s)\n",
        "        actions.append(a)\n",
        "        total_reward += r\n",
        "\n",
        "        s = new_s\n",
        "        if terminated or truncated:\n",
        "            break\n",
        "    return states, actions, total_reward\n"
      ]
    },
    {
      "cell_type": "code",
      "execution_count": 25,
      "metadata": {
        "id": "4xgrTCgJG9zL",
        "colab": {
          "base_uri": "https://localhost:8080/"
        },
        "outputId": "455ad350-0199-46cb-c196-75f265cb00ba"
      },
      "outputs": [
        {
          "output_type": "stream",
          "name": "stdout",
          "text": [
            "states: [[ 0.03365747  0.04604865  0.0334246  -0.02333489]\n",
            " [ 0.03457844  0.24067572  0.03295791 -0.30528742]\n",
            " [ 0.03939195  0.43531287  0.02685216 -0.58739674]\n",
            " [ 0.04809821  0.23982535  0.01510422 -0.28637758]\n",
            " [ 0.05289472  0.04449129  0.00937667  0.01103057]]\n",
            "actions: [np.int64(1), np.int64(1), np.int64(0), np.int64(0), np.int64(1)]\n",
            "reward: 5.0\n"
          ]
        }
      ],
      "source": [
        "dummy_states, dummy_actions, dummy_reward = generate_session(env, agent, t_max=5)\n",
        "print(\"states:\", np.stack(dummy_states))\n",
        "print(\"actions:\", dummy_actions)\n",
        "print(\"reward:\", dummy_reward)\n"
      ]
    },
    {
      "cell_type": "markdown",
      "metadata": {
        "id": "p85lt16qG9zL"
      },
      "source": [
        "### CEM steps\n",
        "Deep CEM uses exactly the same strategy as the regular CEM, so you can copy your function code from previous notebook.\n",
        "\n",
        "The only difference is that now each observation is not a number but a `float32` vector."
      ]
    },
    {
      "cell_type": "code",
      "execution_count": 26,
      "metadata": {
        "id": "4On-p7p4G9zL"
      },
      "outputs": [],
      "source": [
        "def select_elites(states_batch, actions_batch, rewards_batch, percentile=50):\n",
        "    \"\"\"\n",
        "    Select states and actions from games that have rewards >= percentile\n",
        "    :param states_batch: list of lists of states, states_batch[session_i][t]\n",
        "    :param actions_batch: list of lists of actions, actions_batch[session_i][t]\n",
        "    :param rewards_batch: list of rewards, rewards_batch[session_i]\n",
        "\n",
        "    :returns: elite_states,elite_actions, both 1D lists of states and respective actions from elite sessions\n",
        "\n",
        "    Please return elite states and actions in their original order\n",
        "    [i.e. sorted by session number and timestep within session]\n",
        "\n",
        "    If you are confused, see examples below. Please don't assume that states are integers\n",
        "    (they will become different later).\n",
        "    \"\"\"\n",
        "\n",
        "    reward_threshold = np.percentile(rewards_batch, percentile)\n",
        "    elite_states = []\n",
        "    elite_actions = []\n",
        "\n",
        "    for i in range(len(rewards_batch)):\n",
        "        if rewards_batch[i] >= reward_threshold:\n",
        "            elite_states.extend(states_batch[i])\n",
        "            elite_actions.extend(actions_batch[i])\n",
        "\n",
        "    return elite_states, elite_actions\n"
      ]
    },
    {
      "cell_type": "markdown",
      "metadata": {
        "id": "xc40V4DaG9zM"
      },
      "source": [
        "# Training loop\n",
        "Generate sessions, select N best and fit to those."
      ]
    },
    {
      "cell_type": "code",
      "execution_count": 27,
      "metadata": {
        "id": "PPwVKwF7G9zM"
      },
      "outputs": [],
      "source": [
        "from IPython.display import clear_output\n",
        "\n",
        "\n",
        "def show_progress(rewards_batch, log, percentile, reward_range=[-990, +10]):\n",
        "    \"\"\"\n",
        "    A convenience function that displays training progress.\n",
        "    No cool math here, just charts.\n",
        "    \"\"\"\n",
        "\n",
        "    mean_reward = np.mean(rewards_batch)\n",
        "    threshold = np.percentile(rewards_batch, percentile)\n",
        "    log.append([mean_reward, threshold])\n",
        "\n",
        "    clear_output(True)\n",
        "    print(\"mean reward = %.3f, threshold=%.3f\" % (mean_reward, threshold))\n",
        "    plt.figure(figsize=[8, 4])\n",
        "    plt.subplot(1, 2, 1)\n",
        "    plt.plot(list(zip(*log))[0], label=\"Mean rewards\")\n",
        "    plt.plot(list(zip(*log))[1], label=\"Reward thresholds\")\n",
        "    plt.legend()\n",
        "    plt.grid()\n",
        "\n",
        "    plt.subplot(1, 2, 2)\n",
        "    plt.hist(rewards_batch, range=reward_range)\n",
        "    plt.vlines(\n",
        "        [np.percentile(rewards_batch, percentile)],\n",
        "        [0],\n",
        "        [100],\n",
        "        label=\"percentile\",\n",
        "        color=\"red\",\n",
        "    )\n",
        "    plt.legend()\n",
        "    plt.grid()\n",
        "\n",
        "    plt.show()\n"
      ]
    },
    {
      "cell_type": "code",
      "execution_count": 28,
      "metadata": {
        "id": "euK7WRQiG9zM",
        "colab": {
          "base_uri": "https://localhost:8080/",
          "height": 403
        },
        "outputId": "6acf0dbd-95ba-411e-8f90-179d64d4117e"
      },
      "outputs": [
        {
          "output_type": "stream",
          "name": "stdout",
          "text": [
            "mean reward = 204.990, threshold=234.800\n"
          ]
        },
        {
          "output_type": "display_data",
          "data": {
            "text/plain": [
              "<Figure size 800x400 with 2 Axes>"
            ],
            "image/png": "[encoded data removed]"
          },
          "metadata": {}
        },
        {
          "output_type": "stream",
          "name": "stdout",
          "text": [
            "You Win!\n"
          ]
        }
      ],
      "source": [
        "n_sessions = 100\n",
        "percentile = 70\n",
        "target_mean_reward = 190\n",
        "log = []\n",
        "\n",
        "for i in range(100):\n",
        "    # generate new sessions\n",
        "    sessions = [generate_session(env, agent) for _ in range(n_sessions)]\n",
        "\n",
        "    # Пришлось поменять из-за неправильного размера\n",
        "    states_batch = [session[0] for session in sessions]\n",
        "    actions_batch = [session[1] for session in sessions]\n",
        "    rewards_batch = np.array([session[2] for session in sessions])\n",
        "\n",
        "    elite_states, elite_actions = select_elites(states_batch, actions_batch, rewards_batch, percentile)\n",
        "\n",
        "    agent.partial_fit(elite_states, elite_actions)\n",
        "\n",
        "    show_progress(\n",
        "        rewards_batch, log, percentile, reward_range=[0, np.max(rewards_batch)]\n",
        "    )\n",
        "\n",
        "    if np.mean(rewards_batch) > target_mean_reward:\n",
        "        print(\"You Win!\")\n",
        "        break\n"
      ]
    },
    {
      "cell_type": "markdown",
      "metadata": {
        "id": "yeNWKjtsG9zM"
      },
      "source": [
        "# Results"
      ]
    },
    {
      "cell_type": "code",
      "execution_count": 29,
      "metadata": {
        "id": "RJwsWl4kG9zM",
        "colab": {
          "base_uri": "https://localhost:8080/"
        },
        "outputId": "464ac0e0-f9fd-4730-d11e-2b4769aed157"
      },
      "outputs": [
        {
          "output_type": "stream",
          "name": "stderr",
          "text": [
            "/usr/local/lib/python3.11/dist-packages/gymnasium/wrappers/rendering.py:283: UserWarning: \u001b[33mWARN: Overwriting existing videos at /content/videos folder (try specifying a different `video_folder` for the `RecordVideo` wrapper if this is not desired)\u001b[0m\n",
            "  logger.warn(\n"
          ]
        }
      ],
      "source": [
        "# Record sessions\n",
        "\n",
        "from gymnasium.wrappers import RecordVideo\n",
        "\n",
        "with RecordVideo(\n",
        "    env=gym.make(\"CartPole-v1\", render_mode=\"rgb_array\"),\n",
        "    video_folder=\"./videos\",\n",
        "    episode_trigger=lambda episode_number: True,\n",
        ") as env_monitor:\n",
        "    sessions = [generate_session(env_monitor, agent) for _ in range(100)]\n"
      ]
    },
    {
      "cell_type": "code",
      "execution_count": 30,
      "metadata": {
        "id": "kLPXdME7G9zN",
        "colab": {
          "base_uri": "https://localhost:8080/",
          "height": 501
        },
        "outputId": "24d9497e-7446-4ce0-a01f-e7a7abf22877"
      },
      "outputs": [
        {
          "output_type": "execute_result",
          "data": {
            "text/plain": [
              "<IPython.core.display.HTML object>"
            ],
            "text/html": [
              "\n",
              "<video width=\"640\" height=\"480\" controls>\n",
              "  <source src=\"data:video/mp4;base64,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\" type=\"video/mp4\">\n",
              "</video>\n"
            ]
          },
          "metadata": {},
          "execution_count": 30
        }
      ],
      "source": [
        "# Show video. This may not work in some setups. If it doesn't\n",
        "# work for you, you can download the videos and view them locally.\n",
        "\n",
        "from pathlib import Path\n",
        "from base64 import b64encode\n",
        "from IPython.display import HTML\n",
        "\n",
        "video_paths = sorted([s for s in Path(\"videos\").iterdir() if s.suffix == \".mp4\"])\n",
        "video_path = video_paths[-1]  # You can also try other indices\n",
        "\n",
        "if \"google.colab\" in sys.modules:\n",
        "    # https://stackoverflow.com/a/57378660/1214547\n",
        "    with video_path.open(\"rb\") as fp:\n",
        "        mp4 = fp.read()\n",
        "    data_url = \"data:video/mp4;base64,\" + b64encode(mp4).decode()\n",
        "else:\n",
        "    data_url = str(video_path)\n",
        "\n",
        "HTML(\n",
        "    \"\"\"\n",
        "<video width=\"640\" height=\"480\" controls>\n",
        "  <source src=\"{}\" type=\"video/mp4\">\n",
        "</video>\n",
        "\"\"\".format(\n",
        "        data_url\n",
        "    )\n",
        ")\n"
      ]
    },
    {
      "cell_type": "markdown",
      "metadata": {
        "id": "6d_3oOQ1G9zN"
      },
      "source": [
        "# Homework part I (Opitional)\n",
        "\n",
        "### Tabular crossentropy method\n",
        "\n",
        "You may have noticed that the taxi problem quickly converges from -100 to a near-optimal score and then descends back into -50/-100. This is in part because the environment has some innate randomness. Namely, the starting points of passenger/driver change from episode to episode.\n",
        "\n",
        "### Tasks\n",
        "- __1.1__ Find out how the algorithm performance changes if you use a different `percentile` and/or `n_sessions`. Provide here some figures so we can see how the hyperparameters influence the performance.\n",
        "- __1.2__ Tune the algorithm to end up with positive average score.\n",
        "\n",
        "It's okay to modify the existing code.\n"
      ]
    },
    {
      "cell_type": "markdown",
      "metadata": {
        "id": "L88LySiVG9zN"
      },
      "source": [
        "```<Describe what you did here>```"
      ]
    },
    {
      "cell_type": "markdown",
      "metadata": {
        "id": "7LpAJc4rG9zN"
      },
      "source": [
        "# Homework part II (Optional)\n",
        "\n",
        "### Deep crossentropy method\n",
        "\n",
        "By this moment, you should have got enough score on [CartPole-v0](https://gymnasium.farama.org/environments/classic_control/cart_pole/) to consider it solved (see the link). It's time to try something harder.\n",
        "\n",
        "* if you have any trouble with CartPole-v0 and feel stuck, feel free to ask us or your peers for help.\n",
        "\n",
        "### Tasks\n",
        "\n",
        "* __2.1__ Pick one of environments: `MountainCar-v0` or `LunarLander-v2`.\n",
        "  * For MountainCar, get average reward of __at least -150__\n",
        "  * For LunarLander, get average reward of __at least +50__\n",
        "\n",
        "See the tips section below, it's kinda important.\n",
        "__Note:__ If your agent is below the target score, you'll still get some of the points depending on the result, so don't be afraid to submit it.\n",
        "  \n",
        "  \n",
        "* __2.2__ Devise a way to speed up training against the default version\n",
        "  * Obvious improvement: use [`joblib`](https://joblib.readthedocs.io/en/latest/). However, note that you will probably need to spawn a new environment in each of the workers instead of passing it via pickling.\n",
        "  * Try re-using samples from 3-5 last iterations when computing threshold and training.\n",
        "  * Obtain __-100__ at `MountainCar-v0` or __+200__ at `LunarLander-v2`. Feel free to experiment with hyperparameters, architectures, schedules etc.\n",
        "  \n",
        "__Please list what you did in Anytask submission form__. This reduces probability that somebody misses something.\n",
        "  \n",
        "  \n",
        "### Tips\n",
        "* Gymnasium pages: [MountainCar](https://gymnasium.farama.org/environments/classic_control/mountain_car/), [LunarLander](https://gymnasium.farama.org/environments/box2d/lunar_lander/)\n",
        "* Sessions for MountainCar may last for 10k+ ticks. Make sure ```t_max``` param is at least 10k.\n",
        " * Also it may be a good idea to cut rewards via \">\" and not \">=\". If 90% of your sessions get reward of -10k and 10% are better, than if you use percentile 20% as threshold, R >= threshold __fails to cut off bad sessions__ while R > threshold works alright.\n",
        "* _issue with gym_: Some versions of gym limit game time by 200 ticks. This will prevent cem training in most cases. Make sure your agent is able to play for the specified __t_max__, and if it isn't, try `env = gym.make(\"MountainCar-v0\").env` or otherwise get rid of TimeLimit wrapper.\n",
        "* If you use old _swig_ lib for LunarLander-v2, you may get an error. See this [issue](https://github.com/openai/gym/issues/100) for solution.\n",
        "* If it doesn't train, it's a good idea to plot reward distribution and record sessions: they may give you some clue. If they don't, call course staff :)\n",
        "* 20-neuron network is probably not enough, feel free to experiment.\n",
        "\n",
        "You may find the following snippet useful:"
      ]
    },
    {
      "cell_type": "code",
      "execution_count": 31,
      "metadata": {
        "id": "qcjz-nm_G9zN",
        "colab": {
          "base_uri": "https://localhost:8080/",
          "height": 352
        },
        "outputId": "d5dde14c-cefc-451e-852d-b6310e1e7860"
      },
      "outputs": [
        {
          "output_type": "stream",
          "name": "stderr",
          "text": [
            "/usr/local/lib/python3.11/dist-packages/gymnasium/envs/registration.py:736: UserWarning: \u001b[33mWARN: The environment is being initialised with render_mode='rgb_arrary' that is not in the possible render_modes (['human', 'rgb_array']).\u001b[0m\n",
            "  logger.warn(\n"
          ]
        },
        {
          "output_type": "error",
          "ename": "AttributeError",
          "evalue": "'OrderEnforcing' object has no attribute 'min_position'",
          "traceback": [
            "\u001b[0;31m---------------------------------------------------------------------------\u001b[0m",
            "\u001b[0;31mAttributeError\u001b[0m                            Traceback (most recent call last)",
            "\u001b[0;32m<ipython-input-31-3817147995>\u001b[0m in \u001b[0;36m<cell line: 0>\u001b[0;34m()\u001b[0m\n\u001b[1;32m     41\u001b[0m \u001b[0;34m\u001b[0m\u001b[0m\n\u001b[1;32m     42\u001b[0m \u001b[0;32mwith\u001b[0m \u001b[0mgym\u001b[0m\u001b[0;34m.\u001b[0m\u001b[0mmake\u001b[0m\u001b[0;34m(\u001b[0m\u001b[0;34m\"MountainCar-v0\"\u001b[0m\u001b[0;34m,\u001b[0m \u001b[0mrender_mode\u001b[0m\u001b[0;34m=\u001b[0m\u001b[0;34m\"rgb_arrary\"\u001b[0m\u001b[0;34m)\u001b[0m\u001b[0;34m.\u001b[0m\u001b[0menv\u001b[0m \u001b[0;32mas\u001b[0m \u001b[0menv\u001b[0m\u001b[0;34m:\u001b[0m\u001b[0;34m\u001b[0m\u001b[0;34m\u001b[0m\u001b[0m\n\u001b[0;32m---> 43\u001b[0;31m     \u001b[0mvisualize_mountain_car\u001b[0m\u001b[0;34m(\u001b[0m\u001b[0menv\u001b[0m\u001b[0;34m,\u001b[0m \u001b[0magent\u001b[0m\u001b[0;34m)\u001b[0m\u001b[0;34m\u001b[0m\u001b[0;34m\u001b[0m\u001b[0m\n\u001b[0m",
            "\u001b[0;32m<ipython-input-31-3817147995>\u001b[0m in \u001b[0;36mvisualize_mountain_car\u001b[0;34m(env, agent)\u001b[0m\n\u001b[1;32m      1\u001b[0m \u001b[0;32mdef\u001b[0m \u001b[0mvisualize_mountain_car\u001b[0m\u001b[0;34m(\u001b[0m\u001b[0menv\u001b[0m\u001b[0;34m,\u001b[0m \u001b[0magent\u001b[0m\u001b[0;34m)\u001b[0m\u001b[0;34m:\u001b[0m\u001b[0;34m\u001b[0m\u001b[0;34m\u001b[0m\u001b[0m\n\u001b[1;32m      2\u001b[0m     \u001b[0;31m# Compute policy for all possible x and v (with discretization)\u001b[0m\u001b[0;34m\u001b[0m\u001b[0;34m\u001b[0m\u001b[0m\n\u001b[0;32m----> 3\u001b[0;31m     \u001b[0mxs\u001b[0m \u001b[0;34m=\u001b[0m \u001b[0mnp\u001b[0m\u001b[0;34m.\u001b[0m\u001b[0mlinspace\u001b[0m\u001b[0;34m(\u001b[0m\u001b[0menv\u001b[0m\u001b[0;34m.\u001b[0m\u001b[0mmin_position\u001b[0m\u001b[0;34m,\u001b[0m \u001b[0menv\u001b[0m\u001b[0;34m.\u001b[0m\u001b[0mmax_position\u001b[0m\u001b[0;34m,\u001b[0m \u001b[0;36m100\u001b[0m\u001b[0;34m)\u001b[0m\u001b[0;34m\u001b[0m\u001b[0;34m\u001b[0m\u001b[0m\n\u001b[0m\u001b[1;32m      4\u001b[0m     \u001b[0mvs\u001b[0m \u001b[0;34m=\u001b[0m \u001b[0mnp\u001b[0m\u001b[0;34m.\u001b[0m\u001b[0mlinspace\u001b[0m\u001b[0;34m(\u001b[0m\u001b[0;34m-\u001b[0m\u001b[0menv\u001b[0m\u001b[0;34m.\u001b[0m\u001b[0mmax_speed\u001b[0m\u001b[0;34m,\u001b[0m \u001b[0menv\u001b[0m\u001b[0;34m.\u001b[0m\u001b[0mmax_speed\u001b[0m\u001b[0;34m,\u001b[0m \u001b[0;36m100\u001b[0m\u001b[0;34m)\u001b[0m\u001b[0;34m\u001b[0m\u001b[0;34m\u001b[0m\u001b[0m\n\u001b[1;32m      5\u001b[0m \u001b[0;34m\u001b[0m\u001b[0m\n",
            "\u001b[0;31mAttributeError\u001b[0m: 'OrderEnforcing' object has no attribute 'min_position'"
          ]
        }
      ],
      "source": [
        "def visualize_mountain_car(env, agent):\n",
        "    # Compute policy for all possible x and v (with discretization)\n",
        "    xs = np.linspace(env.min_position, env.max_position, 100)\n",
        "    vs = np.linspace(-env.max_speed, env.max_speed, 100)\n",
        "\n",
        "    grid = np.dstack(np.meshgrid(xs, vs[::-1])).transpose(1, 0, 2)\n",
        "    grid_flat = grid.reshape(len(xs) * len(vs), 2)\n",
        "    probs = (\n",
        "        agent.predict_proba(grid_flat).reshape(len(xs), len(vs), 3).transpose(1, 0, 2)\n",
        "    )\n",
        "\n",
        "    # # The above code is equivalent to the following:\n",
        "    # probs = np.empty((len(vs), len(xs), 3))\n",
        "    # for i, v in enumerate(vs[::-1]):\n",
        "    #     for j, x in enumerate(xs):\n",
        "    #         probs[i, j, :] = agent.predict_proba([[x, v]])[0]\n",
        "\n",
        "    # Draw policy\n",
        "    f, ax = plt.subplots(figsize=(7, 7))\n",
        "    ax.imshow(\n",
        "        probs,\n",
        "        extent=(env.min_position, env.max_position, -env.max_speed, env.max_speed),\n",
        "        aspect=\"auto\",\n",
        "    )\n",
        "    ax.set_title(\"Learned policy: red=left, green=nothing, blue=right\")\n",
        "    ax.set_xlabel(\"position (x)\")\n",
        "    ax.set_ylabel(\"velocity (v)\")\n",
        "\n",
        "    # Sample a trajectory and draw it\n",
        "    states, actions, _ = generate_session(env, agent)\n",
        "    states = np.array(states)\n",
        "    ax.plot(states[:, 0], states[:, 1], color=\"white\")\n",
        "\n",
        "    # Draw every 3rd action from the trajectory\n",
        "    for (x, v), a in zip(states[::3], actions[::3]):\n",
        "        if a == 0:\n",
        "            plt.arrow(x, v, -0.1, 0, color=\"white\", head_length=0.02)\n",
        "        elif a == 2:\n",
        "            plt.arrow(x, v, 0.1, 0, color=\"white\", head_length=0.02)\n",
        "\n",
        "\n",
        "with gym.make(\"MountainCar-v0\", render_mode=\"rgb_arrary\").env as env:\n",
        "    visualize_mountain_car(env, agent)\n"
      ]
    }
  ],
  "metadata": {
    "colab": {
      "provenance": []
    },
    "kernelspec": {
      "display_name": "Neural",
      "language": "python",
      "name": "python3"
    },
    "language_info": {
      "codemirror_mode": {
        "name": "ipython",
        "version": 3
      },
      "file_extension": ".py",
      "mimetype": "text/x-python",
      "name": "python",
      "nbconvert_exporter": "python",
      "pygments_lexer": "ipython3",
      "version": "3.11.9"
    }
  },
  "nbformat": 4,
  "nbformat_minor": 0
}