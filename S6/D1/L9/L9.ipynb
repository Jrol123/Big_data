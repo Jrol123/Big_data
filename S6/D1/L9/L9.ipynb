{
 "cells": [
  {
   "cell_type": "markdown",
   "metadata": {
    "id": "OlMtNJuSajIt"
   },
   "source": [
    "# GAN для генерации рукописных цифр (MNIST) с использованием PyTorch"
   ]
  },
  {
   "cell_type": "markdown",
   "metadata": {},
   "source": [
    "Воспользовался самописным `GAN` для `MNIST`"
   ]
  },
  {
   "cell_type": "markdown",
   "metadata": {},
   "source": [
    "Была сделана модификация `Conditional GAN`"
   ]
  },
  {
   "cell_type": "markdown",
   "metadata": {},
   "source": [
    "# Imports"
   ]
  },
  {
   "cell_type": "code",
   "execution_count": 23,
   "metadata": {},
   "outputs": [],
   "source": [
    "import os\n",
    "import shutil"
   ]
  },
  {
   "cell_type": "code",
   "execution_count": 24,
   "metadata": {},
   "outputs": [],
   "source": [
    "from PIL import Image, ImageDraw, ImageFont"
   ]
  },
  {
   "cell_type": "code",
   "execution_count": 25,
   "metadata": {},
   "outputs": [],
   "source": [
    "from IPython import display\n",
    "import matplotlib.pyplot as plt"
   ]
  },
  {
   "cell_type": "code",
   "execution_count": 26,
   "metadata": {},
   "outputs": [],
   "source": [
    "import tensorflow as tf"
   ]
  },
  {
   "cell_type": "code",
   "execution_count": 27,
   "metadata": {},
   "outputs": [],
   "source": [
    "from keras import (\n",
    "    layers,\n",
    "    optimizers,\n",
    "    losses,\n",
    "    datasets,\n",
    "    Model,\n",
    "    metrics,\n",
    "    callbacks,\n",
    ")\n",
    "from keras.models import load_model\n",
    "from keras.src.utils import file_utils\n",
    "from keras.utils import to_categorical"
   ]
  },
  {
   "cell_type": "markdown",
   "metadata": {},
   "source": [
    "# Params"
   ]
  },
  {
   "cell_type": "code",
   "execution_count": 28,
   "metadata": {},
   "outputs": [],
   "source": [
    "BUFFER_SIZE = 100000\n",
    "EPOCHS = 50\n",
    "BATCH_SIZE = 2**5\n",
    "NOISE_DIM = int(10e1)\n",
    "NUM_CLASSES = 10"
   ]
  },
  {
   "cell_type": "code",
   "execution_count": 29,
   "metadata": {},
   "outputs": [],
   "source": [
    "folders = {\"img\": \"gan_images\", \"check\": \"gan_checkpoints\", \"model\": \"gan_models\"}"
   ]
  },
  {
   "cell_type": "markdown",
   "metadata": {},
   "source": [
    "# Data preparation"
   ]
  },
  {
   "cell_type": "code",
   "execution_count": 30,
   "metadata": {},
   "outputs": [],
   "source": [
    "(train_images, train_labels), (_, _) = datasets.mnist.load_data()\n",
    "train_images = train_images.reshape(-1, 28, 28, 1).astype(\"float32\") / 255.0\n",
    "train_labels = to_categorical(train_labels, NUM_CLASSES)\n",
    "\n",
    "train_dataset = tf.data.Dataset.from_tensor_slices((train_images, train_labels))\n",
    "train_dataset = train_dataset.shuffle(BUFFER_SIZE).batch(BATCH_SIZE)"
   ]
  },
  {
   "cell_type": "markdown",
   "metadata": {},
   "source": [
    "# Generator"
   ]
  },
  {
   "cell_type": "code",
   "execution_count": 31,
   "metadata": {},
   "outputs": [],
   "source": [
    "class Generator(Model):\n",
    "    def __init__(self, **kwargs):\n",
    "        super().__init__(**kwargs)\n",
    "        # Объединенный вход: шум + метка\n",
    "        self.fc = layers.Dense(7 * 7 * 256, use_bias=False)\n",
    "        self.bn0 = layers.BatchNormalization()\n",
    "\n",
    "        self.conv1 = layers.Conv2DTranspose(\n",
    "            128, (5, 5), strides=(1, 1), padding=\"same\", use_bias=False\n",
    "        )\n",
    "        self.bn1 = layers.BatchNormalization()\n",
    "\n",
    "        self.conv2 = layers.Conv2DTranspose(\n",
    "            64, (5, 5), strides=(2, 2), padding=\"same\", use_bias=False\n",
    "        )\n",
    "        self.bn2 = layers.BatchNormalization()\n",
    "\n",
    "        self.conv3 = layers.Conv2DTranspose(\n",
    "            1, (5, 5), strides=(2, 2), padding=\"same\", activation=\"sigmoid\"\n",
    "        )\n",
    "\n",
    "        self.relu = layers.ReLU()\n",
    "\n",
    "    def call(self, inputs, training=False):\n",
    "        noise, label = inputs\n",
    "        # Объединение шума и метки\n",
    "        x = tf.concat([noise, label], axis=1)\n",
    "        x = self.fc(x)\n",
    "        x = self.bn0(x, training=training)\n",
    "        x = self.relu(x)\n",
    "        x = tf.reshape(x, (-1, 7, 7, 256))\n",
    "\n",
    "        x = self.conv1(x)\n",
    "        x = self.bn1(x, training=training)\n",
    "        x = self.relu(x)\n",
    "\n",
    "        x = self.conv2(x)\n",
    "        x = self.bn2(x, training=training)\n",
    "        x = self.relu(x)\n",
    "\n",
    "        return self.conv3(x)\n",
    "\n",
    "\n",
    "    # def build(self, img_shape):\n",
    "    #     # Метод для явной инициализации и проверки архитектуры\n",
    "    #     x = Input(shape=img_shape)\n",
    "    #     return Model(inputs=[x], outputs=self.call(x))"
   ]
  },
  {
   "cell_type": "code",
   "execution_count": 32,
   "metadata": {},
   "outputs": [],
   "source": [
    "generator = Generator()"
   ]
  },
  {
   "cell_type": "code",
   "execution_count": 33,
   "metadata": {},
   "outputs": [],
   "source": [
    "def generate_digit(digit_class, generator, num_examples=1):\n",
    "    noise = tf.random.normal([num_examples, NOISE_DIM])\n",
    "    labels = tf.one_hot([digit_class] * num_examples, depth=NUM_CLASSES)\n",
    "    generated = generator([noise, labels], training=False)\n",
    "\n",
    "    plt.figure(figsize=(num_examples * 3, 3))\n",
    "    for i in range(num_examples):\n",
    "        plt.subplot(1, num_examples, i + 1)\n",
    "        plt.imshow(generated[i, :, :, 0] * 255.0, cmap=\"gray\")\n",
    "        plt.title(f\"Digit: {digit_class}\")\n",
    "        plt.axis(\"off\")\n",
    "    plt.show()"
   ]
  },
  {
   "cell_type": "code",
   "execution_count": 34,
   "metadata": {},
   "outputs": [
    {
     "data": {
      "image/png": "[encoded data removed]",
      "text/plain": [
       "<Figure size 300x300 with 1 Axes>"
      ]
     },
     "metadata": {},
     "output_type": "display_data"
    }
   ],
   "source": [
    "generate_digit(5, generator, num_examples=1)"
   ]
  },
  {
   "cell_type": "markdown",
   "metadata": {},
   "source": [
    "# Discriminator"
   ]
  },
  {
   "cell_type": "code",
   "execution_count": 35,
   "metadata": {},
   "outputs": [],
   "source": [
    "class Discriminator(Model):\n",
    "    def __init__(self, **kwargs):\n",
    "        super().__init__(**kwargs)\n",
    "        # Встроенный слой для меток\n",
    "        self.label_embedding = layers.Dense(28 * 28)\n",
    "\n",
    "        self.conv1 = layers.Conv2D(64, (5, 5), strides=(2, 2), padding=\"same\")\n",
    "        self.conv2 = layers.Conv2D(128, (5, 5), strides=(2, 2), padding=\"same\")\n",
    "\n",
    "        self.flatten = layers.Flatten()\n",
    "        self.fc = layers.Dense(1)\n",
    "\n",
    "        self.leaky_relu = layers.LeakyReLU(0.2)\n",
    "        self.dropout = layers.Dropout(0.3)\n",
    "\n",
    "    def call(self, inputs, training=False):\n",
    "        image, label = inputs\n",
    "\n",
    "        # Преобразование метки в изображение\n",
    "        label_img = self.label_embedding(label)\n",
    "        label_img = tf.reshape(label_img, (-1, 28, 28, 1))\n",
    "\n",
    "        # Объединение с изображением\n",
    "        x = tf.concat([image, label_img], axis=-1)\n",
    "\n",
    "        x = self.conv1(x)\n",
    "        x = self.leaky_relu(x)\n",
    "        x = self.dropout(x, training=training)\n",
    "\n",
    "        x = self.conv2(x)\n",
    "        x = self.leaky_relu(x)\n",
    "        x = self.dropout(x, training=training)\n",
    "\n",
    "        x = self.flatten(x)\n",
    "        return self.fc(x)\n",
    "\n",
    "\n",
    "    # def build(self, img_shape):\n",
    "    #     # Метод для явной инициализации и проверки архитектуры\n",
    "    #     x = Input(shape=img_shape)\n",
    "    #     return Model(inputs=[x], outputs=self.call(x))"
   ]
  },
  {
   "cell_type": "code",
   "execution_count": 36,
   "metadata": {},
   "outputs": [],
   "source": [
    "discriminator = Discriminator()"
   ]
  },
  {
   "cell_type": "code",
   "execution_count": 37,
   "metadata": {},
   "outputs": [
    {
     "data": {
      "text/plain": [
       "<tf.Tensor: shape=(1, 1), dtype=float32, numpy=array([[-0.00860048]], dtype=float32)>"
      ]
     },
     "execution_count": 37,
     "metadata": {},
     "output_type": "execute_result"
    }
   ],
   "source": [
    "noise = tf.random.normal([1, NOISE_DIM])\n",
    "labels = tf.one_hot([5] * 1, depth=NUM_CLASSES)\n",
    "generated = generator([noise, labels], training=False)\n",
    "\n",
    "discriminator([generated, labels])"
   ]
  },
  {
   "cell_type": "markdown",
   "metadata": {},
   "source": [
    "# GAN"
   ]
  },
  {
   "cell_type": "code",
   "execution_count": 38,
   "metadata": {},
   "outputs": [],
   "source": [
    "class ConditionalGAN(Model):\n",
    "    def __init__(self, generator: Generator, discriminator: Discriminator, **kwargs):\n",
    "        super().__init__(**kwargs)\n",
    "        self.generator = generator\n",
    "        self.discriminator = discriminator\n",
    "        self.noise_dim = NOISE_DIM\n",
    "\n",
    "        # Фиксированные данные для визуализации\n",
    "        self.fixed_noise = tf.random.normal([10, NOISE_DIM])\n",
    "        self.fixed_labels = tf.one_hot(tf.range(0, 10), depth=NUM_CLASSES)\n",
    "\n",
    "        # Инициализация метрик в конструкторе\n",
    "        self.gen_loss_tracker = metrics.Mean(name=\"generator_loss\")\n",
    "        self.disc_loss_tracker = metrics.Mean(name=\"discriminator_loss\")\n",
    "\n",
    "    def compile(\n",
    "        self,\n",
    "        g_optimizer: optimizers.Optimizer,\n",
    "        d_optimizer: optimizers.Optimizer,\n",
    "        loss_fn,\n",
    "    ):\n",
    "        super().compile()\n",
    "        self.g_optimizer = g_optimizer\n",
    "        self.d_optimizer = d_optimizer\n",
    "        self.loss_fn = loss_fn\n",
    "\n",
    "    @property\n",
    "    def metrics(self):\n",
    "        return [self.gen_loss_tracker, self.disc_loss_tracker]\n",
    "\n",
    "    def train_step(self, data):\n",
    "        real_images, real_labels = data\n",
    "\n",
    "        # Генерация случайных меток для фейковых изображений\n",
    "        batch_size = tf.shape(real_images)[0]\n",
    "        random_labels = tf.one_hot(\n",
    "            tf.random.uniform([batch_size], maxval=NUM_CLASSES, dtype=tf.int32),\n",
    "            NUM_CLASSES,\n",
    "        )\n",
    "\n",
    "        # Генерация шума\n",
    "        noise = tf.random.normal([batch_size, self.noise_dim])\n",
    "\n",
    "        with tf.GradientTape() as gen_tape, tf.GradientTape() as disc_tape:\n",
    "            # Генерация изображений\n",
    "            fake_images = self.generator([noise, random_labels], training=True)\n",
    "\n",
    "            # Оценка дискриминатора\n",
    "            real_output = self.discriminator([real_images, real_labels], training=True)\n",
    "            fake_output = self.discriminator(\n",
    "                [fake_images, random_labels], training=True\n",
    "            )\n",
    "\n",
    "            # Вычисление потерь\n",
    "            disc_loss = self.loss_fn.discriminator_loss(real_output, fake_output)\n",
    "            gen_loss = self.loss_fn.generator_loss(fake_output)\n",
    "\n",
    "        # Обновление генератора\n",
    "        gen_gradients = gen_tape.gradient(gen_loss, self.generator.trainable_variables)\n",
    "        self.g_optimizer.apply_gradients(\n",
    "            zip(gen_gradients, self.generator.trainable_variables)\n",
    "        )\n",
    "\n",
    "        # Обновление дискриминатора\n",
    "        disc_gradients = disc_tape.gradient(\n",
    "            disc_loss, self.discriminator.trainable_variables\n",
    "        )\n",
    "        self.d_optimizer.apply_gradients(\n",
    "            zip(disc_gradients, self.discriminator.trainable_variables)\n",
    "        )\n",
    "\n",
    "        # Обновление метрик\n",
    "        self.gen_loss_tracker.update_state(gen_loss)\n",
    "        self.disc_loss_tracker.update_state(disc_loss)\n",
    "\n",
    "        return {\n",
    "            \"g_loss\": self.gen_loss_tracker.result(),\n",
    "            \"d_loss\": self.disc_loss_tracker.result(),\n",
    "        }\n",
    "\n",
    "\n",
    "# Функции потерь\n",
    "class GANLoss:\n",
    "    def __init__(self):\n",
    "        self.binary_cross_entropy = losses.BinaryCrossentropy(from_logits=True)\n",
    "\n",
    "    def discriminator_loss(self, real_output, fake_output):\n",
    "        real_loss = self.binary_cross_entropy(tf.ones_like(real_output), real_output)\n",
    "        fake_loss = self.binary_cross_entropy(tf.zeros_like(fake_output), fake_output)\n",
    "        return real_loss + fake_loss\n",
    "\n",
    "    def generator_loss(self, fake_output):\n",
    "        return self.binary_cross_entropy(tf.ones_like(fake_output), fake_output)\n",
    "\n",
    "\n",
    "# Коллбэк для генерации изображений\n",
    "class ImageCallback(callbacks.Callback):\n",
    "    def __init__(self, filepath: str, save_freq: str | int = \"epoch\"):\n",
    "        super().__init__()\n",
    "        self.filepath: str = file_utils.path_to_string(filepath)\n",
    "        self.save_freq: str | int = save_freq\n",
    "        self._epoches_seen_since_last_saving = 0\n",
    "\n",
    "        if self.save_freq != \"epoch\" and not isinstance(self.save_freq, int):\n",
    "            raise ValueError(\n",
    "                f\"Unrecognized save_freq: {self.save_freq}. \"\n",
    "                \"Expected save_freq are 'epoch' or integer values\"\n",
    "            )\n",
    "\n",
    "        if not self.filepath.endswith((\".png\", \".jpg\")):\n",
    "            raise ValueError(\n",
    "                \"Wrong image filepath extension!\"\n",
    "                \"Received: \"\n",
    "                f\"filepath={self.filepath}\"\n",
    "            )\n",
    "\n",
    "    def on_epoch_end(self, epoch: int, logs=None):\n",
    "        noise = self.model.fixed_noise\n",
    "        labels = self.model.fixed_labels\n",
    "        images = self.model.generator([noise, labels], training=False)\n",
    "\n",
    "        print(f\"Epoch {epoch}/{EPOCHS}\")\n",
    "\n",
    "        display.clear_output(wait=True)\n",
    "\n",
    "        plt.figure(figsize=(10, 4))\n",
    "        for i in range(10):\n",
    "            plt.subplot(2, 5, i + 1)\n",
    "            plt.imshow(images[i, :, :, 0] * 255.0, cmap=\"gray\")\n",
    "            plt.title(f\"Digit: {i}\")\n",
    "            plt.axis(\"off\")\n",
    "\n",
    "        if self._should_save_on_epoch():\n",
    "            plt.savefig(self._get_file_path(epoch))\n",
    "\n",
    "        plt.show()\n",
    "\n",
    "    def _should_save_on_epoch(self):\n",
    "        if self.save_freq == \"epoch\":\n",
    "            return True\n",
    "\n",
    "        self._epoches_seen_since_last_saving += 1\n",
    "\n",
    "        if self._epoches_seen_since_last_saving >= self.save_freq:\n",
    "            self._epoches_seen_since_last_saving = 0\n",
    "            return True\n",
    "        return False\n",
    "\n",
    "    def _get_file_path(self, epoch):\n",
    "        return self.filepath.format(epoch=epoch + 1)"
   ]
  },
  {
   "cell_type": "markdown",
   "metadata": {},
   "source": [
    "# Train"
   ]
  },
  {
   "cell_type": "code",
   "execution_count": null,
   "metadata": {},
   "outputs": [
    {
     "data": {
      "image/png": "[encoded data removed]",
      "text/plain": [
       "<Figure size 1000x400 with 10 Axes>"
      ]
     },
     "metadata": {},
     "output_type": "display_data"
    },
    {
     "name": "stdout",
     "output_type": "stream",
     "text": [
      "\u001b[1m1875/1875\u001b[0m \u001b[32m━━━━━━━━━━━━━━━━━━━━\u001b[0m\u001b[37m\u001b[0m \u001b[1m119s\u001b[0m 63ms/step - d_loss: 1.3557 - g_loss: 0.7383\n"
     ]
    }
   ],
   "source": [
    "# Инициализация и обучение\n",
    "cgan = ConditionalGAN(generator, discriminator)\n",
    "cgan.compile(\n",
    "    g_optimizer=optimizers.Adam(1e-4, beta_1=0.5),\n",
    "    d_optimizer=optimizers.Adam(1e-4, beta_1=0.5),\n",
    "    loss_fn=GANLoss(),\n",
    ")\n",
    "\n",
    "cgan.build((None, 28, 28, 1))\n",
    "\n",
    "\n",
    "\n",
    "for folder in folders.values():\n",
    "    if os.path.exists(folder):\n",
    "        shutil.rmtree(folder)\n",
    "\n",
    "# Создаем директории для сохранения\n",
    "os.makedirs(folders[\"img\"])\n",
    "os.makedirs(folders[\"check\"])\n",
    "os.makedirs(folders[\"model\"])\n",
    "\n",
    "history = cgan.fit(\n",
    "    train_dataset,\n",
    "    epochs=EPOCHS,\n",
    "    callbacks=[\n",
    "        ImageCallback(os.path.join(folders[\"img\"], \"{epoch}.png\"), save_freq=1),\n",
    "        callbacks.ModelCheckpoint(\n",
    "            os.path.join(folders[\"check\"], \"ckpt_{epoch}.keras\"),\n",
    "            # save_weights_only=True,\n",
    "            save_freq=5 * len(train_dataset),\n",
    "        ),\n",
    "    ],\n",
    ")"
   ]
  },
  {
   "cell_type": "markdown",
   "metadata": {},
   "source": [
    "# Save"
   ]
  },
  {
   "cell_type": "code",
   "execution_count": 17,
   "metadata": {},
   "outputs": [],
   "source": [
    "def save_model(model, model_name):\n",
    "    model.save(os.path.join(folders[\"model\"], f\"{model_name}.keras\"))"
   ]
  },
  {
   "cell_type": "code",
   "execution_count": 18,
   "metadata": {},
   "outputs": [],
   "source": [
    "save_model(cgan, \"cgan\")\n",
    "save_model(generator, \"generator\")\n",
    "save_model(discriminator, \"discriminator\")"
   ]
  },
  {
   "cell_type": "markdown",
   "metadata": {},
   "source": [
    "# Test"
   ]
  },
  {
   "cell_type": "markdown",
   "metadata": {},
   "source": [
    "## Load (Beta)"
   ]
  },
  {
   "cell_type": "code",
   "execution_count": 39,
   "metadata": {},
   "outputs": [],
   "source": [
    "def get_model(model_name, obj_type = None, should_train=False):\n",
    "    \"\"\"Загружает пользовательскую модель из файла\"\"\"\n",
    "    model_path = os.path.join(folders[\"model\"], f\"{model_name}.keras\")\n",
    "    return load_model(\n",
    "        model_path,\n",
    "        custom_objects=obj_type,\n",
    "        compile=should_train,  # Уберите, если нужно сохранить оптимизатор и метрики\n",
    "    )"
   ]
  },
  {
   "cell_type": "code",
   "execution_count": 40,
   "metadata": {},
   "outputs": [
    {
     "ename": "TypeError",
     "evalue": "<class '__main__.ConditionalGAN'> could not be deserialized properly. Please ensure that components that are Python object instances (layers, models, etc.) returned by `get_config()` are explicitly deserialized in the model's `from_config()` method.\n\nconfig={'module': None, 'class_name': 'ConditionalGAN', 'config': {'trainable': True, 'dtype': {'module': 'keras', 'class_name': 'DTypePolicy', 'config': {'name': 'float32'}, 'registered_name': None}}, 'registered_name': 'ConditionalGAN', 'build_config': {'input_shape': [None, 28, 28, 1]}, 'compile_config': None}.\n\nException encountered: Unable to revive model from config. When overriding the `get_config()` method, make sure that the returned config contains all items used as arguments in the  constructor to <class '__main__.ConditionalGAN'>, which is the default behavior. You can override this default behavior by defining a `from_config(cls, config)` class method to specify how to create an instance of ConditionalGAN from its config.\n\nReceived config={'trainable': True, 'dtype': {'module': 'keras', 'class_name': 'DTypePolicy', 'config': {'name': 'float32'}, 'registered_name': None}}\n\nError encountered during deserialization: ConditionalGAN.__init__() missing 2 required positional arguments: 'generator' and 'discriminator'",
     "output_type": "error",
     "traceback": [
      "\u001b[31m---------------------------------------------------------------------------\u001b[39m",
      "\u001b[31mTypeError\u001b[39m                                 Traceback (most recent call last)",
      "\u001b[36mFile \u001b[39m\u001b[32md:\\PyVenv\\Neural\\Lib\\site-packages\\keras\\src\\models\\model.py:663\u001b[39m, in \u001b[36mModel.from_config\u001b[39m\u001b[34m(cls, config, custom_objects)\u001b[39m\n\u001b[32m    662\u001b[39m \u001b[38;5;28;01mtry\u001b[39;00m:\n\u001b[32m--> \u001b[39m\u001b[32m663\u001b[39m     \u001b[38;5;28;01mreturn\u001b[39;00m \u001b[38;5;28;43mcls\u001b[39;49m\u001b[43m(\u001b[49m\u001b[43m*\u001b[49m\u001b[43m*\u001b[49m\u001b[43mconfig\u001b[49m\u001b[43m)\u001b[49m\n\u001b[32m    664\u001b[39m \u001b[38;5;28;01mexcept\u001b[39;00m \u001b[38;5;167;01mTypeError\u001b[39;00m \u001b[38;5;28;01mas\u001b[39;00m e:\n",
      "\u001b[31mTypeError\u001b[39m: ConditionalGAN.__init__() missing 2 required positional arguments: 'generator' and 'discriminator'",
      "\nDuring handling of the above exception, another exception occurred:\n",
      "\u001b[31mTypeError\u001b[39m                                 Traceback (most recent call last)",
      "\u001b[36mFile \u001b[39m\u001b[32md:\\PyVenv\\Neural\\Lib\\site-packages\\keras\\src\\saving\\serialization_lib.py:718\u001b[39m, in \u001b[36mdeserialize_keras_object\u001b[39m\u001b[34m(config, custom_objects, safe_mode, **kwargs)\u001b[39m\n\u001b[32m    717\u001b[39m \u001b[38;5;28;01mtry\u001b[39;00m:\n\u001b[32m--> \u001b[39m\u001b[32m718\u001b[39m     instance = \u001b[38;5;28;43mcls\u001b[39;49m\u001b[43m.\u001b[49m\u001b[43mfrom_config\u001b[49m\u001b[43m(\u001b[49m\u001b[43minner_config\u001b[49m\u001b[43m)\u001b[49m\n\u001b[32m    719\u001b[39m \u001b[38;5;28;01mexcept\u001b[39;00m \u001b[38;5;167;01mTypeError\u001b[39;00m \u001b[38;5;28;01mas\u001b[39;00m e:\n",
      "\u001b[36mFile \u001b[39m\u001b[32md:\\PyVenv\\Neural\\Lib\\site-packages\\keras\\src\\models\\model.py:665\u001b[39m, in \u001b[36mModel.from_config\u001b[39m\u001b[34m(cls, config, custom_objects)\u001b[39m\n\u001b[32m    664\u001b[39m \u001b[38;5;28;01mexcept\u001b[39;00m \u001b[38;5;167;01mTypeError\u001b[39;00m \u001b[38;5;28;01mas\u001b[39;00m e:\n\u001b[32m--> \u001b[39m\u001b[32m665\u001b[39m     \u001b[38;5;28;01mraise\u001b[39;00m \u001b[38;5;167;01mTypeError\u001b[39;00m(\n\u001b[32m    666\u001b[39m         \u001b[33m\"\u001b[39m\u001b[33mUnable to revive model from config. When overriding \u001b[39m\u001b[33m\"\u001b[39m\n\u001b[32m    667\u001b[39m         \u001b[33m\"\u001b[39m\u001b[33mthe `get_config()` method, make sure that the \u001b[39m\u001b[33m\"\u001b[39m\n\u001b[32m    668\u001b[39m         \u001b[33m\"\u001b[39m\u001b[33mreturned config contains all items used as arguments \u001b[39m\u001b[33m\"\u001b[39m\n\u001b[32m    669\u001b[39m         \u001b[33mf\u001b[39m\u001b[33m\"\u001b[39m\u001b[33min the  constructor to \u001b[39m\u001b[38;5;132;01m{\u001b[39;00m\u001b[38;5;28mcls\u001b[39m\u001b[38;5;132;01m}\u001b[39;00m\u001b[33m, \u001b[39m\u001b[33m\"\u001b[39m\n\u001b[32m    670\u001b[39m         \u001b[33m\"\u001b[39m\u001b[33mwhich is the default behavior. \u001b[39m\u001b[33m\"\u001b[39m\n\u001b[32m    671\u001b[39m         \u001b[33m\"\u001b[39m\u001b[33mYou can override this default behavior by defining a \u001b[39m\u001b[33m\"\u001b[39m\n\u001b[32m    672\u001b[39m         \u001b[33m\"\u001b[39m\u001b[33m`from_config(cls, config)` class method to specify \u001b[39m\u001b[33m\"\u001b[39m\n\u001b[32m    673\u001b[39m         \u001b[33m\"\u001b[39m\u001b[33mhow to create an \u001b[39m\u001b[33m\"\u001b[39m\n\u001b[32m    674\u001b[39m         \u001b[33mf\u001b[39m\u001b[33m\"\u001b[39m\u001b[33minstance of \u001b[39m\u001b[38;5;132;01m{\u001b[39;00m\u001b[38;5;28mcls\u001b[39m.\u001b[34m__name__\u001b[39m\u001b[38;5;132;01m}\u001b[39;00m\u001b[33m from its config.\u001b[39m\u001b[38;5;130;01m\\n\u001b[39;00m\u001b[38;5;130;01m\\n\u001b[39;00m\u001b[33m\"\u001b[39m\n\u001b[32m    675\u001b[39m         \u001b[33mf\u001b[39m\u001b[33m\"\u001b[39m\u001b[33mReceived config=\u001b[39m\u001b[38;5;132;01m{\u001b[39;00mconfig\u001b[38;5;132;01m}\u001b[39;00m\u001b[38;5;130;01m\\n\u001b[39;00m\u001b[38;5;130;01m\\n\u001b[39;00m\u001b[33m\"\u001b[39m\n\u001b[32m    676\u001b[39m         \u001b[33mf\u001b[39m\u001b[33m\"\u001b[39m\u001b[33mError encountered during deserialization: \u001b[39m\u001b[38;5;132;01m{\u001b[39;00me\u001b[38;5;132;01m}\u001b[39;00m\u001b[33m\"\u001b[39m\n\u001b[32m    677\u001b[39m     )\n",
      "\u001b[31mTypeError\u001b[39m: Unable to revive model from config. When overriding the `get_config()` method, make sure that the returned config contains all items used as arguments in the  constructor to <class '__main__.ConditionalGAN'>, which is the default behavior. You can override this default behavior by defining a `from_config(cls, config)` class method to specify how to create an instance of ConditionalGAN from its config.\n\nReceived config={'trainable': True, 'dtype': {'module': 'keras', 'class_name': 'DTypePolicy', 'config': {'name': 'float32'}, 'registered_name': None}}\n\nError encountered during deserialization: ConditionalGAN.__init__() missing 2 required positional arguments: 'generator' and 'discriminator'",
      "\nDuring handling of the above exception, another exception occurred:\n",
      "\u001b[31mTypeError\u001b[39m                                 Traceback (most recent call last)",
      "\u001b[36mCell\u001b[39m\u001b[36m \u001b[39m\u001b[32mIn[40]\u001b[39m\u001b[32m, line 8\u001b[39m\n\u001b[32m      1\u001b[39m custom_objects={\n\u001b[32m      2\u001b[39m         \u001b[33m\"\u001b[39m\u001b[33mGenerator\u001b[39m\u001b[33m\"\u001b[39m: Generator,\n\u001b[32m      3\u001b[39m         \u001b[33m\"\u001b[39m\u001b[33mDiscriminator\u001b[39m\u001b[33m\"\u001b[39m: Discriminator,\n\u001b[32m      4\u001b[39m         \u001b[33m\"\u001b[39m\u001b[33mConditionalGAN\u001b[39m\u001b[33m\"\u001b[39m: ConditionalGAN,\n\u001b[32m      5\u001b[39m         \u001b[33m\"\u001b[39m\u001b[33mGANLoss\u001b[39m\u001b[33m\"\u001b[39m: GANLoss\n\u001b[32m      6\u001b[39m     }\n\u001b[32m----> \u001b[39m\u001b[32m8\u001b[39m cgan = \u001b[43mget_model\u001b[49m\u001b[43m(\u001b[49m\u001b[33;43m\"\u001b[39;49m\u001b[33;43mcgan\u001b[39;49m\u001b[33;43m\"\u001b[39;49m\u001b[43m,\u001b[49m\u001b[43m \u001b[49m\u001b[43mcustom_objects\u001b[49m\u001b[43m)\u001b[49m\n\u001b[32m      9\u001b[39m generator = get_model(\u001b[33m\"\u001b[39m\u001b[33mGenerator\u001b[39m\u001b[33m\"\u001b[39m, custom_objects)\n\u001b[32m     10\u001b[39m discriminator = get_model(\u001b[33m\"\u001b[39m\u001b[33mdiscriminator\u001b[39m\u001b[33m\"\u001b[39m, custom_objects)\n",
      "\u001b[36mCell\u001b[39m\u001b[36m \u001b[39m\u001b[32mIn[39]\u001b[39m\u001b[32m, line 4\u001b[39m, in \u001b[36mget_model\u001b[39m\u001b[34m(model_name, obj_type, should_train)\u001b[39m\n\u001b[32m      2\u001b[39m \u001b[38;5;250m\u001b[39m\u001b[33;03m\"\"\"Загружает пользовательскую модель из файла\"\"\"\u001b[39;00m\n\u001b[32m      3\u001b[39m model_path = os.path.join(folders[\u001b[33m\"\u001b[39m\u001b[33mmodel\u001b[39m\u001b[33m\"\u001b[39m], \u001b[33mf\u001b[39m\u001b[33m\"\u001b[39m\u001b[38;5;132;01m{\u001b[39;00mmodel_name\u001b[38;5;132;01m}\u001b[39;00m\u001b[33m.keras\u001b[39m\u001b[33m\"\u001b[39m)\n\u001b[32m----> \u001b[39m\u001b[32m4\u001b[39m \u001b[38;5;28;01mreturn\u001b[39;00m \u001b[43mload_model\u001b[49m\u001b[43m(\u001b[49m\n\u001b[32m      5\u001b[39m \u001b[43m    \u001b[49m\u001b[43mmodel_path\u001b[49m\u001b[43m,\u001b[49m\n\u001b[32m      6\u001b[39m \u001b[43m    \u001b[49m\u001b[43mcustom_objects\u001b[49m\u001b[43m=\u001b[49m\u001b[43mobj_type\u001b[49m\u001b[43m,\u001b[49m\n\u001b[32m      7\u001b[39m \u001b[43m    \u001b[49m\u001b[38;5;28;43mcompile\u001b[39;49m\u001b[43m=\u001b[49m\u001b[43mshould_train\u001b[49m\u001b[43m,\u001b[49m\u001b[43m  \u001b[49m\u001b[38;5;66;43;03m# Уберите, если нужно сохранить оптимизатор и метрики\u001b[39;49;00m\n\u001b[32m      8\u001b[39m \u001b[43m\u001b[49m\u001b[43m)\u001b[49m\n",
      "\u001b[36mFile \u001b[39m\u001b[32md:\\PyVenv\\Neural\\Lib\\site-packages\\keras\\src\\saving\\saving_api.py:189\u001b[39m, in \u001b[36mload_model\u001b[39m\u001b[34m(filepath, custom_objects, compile, safe_mode)\u001b[39m\n\u001b[32m    186\u001b[39m         is_keras_zip = \u001b[38;5;28;01mTrue\u001b[39;00m\n\u001b[32m    188\u001b[39m \u001b[38;5;28;01mif\u001b[39;00m is_keras_zip \u001b[38;5;129;01mor\u001b[39;00m is_keras_dir \u001b[38;5;129;01mor\u001b[39;00m is_hf:\n\u001b[32m--> \u001b[39m\u001b[32m189\u001b[39m     \u001b[38;5;28;01mreturn\u001b[39;00m \u001b[43msaving_lib\u001b[49m\u001b[43m.\u001b[49m\u001b[43mload_model\u001b[49m\u001b[43m(\u001b[49m\n\u001b[32m    190\u001b[39m \u001b[43m        \u001b[49m\u001b[43mfilepath\u001b[49m\u001b[43m,\u001b[49m\n\u001b[32m    191\u001b[39m \u001b[43m        \u001b[49m\u001b[43mcustom_objects\u001b[49m\u001b[43m=\u001b[49m\u001b[43mcustom_objects\u001b[49m\u001b[43m,\u001b[49m\n\u001b[32m    192\u001b[39m \u001b[43m        \u001b[49m\u001b[38;5;28;43mcompile\u001b[39;49m\u001b[43m=\u001b[49m\u001b[38;5;28;43mcompile\u001b[39;49m\u001b[43m,\u001b[49m\n\u001b[32m    193\u001b[39m \u001b[43m        \u001b[49m\u001b[43msafe_mode\u001b[49m\u001b[43m=\u001b[49m\u001b[43msafe_mode\u001b[49m\u001b[43m,\u001b[49m\n\u001b[32m    194\u001b[39m \u001b[43m    \u001b[49m\u001b[43m)\u001b[49m\n\u001b[32m    195\u001b[39m \u001b[38;5;28;01mif\u001b[39;00m \u001b[38;5;28mstr\u001b[39m(filepath).endswith((\u001b[33m\"\u001b[39m\u001b[33m.h5\u001b[39m\u001b[33m\"\u001b[39m, \u001b[33m\"\u001b[39m\u001b[33m.hdf5\u001b[39m\u001b[33m\"\u001b[39m)):\n\u001b[32m    196\u001b[39m     \u001b[38;5;28;01mreturn\u001b[39;00m legacy_h5_format.load_model_from_hdf5(\n\u001b[32m    197\u001b[39m         filepath, custom_objects=custom_objects, \u001b[38;5;28mcompile\u001b[39m=\u001b[38;5;28mcompile\u001b[39m\n\u001b[32m    198\u001b[39m     )\n",
      "\u001b[36mFile \u001b[39m\u001b[32md:\\PyVenv\\Neural\\Lib\\site-packages\\keras\\src\\saving\\saving_lib.py:370\u001b[39m, in \u001b[36mload_model\u001b[39m\u001b[34m(filepath, custom_objects, compile, safe_mode)\u001b[39m\n\u001b[32m    365\u001b[39m     \u001b[38;5;28;01mraise\u001b[39;00m \u001b[38;5;167;01mValueError\u001b[39;00m(\n\u001b[32m    366\u001b[39m         \u001b[33m\"\u001b[39m\u001b[33mInvalid filename: expected a `.keras` extension. \u001b[39m\u001b[33m\"\u001b[39m\n\u001b[32m    367\u001b[39m         \u001b[33mf\u001b[39m\u001b[33m\"\u001b[39m\u001b[33mReceived: filepath=\u001b[39m\u001b[38;5;132;01m{\u001b[39;00mfilepath\u001b[38;5;132;01m}\u001b[39;00m\u001b[33m\"\u001b[39m\n\u001b[32m    368\u001b[39m     )\n\u001b[32m    369\u001b[39m \u001b[38;5;28;01mwith\u001b[39;00m \u001b[38;5;28mopen\u001b[39m(filepath, \u001b[33m\"\u001b[39m\u001b[33mrb\u001b[39m\u001b[33m\"\u001b[39m) \u001b[38;5;28;01mas\u001b[39;00m f:\n\u001b[32m--> \u001b[39m\u001b[32m370\u001b[39m     \u001b[38;5;28;01mreturn\u001b[39;00m \u001b[43m_load_model_from_fileobj\u001b[49m\u001b[43m(\u001b[49m\n\u001b[32m    371\u001b[39m \u001b[43m        \u001b[49m\u001b[43mf\u001b[49m\u001b[43m,\u001b[49m\u001b[43m \u001b[49m\u001b[43mcustom_objects\u001b[49m\u001b[43m,\u001b[49m\u001b[43m \u001b[49m\u001b[38;5;28;43mcompile\u001b[39;49m\u001b[43m,\u001b[49m\u001b[43m \u001b[49m\u001b[43msafe_mode\u001b[49m\n\u001b[32m    372\u001b[39m \u001b[43m    \u001b[49m\u001b[43m)\u001b[49m\n",
      "\u001b[36mFile \u001b[39m\u001b[32md:\\PyVenv\\Neural\\Lib\\site-packages\\keras\\src\\saving\\saving_lib.py:447\u001b[39m, in \u001b[36m_load_model_from_fileobj\u001b[39m\u001b[34m(fileobj, custom_objects, compile, safe_mode)\u001b[39m\n\u001b[32m    444\u001b[39m \u001b[38;5;28;01mwith\u001b[39;00m zf.open(_CONFIG_FILENAME, \u001b[33m\"\u001b[39m\u001b[33mr\u001b[39m\u001b[33m\"\u001b[39m) \u001b[38;5;28;01mas\u001b[39;00m f:\n\u001b[32m    445\u001b[39m     config_json = f.read()\n\u001b[32m--> \u001b[39m\u001b[32m447\u001b[39m model = \u001b[43m_model_from_config\u001b[49m\u001b[43m(\u001b[49m\n\u001b[32m    448\u001b[39m \u001b[43m    \u001b[49m\u001b[43mconfig_json\u001b[49m\u001b[43m,\u001b[49m\u001b[43m \u001b[49m\u001b[43mcustom_objects\u001b[49m\u001b[43m,\u001b[49m\u001b[43m \u001b[49m\u001b[38;5;28;43mcompile\u001b[39;49m\u001b[43m,\u001b[49m\u001b[43m \u001b[49m\u001b[43msafe_mode\u001b[49m\n\u001b[32m    449\u001b[39m \u001b[43m\u001b[49m\u001b[43m)\u001b[49m\n\u001b[32m    451\u001b[39m all_filenames = zf.namelist()\n\u001b[32m    452\u001b[39m extract_dir = \u001b[38;5;28;01mNone\u001b[39;00m\n",
      "\u001b[36mFile \u001b[39m\u001b[32md:\\PyVenv\\Neural\\Lib\\site-packages\\keras\\src\\saving\\saving_lib.py:436\u001b[39m, in \u001b[36m_model_from_config\u001b[39m\u001b[34m(config_json, custom_objects, compile, safe_mode)\u001b[39m\n\u001b[32m    434\u001b[39m \u001b[38;5;66;03m# Construct the model from the configuration file in the archive.\u001b[39;00m\n\u001b[32m    435\u001b[39m \u001b[38;5;28;01mwith\u001b[39;00m ObjectSharingScope():\n\u001b[32m--> \u001b[39m\u001b[32m436\u001b[39m     model = \u001b[43mdeserialize_keras_object\u001b[49m\u001b[43m(\u001b[49m\n\u001b[32m    437\u001b[39m \u001b[43m        \u001b[49m\u001b[43mconfig_dict\u001b[49m\u001b[43m,\u001b[49m\u001b[43m \u001b[49m\u001b[43mcustom_objects\u001b[49m\u001b[43m,\u001b[49m\u001b[43m \u001b[49m\u001b[43msafe_mode\u001b[49m\u001b[43m=\u001b[49m\u001b[43msafe_mode\u001b[49m\n\u001b[32m    438\u001b[39m \u001b[43m    \u001b[49m\u001b[43m)\u001b[49m\n\u001b[32m    439\u001b[39m \u001b[38;5;28;01mreturn\u001b[39;00m model\n",
      "\u001b[36mFile \u001b[39m\u001b[32md:\\PyVenv\\Neural\\Lib\\site-packages\\keras\\src\\saving\\serialization_lib.py:720\u001b[39m, in \u001b[36mdeserialize_keras_object\u001b[39m\u001b[34m(config, custom_objects, safe_mode, **kwargs)\u001b[39m\n\u001b[32m    718\u001b[39m     instance = \u001b[38;5;28mcls\u001b[39m.from_config(inner_config)\n\u001b[32m    719\u001b[39m \u001b[38;5;28;01mexcept\u001b[39;00m \u001b[38;5;167;01mTypeError\u001b[39;00m \u001b[38;5;28;01mas\u001b[39;00m e:\n\u001b[32m--> \u001b[39m\u001b[32m720\u001b[39m     \u001b[38;5;28;01mraise\u001b[39;00m \u001b[38;5;167;01mTypeError\u001b[39;00m(\n\u001b[32m    721\u001b[39m         \u001b[33mf\u001b[39m\u001b[33m\"\u001b[39m\u001b[38;5;132;01m{\u001b[39;00m\u001b[38;5;28mcls\u001b[39m\u001b[38;5;132;01m}\u001b[39;00m\u001b[33m could not be deserialized properly. Please\u001b[39m\u001b[33m\"\u001b[39m\n\u001b[32m    722\u001b[39m         \u001b[33m\"\u001b[39m\u001b[33m ensure that components that are Python object\u001b[39m\u001b[33m\"\u001b[39m\n\u001b[32m    723\u001b[39m         \u001b[33m\"\u001b[39m\u001b[33m instances (layers, models, etc.) returned by\u001b[39m\u001b[33m\"\u001b[39m\n\u001b[32m    724\u001b[39m         \u001b[33m\"\u001b[39m\u001b[33m `get_config()` are explicitly deserialized in the\u001b[39m\u001b[33m\"\u001b[39m\n\u001b[32m    725\u001b[39m         \u001b[33m\"\u001b[39m\u001b[33m model\u001b[39m\u001b[33m'\u001b[39m\u001b[33ms `from_config()` method.\u001b[39m\u001b[33m\"\u001b[39m\n\u001b[32m    726\u001b[39m         \u001b[33mf\u001b[39m\u001b[33m\"\u001b[39m\u001b[38;5;130;01m\\n\u001b[39;00m\u001b[38;5;130;01m\\n\u001b[39;00m\u001b[33mconfig=\u001b[39m\u001b[38;5;132;01m{\u001b[39;00mconfig\u001b[38;5;132;01m}\u001b[39;00m\u001b[33m.\u001b[39m\u001b[38;5;130;01m\\n\u001b[39;00m\u001b[38;5;130;01m\\n\u001b[39;00m\u001b[33mException encountered: \u001b[39m\u001b[38;5;132;01m{\u001b[39;00me\u001b[38;5;132;01m}\u001b[39;00m\u001b[33m\"\u001b[39m\n\u001b[32m    727\u001b[39m     )\n\u001b[32m    728\u001b[39m build_config = config.get(\u001b[33m\"\u001b[39m\u001b[33mbuild_config\u001b[39m\u001b[33m\"\u001b[39m, \u001b[38;5;28;01mNone\u001b[39;00m)\n\u001b[32m    729\u001b[39m \u001b[38;5;28;01mif\u001b[39;00m build_config \u001b[38;5;129;01mand\u001b[39;00m \u001b[38;5;129;01mnot\u001b[39;00m instance.built:\n",
      "\u001b[31mTypeError\u001b[39m: <class '__main__.ConditionalGAN'> could not be deserialized properly. Please ensure that components that are Python object instances (layers, models, etc.) returned by `get_config()` are explicitly deserialized in the model's `from_config()` method.\n\nconfig={'module': None, 'class_name': 'ConditionalGAN', 'config': {'trainable': True, 'dtype': {'module': 'keras', 'class_name': 'DTypePolicy', 'config': {'name': 'float32'}, 'registered_name': None}}, 'registered_name': 'ConditionalGAN', 'build_config': {'input_shape': [None, 28, 28, 1]}, 'compile_config': None}.\n\nException encountered: Unable to revive model from config. When overriding the `get_config()` method, make sure that the returned config contains all items used as arguments in the  constructor to <class '__main__.ConditionalGAN'>, which is the default behavior. You can override this default behavior by defining a `from_config(cls, config)` class method to specify how to create an instance of ConditionalGAN from its config.\n\nReceived config={'trainable': True, 'dtype': {'module': 'keras', 'class_name': 'DTypePolicy', 'config': {'name': 'float32'}, 'registered_name': None}}\n\nError encountered during deserialization: ConditionalGAN.__init__() missing 2 required positional arguments: 'generator' and 'discriminator'"
     ]
    }
   ],
   "source": [
    "custom_objects={\n",
    "        \"Generator\": Generator,\n",
    "        \"Discriminator\": Discriminator,\n",
    "        \"ConditionalGAN\": ConditionalGAN,\n",
    "        \"GANLoss\": GANLoss\n",
    "    }\n",
    "\n",
    "cgan = get_model(\"cgan\", custom_objects)\n",
    "generator = get_model(\"Generator\", custom_objects)\n",
    "discriminator = get_model(\"discriminator\", custom_objects)"
   ]
  },
  {
   "cell_type": "code",
   "execution_count": null,
   "metadata": {},
   "outputs": [
    {
     "data": {
      "image/png": "[encoded data removed]",
      "text/plain": [
       "<Figure size 900x300 with 3 Axes>"
      ]
     },
     "metadata": {},
     "output_type": "display_data"
    },
    {
     "data": {
      "image/png": "[encoded data removed]",
      "text/plain": [
       "<Figure size 600x300 with 2 Axes>"
      ]
     },
     "metadata": {},
     "output_type": "display_data"
    }
   ],
   "source": [
    "generate_digit(5, cgan.generator, num_examples=3)  # Сгенерировать 3 пятерки\n",
    "generate_digit(7, cgan.generator, num_examples=2)  # Сгенерировать 2 семерки"
   ]
  },
  {
   "cell_type": "markdown",
   "metadata": {},
   "source": [
    "# GIF"
   ]
  },
  {
   "cell_type": "code",
   "execution_count": null,
   "metadata": {},
   "outputs": [],
   "source": [
    "frames = []\n",
    "\n",
    "# Настройки шрифта для подписи\n",
    "font_size = 20\n",
    "try:\n",
    "    # Пробуем загрузить стандартный шрифт (работает в большинстве систем)\n",
    "    font = ImageFont.truetype(\"arial.ttf\", font_size)\n",
    "except:\n",
    "    try:\n",
    "        # Альтернативный шрифт для Linux-систем\n",
    "        font = ImageFont.truetype(\"DejaVuSans.ttf\", font_size)\n",
    "    except:\n",
    "        # Резервный вариант - используем базовый шрифт\n",
    "        font = ImageFont.load_default()\n",
    "\n",
    "for frame_number in range(1, EPOCHS + 1):\n",
    "    img_path = os.path.join(folders[\"img\"], f\"{frame_number}.png\")\n",
    "    frame = Image.open(img_path)\n",
    "\n",
    "    if frame.mode != \"RGB\":\n",
    "        frame = frame.convert(\"RGB\")\n",
    "\n",
    "    draw = ImageDraw.Draw(frame)\n",
    "\n",
    "    epoch_text = f\"Epoch: {frame_number}\"\n",
    "\n",
    "    text_width = draw.textlength(epoch_text, font=font)\n",
    "    text_height = font_size  # Примерная высота\n",
    "\n",
    "    position = (\n",
    "        (frame.width - text_width) // 2,  # X: центр\n",
    "        frame.height - text_height - 10,  # Y: отступ 10px от низа\n",
    "    )\n",
    "\n",
    "    draw.text(xy=position, text=epoch_text, fill=\"black\", font=font)\n",
    "\n",
    "    frames.append(frame)\n",
    "\n",
    "gif_path = \"gan_gif.gif\"\n",
    "\n",
    "if os.path.exists(gif_path):\n",
    "    os.remove(gif_path)\n",
    "\n",
    "frames[0].save(\n",
    "    gif_path,\n",
    "    save_all=True,\n",
    "    append_images=frames[1:],\n",
    "    optimize=True,\n",
    "    duration=100,\n",
    "    loop=0,\n",
    ")"
   ]
  },
  {
   "cell_type": "markdown",
   "metadata": {
    "id": "ldjstkuRj44Q"
   },
   "source": [
    "# Домашка (дедлайн 20.06)\n",
    "\n",
    "отправлять в тг: @anna_getun, если будут вопросы, также можно писать\n",
    "\n",
    "Задача: модицифировать код с использованием рассмотренных в лекции методов (DCGAN, Conditional GAN, StyleGAN).\n",
    "- Достаточно использование одной модели на выбор\n",
    "- Можно использовать другие датасеты на выбор\n",
    "- Увеличить параметры (Epoch, batch) для улучшения качества картинок (**обязательно**)\n",
    "\n",
    "**Пример**\n",
    "\n",
    "- DCGAN - поиграться со слоями в генераторе\n",
    "\n",
    "- Сonditional GAN - создать функцию для генерации изображений заданного(-ых) класса(-ов)\n",
    "\n",
    "- StyleGAN  - добавление шума на всех слоях, модификация генератора и дискриминатора\n",
    "\n",
    "\n",
    "*не обязательно использовать данный код, можно создать свою собственную модель GAN и модифицировать её\n",
    "\n"
   ]
  }
 ],
 "metadata": {
  "colab": {
   "authorship_tag": "ABX9TyMFpd1B7ONizhuablXqlB7/",
   "provenance": []
  },
  "kernelspec": {
   "display_name": "Neural",
   "language": "python",
   "name": "python3"
  },
  "language_info": {
   "codemirror_mode": {
    "name": "ipython",
    "version": 3
   },
   "file_extension": ".py",
   "mimetype": "text/x-python",
   "name": "python",
   "nbconvert_exporter": "python",
   "pygments_lexer": "ipython3",
   "version": "3.11.9"
  }
 },
 "nbformat": 4,
 "nbformat_minor": 0
}
