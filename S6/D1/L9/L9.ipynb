{
 "cells": [
  {
   "cell_type": "markdown",
   "metadata": {
    "id": "OlMtNJuSajIt"
   },
   "source": [
    "# GAN для генерации рукописных цифр (MNIST) с использованием PyTorch"
   ]
  },
  {
   "cell_type": "markdown",
   "metadata": {},
   "source": [
    "Воспользовался самописным `GAN` для `MNIST`"
   ]
  },
  {
   "cell_type": "markdown",
   "metadata": {},
   "source": [
    "Была сделана модификация `Conditional GAN`"
   ]
  },
  {
   "cell_type": "markdown",
   "metadata": {},
   "source": [
    "# Imports"
   ]
  },
  {
   "cell_type": "code",
   "execution_count": 71,
   "metadata": {},
   "outputs": [],
   "source": [
    "import os\n",
    "import shutil"
   ]
  },
  {
   "cell_type": "code",
   "execution_count": 72,
   "metadata": {},
   "outputs": [],
   "source": [
    "from PIL import Image"
   ]
  },
  {
   "cell_type": "code",
   "execution_count": 73,
   "metadata": {},
   "outputs": [],
   "source": [
    "from IPython import display\n",
    "import matplotlib.pyplot as plt"
   ]
  },
  {
   "cell_type": "code",
   "execution_count": 74,
   "metadata": {},
   "outputs": [],
   "source": [
    "import tensorflow as tf"
   ]
  },
  {
   "cell_type": "code",
   "execution_count": 75,
   "metadata": {},
   "outputs": [],
   "source": [
    "from keras import (\n",
    "    layers,\n",
    "    optimizers,\n",
    "    losses,\n",
    "    datasets,\n",
    "    Model,\n",
    "    metrics,\n",
    "    callbacks,\n",
    ")\n",
    "from keras.src.utils import file_utils\n",
    "from keras.utils import to_categorical"
   ]
  },
  {
   "cell_type": "markdown",
   "metadata": {},
   "source": [
    "# Params"
   ]
  },
  {
   "cell_type": "code",
   "execution_count": 76,
   "metadata": {},
   "outputs": [],
   "source": [
    "BUFFER_SIZE = 100000\n",
    "EPOCHS = 5\n",
    "BATCH_SIZE = 2**5\n",
    "NOISE_DIM = int(10e1)\n",
    "NUM_CLASSES = 10"
   ]
  },
  {
   "cell_type": "markdown",
   "metadata": {},
   "source": [
    "# Data preparation"
   ]
  },
  {
   "cell_type": "code",
   "execution_count": 77,
   "metadata": {},
   "outputs": [],
   "source": [
    "(train_images, train_labels), (_, _) = datasets.mnist.load_data()\n",
    "train_images = train_images.reshape(-1, 28, 28, 1).astype(\"float32\") / 255.0\n",
    "train_labels = to_categorical(train_labels, NUM_CLASSES)\n",
    "\n",
    "train_dataset = tf.data.Dataset.from_tensor_slices((train_images, train_labels))\n",
    "train_dataset = train_dataset.shuffle(BUFFER_SIZE).batch(BATCH_SIZE)"
   ]
  },
  {
   "cell_type": "markdown",
   "metadata": {},
   "source": [
    "# Generator"
   ]
  },
  {
   "cell_type": "code",
   "execution_count": 78,
   "metadata": {},
   "outputs": [],
   "source": [
    "class Generator(Model):\n",
    "    def __init__(self):\n",
    "        super().__init__()\n",
    "        # Объединенный вход: шум + метка\n",
    "        self.fc = layers.Dense(7 * 7 * 256, use_bias=False)\n",
    "        self.bn0 = layers.BatchNormalization()\n",
    "\n",
    "        self.conv1 = layers.Conv2DTranspose(\n",
    "            128, (5, 5), strides=(1, 1), padding=\"same\", use_bias=False\n",
    "        )\n",
    "        self.bn1 = layers.BatchNormalization()\n",
    "\n",
    "        self.conv2 = layers.Conv2DTranspose(\n",
    "            64, (5, 5), strides=(2, 2), padding=\"same\", use_bias=False\n",
    "        )\n",
    "        self.bn2 = layers.BatchNormalization()\n",
    "\n",
    "        self.conv3 = layers.Conv2DTranspose(\n",
    "            1, (5, 5), strides=(2, 2), padding=\"same\", activation=\"sigmoid\"\n",
    "        )\n",
    "\n",
    "        self.relu = layers.ReLU()\n",
    "\n",
    "    def call(self, inputs, training=False):\n",
    "        noise, label = inputs\n",
    "        # Объединение шума и метки\n",
    "        x = tf.concat([noise, label], axis=1)\n",
    "        x = self.fc(x)\n",
    "        x = self.bn0(x, training=training)\n",
    "        x = self.relu(x)\n",
    "        x = tf.reshape(x, (-1, 7, 7, 256))\n",
    "\n",
    "        x = self.conv1(x)\n",
    "        x = self.bn1(x, training=training)\n",
    "        x = self.relu(x)\n",
    "\n",
    "        x = self.conv2(x)\n",
    "        x = self.bn2(x, training=training)\n",
    "        x = self.relu(x)\n",
    "\n",
    "        return self.conv3(x)\n",
    "\n",
    "\n",
    "    # def build(self, img_shape):\n",
    "    #     # Метод для явной инициализации и проверки архитектуры\n",
    "    #     x = Input(shape=img_shape)\n",
    "    #     return Model(inputs=[x], outputs=self.call(x))"
   ]
  },
  {
   "cell_type": "code",
   "execution_count": 79,
   "metadata": {},
   "outputs": [],
   "source": [
    "generator = Generator()"
   ]
  },
  {
   "cell_type": "code",
   "execution_count": 80,
   "metadata": {},
   "outputs": [],
   "source": [
    "def generate_digit(digit_class, num_examples=1):\n",
    "    noise = tf.random.normal([num_examples, NOISE_DIM])\n",
    "    labels = tf.one_hot([digit_class] * num_examples, depth=NUM_CLASSES)\n",
    "    generated = generator([noise, labels], training=False)\n",
    "\n",
    "    plt.figure(figsize=(num_examples * 3, 3))\n",
    "    for i in range(num_examples):\n",
    "        plt.subplot(1, num_examples, i + 1)\n",
    "        plt.imshow(generated[i, :, :, 0] * 255.0, cmap=\"gray\")\n",
    "        plt.title(f\"Digit: {digit_class}\")\n",
    "        plt.axis(\"off\")\n",
    "    plt.show()"
   ]
  },
  {
   "cell_type": "code",
   "execution_count": 81,
   "metadata": {},
   "outputs": [
    {
     "data": {
      "image/png": "[encoded data removed]",
      "text/plain": [
       "<Figure size 300x300 with 1 Axes>"
      ]
     },
     "metadata": {},
     "output_type": "display_data"
    }
   ],
   "source": [
    "generate_digit(5, num_examples=1)"
   ]
  },
  {
   "cell_type": "markdown",
   "metadata": {},
   "source": [
    "# Discriminator"
   ]
  },
  {
   "cell_type": "code",
   "execution_count": 82,
   "metadata": {},
   "outputs": [],
   "source": [
    "class Discriminator(Model):\n",
    "    def __init__(self):\n",
    "        super().__init__()\n",
    "        # Встроенный слой для меток\n",
    "        self.label_embedding = layers.Dense(28 * 28)\n",
    "\n",
    "        self.conv1 = layers.Conv2D(64, (5, 5), strides=(2, 2), padding=\"same\")\n",
    "        self.conv2 = layers.Conv2D(128, (5, 5), strides=(2, 2), padding=\"same\")\n",
    "\n",
    "        self.flatten = layers.Flatten()\n",
    "        self.fc = layers.Dense(1)\n",
    "\n",
    "        self.leaky_relu = layers.LeakyReLU(0.2)\n",
    "        self.dropout = layers.Dropout(0.3)\n",
    "\n",
    "    def call(self, inputs, training=False):\n",
    "        image, label = inputs\n",
    "\n",
    "        # Преобразование метки в изображение\n",
    "        label_img = self.label_embedding(label)\n",
    "        label_img = tf.reshape(label_img, (-1, 28, 28, 1))\n",
    "\n",
    "        # Объединение с изображением\n",
    "        x = tf.concat([image, label_img], axis=-1)\n",
    "\n",
    "        x = self.conv1(x)\n",
    "        x = self.leaky_relu(x)\n",
    "        x = self.dropout(x, training=training)\n",
    "\n",
    "        x = self.conv2(x)\n",
    "        x = self.leaky_relu(x)\n",
    "        x = self.dropout(x, training=training)\n",
    "\n",
    "        x = self.flatten(x)\n",
    "        return self.fc(x)\n",
    "\n",
    "\n",
    "    # def build(self, img_shape):\n",
    "    #     # Метод для явной инициализации и проверки архитектуры\n",
    "    #     x = Input(shape=img_shape)\n",
    "    #     return Model(inputs=[x], outputs=self.call(x))"
   ]
  },
  {
   "cell_type": "code",
   "execution_count": 83,
   "metadata": {},
   "outputs": [],
   "source": [
    "discriminator = Discriminator()"
   ]
  },
  {
   "cell_type": "code",
   "execution_count": 84,
   "metadata": {},
   "outputs": [
    {
     "data": {
      "text/plain": [
       "<tf.Tensor: shape=(1, 1), dtype=float32, numpy=array([[0.0015097]], dtype=float32)>"
      ]
     },
     "execution_count": 84,
     "metadata": {},
     "output_type": "execute_result"
    }
   ],
   "source": [
    "noise = tf.random.normal([1, NOISE_DIM])\n",
    "labels = tf.one_hot([5] * 1, depth=NUM_CLASSES)\n",
    "generated = generator([noise, labels], training=False)\n",
    "\n",
    "discriminator([generated, labels])"
   ]
  },
  {
   "cell_type": "markdown",
   "metadata": {},
   "source": [
    "# GAN"
   ]
  },
  {
   "cell_type": "code",
   "execution_count": 85,
   "metadata": {},
   "outputs": [],
   "source": [
    "class ConditionalGAN(Model):\n",
    "    def __init__(self, generator: Generator, discriminator: Discriminator):\n",
    "        super().__init__()\n",
    "        self.generator = generator\n",
    "        self.discriminator = discriminator\n",
    "        self.noise_dim = NOISE_DIM\n",
    "\n",
    "        # Фиксированные данные для визуализации\n",
    "        self.fixed_noise = tf.random.normal([10, NOISE_DIM])\n",
    "        self.fixed_labels = tf.one_hot(tf.range(0, 10), depth=NUM_CLASSES)\n",
    "\n",
    "        # Инициализация метрик в конструкторе\n",
    "        self.gen_loss_tracker = metrics.Mean(name=\"generator_loss\")\n",
    "        self.disc_loss_tracker = metrics.Mean(name=\"discriminator_loss\")\n",
    "\n",
    "    def compile(\n",
    "        self,\n",
    "        g_optimizer: optimizers.Optimizer,\n",
    "        d_optimizer: optimizers.Optimizer,\n",
    "        loss_fn,\n",
    "    ):\n",
    "        super().compile()\n",
    "        self.g_optimizer = g_optimizer\n",
    "        self.d_optimizer = d_optimizer\n",
    "        self.loss_fn = loss_fn\n",
    "\n",
    "    @property\n",
    "    def metrics(self):\n",
    "        return [self.gen_loss_tracker, self.disc_loss_tracker]\n",
    "\n",
    "    def train_step(self, data):\n",
    "        real_images, real_labels = data\n",
    "\n",
    "        # Генерация случайных меток для фейковых изображений\n",
    "        batch_size = tf.shape(real_images)[0]\n",
    "        random_labels = tf.one_hot(\n",
    "            tf.random.uniform([batch_size], maxval=NUM_CLASSES, dtype=tf.int32),\n",
    "            NUM_CLASSES,\n",
    "        )\n",
    "\n",
    "        # Генерация шума\n",
    "        noise = tf.random.normal([batch_size, self.noise_dim])\n",
    "\n",
    "        with tf.GradientTape() as gen_tape, tf.GradientTape() as disc_tape:\n",
    "            # Генерация изображений\n",
    "            fake_images = self.generator([noise, random_labels], training=True)\n",
    "\n",
    "            # Оценка дискриминатора\n",
    "            real_output = self.discriminator([real_images, real_labels], training=True)\n",
    "            fake_output = self.discriminator(\n",
    "                [fake_images, random_labels], training=True\n",
    "            )\n",
    "\n",
    "            # Вычисление потерь\n",
    "            disc_loss = self.loss_fn.discriminator_loss(real_output, fake_output)\n",
    "            gen_loss = self.loss_fn.generator_loss(fake_output)\n",
    "\n",
    "        # Обновление генератора\n",
    "        gen_gradients = gen_tape.gradient(gen_loss, self.generator.trainable_variables)\n",
    "        self.g_optimizer.apply_gradients(\n",
    "            zip(gen_gradients, self.generator.trainable_variables)\n",
    "        )\n",
    "\n",
    "        # Обновление дискриминатора\n",
    "        disc_gradients = disc_tape.gradient(\n",
    "            disc_loss, self.discriminator.trainable_variables\n",
    "        )\n",
    "        self.d_optimizer.apply_gradients(\n",
    "            zip(disc_gradients, self.discriminator.trainable_variables)\n",
    "        )\n",
    "\n",
    "        # Обновление метрик\n",
    "        self.gen_loss_tracker.update_state(gen_loss)\n",
    "        self.disc_loss_tracker.update_state(disc_loss)\n",
    "\n",
    "        return {\n",
    "            \"g_loss\": self.gen_loss_tracker.result(),\n",
    "            \"d_loss\": self.disc_loss_tracker.result(),\n",
    "        }\n",
    "\n",
    "\n",
    "# Функции потерь\n",
    "class GANLoss:\n",
    "    def __init__(self):\n",
    "        self.binary_cross_entropy = losses.BinaryCrossentropy(from_logits=True)\n",
    "\n",
    "    def discriminator_loss(self, real_output, fake_output):\n",
    "        real_loss = self.binary_cross_entropy(tf.ones_like(real_output), real_output)\n",
    "        fake_loss = self.binary_cross_entropy(tf.zeros_like(fake_output), fake_output)\n",
    "        return real_loss + fake_loss\n",
    "\n",
    "    def generator_loss(self, fake_output):\n",
    "        return self.binary_cross_entropy(tf.ones_like(fake_output), fake_output)\n",
    "\n",
    "\n",
    "# Коллбэк для генерации изображений\n",
    "class ImageCallback(callbacks.Callback):\n",
    "    def __init__(self, filepath: str, save_freq: str | int = \"epoch\"):\n",
    "        super().__init__()\n",
    "        self.filepath: str = file_utils.path_to_string(filepath)\n",
    "        self.save_freq: str | int = save_freq\n",
    "        self._epoches_seen_since_last_saving = 0\n",
    "\n",
    "        if self.save_freq != \"epoch\" and not isinstance(self.save_freq, int):\n",
    "            raise ValueError(\n",
    "                f\"Unrecognized save_freq: {self.save_freq}. \"\n",
    "                \"Expected save_freq are 'epoch' or integer values\"\n",
    "            )\n",
    "\n",
    "        if not self.filepath.endswith((\".png\", \".jpg\")):\n",
    "            raise ValueError(\n",
    "                \"Wrong image filepath extension!\"\n",
    "                \"Received: \"\n",
    "                f\"filepath={self.filepath}\"\n",
    "            )\n",
    "\n",
    "    def on_epoch_end(self, epoch: int, logs=None):\n",
    "        noise = self.model.fixed_noise\n",
    "        labels = self.model.fixed_labels\n",
    "        images = self.model.generator([noise, labels], training=False)\n",
    "\n",
    "        print(f\"Epoch {epoch}/{EPOCHS}\")\n",
    "\n",
    "        display.clear_output(wait=True)\n",
    "\n",
    "        plt.figure(figsize=(10, 4))\n",
    "        for i in range(10):\n",
    "            plt.subplot(2, 5, i + 1)\n",
    "            plt.imshow(images[i, :, :, 0] * 255.0, cmap=\"gray\")\n",
    "            plt.title(f\"Digit: {i}\")\n",
    "            plt.axis(\"off\")\n",
    "\n",
    "        if self._should_save_on_epoch():\n",
    "            plt.savefig(self._get_file_path(epoch))\n",
    "\n",
    "        plt.show()\n",
    "\n",
    "    def _should_save_on_epoch(self):\n",
    "        if self.save_freq == \"epoch\":\n",
    "            return True\n",
    "\n",
    "        self._epoches_seen_since_last_saving += 1\n",
    "\n",
    "        if self._epoches_seen_since_last_saving >= self.save_freq:\n",
    "            self._epoches_seen_since_last_saving = 0\n",
    "            return True\n",
    "        return False\n",
    "\n",
    "    def _get_file_path(self, epoch):\n",
    "        return self.filepath.format(epoch=epoch + 1)"
   ]
  },
  {
   "cell_type": "markdown",
   "metadata": {},
   "source": [
    "# Train"
   ]
  },
  {
   "cell_type": "code",
   "execution_count": 86,
   "metadata": {},
   "outputs": [
    {
     "data": {
      "image/png": "[encoded data removed]",
      "text/plain": [
       "<Figure size 1000x400 with 10 Axes>"
      ]
     },
     "metadata": {},
     "output_type": "display_data"
    },
    {
     "name": "stdout",
     "output_type": "stream",
     "text": [
      "\u001b[1m1875/1875\u001b[0m \u001b[32m━━━━━━━━━━━━━━━━━━━━\u001b[0m\u001b[37m\u001b[0m \u001b[1m100s\u001b[0m 53ms/step - d_loss: 1.3588 - g_loss: 0.7311\n"
     ]
    }
   ],
   "source": [
    "# Инициализация и обучение\n",
    "cgan = ConditionalGAN(generator, discriminator)\n",
    "cgan.compile(\n",
    "    g_optimizer=optimizers.Adam(1e-4, beta_1=0.5),\n",
    "    d_optimizer=optimizers.Adam(1e-4, beta_1=0.5),\n",
    "    loss_fn=GANLoss(),\n",
    ")\n",
    "\n",
    "cgan.build((None, 28, 28, 1))\n",
    "\n",
    "folders = {\"img\": \"gan_images\", \"check\": \"gan_checkpoints\", \"model\": \"gan_models\"}\n",
    "\n",
    "for folder in folders.values():\n",
    "    if os.path.exists(folder):\n",
    "        shutil.rmtree(folder)\n",
    "\n",
    "# Создаем директории для сохранения\n",
    "os.makedirs(folders[\"img\"])\n",
    "os.makedirs(folders[\"check\"])\n",
    "os.makedirs(folders[\"model\"])\n",
    "\n",
    "history = cgan.fit(\n",
    "    train_dataset,\n",
    "    epochs=EPOCHS,\n",
    "    callbacks=[\n",
    "        ImageCallback(os.path.join(folders[\"img\"], \"{epoch}.png\"), save_freq=1),\n",
    "        callbacks.ModelCheckpoint(\n",
    "            os.path.join(folders[\"check\"], \"ckpt_{epoch}.keras\"),\n",
    "            # save_weights_only=True,\n",
    "            save_freq=5 * len(train_dataset),\n",
    "        ),\n",
    "    ],\n",
    ")"
   ]
  },
  {
   "cell_type": "markdown",
   "metadata": {},
   "source": [
    "# Save"
   ]
  },
  {
   "cell_type": "code",
   "execution_count": 87,
   "metadata": {},
   "outputs": [],
   "source": [
    "def save_model(model, model_name):\n",
    "    model.save(os.path.join(folders[\"model\"], f\"{model_name}.keras\"))"
   ]
  },
  {
   "cell_type": "code",
   "execution_count": 88,
   "metadata": {},
   "outputs": [],
   "source": [
    "save_model(cgan, \"cgan\")\n",
    "save_model(generator, \"generator\")\n",
    "save_model(discriminator, \"discriminator\")"
   ]
  },
  {
   "cell_type": "markdown",
   "metadata": {},
   "source": [
    "# Test"
   ]
  },
  {
   "cell_type": "code",
   "execution_count": 89,
   "metadata": {},
   "outputs": [],
   "source": [
    "# load_model"
   ]
  },
  {
   "cell_type": "code",
   "execution_count": 93,
   "metadata": {},
   "outputs": [
    {
     "data": {
      "image/png": "[encoded data removed]",
      "text/plain": [
       "<Figure size 900x300 with 3 Axes>"
      ]
     },
     "metadata": {},
     "output_type": "display_data"
    },
    {
     "data": {
      "image/png": "[encoded data removed]",
      "text/plain": [
       "<Figure size 600x300 with 2 Axes>"
      ]
     },
     "metadata": {},
     "output_type": "display_data"
    }
   ],
   "source": [
    "generate_digit(5, num_examples=3)  # Сгенерировать 3 пятерки\n",
    "generate_digit(7, num_examples=2)  # Сгенерировать 2 семерки"
   ]
  },
  {
   "cell_type": "markdown",
   "metadata": {},
   "source": [
    "# GIF"
   ]
  },
  {
   "cell_type": "code",
   "execution_count": 96,
   "metadata": {},
   "outputs": [
    {
     "ename": "PermissionError",
     "evalue": "[WinError 32] Процесс не может получить доступ к файлу, так как этот файл занят другим процессом: 'gan_gif.gif'",
     "output_type": "error",
     "traceback": [
      "\u001b[31m---------------------------------------------------------------------------\u001b[39m",
      "\u001b[31mPermissionError\u001b[39m                           Traceback (most recent call last)",
      "\u001b[36mCell\u001b[39m\u001b[36m \u001b[39m\u001b[32mIn[96]\u001b[39m\u001b[32m, line 10\u001b[39m\n\u001b[32m      7\u001b[39m gif_path = \u001b[33m\"\u001b[39m\u001b[33mgan_gif.gif\u001b[39m\u001b[33m\"\u001b[39m\n\u001b[32m      9\u001b[39m \u001b[38;5;28;01mif\u001b[39;00m os.path.exists(gif_path):\n\u001b[32m---> \u001b[39m\u001b[32m10\u001b[39m     \u001b[43mos\u001b[49m\u001b[43m.\u001b[49m\u001b[43mremove\u001b[49m\u001b[43m(\u001b[49m\u001b[43mgif_path\u001b[49m\u001b[43m)\u001b[49m\n\u001b[32m     12\u001b[39m frames[\u001b[32m0\u001b[39m].save(\n\u001b[32m     13\u001b[39m     gif_path,\n\u001b[32m     14\u001b[39m     save_all=\u001b[38;5;28;01mTrue\u001b[39;00m,\n\u001b[32m   (...)\u001b[39m\u001b[32m     18\u001b[39m     loop=\u001b[32m0\u001b[39m,\n\u001b[32m     19\u001b[39m )\n",
      "\u001b[31mPermissionError\u001b[39m: [WinError 32] Процесс не может получить доступ к файлу, так как этот файл занят другим процессом: 'gan_gif.gif'"
     ]
    }
   ],
   "source": [
    "frames = []\n",
    "\n",
    "for frame_number in range(1, EPOCHS + 1):\n",
    "    frame = Image.open(os.path.join(folders[\"img\"], f\"{frame_number}.png\"))\n",
    "    frames.append(frame)\n",
    "    \n",
    "gif_path = \"gan_gif.gif\"\n",
    "\n",
    "if os.path.exists(gif_path):\n",
    "    os.remove(gif_path)\n",
    "\n",
    "frames[0].save(\n",
    "    gif_path,\n",
    "    save_all=True,\n",
    "    append_images=frames[1:],\n",
    "    optimize=True,\n",
    "    duration=100,\n",
    "    loop=0,\n",
    ")"
   ]
  },
  {
   "cell_type": "markdown",
   "metadata": {
    "id": "ldjstkuRj44Q"
   },
   "source": [
    "# Домашка (дедлайн 20.06)\n",
    "\n",
    "отправлять в тг: @anna_getun, если будут вопросы, также можно писать\n",
    "\n",
    "Задача: модицифировать код с использованием рассмотренных в лекции методов (DCGAN, Conditional GAN, StyleGAN).\n",
    "- Достаточно использование одной модели на выбор\n",
    "- Можно использовать другие датасеты на выбор\n",
    "- Увеличить параметры (Epoch, batch) для улучшения качества картинок (**обязательно**)\n",
    "\n",
    "**Пример**\n",
    "\n",
    "- DCGAN - поиграться со слоями в генераторе\n",
    "\n",
    "- Сonditional GAN - создать функцию для генерации изображений заданного(-ых) класса(-ов)\n",
    "\n",
    "- StyleGAN  - добавление шума на всех слоях, модификация генератора и дискриминатора\n",
    "\n",
    "\n",
    "*не обязательно использовать данный код, можно создать свою собственную модель GAN и модифицировать её\n",
    "\n"
   ]
  }
 ],
 "metadata": {
  "colab": {
   "authorship_tag": "ABX9TyMFpd1B7ONizhuablXqlB7/",
   "provenance": []
  },
  "kernelspec": {
   "display_name": "Neural",
   "language": "python",
   "name": "python3"
  },
  "language_info": {
   "codemirror_mode": {
    "name": "ipython",
    "version": 3
   },
   "file_extension": ".py",
   "mimetype": "text/x-python",
   "name": "python",
   "nbconvert_exporter": "python",
   "pygments_lexer": "ipython3",
   "version": "3.11.9"
  }
 },
 "nbformat": 4,
 "nbformat_minor": 0
}
