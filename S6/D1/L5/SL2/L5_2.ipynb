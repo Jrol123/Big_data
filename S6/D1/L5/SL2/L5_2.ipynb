{
 "cells": [
  {
   "cell_type": "markdown",
   "id": "7e3aff08",
   "metadata": {},
   "source": [
    "# Imports"
   ]
  },
  {
   "cell_type": "code",
   "execution_count": 36,
   "id": "157b6765",
   "metadata": {},
   "outputs": [],
   "source": [
    "import numpy as np\n",
    "import pandas as pd\n"
   ]
  },
  {
   "cell_type": "code",
   "execution_count": 37,
   "id": "3722bfb4",
   "metadata": {},
   "outputs": [],
   "source": [
    "from sklearn.neural_network import BernoulliRBM\n",
    "from sklearn.preprocessing import MinMaxScaler\n",
    "\n",
    "from sklearn.metrics import root_mean_squared_error, r2_score"
   ]
  },
  {
   "cell_type": "markdown",
   "id": "cc694af5",
   "metadata": {},
   "source": [
    "# Data preparation"
   ]
  },
  {
   "cell_type": "code",
   "execution_count": 38,
   "id": "336cfc94",
   "metadata": {},
   "outputs": [
    {
     "data": {
      "application/vnd.microsoft.datawrangler.viewer.v0+json": {
       "columns": [
        {
         "name": "index",
         "rawType": "int64",
         "type": "integer"
        },
        {
         "name": "userId",
         "rawType": "int64",
         "type": "integer"
        },
        {
         "name": "movieId",
         "rawType": "int64",
         "type": "integer"
        },
        {
         "name": "rating",
         "rawType": "float64",
         "type": "float"
        },
        {
         "name": "timestamp",
         "rawType": "int64",
         "type": "integer"
        }
       ],
       "conversionMethod": "pd.DataFrame",
       "ref": "0b7306fb-cd82-45c2-888c-373ce6e0be8a",
       "rows": [
        [
         "0",
         "1",
         "31",
         "2.5",
         "1260759144"
        ],
        [
         "1",
         "1",
         "1029",
         "3.0",
         "1260759179"
        ],
        [
         "2",
         "1",
         "1061",
         "3.0",
         "1260759182"
        ],
        [
         "3",
         "1",
         "1129",
         "2.0",
         "1260759185"
        ],
        [
         "4",
         "1",
         "1172",
         "4.0",
         "1260759205"
        ],
        [
         "5",
         "1",
         "1263",
         "2.0",
         "1260759151"
        ],
        [
         "6",
         "1",
         "1287",
         "2.0",
         "1260759187"
        ],
        [
         "7",
         "1",
         "1293",
         "2.0",
         "1260759148"
        ],
        [
         "8",
         "1",
         "1339",
         "3.5",
         "1260759125"
        ],
        [
         "9",
         "1",
         "1343",
         "2.0",
         "1260759131"
        ],
        [
         "10",
         "1",
         "1371",
         "2.5",
         "1260759135"
        ],
        [
         "11",
         "1",
         "1405",
         "1.0",
         "1260759203"
        ],
        [
         "12",
         "1",
         "1953",
         "4.0",
         "1260759191"
        ],
        [
         "13",
         "1",
         "2105",
         "4.0",
         "1260759139"
        ],
        [
         "14",
         "1",
         "2150",
         "3.0",
         "1260759194"
        ],
        [
         "15",
         "1",
         "2193",
         "2.0",
         "1260759198"
        ],
        [
         "16",
         "1",
         "2294",
         "2.0",
         "1260759108"
        ],
        [
         "17",
         "1",
         "2455",
         "2.5",
         "1260759113"
        ],
        [
         "18",
         "1",
         "2968",
         "1.0",
         "1260759200"
        ],
        [
         "19",
         "1",
         "3671",
         "3.0",
         "1260759117"
        ],
        [
         "20",
         "2",
         "10",
         "4.0",
         "835355493"
        ],
        [
         "21",
         "2",
         "17",
         "5.0",
         "835355681"
        ],
        [
         "22",
         "2",
         "39",
         "5.0",
         "835355604"
        ],
        [
         "23",
         "2",
         "47",
         "4.0",
         "835355552"
        ],
        [
         "24",
         "2",
         "50",
         "4.0",
         "835355586"
        ],
        [
         "25",
         "2",
         "52",
         "3.0",
         "835356031"
        ],
        [
         "26",
         "2",
         "62",
         "3.0",
         "835355749"
        ],
        [
         "27",
         "2",
         "110",
         "4.0",
         "835355532"
        ],
        [
         "28",
         "2",
         "144",
         "3.0",
         "835356016"
        ],
        [
         "29",
         "2",
         "150",
         "5.0",
         "835355395"
        ],
        [
         "30",
         "2",
         "153",
         "4.0",
         "835355441"
        ],
        [
         "31",
         "2",
         "161",
         "3.0",
         "835355493"
        ],
        [
         "32",
         "2",
         "165",
         "3.0",
         "835355441"
        ],
        [
         "33",
         "2",
         "168",
         "3.0",
         "835355710"
        ],
        [
         "34",
         "2",
         "185",
         "3.0",
         "835355511"
        ],
        [
         "35",
         "2",
         "186",
         "3.0",
         "835355664"
        ],
        [
         "36",
         "2",
         "208",
         "3.0",
         "835355511"
        ],
        [
         "37",
         "2",
         "222",
         "5.0",
         "835355840"
        ],
        [
         "38",
         "2",
         "223",
         "1.0",
         "835355749"
        ],
        [
         "39",
         "2",
         "225",
         "3.0",
         "835355552"
        ],
        [
         "40",
         "2",
         "235",
         "3.0",
         "835355664"
        ],
        [
         "41",
         "2",
         "248",
         "3.0",
         "835355896"
        ],
        [
         "42",
         "2",
         "253",
         "4.0",
         "835355511"
        ],
        [
         "43",
         "2",
         "261",
         "4.0",
         "835355681"
        ],
        [
         "44",
         "2",
         "265",
         "5.0",
         "835355697"
        ],
        [
         "45",
         "2",
         "266",
         "5.0",
         "835355586"
        ],
        [
         "46",
         "2",
         "272",
         "3.0",
         "835355767"
        ],
        [
         "47",
         "2",
         "273",
         "4.0",
         "835355779"
        ],
        [
         "48",
         "2",
         "292",
         "3.0",
         "835355492"
        ],
        [
         "49",
         "2",
         "296",
         "4.0",
         "835355395"
        ]
       ],
       "shape": {
        "columns": 4,
        "rows": 100004
       }
      },
      "text/html": [
       "<div>\n",
       "<style scoped>\n",
       "    .dataframe tbody tr th:only-of-type {\n",
       "        vertical-align: middle;\n",
       "    }\n",
       "\n",
       "    .dataframe tbody tr th {\n",
       "        vertical-align: top;\n",
       "    }\n",
       "\n",
       "    .dataframe thead th {\n",
       "        text-align: right;\n",
       "    }\n",
       "</style>\n",
       "<table border=\"1\" class=\"dataframe\">\n",
       "  <thead>\n",
       "    <tr style=\"text-align: right;\">\n",
       "      <th></th>\n",
       "      <th>userId</th>\n",
       "      <th>movieId</th>\n",
       "      <th>rating</th>\n",
       "      <th>timestamp</th>\n",
       "    </tr>\n",
       "  </thead>\n",
       "  <tbody>\n",
       "    <tr>\n",
       "      <th>0</th>\n",
       "      <td>1</td>\n",
       "      <td>31</td>\n",
       "      <td>2.5</td>\n",
       "      <td>1260759144</td>\n",
       "    </tr>\n",
       "    <tr>\n",
       "      <th>1</th>\n",
       "      <td>1</td>\n",
       "      <td>1029</td>\n",
       "      <td>3.0</td>\n",
       "      <td>1260759179</td>\n",
       "    </tr>\n",
       "    <tr>\n",
       "      <th>2</th>\n",
       "      <td>1</td>\n",
       "      <td>1061</td>\n",
       "      <td>3.0</td>\n",
       "      <td>1260759182</td>\n",
       "    </tr>\n",
       "    <tr>\n",
       "      <th>3</th>\n",
       "      <td>1</td>\n",
       "      <td>1129</td>\n",
       "      <td>2.0</td>\n",
       "      <td>1260759185</td>\n",
       "    </tr>\n",
       "    <tr>\n",
       "      <th>4</th>\n",
       "      <td>1</td>\n",
       "      <td>1172</td>\n",
       "      <td>4.0</td>\n",
       "      <td>1260759205</td>\n",
       "    </tr>\n",
       "    <tr>\n",
       "      <th>...</th>\n",
       "      <td>...</td>\n",
       "      <td>...</td>\n",
       "      <td>...</td>\n",
       "      <td>...</td>\n",
       "    </tr>\n",
       "    <tr>\n",
       "      <th>99999</th>\n",
       "      <td>671</td>\n",
       "      <td>6268</td>\n",
       "      <td>2.5</td>\n",
       "      <td>1065579370</td>\n",
       "    </tr>\n",
       "    <tr>\n",
       "      <th>100000</th>\n",
       "      <td>671</td>\n",
       "      <td>6269</td>\n",
       "      <td>4.0</td>\n",
       "      <td>1065149201</td>\n",
       "    </tr>\n",
       "    <tr>\n",
       "      <th>100001</th>\n",
       "      <td>671</td>\n",
       "      <td>6365</td>\n",
       "      <td>4.0</td>\n",
       "      <td>1070940363</td>\n",
       "    </tr>\n",
       "    <tr>\n",
       "      <th>100002</th>\n",
       "      <td>671</td>\n",
       "      <td>6385</td>\n",
       "      <td>2.5</td>\n",
       "      <td>1070979663</td>\n",
       "    </tr>\n",
       "    <tr>\n",
       "      <th>100003</th>\n",
       "      <td>671</td>\n",
       "      <td>6565</td>\n",
       "      <td>3.5</td>\n",
       "      <td>1074784724</td>\n",
       "    </tr>\n",
       "  </tbody>\n",
       "</table>\n",
       "<p>100004 rows × 4 columns</p>\n",
       "</div>"
      ],
      "text/plain": [
       "        userId  movieId  rating   timestamp\n",
       "0            1       31     2.5  1260759144\n",
       "1            1     1029     3.0  1260759179\n",
       "2            1     1061     3.0  1260759182\n",
       "3            1     1129     2.0  1260759185\n",
       "4            1     1172     4.0  1260759205\n",
       "...        ...      ...     ...         ...\n",
       "99999      671     6268     2.5  1065579370\n",
       "100000     671     6269     4.0  1065149201\n",
       "100001     671     6365     4.0  1070940363\n",
       "100002     671     6385     2.5  1070979663\n",
       "100003     671     6565     3.5  1074784724\n",
       "\n",
       "[100004 rows x 4 columns]"
      ]
     },
     "execution_count": 38,
     "metadata": {},
     "output_type": "execute_result"
    }
   ],
   "source": [
    "df = pd.read_csv(\"data.csv\")\n",
    "df"
   ]
  },
  {
   "cell_type": "code",
   "execution_count": 39,
   "id": "52aaaa34",
   "metadata": {},
   "outputs": [],
   "source": [
    "table = pd.pivot_table(df.drop(\"timestamp\", axis=1), \"rating\", \"userId\", \"movieId\")\n",
    "# table"
   ]
  },
  {
   "cell_type": "code",
   "execution_count": 40,
   "id": "2eb57c8f",
   "metadata": {},
   "outputs": [],
   "source": [
    "scaler = MinMaxScaler((0, 1))\n",
    "t_table = scaler.fit_transform(table.fillna(0))  # Ставим по-умолчанию минимальную оценку фильму"
   ]
  },
  {
   "cell_type": "markdown",
   "id": "1a421035",
   "metadata": {},
   "source": [
    "# Training"
   ]
  },
  {
   "cell_type": "code",
   "execution_count": 41,
   "id": "eb3657b4",
   "metadata": {},
   "outputs": [
    {
     "name": "stdout",
     "output_type": "stream",
     "text": [
      "[BernoulliRBM] Iteration 1, pseudo-likelihood = -5711.48, time = 0.80s\n",
      "[BernoulliRBM] Iteration 2, pseudo-likelihood = -5308.28, time = 0.95s\n",
      "[BernoulliRBM] Iteration 3, pseudo-likelihood = -4921.81, time = 0.92s\n",
      "[BernoulliRBM] Iteration 4, pseudo-likelihood = -4612.79, time = 0.92s\n",
      "[BernoulliRBM] Iteration 5, pseudo-likelihood = -4414.66, time = 0.90s\n",
      "[BernoulliRBM] Iteration 6, pseudo-likelihood = -3921.35, time = 0.88s\n",
      "[BernoulliRBM] Iteration 7, pseudo-likelihood = -3516.10, time = 0.89s\n",
      "[BernoulliRBM] Iteration 8, pseudo-likelihood = -3215.26, time = 0.90s\n",
      "[BernoulliRBM] Iteration 9, pseudo-likelihood = -2998.36, time = 0.92s\n",
      "[BernoulliRBM] Iteration 10, pseudo-likelihood = -2842.87, time = 0.91s\n",
      "[BernoulliRBM] Iteration 11, pseudo-likelihood = -2719.25, time = 0.91s\n",
      "[BernoulliRBM] Iteration 12, pseudo-likelihood = -2635.19, time = 0.93s\n",
      "[BernoulliRBM] Iteration 13, pseudo-likelihood = -2569.64, time = 0.93s\n",
      "[BernoulliRBM] Iteration 14, pseudo-likelihood = -2532.25, time = 0.95s\n",
      "[BernoulliRBM] Iteration 15, pseudo-likelihood = -2509.25, time = 0.95s\n",
      "[BernoulliRBM] Iteration 16, pseudo-likelihood = -2499.14, time = 0.90s\n",
      "[BernoulliRBM] Iteration 17, pseudo-likelihood = -2496.28, time = 0.91s\n",
      "[BernoulliRBM] Iteration 18, pseudo-likelihood = -2502.95, time = 0.93s\n",
      "[BernoulliRBM] Iteration 19, pseudo-likelihood = -2515.24, time = 0.92s\n",
      "[BernoulliRBM] Iteration 20, pseudo-likelihood = -2533.75, time = 0.97s\n",
      "[BernoulliRBM] Iteration 21, pseudo-likelihood = -2559.61, time = 0.91s\n",
      "[BernoulliRBM] Iteration 22, pseudo-likelihood = -2587.73, time = 0.95s\n",
      "[BernoulliRBM] Iteration 23, pseudo-likelihood = -2622.20, time = 0.93s\n",
      "[BernoulliRBM] Iteration 24, pseudo-likelihood = -2657.25, time = 1.03s\n",
      "[BernoulliRBM] Iteration 25, pseudo-likelihood = -2694.41, time = 0.98s\n",
      "[BernoulliRBM] Iteration 26, pseudo-likelihood = -2736.11, time = 1.04s\n",
      "[BernoulliRBM] Iteration 27, pseudo-likelihood = -2778.48, time = 0.91s\n",
      "[BernoulliRBM] Iteration 28, pseudo-likelihood = -2819.64, time = 0.90s\n",
      "[BernoulliRBM] Iteration 29, pseudo-likelihood = -2864.34, time = 0.85s\n",
      "[BernoulliRBM] Iteration 30, pseudo-likelihood = -2905.74, time = 0.87s\n",
      "[BernoulliRBM] Iteration 31, pseudo-likelihood = -2888.36, time = 0.82s\n",
      "[BernoulliRBM] Iteration 32, pseudo-likelihood = -2879.00, time = 0.82s\n",
      "[BernoulliRBM] Iteration 33, pseudo-likelihood = -2804.06, time = 0.91s\n",
      "[BernoulliRBM] Iteration 34, pseudo-likelihood = -2646.27, time = 0.86s\n",
      "[BernoulliRBM] Iteration 35, pseudo-likelihood = -2496.58, time = 0.86s\n",
      "[BernoulliRBM] Iteration 36, pseudo-likelihood = -2351.26, time = 0.92s\n",
      "[BernoulliRBM] Iteration 37, pseudo-likelihood = -2231.85, time = 0.95s\n",
      "[BernoulliRBM] Iteration 38, pseudo-likelihood = -2126.64, time = 0.92s\n",
      "[BernoulliRBM] Iteration 39, pseudo-likelihood = -2034.91, time = 0.86s\n",
      "[BernoulliRBM] Iteration 40, pseudo-likelihood = -1957.09, time = 0.87s\n",
      "[BernoulliRBM] Iteration 41, pseudo-likelihood = -1889.68, time = 0.87s\n",
      "[BernoulliRBM] Iteration 42, pseudo-likelihood = -1834.96, time = 0.93s\n",
      "[BernoulliRBM] Iteration 43, pseudo-likelihood = -1786.20, time = 0.90s\n",
      "[BernoulliRBM] Iteration 44, pseudo-likelihood = -1743.26, time = 0.88s\n",
      "[BernoulliRBM] Iteration 45, pseudo-likelihood = -1705.46, time = 0.84s\n",
      "[BernoulliRBM] Iteration 46, pseudo-likelihood = -1668.96, time = 0.84s\n",
      "[BernoulliRBM] Iteration 47, pseudo-likelihood = -1635.82, time = 0.86s\n",
      "[BernoulliRBM] Iteration 48, pseudo-likelihood = -1604.36, time = 0.85s\n",
      "[BernoulliRBM] Iteration 49, pseudo-likelihood = -1577.50, time = 0.86s\n",
      "[BernoulliRBM] Iteration 50, pseudo-likelihood = -1554.64, time = 0.86s\n",
      "[BernoulliRBM] Iteration 51, pseudo-likelihood = -1535.76, time = 0.92s\n",
      "[BernoulliRBM] Iteration 52, pseudo-likelihood = -1517.48, time = 0.91s\n",
      "[BernoulliRBM] Iteration 53, pseudo-likelihood = -1503.26, time = 0.86s\n",
      "[BernoulliRBM] Iteration 54, pseudo-likelihood = -1489.40, time = 0.84s\n",
      "[BernoulliRBM] Iteration 55, pseudo-likelihood = -1478.50, time = 0.84s\n",
      "[BernoulliRBM] Iteration 56, pseudo-likelihood = -1468.39, time = 0.91s\n",
      "[BernoulliRBM] Iteration 57, pseudo-likelihood = -1456.61, time = 0.83s\n",
      "[BernoulliRBM] Iteration 58, pseudo-likelihood = -1447.50, time = 0.82s\n",
      "[BernoulliRBM] Iteration 59, pseudo-likelihood = -1436.95, time = 0.82s\n",
      "[BernoulliRBM] Iteration 60, pseudo-likelihood = -1429.05, time = 0.84s\n",
      "[BernoulliRBM] Iteration 61, pseudo-likelihood = -1417.12, time = 0.82s\n",
      "[BernoulliRBM] Iteration 62, pseudo-likelihood = -1408.31, time = 0.86s\n",
      "[BernoulliRBM] Iteration 63, pseudo-likelihood = -1399.94, time = 0.87s\n",
      "[BernoulliRBM] Iteration 64, pseudo-likelihood = -1390.58, time = 0.82s\n",
      "[BernoulliRBM] Iteration 65, pseudo-likelihood = -1368.29, time = 0.88s\n",
      "[BernoulliRBM] Iteration 66, pseudo-likelihood = -1350.17, time = 0.82s\n",
      "[BernoulliRBM] Iteration 67, pseudo-likelihood = -1331.42, time = 0.83s\n",
      "[BernoulliRBM] Iteration 68, pseudo-likelihood = -1298.09, time = 0.85s\n",
      "[BernoulliRBM] Iteration 69, pseudo-likelihood = -1249.72, time = 0.86s\n",
      "[BernoulliRBM] Iteration 70, pseudo-likelihood = -1206.04, time = 0.85s\n",
      "[BernoulliRBM] Iteration 71, pseudo-likelihood = -1159.17, time = 0.88s\n",
      "[BernoulliRBM] Iteration 72, pseudo-likelihood = -1112.30, time = 0.95s\n",
      "[BernoulliRBM] Iteration 73, pseudo-likelihood = -1074.42, time = 0.87s\n",
      "[BernoulliRBM] Iteration 74, pseudo-likelihood = -1037.90, time = 0.85s\n",
      "[BernoulliRBM] Iteration 75, pseudo-likelihood = -1010.45, time = 0.87s\n",
      "[BernoulliRBM] Iteration 76, pseudo-likelihood = -985.30, time = 0.85s\n",
      "[BernoulliRBM] Iteration 77, pseudo-likelihood = -966.37, time = 0.91s\n",
      "[BernoulliRBM] Iteration 78, pseudo-likelihood = -946.92, time = 0.92s\n",
      "[BernoulliRBM] Iteration 79, pseudo-likelihood = -927.85, time = 0.85s\n",
      "[BernoulliRBM] Iteration 80, pseudo-likelihood = -908.63, time = 0.86s\n",
      "[BernoulliRBM] Iteration 81, pseudo-likelihood = -887.81, time = 0.86s\n",
      "[BernoulliRBM] Iteration 82, pseudo-likelihood = -870.90, time = 0.86s\n",
      "[BernoulliRBM] Iteration 83, pseudo-likelihood = -851.12, time = 0.87s\n",
      "[BernoulliRBM] Iteration 84, pseudo-likelihood = -832.98, time = 0.89s\n",
      "[BernoulliRBM] Iteration 85, pseudo-likelihood = -816.33, time = 0.92s\n",
      "[BernoulliRBM] Iteration 86, pseudo-likelihood = -799.76, time = 0.89s\n",
      "[BernoulliRBM] Iteration 87, pseudo-likelihood = -778.75, time = 0.92s\n",
      "[BernoulliRBM] Iteration 88, pseudo-likelihood = -759.09, time = 1.00s\n",
      "[BernoulliRBM] Iteration 89, pseudo-likelihood = -742.61, time = 1.00s\n",
      "[BernoulliRBM] Iteration 90, pseudo-likelihood = -725.42, time = 0.91s\n",
      "[BernoulliRBM] Iteration 91, pseudo-likelihood = -707.29, time = 0.84s\n",
      "[BernoulliRBM] Iteration 92, pseudo-likelihood = -689.67, time = 0.83s\n",
      "[BernoulliRBM] Iteration 93, pseudo-likelihood = -671.62, time = 0.87s\n",
      "[BernoulliRBM] Iteration 94, pseudo-likelihood = -653.53, time = 0.93s\n",
      "[BernoulliRBM] Iteration 95, pseudo-likelihood = -635.50, time = 0.87s\n",
      "[BernoulliRBM] Iteration 96, pseudo-likelihood = -618.03, time = 0.85s\n",
      "[BernoulliRBM] Iteration 97, pseudo-likelihood = -602.65, time = 0.85s\n",
      "[BernoulliRBM] Iteration 98, pseudo-likelihood = -583.41, time = 0.87s\n",
      "[BernoulliRBM] Iteration 99, pseudo-likelihood = -566.47, time = 0.85s\n",
      "[BernoulliRBM] Iteration 100, pseudo-likelihood = -550.09, time = 0.84s\n"
     ]
    },
    {
     "data": {
      "text/html": [
       "<style>#sk-container-id-2 {\n",
       "  /* Definition of color scheme common for light and dark mode */\n",
       "  --sklearn-color-text: #000;\n",
       "  --sklearn-color-text-muted: #666;\n",
       "  --sklearn-color-line: gray;\n",
       "  /* Definition of color scheme for unfitted estimators */\n",
       "  --sklearn-color-unfitted-level-0: #fff5e6;\n",
       "  --sklearn-color-unfitted-level-1: #f6e4d2;\n",
       "  --sklearn-color-unfitted-level-2: #ffe0b3;\n",
       "  --sklearn-color-unfitted-level-3: chocolate;\n",
       "  /* Definition of color scheme for fitted estimators */\n",
       "  --sklearn-color-fitted-level-0: #f0f8ff;\n",
       "  --sklearn-color-fitted-level-1: #d4ebff;\n",
       "  --sklearn-color-fitted-level-2: #b3dbfd;\n",
       "  --sklearn-color-fitted-level-3: cornflowerblue;\n",
       "\n",
       "  /* Specific color for light theme */\n",
       "  --sklearn-color-text-on-default-background: var(--sg-text-color, var(--theme-code-foreground, var(--jp-content-font-color1, black)));\n",
       "  --sklearn-color-background: var(--sg-background-color, var(--theme-background, var(--jp-layout-color0, white)));\n",
       "  --sklearn-color-border-box: var(--sg-text-color, var(--theme-code-foreground, var(--jp-content-font-color1, black)));\n",
       "  --sklearn-color-icon: #696969;\n",
       "\n",
       "  @media (prefers-color-scheme: dark) {\n",
       "    /* Redefinition of color scheme for dark theme */\n",
       "    --sklearn-color-text-on-default-background: var(--sg-text-color, var(--theme-code-foreground, var(--jp-content-font-color1, white)));\n",
       "    --sklearn-color-background: var(--sg-background-color, var(--theme-background, var(--jp-layout-color0, #111)));\n",
       "    --sklearn-color-border-box: var(--sg-text-color, var(--theme-code-foreground, var(--jp-content-font-color1, white)));\n",
       "    --sklearn-color-icon: #878787;\n",
       "  }\n",
       "}\n",
       "\n",
       "#sk-container-id-2 {\n",
       "  color: var(--sklearn-color-text);\n",
       "}\n",
       "\n",
       "#sk-container-id-2 pre {\n",
       "  padding: 0;\n",
       "}\n",
       "\n",
       "#sk-container-id-2 input.sk-hidden--visually {\n",
       "  border: 0;\n",
       "  clip: rect(1px 1px 1px 1px);\n",
       "  clip: rect(1px, 1px, 1px, 1px);\n",
       "  height: 1px;\n",
       "  margin: -1px;\n",
       "  overflow: hidden;\n",
       "  padding: 0;\n",
       "  position: absolute;\n",
       "  width: 1px;\n",
       "}\n",
       "\n",
       "#sk-container-id-2 div.sk-dashed-wrapped {\n",
       "  border: 1px dashed var(--sklearn-color-line);\n",
       "  margin: 0 0.4em 0.5em 0.4em;\n",
       "  box-sizing: border-box;\n",
       "  padding-bottom: 0.4em;\n",
       "  background-color: var(--sklearn-color-background);\n",
       "}\n",
       "\n",
       "#sk-container-id-2 div.sk-container {\n",
       "  /* jupyter's `normalize.less` sets `[hidden] { display: none; }`\n",
       "     but bootstrap.min.css set `[hidden] { display: none !important; }`\n",
       "     so we also need the `!important` here to be able to override the\n",
       "     default hidden behavior on the sphinx rendered scikit-learn.org.\n",
       "     See: https://github.com/scikit-learn/scikit-learn/issues/21755 */\n",
       "  display: inline-block !important;\n",
       "  position: relative;\n",
       "}\n",
       "\n",
       "#sk-container-id-2 div.sk-text-repr-fallback {\n",
       "  display: none;\n",
       "}\n",
       "\n",
       "div.sk-parallel-item,\n",
       "div.sk-serial,\n",
       "div.sk-item {\n",
       "  /* draw centered vertical line to link estimators */\n",
       "  background-image: linear-gradient(var(--sklearn-color-text-on-default-background), var(--sklearn-color-text-on-default-background));\n",
       "  background-size: 2px 100%;\n",
       "  background-repeat: no-repeat;\n",
       "  background-position: center center;\n",
       "}\n",
       "\n",
       "/* Parallel-specific style estimator block */\n",
       "\n",
       "#sk-container-id-2 div.sk-parallel-item::after {\n",
       "  content: \"\";\n",
       "  width: 100%;\n",
       "  border-bottom: 2px solid var(--sklearn-color-text-on-default-background);\n",
       "  flex-grow: 1;\n",
       "}\n",
       "\n",
       "#sk-container-id-2 div.sk-parallel {\n",
       "  display: flex;\n",
       "  align-items: stretch;\n",
       "  justify-content: center;\n",
       "  background-color: var(--sklearn-color-background);\n",
       "  position: relative;\n",
       "}\n",
       "\n",
       "#sk-container-id-2 div.sk-parallel-item {\n",
       "  display: flex;\n",
       "  flex-direction: column;\n",
       "}\n",
       "\n",
       "#sk-container-id-2 div.sk-parallel-item:first-child::after {\n",
       "  align-self: flex-end;\n",
       "  width: 50%;\n",
       "}\n",
       "\n",
       "#sk-container-id-2 div.sk-parallel-item:last-child::after {\n",
       "  align-self: flex-start;\n",
       "  width: 50%;\n",
       "}\n",
       "\n",
       "#sk-container-id-2 div.sk-parallel-item:only-child::after {\n",
       "  width: 0;\n",
       "}\n",
       "\n",
       "/* Serial-specific style estimator block */\n",
       "\n",
       "#sk-container-id-2 div.sk-serial {\n",
       "  display: flex;\n",
       "  flex-direction: column;\n",
       "  align-items: center;\n",
       "  background-color: var(--sklearn-color-background);\n",
       "  padding-right: 1em;\n",
       "  padding-left: 1em;\n",
       "}\n",
       "\n",
       "\n",
       "/* Toggleable style: style used for estimator/Pipeline/ColumnTransformer box that is\n",
       "clickable and can be expanded/collapsed.\n",
       "- Pipeline and ColumnTransformer use this feature and define the default style\n",
       "- Estimators will overwrite some part of the style using the `sk-estimator` class\n",
       "*/\n",
       "\n",
       "/* Pipeline and ColumnTransformer style (default) */\n",
       "\n",
       "#sk-container-id-2 div.sk-toggleable {\n",
       "  /* Default theme specific background. It is overwritten whether we have a\n",
       "  specific estimator or a Pipeline/ColumnTransformer */\n",
       "  background-color: var(--sklearn-color-background);\n",
       "}\n",
       "\n",
       "/* Toggleable label */\n",
       "#sk-container-id-2 label.sk-toggleable__label {\n",
       "  cursor: pointer;\n",
       "  display: flex;\n",
       "  width: 100%;\n",
       "  margin-bottom: 0;\n",
       "  padding: 0.5em;\n",
       "  box-sizing: border-box;\n",
       "  text-align: center;\n",
       "  align-items: start;\n",
       "  justify-content: space-between;\n",
       "  gap: 0.5em;\n",
       "}\n",
       "\n",
       "#sk-container-id-2 label.sk-toggleable__label .caption {\n",
       "  font-size: 0.6rem;\n",
       "  font-weight: lighter;\n",
       "  color: var(--sklearn-color-text-muted);\n",
       "}\n",
       "\n",
       "#sk-container-id-2 label.sk-toggleable__label-arrow:before {\n",
       "  /* Arrow on the left of the label */\n",
       "  content: \"▸\";\n",
       "  float: left;\n",
       "  margin-right: 0.25em;\n",
       "  color: var(--sklearn-color-icon);\n",
       "}\n",
       "\n",
       "#sk-container-id-2 label.sk-toggleable__label-arrow:hover:before {\n",
       "  color: var(--sklearn-color-text);\n",
       "}\n",
       "\n",
       "/* Toggleable content - dropdown */\n",
       "\n",
       "#sk-container-id-2 div.sk-toggleable__content {\n",
       "  max-height: 0;\n",
       "  max-width: 0;\n",
       "  overflow: hidden;\n",
       "  text-align: left;\n",
       "  /* unfitted */\n",
       "  background-color: var(--sklearn-color-unfitted-level-0);\n",
       "}\n",
       "\n",
       "#sk-container-id-2 div.sk-toggleable__content.fitted {\n",
       "  /* fitted */\n",
       "  background-color: var(--sklearn-color-fitted-level-0);\n",
       "}\n",
       "\n",
       "#sk-container-id-2 div.sk-toggleable__content pre {\n",
       "  margin: 0.2em;\n",
       "  border-radius: 0.25em;\n",
       "  color: var(--sklearn-color-text);\n",
       "  /* unfitted */\n",
       "  background-color: var(--sklearn-color-unfitted-level-0);\n",
       "}\n",
       "\n",
       "#sk-container-id-2 div.sk-toggleable__content.fitted pre {\n",
       "  /* unfitted */\n",
       "  background-color: var(--sklearn-color-fitted-level-0);\n",
       "}\n",
       "\n",
       "#sk-container-id-2 input.sk-toggleable__control:checked~div.sk-toggleable__content {\n",
       "  /* Expand drop-down */\n",
       "  max-height: 200px;\n",
       "  max-width: 100%;\n",
       "  overflow: auto;\n",
       "}\n",
       "\n",
       "#sk-container-id-2 input.sk-toggleable__control:checked~label.sk-toggleable__label-arrow:before {\n",
       "  content: \"▾\";\n",
       "}\n",
       "\n",
       "/* Pipeline/ColumnTransformer-specific style */\n",
       "\n",
       "#sk-container-id-2 div.sk-label input.sk-toggleable__control:checked~label.sk-toggleable__label {\n",
       "  color: var(--sklearn-color-text);\n",
       "  background-color: var(--sklearn-color-unfitted-level-2);\n",
       "}\n",
       "\n",
       "#sk-container-id-2 div.sk-label.fitted input.sk-toggleable__control:checked~label.sk-toggleable__label {\n",
       "  background-color: var(--sklearn-color-fitted-level-2);\n",
       "}\n",
       "\n",
       "/* Estimator-specific style */\n",
       "\n",
       "/* Colorize estimator box */\n",
       "#sk-container-id-2 div.sk-estimator input.sk-toggleable__control:checked~label.sk-toggleable__label {\n",
       "  /* unfitted */\n",
       "  background-color: var(--sklearn-color-unfitted-level-2);\n",
       "}\n",
       "\n",
       "#sk-container-id-2 div.sk-estimator.fitted input.sk-toggleable__control:checked~label.sk-toggleable__label {\n",
       "  /* fitted */\n",
       "  background-color: var(--sklearn-color-fitted-level-2);\n",
       "}\n",
       "\n",
       "#sk-container-id-2 div.sk-label label.sk-toggleable__label,\n",
       "#sk-container-id-2 div.sk-label label {\n",
       "  /* The background is the default theme color */\n",
       "  color: var(--sklearn-color-text-on-default-background);\n",
       "}\n",
       "\n",
       "/* On hover, darken the color of the background */\n",
       "#sk-container-id-2 div.sk-label:hover label.sk-toggleable__label {\n",
       "  color: var(--sklearn-color-text);\n",
       "  background-color: var(--sklearn-color-unfitted-level-2);\n",
       "}\n",
       "\n",
       "/* Label box, darken color on hover, fitted */\n",
       "#sk-container-id-2 div.sk-label.fitted:hover label.sk-toggleable__label.fitted {\n",
       "  color: var(--sklearn-color-text);\n",
       "  background-color: var(--sklearn-color-fitted-level-2);\n",
       "}\n",
       "\n",
       "/* Estimator label */\n",
       "\n",
       "#sk-container-id-2 div.sk-label label {\n",
       "  font-family: monospace;\n",
       "  font-weight: bold;\n",
       "  display: inline-block;\n",
       "  line-height: 1.2em;\n",
       "}\n",
       "\n",
       "#sk-container-id-2 div.sk-label-container {\n",
       "  text-align: center;\n",
       "}\n",
       "\n",
       "/* Estimator-specific */\n",
       "#sk-container-id-2 div.sk-estimator {\n",
       "  font-family: monospace;\n",
       "  border: 1px dotted var(--sklearn-color-border-box);\n",
       "  border-radius: 0.25em;\n",
       "  box-sizing: border-box;\n",
       "  margin-bottom: 0.5em;\n",
       "  /* unfitted */\n",
       "  background-color: var(--sklearn-color-unfitted-level-0);\n",
       "}\n",
       "\n",
       "#sk-container-id-2 div.sk-estimator.fitted {\n",
       "  /* fitted */\n",
       "  background-color: var(--sklearn-color-fitted-level-0);\n",
       "}\n",
       "\n",
       "/* on hover */\n",
       "#sk-container-id-2 div.sk-estimator:hover {\n",
       "  /* unfitted */\n",
       "  background-color: var(--sklearn-color-unfitted-level-2);\n",
       "}\n",
       "\n",
       "#sk-container-id-2 div.sk-estimator.fitted:hover {\n",
       "  /* fitted */\n",
       "  background-color: var(--sklearn-color-fitted-level-2);\n",
       "}\n",
       "\n",
       "/* Specification for estimator info (e.g. \"i\" and \"?\") */\n",
       "\n",
       "/* Common style for \"i\" and \"?\" */\n",
       "\n",
       ".sk-estimator-doc-link,\n",
       "a:link.sk-estimator-doc-link,\n",
       "a:visited.sk-estimator-doc-link {\n",
       "  float: right;\n",
       "  font-size: smaller;\n",
       "  line-height: 1em;\n",
       "  font-family: monospace;\n",
       "  background-color: var(--sklearn-color-background);\n",
       "  border-radius: 1em;\n",
       "  height: 1em;\n",
       "  width: 1em;\n",
       "  text-decoration: none !important;\n",
       "  margin-left: 0.5em;\n",
       "  text-align: center;\n",
       "  /* unfitted */\n",
       "  border: var(--sklearn-color-unfitted-level-1) 1pt solid;\n",
       "  color: var(--sklearn-color-unfitted-level-1);\n",
       "}\n",
       "\n",
       ".sk-estimator-doc-link.fitted,\n",
       "a:link.sk-estimator-doc-link.fitted,\n",
       "a:visited.sk-estimator-doc-link.fitted {\n",
       "  /* fitted */\n",
       "  border: var(--sklearn-color-fitted-level-1) 1pt solid;\n",
       "  color: var(--sklearn-color-fitted-level-1);\n",
       "}\n",
       "\n",
       "/* On hover */\n",
       "div.sk-estimator:hover .sk-estimator-doc-link:hover,\n",
       ".sk-estimator-doc-link:hover,\n",
       "div.sk-label-container:hover .sk-estimator-doc-link:hover,\n",
       ".sk-estimator-doc-link:hover {\n",
       "  /* unfitted */\n",
       "  background-color: var(--sklearn-color-unfitted-level-3);\n",
       "  color: var(--sklearn-color-background);\n",
       "  text-decoration: none;\n",
       "}\n",
       "\n",
       "div.sk-estimator.fitted:hover .sk-estimator-doc-link.fitted:hover,\n",
       ".sk-estimator-doc-link.fitted:hover,\n",
       "div.sk-label-container:hover .sk-estimator-doc-link.fitted:hover,\n",
       ".sk-estimator-doc-link.fitted:hover {\n",
       "  /* fitted */\n",
       "  background-color: var(--sklearn-color-fitted-level-3);\n",
       "  color: var(--sklearn-color-background);\n",
       "  text-decoration: none;\n",
       "}\n",
       "\n",
       "/* Span, style for the box shown on hovering the info icon */\n",
       ".sk-estimator-doc-link span {\n",
       "  display: none;\n",
       "  z-index: 9999;\n",
       "  position: relative;\n",
       "  font-weight: normal;\n",
       "  right: .2ex;\n",
       "  padding: .5ex;\n",
       "  margin: .5ex;\n",
       "  width: min-content;\n",
       "  min-width: 20ex;\n",
       "  max-width: 50ex;\n",
       "  color: var(--sklearn-color-text);\n",
       "  box-shadow: 2pt 2pt 4pt #999;\n",
       "  /* unfitted */\n",
       "  background: var(--sklearn-color-unfitted-level-0);\n",
       "  border: .5pt solid var(--sklearn-color-unfitted-level-3);\n",
       "}\n",
       "\n",
       ".sk-estimator-doc-link.fitted span {\n",
       "  /* fitted */\n",
       "  background: var(--sklearn-color-fitted-level-0);\n",
       "  border: var(--sklearn-color-fitted-level-3);\n",
       "}\n",
       "\n",
       ".sk-estimator-doc-link:hover span {\n",
       "  display: block;\n",
       "}\n",
       "\n",
       "/* \"?\"-specific style due to the `<a>` HTML tag */\n",
       "\n",
       "#sk-container-id-2 a.estimator_doc_link {\n",
       "  float: right;\n",
       "  font-size: 1rem;\n",
       "  line-height: 1em;\n",
       "  font-family: monospace;\n",
       "  background-color: var(--sklearn-color-background);\n",
       "  border-radius: 1rem;\n",
       "  height: 1rem;\n",
       "  width: 1rem;\n",
       "  text-decoration: none;\n",
       "  /* unfitted */\n",
       "  color: var(--sklearn-color-unfitted-level-1);\n",
       "  border: var(--sklearn-color-unfitted-level-1) 1pt solid;\n",
       "}\n",
       "\n",
       "#sk-container-id-2 a.estimator_doc_link.fitted {\n",
       "  /* fitted */\n",
       "  border: var(--sklearn-color-fitted-level-1) 1pt solid;\n",
       "  color: var(--sklearn-color-fitted-level-1);\n",
       "}\n",
       "\n",
       "/* On hover */\n",
       "#sk-container-id-2 a.estimator_doc_link:hover {\n",
       "  /* unfitted */\n",
       "  background-color: var(--sklearn-color-unfitted-level-3);\n",
       "  color: var(--sklearn-color-background);\n",
       "  text-decoration: none;\n",
       "}\n",
       "\n",
       "#sk-container-id-2 a.estimator_doc_link.fitted:hover {\n",
       "  /* fitted */\n",
       "  background-color: var(--sklearn-color-fitted-level-3);\n",
       "}\n",
       "</style><div id=\"sk-container-id-2\" class=\"sk-top-container\"><div class=\"sk-text-repr-fallback\"><pre>BernoulliRBM(batch_size=32, learning_rate=0.01, n_components=32, n_iter=100,\n",
       "             random_state=42, verbose=True)</pre><b>In a Jupyter environment, please rerun this cell to show the HTML representation or trust the notebook. <br />On GitHub, the HTML representation is unable to render, please try loading this page with nbviewer.org.</b></div><div class=\"sk-container\" hidden><div class=\"sk-item\"><div class=\"sk-estimator fitted sk-toggleable\"><input class=\"sk-toggleable__control sk-hidden--visually\" id=\"sk-estimator-id-2\" type=\"checkbox\" checked><label for=\"sk-estimator-id-2\" class=\"sk-toggleable__label fitted sk-toggleable__label-arrow\"><div><div>BernoulliRBM</div></div><div><a class=\"sk-estimator-doc-link fitted\" rel=\"noreferrer\" target=\"_blank\" href=\"https://scikit-learn.org/1.6/modules/generated/sklearn.neural_network.BernoulliRBM.html\">?<span>Documentation for BernoulliRBM</span></a><span class=\"sk-estimator-doc-link fitted\">i<span>Fitted</span></span></div></label><div class=\"sk-toggleable__content fitted\"><pre>BernoulliRBM(batch_size=32, learning_rate=0.01, n_components=32, n_iter=100,\n",
       "             random_state=42, verbose=True)</pre></div> </div></div></div></div>"
      ],
      "text/plain": [
       "BernoulliRBM(batch_size=32, learning_rate=0.01, n_components=32, n_iter=100,\n",
       "             random_state=42, verbose=True)"
      ]
     },
     "execution_count": 41,
     "metadata": {},
     "output_type": "execute_result"
    }
   ],
   "source": [
    "rbm = BernoulliRBM(\n",
    "    n_components=32,        # Количество скрытых нейронов\n",
    "    learning_rate=0.01,     # Скорость обучения\n",
    "    n_iter=100,            # Количество итераций\n",
    "    verbose=True,           # Вывод процесса обучения\n",
    "    batch_size=32,\n",
    "    random_state=42\n",
    ")\n",
    "rbm.fit(t_table)"
   ]
  },
  {
   "cell_type": "markdown",
   "id": "f7fcfc80",
   "metadata": {},
   "source": [
    "# Предсказание"
   ]
  },
  {
   "cell_type": "code",
   "execution_count": null,
   "id": "5113cfa6",
   "metadata": {},
   "outputs": [],
   "source": [
    "def predict_ratings(user_id, N=50):\n",
    "    user_vector = t_table[user_id].reshape(1, -1)\n",
    "\n",
    "    predicted_ratings = np.zeros_like(user_vector)\n",
    "    for _ in range(N):\n",
    "        \"\"\"\n",
    "        Сглаживаем предсказания через усреднение\n",
    "        \"\"\"\n",
    "        y_pred = rbm.gibbs(user_vector)\n",
    "        y_pred = scaler.inverse_transform(y_pred)\n",
    "        predicted_ratings += y_pred.flatten()\n",
    "    predicted_ratings = predicted_ratings.flatten() / N\n",
    "\n",
    "    print(len(predicted_ratings), len([i for i in range(1, len(t_table) + 1)]))\n",
    "\n",
    "    recommendations = pd.DataFrame(\n",
    "        {\n",
    "            \"movieId\": table.columns,\n",
    "            \"predicted_rating\": predicted_ratings,\n",
    "        }\n",
    "    )\n",
    "\n",
    "    recommendations = recommendations.sort_values(\n",
    "        \"predicted_rating\", ascending=False\n",
    "    ).set_index(\"movieId\")\n",
    "\n",
    "    return recommendations"
   ]
  },
  {
   "cell_type": "code",
   "execution_count": null,
   "id": "5c0c275d",
   "metadata": {},
   "outputs": [
    {
     "data": {
      "application/vnd.microsoft.datawrangler.viewer.v0+json": {
       "columns": [
        {
         "name": "userId",
         "rawType": "int64",
         "type": "integer"
        },
        {
         "name": "10",
         "rawType": "float64",
         "type": "float"
        },
        {
         "name": "17",
         "rawType": "float64",
         "type": "float"
        },
        {
         "name": "39",
         "rawType": "float64",
         "type": "float"
        },
        {
         "name": "47",
         "rawType": "float64",
         "type": "float"
        },
        {
         "name": "50",
         "rawType": "float64",
         "type": "float"
        },
        {
         "name": "52",
         "rawType": "float64",
         "type": "float"
        },
        {
         "name": "62",
         "rawType": "float64",
         "type": "float"
        },
        {
         "name": "110",
         "rawType": "float64",
         "type": "float"
        },
        {
         "name": "144",
         "rawType": "float64",
         "type": "float"
        },
        {
         "name": "150",
         "rawType": "float64",
         "type": "float"
        },
        {
         "name": "153",
         "rawType": "float64",
         "type": "float"
        },
        {
         "name": "161",
         "rawType": "float64",
         "type": "float"
        },
        {
         "name": "165",
         "rawType": "float64",
         "type": "float"
        },
        {
         "name": "168",
         "rawType": "float64",
         "type": "float"
        },
        {
         "name": "185",
         "rawType": "float64",
         "type": "float"
        },
        {
         "name": "186",
         "rawType": "float64",
         "type": "float"
        },
        {
         "name": "208",
         "rawType": "float64",
         "type": "float"
        },
        {
         "name": "222",
         "rawType": "float64",
         "type": "float"
        },
        {
         "name": "223",
         "rawType": "float64",
         "type": "float"
        },
        {
         "name": "225",
         "rawType": "float64",
         "type": "float"
        },
        {
         "name": "235",
         "rawType": "float64",
         "type": "float"
        },
        {
         "name": "248",
         "rawType": "float64",
         "type": "float"
        },
        {
         "name": "253",
         "rawType": "float64",
         "type": "float"
        },
        {
         "name": "261",
         "rawType": "float64",
         "type": "float"
        },
        {
         "name": "265",
         "rawType": "float64",
         "type": "float"
        },
        {
         "name": "266",
         "rawType": "float64",
         "type": "float"
        },
        {
         "name": "272",
         "rawType": "float64",
         "type": "float"
        },
        {
         "name": "273",
         "rawType": "float64",
         "type": "float"
        },
        {
         "name": "292",
         "rawType": "float64",
         "type": "float"
        },
        {
         "name": "296",
         "rawType": "float64",
         "type": "float"
        },
        {
         "name": "300",
         "rawType": "float64",
         "type": "float"
        },
        {
         "name": "314",
         "rawType": "float64",
         "type": "float"
        },
        {
         "name": "317",
         "rawType": "float64",
         "type": "float"
        },
        {
         "name": "319",
         "rawType": "float64",
         "type": "float"
        },
        {
         "name": "339",
         "rawType": "float64",
         "type": "float"
        },
        {
         "name": "349",
         "rawType": "float64",
         "type": "float"
        },
        {
         "name": "350",
         "rawType": "float64",
         "type": "float"
        },
        {
         "name": "356",
         "rawType": "float64",
         "type": "float"
        },
        {
         "name": "357",
         "rawType": "float64",
         "type": "float"
        },
        {
         "name": "364",
         "rawType": "float64",
         "type": "float"
        },
        {
         "name": "367",
         "rawType": "float64",
         "type": "float"
        },
        {
         "name": "370",
         "rawType": "float64",
         "type": "float"
        },
        {
         "name": "371",
         "rawType": "float64",
         "type": "float"
        },
        {
         "name": "372",
         "rawType": "float64",
         "type": "float"
        },
        {
         "name": "377",
         "rawType": "float64",
         "type": "float"
        },
        {
         "name": "382",
         "rawType": "float64",
         "type": "float"
        },
        {
         "name": "405",
         "rawType": "float64",
         "type": "float"
        },
        {
         "name": "410",
         "rawType": "float64",
         "type": "float"
        },
        {
         "name": "454",
         "rawType": "float64",
         "type": "float"
        },
        {
         "name": "457",
         "rawType": "float64",
         "type": "float"
        },
        {
         "name": "468",
         "rawType": "float64",
         "type": "float"
        },
        {
         "name": "474",
         "rawType": "float64",
         "type": "float"
        },
        {
         "name": "480",
         "rawType": "float64",
         "type": "float"
        },
        {
         "name": "485",
         "rawType": "float64",
         "type": "float"
        },
        {
         "name": "497",
         "rawType": "float64",
         "type": "float"
        },
        {
         "name": "500",
         "rawType": "float64",
         "type": "float"
        },
        {
         "name": "508",
         "rawType": "float64",
         "type": "float"
        },
        {
         "name": "509",
         "rawType": "float64",
         "type": "float"
        },
        {
         "name": "515",
         "rawType": "float64",
         "type": "float"
        },
        {
         "name": "527",
         "rawType": "float64",
         "type": "float"
        },
        {
         "name": "537",
         "rawType": "float64",
         "type": "float"
        },
        {
         "name": "539",
         "rawType": "float64",
         "type": "float"
        },
        {
         "name": "550",
         "rawType": "float64",
         "type": "float"
        },
        {
         "name": "551",
         "rawType": "float64",
         "type": "float"
        },
        {
         "name": "552",
         "rawType": "float64",
         "type": "float"
        },
        {
         "name": "585",
         "rawType": "float64",
         "type": "float"
        },
        {
         "name": "586",
         "rawType": "float64",
         "type": "float"
        },
        {
         "name": "587",
         "rawType": "float64",
         "type": "float"
        },
        {
         "name": "588",
         "rawType": "float64",
         "type": "float"
        },
        {
         "name": "589",
         "rawType": "float64",
         "type": "float"
        },
        {
         "name": "590",
         "rawType": "float64",
         "type": "float"
        },
        {
         "name": "592",
         "rawType": "float64",
         "type": "float"
        },
        {
         "name": "593",
         "rawType": "float64",
         "type": "float"
        },
        {
         "name": "616",
         "rawType": "float64",
         "type": "float"
        },
        {
         "name": "661",
         "rawType": "float64",
         "type": "float"
        },
        {
         "name": "720",
         "rawType": "float64",
         "type": "float"
        }
       ],
       "conversionMethod": "pd.DataFrame",
       "ref": "69c934bc-5a19-4a4f-bfe0-dbcb3271e144",
       "rows": [
        [
         "2",
         "4.0",
         "5.0",
         "5.0",
         "4.0",
         "4.0",
         "3.0",
         "3.0",
         "4.0",
         "3.0",
         "5.0",
         "4.0",
         "3.0",
         "3.0",
         "3.0",
         "3.0",
         "3.0",
         "3.0",
         "5.0",
         "1.0",
         "3.0",
         "3.0",
         "3.0",
         "4.0",
         "4.0",
         "5.0",
         "5.0",
         "3.0",
         "4.0",
         "3.0",
         "4.0",
         "3.0",
         "4.0",
         "2.0",
         "1.0",
         "3.0",
         "4.0",
         "4.0",
         "3.0",
         "3.0",
         "3.0",
         "3.0",
         "2.0",
         "3.0",
         "3.0",
         "3.0",
         "3.0",
         "2.0",
         "3.0",
         "4.0",
         "3.0",
         "4.0",
         "2.0",
         "4.0",
         "3.0",
         "3.0",
         "4.0",
         "4.0",
         "4.0",
         "4.0",
         "4.0",
         "4.0",
         "3.0",
         "3.0",
         "5.0",
         "3.0",
         "5.0",
         "3.0",
         "3.0",
         "3.0",
         "5.0",
         "5.0",
         "5.0",
         "3.0",
         "3.0",
         "4.0",
         "4.0"
        ]
       ],
       "shape": {
        "columns": 76,
        "rows": 1
       }
      },
      "text/html": [
       "<div>\n",
       "<style scoped>\n",
       "    .dataframe tbody tr th:only-of-type {\n",
       "        vertical-align: middle;\n",
       "    }\n",
       "\n",
       "    .dataframe tbody tr th {\n",
       "        vertical-align: top;\n",
       "    }\n",
       "\n",
       "    .dataframe thead th {\n",
       "        text-align: right;\n",
       "    }\n",
       "</style>\n",
       "<table border=\"1\" class=\"dataframe\">\n",
       "  <thead>\n",
       "    <tr style=\"text-align: right;\">\n",
       "      <th>movieId</th>\n",
       "      <th>10</th>\n",
       "      <th>17</th>\n",
       "      <th>39</th>\n",
       "      <th>47</th>\n",
       "      <th>50</th>\n",
       "      <th>52</th>\n",
       "      <th>62</th>\n",
       "      <th>110</th>\n",
       "      <th>144</th>\n",
       "      <th>150</th>\n",
       "      <th>...</th>\n",
       "      <th>586</th>\n",
       "      <th>587</th>\n",
       "      <th>588</th>\n",
       "      <th>589</th>\n",
       "      <th>590</th>\n",
       "      <th>592</th>\n",
       "      <th>593</th>\n",
       "      <th>616</th>\n",
       "      <th>661</th>\n",
       "      <th>720</th>\n",
       "    </tr>\n",
       "    <tr>\n",
       "      <th>userId</th>\n",
       "      <th></th>\n",
       "      <th></th>\n",
       "      <th></th>\n",
       "      <th></th>\n",
       "      <th></th>\n",
       "      <th></th>\n",
       "      <th></th>\n",
       "      <th></th>\n",
       "      <th></th>\n",
       "      <th></th>\n",
       "      <th></th>\n",
       "      <th></th>\n",
       "      <th></th>\n",
       "      <th></th>\n",
       "      <th></th>\n",
       "      <th></th>\n",
       "      <th></th>\n",
       "      <th></th>\n",
       "      <th></th>\n",
       "      <th></th>\n",
       "      <th></th>\n",
       "    </tr>\n",
       "  </thead>\n",
       "  <tbody>\n",
       "    <tr>\n",
       "      <th>2</th>\n",
       "      <td>4.0</td>\n",
       "      <td>5.0</td>\n",
       "      <td>5.0</td>\n",
       "      <td>4.0</td>\n",
       "      <td>4.0</td>\n",
       "      <td>3.0</td>\n",
       "      <td>3.0</td>\n",
       "      <td>4.0</td>\n",
       "      <td>3.0</td>\n",
       "      <td>5.0</td>\n",
       "      <td>...</td>\n",
       "      <td>3.0</td>\n",
       "      <td>3.0</td>\n",
       "      <td>3.0</td>\n",
       "      <td>5.0</td>\n",
       "      <td>5.0</td>\n",
       "      <td>5.0</td>\n",
       "      <td>3.0</td>\n",
       "      <td>3.0</td>\n",
       "      <td>4.0</td>\n",
       "      <td>4.0</td>\n",
       "    </tr>\n",
       "  </tbody>\n",
       "</table>\n",
       "<p>1 rows × 76 columns</p>\n",
       "</div>"
      ],
      "text/plain": [
       "movieId  10   17   39   47   50   52   62   110  144  150  ...  586  587  588  \\\n",
       "userId                                                     ...                  \n",
       "2        4.0  5.0  5.0  4.0  4.0  3.0  3.0  4.0  3.0  5.0  ...  3.0  3.0  3.0   \n",
       "\n",
       "movieId  589  590  592  593  616  661  720  \n",
       "userId                                      \n",
       "2        5.0  5.0  5.0  3.0  3.0  4.0  4.0  \n",
       "\n",
       "[1 rows x 76 columns]"
      ]
     },
     "execution_count": 102,
     "metadata": {},
     "output_type": "execute_result"
    }
   ],
   "source": [
    "table.iloc[[1]].dropna(axis=1)"
   ]
  },
  {
   "cell_type": "code",
   "execution_count": 103,
   "id": "fc57a02f",
   "metadata": {},
   "outputs": [
    {
     "name": "stdout",
     "output_type": "stream",
     "text": [
      "9066 671\n",
      "\n",
      "Метрики качества:\n",
      "Mean Squared Error (MSE): 2.5282\n",
      "R-squared (R²) Score: -7.5507\n",
      "\n",
      "Топ-10 рекомендаций:\n",
      "         predicted_rating\n",
      "movieId                  \n",
      "954                   5.0\n",
      "473                   5.0\n",
      "536                   5.0\n",
      "526                   5.0\n",
      "523                   5.0\n",
      "2063                  5.0\n",
      "233                   5.0\n",
      "428                   5.0\n",
      "267                   5.0\n",
      "322                   5.0\n",
      "\n",
      "Реальные оценки пользователя:\n",
      "movieId  31    1029  1061  1129  1172  1263  1287  1293  1339  1343  1371  \\\n",
      "userId                                                                      \n",
      "1         2.5   3.0   3.0   2.0   4.0   2.0   2.0   2.0   3.5   2.0   2.5   \n",
      "\n",
      "movieId  1405  1953  2105  2150  2193  2294  2455  2968  3671  \n",
      "userId                                                         \n",
      "1         1.0   4.0   4.0   3.0   2.0   2.0   2.5   1.0   3.0  \n"
     ]
    }
   ],
   "source": [
    "# Предсказание и оценка\n",
    "user_id = 1\n",
    "user_idx = user_id - 1\n",
    "\n",
    "# Получаем предсказания\n",
    "recommendations = predict_ratings(user_idx)\n",
    "\n",
    "# Получаем реальные оценки пользователя\n",
    "real_ratings = table.iloc[user_idx].dropna()\n",
    "\n",
    "# Выбираем предсказанные оценки для фильмов с известными рейтингами\n",
    "predicted_for_real = recommendations.loc[real_ratings.index, 'predicted_rating']\n",
    "\n",
    "# Вычисляем метрики\n",
    "mse = root_mean_squared_error(real_ratings, predicted_for_real)\n",
    "r2 = r2_score(real_ratings, predicted_for_real)\n",
    "\n",
    "print(\"\\nМетрики качества:\")\n",
    "print(f\"Mean Squared Error (MSE): {mse:.4f}\")\n",
    "print(f\"R-squared (R²) Score: {r2:.4f}\")\n",
    "\n",
    "# Выводим топ-10 рекомендаций и реальные оценки\n",
    "print(\"\\nТоп-10 рекомендаций:\")\n",
    "print(recommendations.head(10))\n",
    "print(\"\\nРеальные оценки пользователя:\")\n",
    "print(table.iloc[[user_idx]].dropna(axis=1))"
   ]
  },
  {
   "cell_type": "code",
   "execution_count": null,
   "id": "e38c1a5c",
   "metadata": {},
   "outputs": [],
   "source": []
  }
 ],
 "metadata": {
  "kernelspec": {
   "display_name": "Big_data_venv",
   "language": "python",
   "name": "python3"
  },
  "language_info": {
   "codemirror_mode": {
    "name": "ipython",
    "version": 3
   },
   "file_extension": ".py",
   "mimetype": "text/x-python",
   "name": "python",
   "nbconvert_exporter": "python",
   "pygments_lexer": "ipython3",
   "version": "3.11.9"
  }
 },
 "nbformat": 4,
 "nbformat_minor": 5
}
